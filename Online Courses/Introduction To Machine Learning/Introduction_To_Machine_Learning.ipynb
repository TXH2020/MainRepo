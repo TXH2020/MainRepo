{
  "nbformat": 4,
  "nbformat_minor": 0,
  "metadata": {
    "colab": {
      "provenance": [],
      "collapsed_sections": [],
      "authorship_tag": "ABX9TyNvnfldHfy3uEZ9q95G6BAJ",
      "include_colab_link": true
    },
    "kernelspec": {
      "name": "python3",
      "display_name": "Python 3"
    },
    "language_info": {
      "name": "python"
    }
  },
  "cells": [
    {
      "cell_type": "markdown",
      "metadata": {
        "id": "view-in-github",
        "colab_type": "text"
      },
      "source": [
        "<a href=\"https://colab.research.google.com/github/TXH2020/MainRepo/blob/main/Online%20Courses/Introduction%20To%20Machine%20Learning/Introduction_To_Machine_Learning.ipynb\" target=\"_parent\"><img src=\"https://colab.research.google.com/assets/colab-badge.svg\" alt=\"Open In Colab\"/></a>"
      ]
    },
    {
      "cell_type": "markdown",
      "source": [
        "###Batch Gradient Descent"
      ],
      "metadata": {
        "id": "RrS9AGoIHNbj"
      }
    },
    {
      "cell_type": "code",
      "execution_count": null,
      "metadata": {
        "colab": {
          "base_uri": "https://localhost:8080/",
          "height": 279
        },
        "id": "433QjfZLDEMr",
        "outputId": "2a1d8bff-7095-4f94-efef-633d6c9433df"
      },
      "outputs": [
        {
          "output_type": "display_data",
          "data": {
            "text/plain": [
              "<Figure size 432x288 with 1 Axes>"
            ],
            "image/png": "[encoded data removed]"
          },
          "metadata": {
            "needs_background": "light"
          }
        }
      ],
      "source": [
        "#Batch Gradient Descent\n",
        "import numpy as np\n",
        "import matplotlib.pyplot as plt\n",
        "#Genterate linear data\n",
        "x=np.random.rand(100,1)\n",
        "y=2+3*x+np.random.randn(100,1)\n",
        "plt.scatter(x,y)\n",
        "plt.xlabel(\"x\")\n",
        "plt.ylabel(\"y\")\n",
        "plt.show()"
      ]
    },
    {
      "cell_type": "code",
      "source": [
        "from sklearn.model_selection import train_test_split\n",
        "\n",
        "x1=x.reshape(-1,1)\n",
        "y1=y.reshape(-1,1)\n",
        "X_train,X_test,Y_train,Y_test=train_test_split(x1,y1,test_size=0.2)\n",
        "X=np.c_[np.ones((80,1)),X_train] #Add ones(for getting intercept)\n",
        "theta=np.random.randn(2,1)  #Initialize random theta\n",
        "m=80                       #No. of instances\n",
        "eta=0.1\n",
        "no_of_iterations=1000\n",
        "for i in range(no_of_iterations):\n",
        "  gradient=(2/m)*X.T@(X@theta-Y_train)\n",
        "  theta=theta-eta*gradient\n",
        "print(\"Fitted Parameters are:\",theta)\n",
        "Xt=np.c_[np.ones((100,1)),x]\n",
        "Xt1=np.c_[np.ones((20,1)),X_test]\n",
        "y_hat=Xt@theta\n",
        "y_hat1=Xt1@theta\n",
        "from sklearn.metrics import mean_squared_error\n",
        "print(\"Mean squared Error:\",mean_squared_error(Y_test.ravel(),y_hat1.ravel()))\n",
        "score=((y_hat-y.mean()).T@(y_hat-y.mean()))/((y-y.mean()).T@(y-y.mean()))\n",
        "print(\"Score:\",score)\n",
        "plt.plot(x,y_hat.ravel(),'r-')\n",
        "plt.plot(x,y,'b.')\n",
        "plt.show()"
      ],
      "metadata": {
        "colab": {
          "base_uri": "https://localhost:8080/",
          "height": 334
        },
        "id": "Oh67kw37EU_e",
        "outputId": "fa682ef2-3426-42e1-ad5b-1aed295d0587"
      },
      "execution_count": null,
      "outputs": [
        {
          "output_type": "stream",
          "name": "stdout",
          "text": [
            "Fitted Parameters are: [[1.90748137]\n",
            " [3.3121416 ]]\n",
            "Mean squared Error: 1.8945806671659995\n",
            "Score: [[0.43052715]]\n"
          ]
        },
        {
          "output_type": "display_data",
          "data": {
            "text/plain": [
              "<Figure size 432x288 with 1 Axes>"
            ],
            "image/png": "[encoded data removed]"
          },
          "metadata": {
            "needs_background": "light"
          }
        }
      ]
    },
    {
      "cell_type": "code",
      "source": [
        "#The usual method using normal equation\n",
        "from sklearn.linear_model import LinearRegression     #Uses Normal Equation\n",
        "reg=LinearRegression()\n",
        "reg.fit(X,Y_train.ravel())\n",
        "print(\"Parameters are:\",reg.intercept_,reg.coef_[1])"
      ],
      "metadata": {
        "colab": {
          "base_uri": "https://localhost:8080/"
        },
        "id": "yv8Hpw6FXcBe",
        "outputId": "7b6192bc-f2c1-48a8-d1b8-4ffedca235ab"
      },
      "execution_count": null,
      "outputs": [
        {
          "output_type": "stream",
          "name": "stdout",
          "text": [
            "Parameters are: 1.9074796733846409 3.3121449135081766\n"
          ]
        }
      ]
    },
    {
      "cell_type": "markdown",
      "source": [
        "###Stochastic Gradient Descent"
      ],
      "metadata": {
        "id": "nnOdWCkhavfS"
      }
    },
    {
      "cell_type": "code",
      "source": [
        "from sklearn.linear_model import SGDRegressor\n",
        "sgd_reg = SGDRegressor(penalty=None, eta0=0.1)\n",
        "sgd_reg.fit(X, Y_train.ravel())\n",
        "print(\"Parameters are:\",sgd_reg.coef_)"
      ],
      "metadata": {
        "colab": {
          "base_uri": "https://localhost:8080/"
        },
        "id": "QuFHQJPISEfN",
        "outputId": "53ae6324-18a2-4456-dddd-842f2c9b23db"
      },
      "execution_count": null,
      "outputs": [
        {
          "output_type": "stream",
          "name": "stdout",
          "text": [
            "Parameters are: [0.97587209 3.07983698]\n"
          ]
        }
      ]
    },
    {
      "cell_type": "markdown",
      "source": [
        "In case of polynomial regression, for multiple features; regularization techniques can be applied to the SGDRegressor as follows:\n",
        "\n",
        "Use penalty='l1' for Lasso regression\n",
        "\n",
        "Use penalty='l2' for Ridge regression\n",
        "\n",
        "Use penalty='elasticnet' with l1_ratio=x where x->(0,1) for Elastic Net\n",
        "\n",
        "Use early_stopping=True to enable early stopping"
      ],
      "metadata": {
        "id": "3oKwUDU5bepy"
      }
    },
    {
      "cell_type": "markdown",
      "source": [
        "###Logistic Regression"
      ],
      "metadata": {
        "id": "6g7JQEGmSUNe"
      }
    },
    {
      "cell_type": "code",
      "source": [
        "import pandas as pd\n",
        "import numpy as np\n",
        "x1=np.random.randint(low=1,high=100,size=100)\n",
        "x2=np.random.randint(low=1,high=10,size=100)\n",
        "x3=np.random.randint(low=11,high=20,size=100)\n",
        "y=np.random.randint(low=0,high=3,size=100)\n",
        "df=pd.DataFrame({'x1':x1,'x2':x2,'x3':x3,'y':y})\n",
        "df"
      ],
      "metadata": {
        "colab": {
          "base_uri": "https://localhost:8080/",
          "height": 424
        },
        "id": "Yg3_iNGzTeA-",
        "outputId": "ae34bf8b-accb-4fe5-bfbd-de95824e0dcd"
      },
      "execution_count": null,
      "outputs": [
        {
          "output_type": "execute_result",
          "data": {
            "text/plain": [
              "    x1  x2  x3  y\n",
              "0   10   7  14  0\n",
              "1   83   7  16  0\n",
              "2   20   6  11  0\n",
              "3   79   9  14  1\n",
              "4   18   6  18  2\n",
              "..  ..  ..  .. ..\n",
              "95  79   6  14  0\n",
              "96   5   2  14  2\n",
              "97  83   7  12  1\n",
              "98  55   1  19  1\n",
              "99  49   8  17  2\n",
              "\n",
              "[100 rows x 4 columns]"
            ],
            "text/html": [
              "\n",
              "  <div id=\"df-20f7bf14-8b4f-4f6c-8735-1eff2322a3d0\">\n",
              "    <div class=\"colab-df-container\">\n",
              "      <div>\n",
              "<style scoped>\n",
              "    .dataframe tbody tr th:only-of-type {\n",
              "        vertical-align: middle;\n",
              "    }\n",
              "\n",
              "    .dataframe tbody tr th {\n",
              "        vertical-align: top;\n",
              "    }\n",
              "\n",
              "    .dataframe thead th {\n",
              "        text-align: right;\n",
              "    }\n",
              "</style>\n",
              "<table border=\"1\" class=\"dataframe\">\n",
              "  <thead>\n",
              "    <tr style=\"text-align: right;\">\n",
              "      <th></th>\n",
              "      <th>x1</th>\n",
              "      <th>x2</th>\n",
              "      <th>x3</th>\n",
              "      <th>y</th>\n",
              "    </tr>\n",
              "  </thead>\n",
              "  <tbody>\n",
              "    <tr>\n",
              "      <th>0</th>\n",
              "      <td>10</td>\n",
              "      <td>7</td>\n",
              "      <td>14</td>\n",
              "      <td>0</td>\n",
              "    </tr>\n",
              "    <tr>\n",
              "      <th>1</th>\n",
              "      <td>83</td>\n",
              "      <td>7</td>\n",
              "      <td>16</td>\n",
              "      <td>0</td>\n",
              "    </tr>\n",
              "    <tr>\n",
              "      <th>2</th>\n",
              "      <td>20</td>\n",
              "      <td>6</td>\n",
              "      <td>11</td>\n",
              "      <td>0</td>\n",
              "    </tr>\n",
              "    <tr>\n",
              "      <th>3</th>\n",
              "      <td>79</td>\n",
              "      <td>9</td>\n",
              "      <td>14</td>\n",
              "      <td>1</td>\n",
              "    </tr>\n",
              "    <tr>\n",
              "      <th>4</th>\n",
              "      <td>18</td>\n",
              "      <td>6</td>\n",
              "      <td>18</td>\n",
              "      <td>2</td>\n",
              "    </tr>\n",
              "    <tr>\n",
              "      <th>...</th>\n",
              "      <td>...</td>\n",
              "      <td>...</td>\n",
              "      <td>...</td>\n",
              "      <td>...</td>\n",
              "    </tr>\n",
              "    <tr>\n",
              "      <th>95</th>\n",
              "      <td>79</td>\n",
              "      <td>6</td>\n",
              "      <td>14</td>\n",
              "      <td>0</td>\n",
              "    </tr>\n",
              "    <tr>\n",
              "      <th>96</th>\n",
              "      <td>5</td>\n",
              "      <td>2</td>\n",
              "      <td>14</td>\n",
              "      <td>2</td>\n",
              "    </tr>\n",
              "    <tr>\n",
              "      <th>97</th>\n",
              "      <td>83</td>\n",
              "      <td>7</td>\n",
              "      <td>12</td>\n",
              "      <td>1</td>\n",
              "    </tr>\n",
              "    <tr>\n",
              "      <th>98</th>\n",
              "      <td>55</td>\n",
              "      <td>1</td>\n",
              "      <td>19</td>\n",
              "      <td>1</td>\n",
              "    </tr>\n",
              "    <tr>\n",
              "      <th>99</th>\n",
              "      <td>49</td>\n",
              "      <td>8</td>\n",
              "      <td>17</td>\n",
              "      <td>2</td>\n",
              "    </tr>\n",
              "  </tbody>\n",
              "</table>\n",
              "<p>100 rows × 4 columns</p>\n",
              "</div>\n",
              "      <button class=\"colab-df-convert\" onclick=\"convertToInteractive('df-20f7bf14-8b4f-4f6c-8735-1eff2322a3d0')\"\n",
              "              title=\"Convert this dataframe to an interactive table.\"\n",
              "              style=\"display:none;\">\n",
              "        \n",
              "  <svg xmlns=\"http://www.w3.org/2000/svg\" height=\"24px\"viewBox=\"0 0 24 24\"\n",
              "       width=\"24px\">\n",
              "    <path d=\"M0 0h24v24H0V0z\" fill=\"none\"/>\n",
              "    <path d=\"M18.56 5.44l.94 2.06.94-2.06 2.06-.94-2.06-.94-.94-2.06-.94 2.06-2.06.94zm-11 1L8.5 8.5l.94-2.06 2.06-.94-2.06-.94L8.5 2.5l-.94 2.06-2.06.94zm10 10l.94 2.06.94-2.06 2.06-.94-2.06-.94-.94-2.06-.94 2.06-2.06.94z\"/><path d=\"M17.41 7.96l-1.37-1.37c-.4-.4-.92-.59-1.43-.59-.52 0-1.04.2-1.43.59L10.3 9.45l-7.72 7.72c-.78.78-.78 2.05 0 2.83L4 21.41c.39.39.9.59 1.41.59.51 0 1.02-.2 1.41-.59l7.78-7.78 2.81-2.81c.8-.78.8-2.07 0-2.86zM5.41 20L4 18.59l7.72-7.72 1.47 1.35L5.41 20z\"/>\n",
              "  </svg>\n",
              "      </button>\n",
              "      \n",
              "  <style>\n",
              "    .colab-df-container {\n",
              "      display:flex;\n",
              "      flex-wrap:wrap;\n",
              "      gap: 12px;\n",
              "    }\n",
              "\n",
              "    .colab-df-convert {\n",
              "      background-color: #E8F0FE;\n",
              "      border: none;\n",
              "      border-radius: 50%;\n",
              "      cursor: pointer;\n",
              "      display: none;\n",
              "      fill: #1967D2;\n",
              "      height: 32px;\n",
              "      padding: 0 0 0 0;\n",
              "      width: 32px;\n",
              "    }\n",
              "\n",
              "    .colab-df-convert:hover {\n",
              "      background-color: #E2EBFA;\n",
              "      box-shadow: 0px 1px 2px rgba(60, 64, 67, 0.3), 0px 1px 3px 1px rgba(60, 64, 67, 0.15);\n",
              "      fill: #174EA6;\n",
              "    }\n",
              "\n",
              "    [theme=dark] .colab-df-convert {\n",
              "      background-color: #3B4455;\n",
              "      fill: #D2E3FC;\n",
              "    }\n",
              "\n",
              "    [theme=dark] .colab-df-convert:hover {\n",
              "      background-color: #434B5C;\n",
              "      box-shadow: 0px 1px 3px 1px rgba(0, 0, 0, 0.15);\n",
              "      filter: drop-shadow(0px 1px 2px rgba(0, 0, 0, 0.3));\n",
              "      fill: #FFFFFF;\n",
              "    }\n",
              "  </style>\n",
              "\n",
              "      <script>\n",
              "        const buttonEl =\n",
              "          document.querySelector('#df-20f7bf14-8b4f-4f6c-8735-1eff2322a3d0 button.colab-df-convert');\n",
              "        buttonEl.style.display =\n",
              "          google.colab.kernel.accessAllowed ? 'block' : 'none';\n",
              "\n",
              "        async function convertToInteractive(key) {\n",
              "          const element = document.querySelector('#df-20f7bf14-8b4f-4f6c-8735-1eff2322a3d0');\n",
              "          const dataTable =\n",
              "            await google.colab.kernel.invokeFunction('convertToInteractive',\n",
              "                                                     [key], {});\n",
              "          if (!dataTable) return;\n",
              "\n",
              "          const docLinkHtml = 'Like what you see? Visit the ' +\n",
              "            '<a target=\"_blank\" href=https://colab.research.google.com/notebooks/data_table.ipynb>data table notebook</a>'\n",
              "            + ' to learn more about interactive tables.';\n",
              "          element.innerHTML = '';\n",
              "          dataTable['output_type'] = 'display_data';\n",
              "          await google.colab.output.renderOutput(dataTable, element);\n",
              "          const docLink = document.createElement('div');\n",
              "          docLink.innerHTML = docLinkHtml;\n",
              "          element.appendChild(docLink);\n",
              "        }\n",
              "      </script>\n",
              "    </div>\n",
              "  </div>\n",
              "  "
            ]
          },
          "metadata": {},
          "execution_count": 5
        }
      ]
    },
    {
      "cell_type": "code",
      "source": [
        "#Fit a softmax regression model(multinomial logistic regression)\n",
        "from sklearn.linear_model import LogisticRegression\n",
        "softmax_reg=LogisticRegression(multi_class='multinomial',solver='lbfgs')\n",
        "X_train,X_test,Y_train,Y_test=train_test_split(df[['x1','x2','x3']].values,y,test_size=0.2)\n",
        "softmax_reg.fit(X_train,np.ravel(Y_train))\n",
        "print(\"Coefficients for class 0:\",softmax_reg.coef_[0])\n",
        "print(\"Coefficients for class 1:\",softmax_reg.coef_[1])\n",
        "print(\"Coefficients for class 2:\",softmax_reg.coef_[2])\n",
        "print(softmax_reg.predict([[1,2,15]]))"
      ],
      "metadata": {
        "colab": {
          "base_uri": "https://localhost:8080/"
        },
        "id": "bHizrf5TUxBG",
        "outputId": "6d2c5834-965d-4f86-f768-927b6e8a9548"
      },
      "execution_count": null,
      "outputs": [
        {
          "output_type": "stream",
          "name": "stdout",
          "text": [
            "Coefficients for class 0: [0.00060773 0.05575435 0.10537164]\n",
            "Coefficients for class 1: [-0.00342266 -0.0619222  -0.1512353 ]\n",
            "Coefficients for class 2: [0.00281493 0.00616785 0.04586366]\n",
            "[1]\n"
          ]
        }
      ]
    },
    {
      "cell_type": "code",
      "source": [
        "#Performance\n",
        "from sklearn.metrics import classification_report\n",
        "y_hat=softmax_reg.predict(X_test)\n",
        "print(classification_report(Y_test,y_hat))"
      ],
      "metadata": {
        "colab": {
          "base_uri": "https://localhost:8080/"
        },
        "id": "Xd6gsJ84QvmB",
        "outputId": "de5ad42c-8c48-45ca-ed31-c42611dc1326"
      },
      "execution_count": null,
      "outputs": [
        {
          "output_type": "stream",
          "name": "stdout",
          "text": [
            "              precision    recall  f1-score   support\n",
            "\n",
            "           0       0.40      0.50      0.44         8\n",
            "           1       0.30      0.50      0.37         6\n",
            "           2       0.00      0.00      0.00         6\n",
            "\n",
            "    accuracy                           0.35        20\n",
            "   macro avg       0.23      0.33      0.27        20\n",
            "weighted avg       0.25      0.35      0.29        20\n",
            "\n"
          ]
        },
        {
          "output_type": "stream",
          "name": "stderr",
          "text": [
            "/usr/local/lib/python3.7/dist-packages/sklearn/metrics/_classification.py:1318: UndefinedMetricWarning: Precision and F-score are ill-defined and being set to 0.0 in labels with no predicted samples. Use `zero_division` parameter to control this behavior.\n",
            "  _warn_prf(average, modifier, msg_start, len(result))\n",
            "/usr/local/lib/python3.7/dist-packages/sklearn/metrics/_classification.py:1318: UndefinedMetricWarning: Precision and F-score are ill-defined and being set to 0.0 in labels with no predicted samples. Use `zero_division` parameter to control this behavior.\n",
            "  _warn_prf(average, modifier, msg_start, len(result))\n",
            "/usr/local/lib/python3.7/dist-packages/sklearn/metrics/_classification.py:1318: UndefinedMetricWarning: Precision and F-score are ill-defined and being set to 0.0 in labels with no predicted samples. Use `zero_division` parameter to control this behavior.\n",
            "  _warn_prf(average, modifier, msg_start, len(result))\n"
          ]
        }
      ]
    },
    {
      "cell_type": "markdown",
      "source": [
        "###Linear Discriminant Analysis(LDA)"
      ],
      "metadata": {
        "id": "VtwVBcNP62bY"
      }
    },
    {
      "cell_type": "code",
      "source": [
        "from sklearn.discriminant_analysis import LinearDiscriminantAnalysis\n",
        "clf = LinearDiscriminantAnalysis()\n",
        "clf.fit(df[['x1','x2','x3']].values, y)\n",
        "print(\"Coefficients for class 0:\",clf.coef_[0])\n",
        "print(\"Coefficients for class 1:\",clf.coef_[1])\n",
        "print(\"Coefficients for class 2:\",clf.coef_[2])\n",
        "print(clf.predict([[1,2,15]]))"
      ],
      "metadata": {
        "colab": {
          "base_uri": "https://localhost:8080/"
        },
        "id": "CUMfUteU67FH",
        "outputId": "247f27ce-4161-4e64-b86c-34245acbe444"
      },
      "execution_count": null,
      "outputs": [
        {
          "output_type": "stream",
          "name": "stdout",
          "text": [
            "Coefficients for class 0: [-0.00015324  0.0342911   0.08015777]\n",
            "Coefficients for class 1: [ 0.00101478 -0.0839023  -0.10676819]\n",
            "Coefficients for class 2: [-0.00093997  0.05330612  0.02659988]\n",
            "[1]\n"
          ]
        }
      ]
    },
    {
      "cell_type": "markdown",
      "source": [
        "###Perceptron Learning(A simple classifier that works for linearly separable data)"
      ],
      "metadata": {
        "id": "rfZStCDIRNuA"
      }
    },
    {
      "cell_type": "code",
      "source": [
        "from sklearn.linear_model import SGDClassifier\n",
        "clf=SGDClassifier(loss=\"perceptron\", eta0=1, learning_rate=\"constant\", penalty=None)\n",
        "#For previous example the fit is very bad.\n",
        "clf.fit(df[['x1','x2','x3']].values, y)\n",
        "print(\"Coefficients for class 0:\",clf.coef_[0])\n",
        "print(\"Coefficients for class 1:\",clf.coef_[1])\n",
        "print(\"Coefficients for class 2:\",clf.coef_[2])\n",
        "print(clf.predict([[1,2,15]]))"
      ],
      "metadata": {
        "colab": {
          "base_uri": "https://localhost:8080/"
        },
        "id": "2Bxh4cT2RWWo",
        "outputId": "001b59da-05b4-4107-cdb6-905aff0aae64"
      },
      "execution_count": null,
      "outputs": [
        {
          "output_type": "stream",
          "name": "stdout",
          "text": [
            "Coefficients for class 0: [21. 26. 34.]\n",
            "Coefficients for class 1: [ -25. -102.  -37.]\n",
            "Coefficients for class 2: [ 19.  10. -62.]\n",
            "[0]\n"
          ]
        }
      ]
    },
    {
      "cell_type": "code",
      "source": [
        "#Test for well seperated data\n",
        "l1=np.hstack((np.random.randint(low=1,high=10,size=50),np.random.randint(low=11,high=20,size=50)))\n",
        "l2=np.hstack((np.zeros(50),np.ones(50)))\n",
        "df1=pd.DataFrame({'x1':l1,'y':l2})\n",
        "print(df1)"
      ],
      "metadata": {
        "colab": {
          "base_uri": "https://localhost:8080/"
        },
        "id": "zHZyCE2VSHff",
        "outputId": "cf32e702-c0ed-4273-9ec2-221d24bd40f4"
      },
      "execution_count": null,
      "outputs": [
        {
          "output_type": "stream",
          "name": "stdout",
          "text": [
            "    x1    y\n",
            "0    8  0.0\n",
            "1    8  0.0\n",
            "2    1  0.0\n",
            "3    1  0.0\n",
            "4    1  0.0\n",
            "..  ..  ...\n",
            "95  13  1.0\n",
            "96  14  1.0\n",
            "97  17  1.0\n",
            "98  13  1.0\n",
            "99  17  1.0\n",
            "\n",
            "[100 rows x 2 columns]\n"
          ]
        }
      ]
    },
    {
      "cell_type": "code",
      "source": [
        "#Visualize\n",
        "plt.scatter(df1['x1'],df1['y'])\n",
        "plt.show()"
      ],
      "metadata": {
        "colab": {
          "base_uri": "https://localhost:8080/",
          "height": 265
        },
        "id": "la3FEqZlZrmP",
        "outputId": "9dff3829-a60e-4811-e0b1-f3e2c52a7631"
      },
      "execution_count": null,
      "outputs": [
        {
          "output_type": "display_data",
          "data": {
            "text/plain": [
              "<Figure size 432x288 with 1 Axes>"
            ],
            "image/png": "[encoded data removed]"
          },
          "metadata": {
            "needs_background": "light"
          }
        }
      ]
    },
    {
      "cell_type": "code",
      "source": [
        "clf1=SGDClassifier(loss=\"perceptron\", eta0=1, learning_rate=\"constant\", penalty=None)\n",
        "X_train,X_test,Y_train,Y_test=train_test_split(df1[['x1']].values,df1['y'].values,test_size=0.2)\n",
        "clf1.fit(X_train, np.ravel(Y_train))\n",
        "print(\"Coefficients for class 0:\",clf1.intercept_,clf1.coef_[0])\n",
        "print(clf1.predict([[6]]))"
      ],
      "metadata": {
        "colab": {
          "base_uri": "https://localhost:8080/"
        },
        "id": "j6y3K5uxZk_-",
        "outputId": "8f5b9466-50d0-403e-a8c1-47399a4ae922"
      },
      "execution_count": null,
      "outputs": [
        {
          "output_type": "stream",
          "name": "stdout",
          "text": [
            "Coefficients for class 0: [-37.] [4.]\n",
            "[0.]\n"
          ]
        }
      ]
    },
    {
      "cell_type": "code",
      "source": [
        "y_hat=clf1.predict(X_test)\n",
        "print(classification_report(Y_test,y_hat))"
      ],
      "metadata": {
        "colab": {
          "base_uri": "https://localhost:8080/"
        },
        "id": "2oNPHCsePMNk",
        "outputId": "5236f417-3cd4-4cbb-fee8-f08236fee982"
      },
      "execution_count": null,
      "outputs": [
        {
          "output_type": "stream",
          "name": "stdout",
          "text": [
            "              precision    recall  f1-score   support\n",
            "\n",
            "         0.0       1.00      1.00      1.00        14\n",
            "         1.0       1.00      1.00      1.00         6\n",
            "\n",
            "    accuracy                           1.00        20\n",
            "   macro avg       1.00      1.00      1.00        20\n",
            "weighted avg       1.00      1.00      1.00        20\n",
            "\n"
          ]
        }
      ]
    },
    {
      "cell_type": "markdown",
      "source": [
        "###Support Vector Machine(SVM):"
      ],
      "metadata": {
        "id": "SeZOTZCk3IN0"
      }
    },
    {
      "cell_type": "code",
      "source": [
        "from sklearn.svm import LinearSVC\n",
        "clf2=LinearSVC()\n",
        "clf2.fit(X_train, np.ravel(Y_train))\n",
        "print(\"Coefficients for class 0:\",clf1.intercept_,clf1.coef_[0])\n",
        "print(clf1.predict([[6]]))"
      ],
      "metadata": {
        "colab": {
          "base_uri": "https://localhost:8080/"
        },
        "id": "_LrQibsP3cik",
        "outputId": "5acb8fb7-19c2-4b75-ff10-118ea38ee627"
      },
      "execution_count": null,
      "outputs": [
        {
          "output_type": "stream",
          "name": "stdout",
          "text": [
            "Coefficients for class 0: [-37.] [4.]\n",
            "[0.]\n"
          ]
        },
        {
          "output_type": "stream",
          "name": "stderr",
          "text": [
            "/usr/local/lib/python3.7/dist-packages/sklearn/svm/_base.py:1208: ConvergenceWarning: Liblinear failed to converge, increase the number of iterations.\n",
            "  ConvergenceWarning,\n"
          ]
        }
      ]
    },
    {
      "cell_type": "code",
      "source": [
        "#Checking support vectors for given data. We use a polynomial kernel with specified parameters\n",
        "from sklearn.svm import SVC\n",
        "x=np.array([1,2,3,4,7,8,9,10]).reshape(-1,1)\n",
        "y=np.array([1,0,0,0,0,1,1,1])\n",
        "clf=SVC(kernel='poly',degree =3,C=1, gamma =0.1)\n",
        "clf.fit(x,y)\n",
        "print(clf.support_vectors_)"
      ],
      "metadata": {
        "colab": {
          "base_uri": "https://localhost:8080/"
        },
        "id": "ZkYpUFhJ9Jnr",
        "outputId": "4746ac30-be9c-4c65-adb5-6525ac3a1f6d"
      },
      "execution_count": null,
      "outputs": [
        {
          "output_type": "stream",
          "name": "stdout",
          "text": [
            "[[4.]\n",
            " [7.]\n",
            " [1.]\n",
            " [8.]]\n"
          ]
        }
      ]
    },
    {
      "cell_type": "code",
      "source": [
        "#Training a linear perceptron on modified iris dataset\n",
        "df1=pd.read_csv(\"https://raw.githubusercontent.com/TXH2020/MainRepo/main/Online%20Courses/Introduction%20To%20Machine%20Learning/irisX.csv\")\n",
        "df2=pd.read_csv(\"https://raw.githubusercontent.com/TXH2020/MainRepo/main/Online%20Courses/Introduction%20To%20Machine%20Learning/irisY.csv\")\n",
        "df=pd.concat([df1,df2],axis=1)\n",
        "x_train,x_test,y_train,y_test=train_test_split(df[list(df1.columns)].values,df['y'].values,test_size=0.33)\n",
        "clf=SGDClassifier(loss='perceptron',penalty='l1')\n",
        "clf.fit(x_train,y_train)\n",
        "y_predict=clf.predict(x_test)\n",
        "print(classification_report(y_test,y_predict))"
      ],
      "metadata": {
        "colab": {
          "base_uri": "https://localhost:8080/"
        },
        "id": "z9wIYZvL9Ruq",
        "outputId": "4b7eed09-48bc-4d41-f819-64d859dc39bd"
      },
      "execution_count": null,
      "outputs": [
        {
          "output_type": "stream",
          "name": "stdout",
          "text": [
            "              precision    recall  f1-score   support\n",
            "\n",
            "           0       1.00      1.00      1.00        21\n",
            "           1       0.86      0.86      0.86        14\n",
            "           2       0.87      0.87      0.87        15\n",
            "\n",
            "    accuracy                           0.92        50\n",
            "   macro avg       0.91      0.91      0.91        50\n",
            "weighted avg       0.92      0.92      0.92        50\n",
            "\n"
          ]
        }
      ]
    },
    {
      "cell_type": "code",
      "source": [
        "#Considering the same example as above, we fit a polynomial kernel with specified parameters\n",
        "#To find an optimal value of the C hyperparameter we use GridSearchCV which is basically exhaustive searching(testing) with the list of C values.\n",
        "from sklearn.multiclass import OneVsRestClassifier\n",
        "from sklearn.model_selection import GridSearchCV\n",
        "clf=OneVsRestClassifier(GridSearchCV(SVC(kernel='poly',gamma=0.4),{'C':[0.1,0.9,10,0.000001]}))\n",
        "clf.fit(x_train,y_train)\n",
        "y_predict=clf.predict(x_test)\n",
        "print(classification_report(y_test,y_predict))"
      ],
      "metadata": {
        "colab": {
          "base_uri": "https://localhost:8080/"
        },
        "id": "J3lf6G-ANEtz",
        "outputId": "1f42c1da-0e3f-49ec-a3ba-e808296786eb"
      },
      "execution_count": null,
      "outputs": [
        {
          "output_type": "stream",
          "name": "stdout",
          "text": [
            "              precision    recall  f1-score   support\n",
            "\n",
            "           0       1.00      1.00      1.00        21\n",
            "           1       1.00      0.86      0.92        14\n",
            "           2       0.88      1.00      0.94        15\n",
            "\n",
            "    accuracy                           0.96        50\n",
            "   macro avg       0.96      0.95      0.95        50\n",
            "weighted avg       0.96      0.96      0.96        50\n",
            "\n"
          ]
        }
      ]
    },
    {
      "cell_type": "markdown",
      "source": [
        "###Enssemble Methods:Use a collection of classifiers/regressors whose combined performance is much greater than the individual ones. We have several such methods such as bagging, boosting(AdaBoost and Gradient Boost) and Random Forests. Here, an example for the random forests is shown on the iris dataset. The same procedure applies for training classfiers using the above mentioned algorithms."
      ],
      "metadata": {
        "id": "6vtYtq3VqvU6"
      }
    },
    {
      "cell_type": "code",
      "source": [
        "from sklearn.ensemble import RandomForestClassifier\n",
        "rnd_clf=RandomForestClassifier(n_estimators=500,max_leaf_nodes=20)\n",
        "rnd_clf.fit(x_train,y_train)\n",
        "y_predict=rnd_clf.predict(x_test)\n",
        "print(classification_report(y_test,y_predict))"
      ],
      "metadata": {
        "colab": {
          "base_uri": "https://localhost:8080/"
        },
        "id": "1vyj2whhrdiT",
        "outputId": "15d81557-44d2-425d-ce93-527dd7a48dd3"
      },
      "execution_count": null,
      "outputs": [
        {
          "output_type": "stream",
          "name": "stdout",
          "text": [
            "              precision    recall  f1-score   support\n",
            "\n",
            "           0       1.00      1.00      1.00        21\n",
            "           1       0.92      0.79      0.85        14\n",
            "           2       0.82      0.93      0.87        15\n",
            "\n",
            "    accuracy                           0.92        50\n",
            "   macro avg       0.91      0.91      0.91        50\n",
            "weighted avg       0.92      0.92      0.92        50\n",
            "\n"
          ]
        }
      ]
    },
    {
      "cell_type": "markdown",
      "source": [
        "##Naive Bayes Classifier:"
      ],
      "metadata": {
        "id": "5wrgiEKuLhGM"
      }
    },
    {
      "cell_type": "code",
      "source": [
        "import pandas as pd\n",
        "from sklearn.naive_bayes import MultinomialNB\n",
        "from sklearn.preprocessing import LabelEncoder\n",
        "df=pd.read_csv(\"https://raw.githubusercontent.com/TXH2020/MainRepo/main/Online%20Courses/Introduction%20To%20Machine%20Learning/weather.csv\")\n",
        "df['Outlook']=LabelEncoder().fit_transform(df['Outlook'])\n",
        "df['Windy']=LabelEncoder().fit_transform(df['Windy'])\n",
        "df['Play']=LabelEncoder().fit_transform(df['Play'])\n",
        "l=list(df.columns)\n",
        "X=df[l[:len(l)-1]]\n",
        "Y=df[l[-1]]\n",
        "clf = MultinomialNB()\n",
        "clf.fit(X.values, Y.values)\n",
        "print(clf.predict_proba([[2,66,90,1]]))"
      ],
      "metadata": {
        "id": "bC1KrBGRLj-K"
      },
      "execution_count": null,
      "outputs": []
    },
    {
      "cell_type": "code",
      "source": [
        "!pip install mixed-naive-bayes"
      ],
      "metadata": {
        "id": "w99eO1gLLk_V"
      },
      "execution_count": null,
      "outputs": []
    },
    {
      "cell_type": "code",
      "source": [
        "from mixed_naive_bayes import MixedNB\n",
        "import pandas as pd\n",
        "df=pd.read_csv(\"https://raw.githubusercontent.com/TXH2020/MainRepo/main/Online%20Courses/Introduction%20To%20Machine%20Learning/weather.csv\")\n",
        "df['Outlook']=LabelEncoder().fit_transform(df['Outlook'])\n",
        "df['Windy']=LabelEncoder().fit_transform(df['Windy'])\n",
        "df['Play']=LabelEncoder().fit_transform(df['Play'])\n",
        "l=list(df.columns)\n",
        "X=df[l[:len(l)-1]]\n",
        "Y=df[l[-1]]\n",
        "clf = MixedNB(categorical_features=[0,3])\n",
        "clf.fit(X,Y)\n",
        "print(clf.predict_proba([[2,66,90,1]]))"
      ],
      "metadata": {
        "id": "KaPy03W9Ln9C"
      },
      "execution_count": null,
      "outputs": []
    },
    {
      "cell_type": "markdown",
      "source": [
        "##Clustering:"
      ],
      "metadata": {
        "id": "ifxDSt9JLs8D"
      }
    },
    {
      "cell_type": "code",
      "execution_count": null,
      "metadata": {
        "id": "ejUjqs9ubL0d"
      },
      "outputs": [],
      "source": [
        "from sklearn.cluster import KMeans\n",
        "from sklearn.datasets import load_digits\n",
        "import numpy as np\n",
        "data, labels = load_digits(return_X_y=True)\n",
        "seed=np.random.seed(42)\n",
        "kmeans=KMeans(n_clusters=10,random_state=seed)\n",
        "kmeans.fit(data)"
      ]
    },
    {
      "cell_type": "code",
      "source": [
        "kmeans.cluster_centers_"
      ],
      "metadata": {
        "id": "HwuRUu2PgHQM"
      },
      "execution_count": null,
      "outputs": []
    },
    {
      "cell_type": "code",
      "source": [
        "print(labels)"
      ],
      "metadata": {
        "id": "Siux8c06lSRN"
      },
      "execution_count": null,
      "outputs": []
    },
    {
      "cell_type": "code",
      "source": [
        "for i in range(100):\n",
        "  print(labels[i],kmeans.labels_[i])"
      ],
      "metadata": {
        "id": "47uBrXhakLCE"
      },
      "execution_count": null,
      "outputs": []
    },
    {
      "cell_type": "code",
      "source": [
        "from sklearn.metrics import classification_report\n",
        "print(classification_report(labels,kmeans.labels_))"
      ],
      "metadata": {
        "id": "r0LPwphwl7tE"
      },
      "execution_count": null,
      "outputs": []
    },
    {
      "cell_type": "code",
      "source": [
        "kmeans.score(data)"
      ],
      "metadata": {
        "id": "jTyvBn9TmLiU"
      },
      "execution_count": null,
      "outputs": []
    },
    {
      "cell_type": "code",
      "source": [
        "from sklearn.metrics.cluster import rand_score\n",
        "rand_score(labels,kmeans.labels_)"
      ],
      "metadata": {
        "id": "8D97HEJ0ttKn"
      },
      "execution_count": null,
      "outputs": []
    },
    {
      "cell_type": "code",
      "source": [
        "from sklearn.metrics import balanced_accuracy_score\n",
        "balanced_accuracy_score(labels,kmeans.labels_)"
      ],
      "metadata": {
        "id": "_QRevuFWuhkG"
      },
      "execution_count": null,
      "outputs": []
    },
    {
      "cell_type": "code",
      "source": [
        "from sklearn.metrics import confusion_matrix\n",
        "confusion_matrix(labels,kmeans.labels_)"
      ],
      "metadata": {
        "id": "HrgT0vImxBQm"
      },
      "execution_count": null,
      "outputs": []
    },
    {
      "cell_type": "code",
      "source": [
        "from sklearn.metrics.cluster import contingency_matrix\n",
        "contingency_matrix(labels,kmeans.labels_)"
      ],
      "metadata": {
        "id": "cKwkHjpfywZm"
      },
      "execution_count": null,
      "outputs": []
    },
    {
      "cell_type": "code",
      "source": [
        "from sklearn.cluster import Birch\n",
        "birch=Birch(n_clusters=10,threshold=1)\n",
        "birch.fit(data)"
      ],
      "metadata": {
        "id": "0QmFo-pyzRDm"
      },
      "execution_count": null,
      "outputs": []
    },
    {
      "cell_type": "code",
      "source": [
        "rand_score(labels,birch.labels_)"
      ],
      "metadata": {
        "id": "mHfMR4dGz82f"
      },
      "execution_count": null,
      "outputs": []
    },
    {
      "cell_type": "code",
      "source": [
        "data, labels = load_digits(return_X_y=True)\n"
      ],
      "metadata": {
        "id": "P5Uu-oOw1au2"
      },
      "execution_count": null,
      "outputs": []
    },
    {
      "cell_type": "code",
      "source": [
        "from sklearn import decomposition\n",
        "pca = decomposition.PCA(n_components=2)\n",
        "pca.fit(data)\n",
        "data=pca.transform(data)"
      ],
      "metadata": {
        "id": "qOcMG_qg0a6A"
      },
      "execution_count": null,
      "outputs": []
    },
    {
      "cell_type": "code",
      "source": [
        "from sklearn.cluster import DBSCAN\n",
        "dbs=DBSCAN(eps=0.5,min_samples=5)\n",
        "dbs.fit(data)"
      ],
      "metadata": {
        "id": "T4_TQH1K0re1"
      },
      "execution_count": null,
      "outputs": []
    },
    {
      "cell_type": "code",
      "source": [
        "list(dbs.labels_).count(-1)"
      ],
      "metadata": {
        "id": "FPdcVJqf1pbG"
      },
      "execution_count": null,
      "outputs": []
    }
  ]
}
{
  "nbformat": 4,
  "nbformat_minor": 0,
  "metadata": {
    "colab": {
      "provenance": [],
      "authorship_tag": "ABX9TyN6h12kdzLTaXkw49Hv4Urb",
      "include_colab_link": true
    },
    "kernelspec": {
      "name": "python3",
      "display_name": "Python 3"
    },
    "language_info": {
      "name": "python"
    }
  },
  "cells": [
    {
      "cell_type": "markdown",
      "metadata": {
        "id": "view-in-github",
        "colab_type": "text"
      },
      "source": [
        "<a href=\"https://colab.research.google.com/github/TXH2020/MainRepo/blob/main/Online%20Courses/Upgrad%20Python%20Course.ipynb\" target=\"_parent\"><img src=\"https://colab.research.google.com/assets/colab-badge.svg\" alt=\"Open In Colab\"/></a>"
      ]
    },
    {
      "cell_type": "code",
      "metadata": {
        "id": "Z4q4vd4iVV8G"
      },
      "source": [
        "from urllib.request import urlopen as ureq       #Libraries for web scraping\n",
        "from bs4 import BeautifulSoup as soup"
      ],
      "execution_count": 1,
      "outputs": []
    },
    {
      "cell_type": "code",
      "metadata": {
        "id": "rdqBsEK2WM83",
        "colab": {
          "base_uri": "https://localhost:8080/"
        },
        "outputId": "144647c7-bf7d-4041-f593-c004b65ab079"
      },
      "source": [
        "client=ureq(\"https://web.archive.org/web/20210614081225/https://directory.eoportal.org/web/eoportal/satellite-missions/a\")  #creating connection to url. Here the url is a satellite missions info database\n",
        "print(client)"
      ],
      "execution_count": 2,
      "outputs": [
        {
          "output_type": "stream",
          "name": "stdout",
          "text": [
            "<http.client.HTTPResponse object at 0x7f96001b1930>\n"
          ]
        }
      ]
    },
    {
      "cell_type": "code",
      "metadata": {
        "id": "RHHYL9HZWZpt"
      },
      "source": [
        "page=client.read()                  #reading contents of the webpage and then close the file\n",
        "client.close()"
      ],
      "execution_count": 3,
      "outputs": []
    },
    {
      "cell_type": "code",
      "metadata": {
        "id": "1SdjjfGUWqiQ"
      },
      "source": [
        "hpage=soup(page,'html.parser')     #extracting the html code of the page"
      ],
      "execution_count": 4,
      "outputs": []
    },
    {
      "cell_type": "code",
      "metadata": {
        "id": "oI9NRxFFZQEZ",
        "colab": {
          "base_uri": "https://localhost:8080/"
        },
        "outputId": "c94bd698-922c-4748-c2b5-2ce1abc69857"
      },
      "source": [
        "containers1=hpage.find_all('td',{'class':'even'})             #After inspection, we find that information is present as a table.\n",
        "containers2=hpage.find_all('td',{'class':'odd'})              #Entries are made with the <td> tag with alternating class names 'even' and 'odd'\n",
        "l1=[];l2=[]                                                   #Each entry contains white space, new line characters and no break space character.\n",
        "for i in range(len(containers1)):                             #First these unnecessary characters are removed\n",
        "  l1.append(containers1[i].text.strip('\\n').strip('\\t').strip('\\xa0'))\n",
        "  l2.append(containers2[i].text.strip('\\n').strip('\\t').strip('\\xa0'))\n",
        "for i in range(len(containers1)):\n",
        " print(i,l1[i],\",\",l2[i])"
      ],
      "execution_count": 5,
      "outputs": [
        {
          "output_type": "stream",
          "name": "stdout",
          "text": [
            "0 2017 , Aalto-1\n",
            "1 Earth Observation , \n",
            "2 Planned for 2019 , AAReST\n",
            "3 Non-EO , \n",
            "4 2008 , AAUSat-2\n",
            "5 Non-EO , 2012\n",
            "6 2013 , AAUSat3\n",
            "7 Non-EO , 2014\n",
            "8 1997 , ACE\n",
            "9 Non-EO , \n",
            "10 1999 , ACRIMSAT\n",
            "11 Non-EO , 2014\n",
            "12 1993 , ACTS\n",
            "13 Non-EO , 2004\n",
            "14 1996 , ADEOS\n",
            "15 Earth Observation , 1997\n",
            "16 2002 , ADEOS-II\n",
            "17 Earth Observation , 2003\n",
            "18 Planned for 2019-2020 , Aditya-1\n",
            "19 Non-EO , \n",
            "20 2013 , ADS-B\n",
            "21 Non-EO , \n",
            "22 1979 , AEM-2\n",
            "23 Earth Observation , 1981\n",
            "24 2012 , Aeneas\n",
            "25 Earth Observation , \n",
            "26 2018 , Aeolus\n",
            "27 Earth Observation , \n",
            "28  , AEP\n",
            "29 Non-EO , \n",
            "30 2009 , AeroCube-3\n",
            "31 Earth Observation , 2009\n",
            "32 2012 , AeroCube-4\n",
            "33 Non-EO , \n",
            "34 2019 , AeroCube-10\n",
            "35 Non-EO , \n",
            "36 2018 , AeroCube-11R3\n",
            "37 Earth Observation , \n",
            "38 2015 , AeroCube-OCSD\n",
            "39 Non-EO , \n",
            "40 2017 , AeroCube-OCSD -B and -C\n",
            "41 Non-EO , \n",
            "42 2018 , AFSPC-11\n",
            "43 Non-EO , \n",
            "44 2007 , AIM\n",
            "45 Earth Observation , \n",
            "46 2014 , AISat\n",
            "47 Earth Observation , \n",
            "48 2010 , AISSat-1 and 2\n",
            "49 Earth Observation , \n",
            "50 2019 , Alba Orbital\n",
            "51 Earth Observation , \n",
            "52 2018 , ALBus\n",
            "53 Non-EO , \n",
            "54 1993 , ALEXIS\n",
            "55 Earth Observation , 2005\n",
            "56 2013 , ALICE\n",
            "57 Earth Observation , \n",
            "58 2015 , All-Electric\n",
            "59 Non_EO , \n",
            "60 2014 , ALL-STAR\n",
            "61 Non-EO , 2014\n",
            "62  , ALMA\n",
            "63 Non-EO , \n",
            "64 2012 , ALMASat-1\n",
            "65 Earth Observation , \n",
            "66 1973 (Manned) / 1991 (Unmanned) , Almaz Program\n",
            "67 Earth Observation , 1977 (Manned) / 1992 (Unmanned)\n",
            "68 2006 , ALOS\n",
            "69 Earth Observation , 2011\n",
            "70 2014 , ALOS-2\n",
            "71 Earth Observation , \n",
            "72 Planned for 2016 , ALOS-3\n",
            "73 Earth Observation , \n",
            "74 2013 , Alphasat\n",
            "75 Non-EO , \n",
            "76 2010 , AlSat-2\n",
            "77 Earth Observation , \n",
            "78 2017 , AlSat-Nano\n",
            "79 Earth Observation , \n",
            "80  , AMAZE\n",
            "81 Non-EO , \n",
            "82 2021 , Amazonia-1\n",
            "83 Earth Observation , \n",
            "84 1997 , AMPERE\n",
            "85 Earth Observation , \n",
            "86 2006 , ANDE\n",
            "87 Earth Observation , 2008\n",
            "88 2009 , ANDE-2\n",
            "89 Earth Observation , 2010\n",
            "90 Scheduled for 2020 , ANDESITE\n",
            "91 Earth Observation , \n",
            "92 2019 , ANGELS\n",
            "93 Non-EO , \n",
            "94 Planned for 2013 -14 , Antarctic Broadband\n",
            "95 Non-EO , \n",
            "96 2009 , ANUSat\n",
            "97 Earth Observation , 2012\n",
            "98 2005 , APEX\n",
            "99 Non-EO , \n",
            "100 2009 , AprizeSat-3 and 4\n",
            "101 Earth Observation , \n",
            "102 Scheduled for 2019 , AQT-D\n",
            "103 Non-EO , \n",
            "104 2002 , Aqua\n",
            "105 Earth Observation , \n",
            "106 Deployments began in 2003 , Argo\n",
            "107 Earth Observation , \n",
            "108 Scheduled for 2020 , ArgoMoon\n",
            "109 Non-EO , \n",
            "110 1999 , ARGOS\n",
            "111 Earth Observation , 2003\n",
            "112 1978 , Argos DCS\n",
            "113 Earth Observation , \n",
            "114 2015 , Argus\n",
            "115 Non-EO , 2015 (Launch failure)\n",
            "116  , Ariane 5\n",
            "117 Non-EO , \n",
            "118 Planned for 2020 , Ariane 6\n",
            "119 Non-EO , \n",
            "120 2018 , Arkyd-6\n",
            "121 Non-EO , \n",
            "122 2019 , ARMADILLO\n",
            "123 Non-EO , \n",
            "124 2001 , ARTEMIS\n",
            "125 Non-EO , \n",
            "126 Expected in 2020 , Artemis-I\n",
            "127 Non-EO , \n",
            "128  , Artemis Program\n",
            "129 Non-EO , \n",
            "130  , ARTES\n",
            "131 Non-EO , \n",
            "132 2014 , ASNARO\n",
            "133 Earth Observation , \n",
            "134 Planned for 2018 , ASNARO-2\n",
            "135 Earth Observation , \n",
            "136 2017 , ASTERIA\n",
            "137 Non-EO , \n",
            "138  , Astro Pi\n",
            "139 Both , \n",
            "140 2016 , ASTRO-H\n",
            "141 Non-EO , 2016\n",
            "142 2015 , AstroSat\n",
            "143 Non-EO , \n",
            "144 1992 , ATLAS\n",
            "145 Earth Observation , 1994\n",
            "146 2004 , Aura\n",
            "147 Earth Observation , \n",
            "148 2018 , AutoNaut\n",
            "149 Earth Observation , \n",
            "150  , Autonomous Driving\n",
            "151 Non-EO , \n",
            "152  , Axiom\n",
            "153 Non-EO , \n",
            "154 2019 , AzTechSat-1\n",
            "155 Non-EO , \n"
          ]
        }
      ]
    },
    {
      "cell_type": "code",
      "metadata": {
        "id": "HvzWEgdEabY7"
      },
      "source": [
        "file=open(\"satellite.csv\",\"w\")                                #A csv file is created to store the data in a tabular format. CSV files are easy to process in Python\n",
        "heads='Mission Name,Launch date,End date,EO/Non-EO\\n'         #This file can be found in the home directory of this python notebook after execution of this code\n",
        "file.write(heads)\n",
        "for i in range(len(containers1)):\n",
        "  if(i%2==0):\n",
        "    file.write(l2[i]+\",\"+l1[i])\n",
        "  else:\n",
        "    file.write(\",\"+l2[i]+\",\"+l1[i]+\"\\n\")\n",
        "file.close()\n"
      ],
      "execution_count": 6,
      "outputs": []
    },
    {
      "cell_type": "code",
      "metadata": {
        "id": "G3QeJZGSwfXH",
        "colab": {
          "base_uri": "https://localhost:8080/"
        },
        "outputId": "9e281344-06f0-4f07-8cb8-3edc1f18a44a"
      },
      "source": [
        "import pandas as pd                                         #The csv file can be processed to form a dataframe.\n",
        "df=pd.read_csv(\"satellite.csv\")\n",
        "print(df.head())"
      ],
      "execution_count": 7,
      "outputs": [
        {
          "output_type": "stream",
          "name": "stdout",
          "text": [
            "  Mission Name       Launch date End date          EO/Non-EO\n",
            "0      Aalto-1              2017      NaN  Earth Observation\n",
            "1       AAReST  Planned for 2019      NaN             Non-EO\n",
            "2     AAUSat-2              2008     2012             Non-EO\n",
            "3      AAUSat3              2013     2014             Non-EO\n",
            "4          ACE              1997      NaN             Non-EO\n"
          ]
        }
      ]
    },
    {
      "cell_type": "code",
      "metadata": {
        "id": "I0q1pLvyzxfw",
        "colab": {
          "base_uri": "https://localhost:8080/"
        },
        "outputId": "a5e72644-68d8-4ffe-e9ff-77e944ca151b"
      },
      "source": [
        "df.info()                                                   #Gives information about the dataframe including null values"
      ],
      "execution_count": 8,
      "outputs": [
        {
          "output_type": "stream",
          "name": "stdout",
          "text": [
            "<class 'pandas.core.frame.DataFrame'>\n",
            "RangeIndex: 78 entries, 0 to 77\n",
            "Data columns (total 4 columns):\n",
            " #   Column        Non-Null Count  Dtype \n",
            "---  ------        --------------  ----- \n",
            " 0   Mission Name  78 non-null     object\n",
            " 1   Launch date   69 non-null     object\n",
            " 2   End date      19 non-null     object\n",
            " 3   EO/Non-EO     78 non-null     object\n",
            "dtypes: object(4)\n",
            "memory usage: 2.6+ KB\n"
          ]
        }
      ]
    },
    {
      "cell_type": "code",
      "metadata": {
        "id": "uqb7KCTKDpjo",
        "colab": {
          "base_uri": "https://localhost:8080/",
          "height": 430
        },
        "outputId": "23d52202-6ee7-4a94-e018-6c9fb4cea8cc"
      },
      "source": [
        "import matplotlib.pyplot as plt                            #Since values in the given column are objects, they must be converted to a suitable datatype(in this case, to string)\n",
        "def f(x):                                                  #Then we can plot a histogram for the coulmn as only discrete values are present in it.\n",
        "  return str(x)                                            #By logic we know that Non-EO and Non_EO are same. But computer doesn't understand that\n",
        "df['EO/Non-EO']=df['EO/Non-EO'].apply(f)                   #lambda function did not work here. Thats why a normal function is used.\n",
        "df['EO/Non-EO'].hist()\n",
        "plt.show()"
      ],
      "execution_count": 9,
      "outputs": [
        {
          "output_type": "display_data",
          "data": {
            "text/plain": [
              "<Figure size 640x480 with 1 Axes>"
            ],
            "image/png": "[encoded data removed]"
          },
          "metadata": {}
        }
      ]
    },
    {
      "cell_type": "code",
      "metadata": {
        "id": "Hl4n_mqWF7x5",
        "colab": {
          "base_uri": "https://localhost:8080/",
          "height": 449
        },
        "outputId": "16a586e1-fe26-4c6c-9099-e249c0153a4a"
      },
      "source": [
        "def f1(x):                                                     #Here the above problem was successfully resolved.\n",
        "  if(x=='Non_EO'):                                             #Here we have used a library called seaborn which is used to improve the aesthetics\n",
        "    return 'Non-EO'                                            #of various plots and other such structures.\n",
        "  else:\n",
        "    return x\n",
        "df['EO/Non-EO']=df['EO/Non-EO'].apply(f1)\n",
        "import seaborn as sb\n",
        "sb.histplot(df['EO/Non-EO'])\n",
        "plt.show()"
      ],
      "execution_count": 10,
      "outputs": [
        {
          "output_type": "display_data",
          "data": {
            "text/plain": [
              "<Figure size 640x480 with 1 Axes>"
            ],
            "image/png": "[encoded data removed]"
          },
          "metadata": {}
        }
      ]
    },
    {
      "cell_type": "code",
      "metadata": {
        "id": "JI71QCWnHGnI",
        "colab": {
          "base_uri": "https://localhost:8080/",
          "height": 175
        },
        "outputId": "0151b356-72f2-4a61-9095-c3f05a69bb24"
      },
      "source": [
        "collist=list(df.columns)[:len(df.columns)-1]                  #That we must convert values to correct data type applies to all other columns also\n",
        "for i in collist:                                             #Here we fetch all those missions whose Launch date was 2017\n",
        "  df[i]=df[i].apply(f)\n",
        "df[df['Launch date']=='2017']"
      ],
      "execution_count": 11,
      "outputs": [
        {
          "output_type": "execute_result",
          "data": {
            "text/plain": [
              "               Mission Name Launch date End date          EO/Non-EO\n",
              "0                   Aalto-1        2017      nan  Earth Observation\n",
              "20  AeroCube-OCSD -B and -C        2017      nan             Non-EO\n",
              "39               AlSat-Nano        2017      nan  Earth Observation\n",
              "68                  ASTERIA        2017      nan             Non-EO"
            ],
            "text/html": [
              "\n",
              "  <div id=\"df-8ed37f1d-7ccd-43ad-963c-abdf8ebd5e71\" class=\"colab-df-container\">\n",
              "    <div>\n",
              "<style scoped>\n",
              "    .dataframe tbody tr th:only-of-type {\n",
              "        vertical-align: middle;\n",
              "    }\n",
              "\n",
              "    .dataframe tbody tr th {\n",
              "        vertical-align: top;\n",
              "    }\n",
              "\n",
              "    .dataframe thead th {\n",
              "        text-align: right;\n",
              "    }\n",
              "</style>\n",
              "<table border=\"1\" class=\"dataframe\">\n",
              "  <thead>\n",
              "    <tr style=\"text-align: right;\">\n",
              "      <th></th>\n",
              "      <th>Mission Name</th>\n",
              "      <th>Launch date</th>\n",
              "      <th>End date</th>\n",
              "      <th>EO/Non-EO</th>\n",
              "    </tr>\n",
              "  </thead>\n",
              "  <tbody>\n",
              "    <tr>\n",
              "      <th>0</th>\n",
              "      <td>Aalto-1</td>\n",
              "      <td>2017</td>\n",
              "      <td>nan</td>\n",
              "      <td>Earth Observation</td>\n",
              "    </tr>\n",
              "    <tr>\n",
              "      <th>20</th>\n",
              "      <td>AeroCube-OCSD -B and -C</td>\n",
              "      <td>2017</td>\n",
              "      <td>nan</td>\n",
              "      <td>Non-EO</td>\n",
              "    </tr>\n",
              "    <tr>\n",
              "      <th>39</th>\n",
              "      <td>AlSat-Nano</td>\n",
              "      <td>2017</td>\n",
              "      <td>nan</td>\n",
              "      <td>Earth Observation</td>\n",
              "    </tr>\n",
              "    <tr>\n",
              "      <th>68</th>\n",
              "      <td>ASTERIA</td>\n",
              "      <td>2017</td>\n",
              "      <td>nan</td>\n",
              "      <td>Non-EO</td>\n",
              "    </tr>\n",
              "  </tbody>\n",
              "</table>\n",
              "</div>\n",
              "    <div class=\"colab-df-buttons\">\n",
              "\n",
              "  <div class=\"colab-df-container\">\n",
              "    <button class=\"colab-df-convert\" onclick=\"convertToInteractive('df-8ed37f1d-7ccd-43ad-963c-abdf8ebd5e71')\"\n",
              "            title=\"Convert this dataframe to an interactive table.\"\n",
              "            style=\"display:none;\">\n",
              "\n",
              "  <svg xmlns=\"http://www.w3.org/2000/svg\" height=\"24px\" viewBox=\"0 -960 960 960\">\n",
              "    <path d=\"M120-120v-720h720v720H120Zm60-500h600v-160H180v160Zm220 220h160v-160H400v160Zm0 220h160v-160H400v160ZM180-400h160v-160H180v160Zm440 0h160v-160H620v160ZM180-180h160v-160H180v160Zm440 0h160v-160H620v160Z\"/>\n",
              "  </svg>\n",
              "    </button>\n",
              "\n",
              "  <style>\n",
              "    .colab-df-container {\n",
              "      display:flex;\n",
              "      gap: 12px;\n",
              "    }\n",
              "\n",
              "    .colab-df-convert {\n",
              "      background-color: #E8F0FE;\n",
              "      border: none;\n",
              "      border-radius: 50%;\n",
              "      cursor: pointer;\n",
              "      display: none;\n",
              "      fill: #1967D2;\n",
              "      height: 32px;\n",
              "      padding: 0 0 0 0;\n",
              "      width: 32px;\n",
              "    }\n",
              "\n",
              "    .colab-df-convert:hover {\n",
              "      background-color: #E2EBFA;\n",
              "      box-shadow: 0px 1px 2px rgba(60, 64, 67, 0.3), 0px 1px 3px 1px rgba(60, 64, 67, 0.15);\n",
              "      fill: #174EA6;\n",
              "    }\n",
              "\n",
              "    .colab-df-buttons div {\n",
              "      margin-bottom: 4px;\n",
              "    }\n",
              "\n",
              "    [theme=dark] .colab-df-convert {\n",
              "      background-color: #3B4455;\n",
              "      fill: #D2E3FC;\n",
              "    }\n",
              "\n",
              "    [theme=dark] .colab-df-convert:hover {\n",
              "      background-color: #434B5C;\n",
              "      box-shadow: 0px 1px 3px 1px rgba(0, 0, 0, 0.15);\n",
              "      filter: drop-shadow(0px 1px 2px rgba(0, 0, 0, 0.3));\n",
              "      fill: #FFFFFF;\n",
              "    }\n",
              "  </style>\n",
              "\n",
              "    <script>\n",
              "      const buttonEl =\n",
              "        document.querySelector('#df-8ed37f1d-7ccd-43ad-963c-abdf8ebd5e71 button.colab-df-convert');\n",
              "      buttonEl.style.display =\n",
              "        google.colab.kernel.accessAllowed ? 'block' : 'none';\n",
              "\n",
              "      async function convertToInteractive(key) {\n",
              "        const element = document.querySelector('#df-8ed37f1d-7ccd-43ad-963c-abdf8ebd5e71');\n",
              "        const dataTable =\n",
              "          await google.colab.kernel.invokeFunction('convertToInteractive',\n",
              "                                                    [key], {});\n",
              "        if (!dataTable) return;\n",
              "\n",
              "        const docLinkHtml = 'Like what you see? Visit the ' +\n",
              "          '<a target=\"_blank\" href=https://colab.research.google.com/notebooks/data_table.ipynb>data table notebook</a>'\n",
              "          + ' to learn more about interactive tables.';\n",
              "        element.innerHTML = '';\n",
              "        dataTable['output_type'] = 'display_data';\n",
              "        await google.colab.output.renderOutput(dataTable, element);\n",
              "        const docLink = document.createElement('div');\n",
              "        docLink.innerHTML = docLinkHtml;\n",
              "        element.appendChild(docLink);\n",
              "      }\n",
              "    </script>\n",
              "  </div>\n",
              "\n",
              "\n",
              "<div id=\"df-70e59f4f-506b-45b5-9e97-dfd4e1af2332\">\n",
              "  <button class=\"colab-df-quickchart\" onclick=\"quickchart('df-70e59f4f-506b-45b5-9e97-dfd4e1af2332')\"\n",
              "            title=\"Suggest charts.\"\n",
              "            style=\"display:none;\">\n",
              "\n",
              "<svg xmlns=\"http://www.w3.org/2000/svg\" height=\"24px\"viewBox=\"0 0 24 24\"\n",
              "     width=\"24px\">\n",
              "    <g>\n",
              "        <path d=\"M19 3H5c-1.1 0-2 .9-2 2v14c0 1.1.9 2 2 2h14c1.1 0 2-.9 2-2V5c0-1.1-.9-2-2-2zM9 17H7v-7h2v7zm4 0h-2V7h2v10zm4 0h-2v-4h2v4z\"/>\n",
              "    </g>\n",
              "</svg>\n",
              "  </button>\n",
              "\n",
              "<style>\n",
              "  .colab-df-quickchart {\n",
              "      --bg-color: #E8F0FE;\n",
              "      --fill-color: #1967D2;\n",
              "      --hover-bg-color: #E2EBFA;\n",
              "      --hover-fill-color: #174EA6;\n",
              "      --disabled-fill-color: #AAA;\n",
              "      --disabled-bg-color: #DDD;\n",
              "  }\n",
              "\n",
              "  [theme=dark] .colab-df-quickchart {\n",
              "      --bg-color: #3B4455;\n",
              "      --fill-color: #D2E3FC;\n",
              "      --hover-bg-color: #434B5C;\n",
              "      --hover-fill-color: #FFFFFF;\n",
              "      --disabled-bg-color: #3B4455;\n",
              "      --disabled-fill-color: #666;\n",
              "  }\n",
              "\n",
              "  .colab-df-quickchart {\n",
              "    background-color: var(--bg-color);\n",
              "    border: none;\n",
              "    border-radius: 50%;\n",
              "    cursor: pointer;\n",
              "    display: none;\n",
              "    fill: var(--fill-color);\n",
              "    height: 32px;\n",
              "    padding: 0;\n",
              "    width: 32px;\n",
              "  }\n",
              "\n",
              "  .colab-df-quickchart:hover {\n",
              "    background-color: var(--hover-bg-color);\n",
              "    box-shadow: 0 1px 2px rgba(60, 64, 67, 0.3), 0 1px 3px 1px rgba(60, 64, 67, 0.15);\n",
              "    fill: var(--button-hover-fill-color);\n",
              "  }\n",
              "\n",
              "  .colab-df-quickchart-complete:disabled,\n",
              "  .colab-df-quickchart-complete:disabled:hover {\n",
              "    background-color: var(--disabled-bg-color);\n",
              "    fill: var(--disabled-fill-color);\n",
              "    box-shadow: none;\n",
              "  }\n",
              "\n",
              "  .colab-df-spinner {\n",
              "    border: 2px solid var(--fill-color);\n",
              "    border-color: transparent;\n",
              "    border-bottom-color: var(--fill-color);\n",
              "    animation:\n",
              "      spin 1s steps(1) infinite;\n",
              "  }\n",
              "\n",
              "  @keyframes spin {\n",
              "    0% {\n",
              "      border-color: transparent;\n",
              "      border-bottom-color: var(--fill-color);\n",
              "      border-left-color: var(--fill-color);\n",
              "    }\n",
              "    20% {\n",
              "      border-color: transparent;\n",
              "      border-left-color: var(--fill-color);\n",
              "      border-top-color: var(--fill-color);\n",
              "    }\n",
              "    30% {\n",
              "      border-color: transparent;\n",
              "      border-left-color: var(--fill-color);\n",
              "      border-top-color: var(--fill-color);\n",
              "      border-right-color: var(--fill-color);\n",
              "    }\n",
              "    40% {\n",
              "      border-color: transparent;\n",
              "      border-right-color: var(--fill-color);\n",
              "      border-top-color: var(--fill-color);\n",
              "    }\n",
              "    60% {\n",
              "      border-color: transparent;\n",
              "      border-right-color: var(--fill-color);\n",
              "    }\n",
              "    80% {\n",
              "      border-color: transparent;\n",
              "      border-right-color: var(--fill-color);\n",
              "      border-bottom-color: var(--fill-color);\n",
              "    }\n",
              "    90% {\n",
              "      border-color: transparent;\n",
              "      border-bottom-color: var(--fill-color);\n",
              "    }\n",
              "  }\n",
              "</style>\n",
              "\n",
              "  <script>\n",
              "    async function quickchart(key) {\n",
              "      const quickchartButtonEl =\n",
              "        document.querySelector('#' + key + ' button');\n",
              "      quickchartButtonEl.disabled = true;  // To prevent multiple clicks.\n",
              "      quickchartButtonEl.classList.add('colab-df-spinner');\n",
              "      try {\n",
              "        const charts = await google.colab.kernel.invokeFunction(\n",
              "            'suggestCharts', [key], {});\n",
              "      } catch (error) {\n",
              "        console.error('Error during call to suggestCharts:', error);\n",
              "      }\n",
              "      quickchartButtonEl.classList.remove('colab-df-spinner');\n",
              "      quickchartButtonEl.classList.add('colab-df-quickchart-complete');\n",
              "    }\n",
              "    (() => {\n",
              "      let quickchartButtonEl =\n",
              "        document.querySelector('#df-70e59f4f-506b-45b5-9e97-dfd4e1af2332 button');\n",
              "      quickchartButtonEl.style.display =\n",
              "        google.colab.kernel.accessAllowed ? 'block' : 'none';\n",
              "    })();\n",
              "  </script>\n",
              "</div>\n",
              "    </div>\n",
              "  </div>\n"
            ]
          },
          "metadata": {},
          "execution_count": 11
        }
      ]
    },
    {
      "cell_type": "markdown",
      "metadata": {
        "id": "WV5EIq16Qh1F"
      },
      "source": [
        "##Like this, we can do lot more things in Python.\n",
        "##These were one of the many things that I learnt from the Upgrad online course."
      ]
    }
  ]
}
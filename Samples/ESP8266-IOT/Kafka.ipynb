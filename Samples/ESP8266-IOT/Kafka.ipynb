{
  "nbformat": 4,
  "nbformat_minor": 0,
  "metadata": {
    "colab": {
      "provenance": [],
      "authorship_tag": "ABX9TyMNRnQsIyya1f9rp2jLtGKm",
      "include_colab_link": true
    },
    "kernelspec": {
      "name": "python3",
      "display_name": "Python 3"
    },
    "language_info": {
      "name": "python"
    }
  },
  "cells": [
    {
      "cell_type": "markdown",
      "metadata": {
        "id": "view-in-github",
        "colab_type": "text"
      },
      "source": [
        "<a href=\"https://colab.research.google.com/github/TXH2020/MainRepo/blob/main/Projects/ESP8266-IOT/Kafka.ipynb\" target=\"_parent\"><img src=\"https://colab.research.google.com/assets/colab-badge.svg\" alt=\"Open In Colab\"/></a>"
      ]
    },
    {
      "cell_type": "markdown",
      "source": [
        "##This is an example demonstrating the use of Apache Kafka for streaming data.\n",
        "####Note:-Please disconnect runtime each time after running the notebook."
      ],
      "metadata": {
        "id": "DRaPuhpSl7zb"
      }
    },
    {
      "cell_type": "code",
      "source": [
        "!pip install wget"
      ],
      "metadata": {
        "id": "bAb57KsSaBv6"
      },
      "execution_count": null,
      "outputs": []
    },
    {
      "cell_type": "code",
      "execution_count": 11,
      "metadata": {
        "id": "cZAWcTxrMqRx"
      },
      "outputs": [],
      "source": [
        "import tarfile\n",
        "import wget\n",
        "import os\n",
        "if(not(os.path.isdir('kafka_2.13-3.3.1'))):\n",
        "  if(not(os.path.isfile('kafka_2.13-3.3.1.tgz'))):\n",
        "    wget.download(\"https://downloads.apache.org/kafka/3.3.1/kafka_2.13-3.3.1.tgz\")\n",
        "  with tarfile.open('kafka_2.13-3.3.1.tgz') as Zip:\n",
        "    Zip.extractall()\n"
      ]
    },
    {
      "cell_type": "code",
      "source": [
        "!kafka_2.13-3.3.1/bin/zookeeper-server-start.sh -daemon kafka_2.13-3.3.1/config/zookeeper.properties"
      ],
      "metadata": {
        "id": "VCpEi6uyNNGN"
      },
      "execution_count": null,
      "outputs": []
    },
    {
      "cell_type": "code",
      "source": [
        "!kafka_2.13-3.3.1/bin/kafka-server-start.sh -daemon kafka_2.13-3.3.1/config/server.properties"
      ],
      "metadata": {
        "id": "zvFu8G_VSQcP"
      },
      "execution_count": null,
      "outputs": []
    },
    {
      "cell_type": "code",
      "source": [
        "!pip install kafka-python "
      ],
      "metadata": {
        "id": "GqUhCBHCTwD_"
      },
      "execution_count": null,
      "outputs": []
    },
    {
      "cell_type": "code",
      "source": [
        "from time import sleep  \n",
        "from json import dumps  \n",
        "from kafka import KafkaProducer\n",
        "my_producer = KafkaProducer(  \n",
        "    bootstrap_servers = ['localhost:9092'],  \n",
        "    value_serializer = lambda x:dumps(x).encode('utf-8')  \n",
        "    )  \n",
        "for n in range(10):  \n",
        "    my_data = {'num' : n}  \n",
        "    my_producer.send('testnum', value = my_data)  \n",
        "    sleep(1)  "
      ],
      "metadata": {
        "id": "2BkmWtdeVBIT"
      },
      "execution_count": null,
      "outputs": []
    },
    {
      "cell_type": "code",
      "source": [
        "import sys\n",
        "from json import loads  \n",
        "from kafka import KafkaConsumer\n",
        "my_consumer = KafkaConsumer(  \n",
        "    'testnum',  \n",
        "     bootstrap_servers = ['localhost : 9092'],  \n",
        "     auto_offset_reset = 'earliest',  \n",
        "     enable_auto_commit = True,  \n",
        "     group_id = 'my-group',  \n",
        "     consumer_timeout_ms=10000,\n",
        "     value_deserializer = lambda x : loads(x.decode('utf-8'))  \n",
        "     )\n",
        "for message in my_consumer:\n",
        "    message = message.value\n",
        "    print(message)"
      ],
      "metadata": {
        "id": "0yhtO9jiTb8m"
      },
      "execution_count": null,
      "outputs": []
    },
    {
      "cell_type": "code",
      "source": [
        "!kafka_2.13-3.3.1/bin/kafka-server-stop.sh -daemon"
      ],
      "metadata": {
        "id": "gQC5b58kVcGH"
      },
      "execution_count": null,
      "outputs": []
    },
    {
      "cell_type": "code",
      "source": [
        "!kafka_2.13-3.3.1/bin/zookeeper-server-stop.sh -daemon"
      ],
      "metadata": {
        "id": "Nd3kBzpRVm3m"
      },
      "execution_count": null,
      "outputs": []
    }
  ]
}
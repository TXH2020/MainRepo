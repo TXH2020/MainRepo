{
  "nbformat": 4,
  "nbformat_minor": 0,
  "metadata": {
    "colab": {
      "provenance": [],
      "include_colab_link": true
    },
    "kernelspec": {
      "name": "python3",
      "display_name": "Python 3"
    },
    "language_info": {
      "name": "python"
    },
    "gpuClass": "standard",
    "accelerator": "GPU"
  },
  "cells": [
    {
      "cell_type": "markdown",
      "metadata": {
        "id": "view-in-github",
        "colab_type": "text"
      },
      "source": [
        "<a href=\"https://colab.research.google.com/github/TXH2020/MainRepo/blob/main/Academics/Image%20Processing/FacialRecognitionSample.ipynb\" target=\"_parent\"><img src=\"https://colab.research.google.com/assets/colab-badge.svg\" alt=\"Open In Colab\"/></a>"
      ]
    },
    {
      "cell_type": "markdown",
      "source": [
        "###Let's take the attendance of a few world leaders(Xi Jingping,Obama and Imran Khan) using a group photo of the G-20 through Face Recognition.(Please click on runtime tab, change runtime and select GPU from dropdown. After running the entire notebook,change runtime to none to ensure availability of the GPU for your use)"
      ],
      "metadata": {
        "id": "FkhrGV3wkSz5"
      }
    },
    {
      "cell_type": "code",
      "source": [
        "!pip install face_recognition"
      ],
      "metadata": {
        "id": "xtvdr5FH1vcb",
        "colab": {
          "base_uri": "https://localhost:8080/"
        },
        "outputId": "14618a71-fd42-42b6-f741-64191ea12650"
      },
      "execution_count": 1,
      "outputs": [
        {
          "output_type": "stream",
          "name": "stdout",
          "text": [
            "Collecting face_recognition\n",
            "  Downloading face_recognition-1.3.0-py2.py3-none-any.whl (15 kB)\n",
            "Collecting face-recognition-models>=0.3.0 (from face_recognition)\n",
            "  Downloading face_recognition_models-0.3.0.tar.gz (100.1 MB)\n",
            "\u001b[2K     \u001b[90m━━━━━━━━━━━━━━━━━━━━━━━━━━━━━━━━━━━━━━\u001b[0m \u001b[32m100.1/100.1 MB\u001b[0m \u001b[31m10.5 MB/s\u001b[0m eta \u001b[36m0:00:00\u001b[0m\n",
            "\u001b[?25h  Preparing metadata (setup.py) ... \u001b[?25l\u001b[?25hdone\n",
            "Requirement already satisfied: Click>=6.0 in /usr/local/lib/python3.10/dist-packages (from face_recognition) (8.1.7)\n",
            "Requirement already satisfied: dlib>=19.7 in /usr/local/lib/python3.10/dist-packages (from face_recognition) (19.24.2)\n",
            "Requirement already satisfied: numpy in /usr/local/lib/python3.10/dist-packages (from face_recognition) (1.23.5)\n",
            "Requirement already satisfied: Pillow in /usr/local/lib/python3.10/dist-packages (from face_recognition) (9.4.0)\n",
            "Building wheels for collected packages: face-recognition-models\n",
            "  Building wheel for face-recognition-models (setup.py) ... \u001b[?25l\u001b[?25hdone\n",
            "  Created wheel for face-recognition-models: filename=face_recognition_models-0.3.0-py2.py3-none-any.whl size=100566171 sha256=21879faff6574db7414aeeaa8fa26496540ca50c1cc0a6212201695b9656151c\n",
            "  Stored in directory: /root/.cache/pip/wheels/7a/eb/cf/e9eced74122b679557f597bb7c8e4c739cfcac526db1fd523d\n",
            "Successfully built face-recognition-models\n",
            "Installing collected packages: face-recognition-models, face_recognition\n",
            "Successfully installed face-recognition-models-0.3.0 face_recognition-1.3.0\n"
          ]
        }
      ]
    },
    {
      "cell_type": "code",
      "source": [
        "import urllib.request as ureq\n",
        "ureq.urlretrieve('https://raw.githubusercontent.com/TXH2020/fast-labeling-workflow/master/Datasets/face_recog_img/Xi.jpg','Xi.jpg')\n",
        "ureq.urlretrieve('https://raw.githubusercontent.com/TXH2020/fast-labeling-workflow/master/Datasets/face_recog_img/imran.jpg','imran.jpg')\n",
        "ureq.urlretrieve('https://raw.githubusercontent.com/TXH2020/fast-labeling-workflow/master/Datasets/face_recog_img/obamat.jpg','obamat.jpg')\n",
        "ureq.urlretrieve('https://raw.githubusercontent.com/TXH2020/fast-labeling-workflow/master/Datasets/face_recog_img/groupt.jpg','groupt.jpg')"
      ],
      "metadata": {
        "id": "13AMDrjvixQO",
        "colab": {
          "base_uri": "https://localhost:8080/"
        },
        "outputId": "cf72ac63-f08f-476f-a742-de544b8b88f2"
      },
      "execution_count": 3,
      "outputs": [
        {
          "output_type": "execute_result",
          "data": {
            "text/plain": [
              "('groupt.jpg', <http.client.HTTPMessage at 0x7962cee6d420>)"
            ]
          },
          "metadata": {},
          "execution_count": 3
        }
      ]
    },
    {
      "cell_type": "code",
      "source": [
        "import face_recognition\n",
        "\n",
        "# Load the jpg files into numpy arrays\n",
        "known_image1=face_recognition.load_image_file(\"obamat.jpg\")\n",
        "known_image2=face_recognition.load_image_file(\"Xi.jpg\")\n",
        "known_image3=face_recognition.load_image_file(\"imran.jpg\")\n",
        "unknown_image = face_recognition.load_image_file(\"groupt.jpg\")\n",
        "\n",
        "# Get the face encodings for each face in each image file\n",
        "# Since there could be more than one face in each image, it returns a list of encodings.\n",
        "# But since I know each image only has one face, I only care about the first encoding in each image, so I grab index 0.\n",
        "try:\n",
        "    face_encoding1 = face_recognition.face_encodings(known_image1,model='cnn')[0]\n",
        "    face_encoding2 = face_recognition.face_encodings(known_image2,model='cnn')[0]\n",
        "    face_encoding3 = face_recognition.face_encodings(known_image3,model='cnn')[0]\n",
        "    unknown_face_encoding = face_recognition.face_encodings(unknown_image,model='cnn')\n",
        "except IndexError:\n",
        "    print(\"I wasn't able to locate any faces in at least one of the images. Check the image files. Aborting...\")\n",
        "    quit()\n",
        "\n",
        "known_faces = [\n",
        "    face_encoding1,\n",
        "    face_encoding2,\n",
        "    face_encoding3\n",
        "]\n",
        "known_names = [\n",
        "    'Obama',\n",
        "    'Xi',\n",
        "    'Imran'\n",
        "]\n",
        "\n",
        "\n",
        "l=[0 for i in range(len(known_faces))]\n",
        "for i in range(len(unknown_face_encoding)):\n",
        "  result=face_recognition.compare_faces(known_faces, unknown_face_encoding[i],tolerance=0.4)\n",
        "  if(True in result):\n",
        "    l[result.index(True)]=1\n",
        "for i in range(len(l)):\n",
        "  if(l[i]==1):\n",
        "    print(known_names[i], \" is Present\")\n",
        "  else:\n",
        "    print(known_names[i], \" is Absent\")"
      ],
      "metadata": {
        "colab": {
          "base_uri": "https://localhost:8080/"
        },
        "id": "Md4JF94j837D",
        "outputId": "d10d61f8-38d3-42c0-c894-9a09760e53eb"
      },
      "execution_count": 4,
      "outputs": [
        {
          "output_type": "stream",
          "name": "stdout",
          "text": [
            "Obama  is Present\n",
            "Xi  is Present\n",
            "Imran  is Absent\n"
          ]
        }
      ]
    }
  ]
}
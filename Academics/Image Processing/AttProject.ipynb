{
  "nbformat": 4,
  "nbformat_minor": 0,
  "metadata": {
    "colab": {
      "provenance": [],
      "authorship_tag": "ABX9TyNlwK9THeOeS2yscH2ocGct",
      "include_colab_link": true
    },
    "kernelspec": {
      "name": "python3",
      "display_name": "Python 3"
    },
    "language_info": {
      "name": "python"
    },
    "gpuClass": "standard",
    "accelerator": "GPU"
  },
  "cells": [
    {
      "cell_type": "markdown",
      "metadata": {
        "id": "view-in-github",
        "colab_type": "text"
      },
      "source": [
        "<a href=\"https://colab.research.google.com/github/TXH2020/MainRepo/blob/main/Academics/Image%20Processing/AttProject.ipynb\" target=\"_parent\"><img src=\"https://colab.research.google.com/assets/colab-badge.svg\" alt=\"Open In Colab\"/></a>"
      ]
    },
    {
      "cell_type": "code",
      "source": [
        "!pip install --upgrade -q gspread\n",
        "!pip install face_recognition\n",
        "!pip install --upgrade --no-cache-dir gdown"
      ],
      "metadata": {
        "id": "4--7SyQd9tiy",
        "colab": {
          "base_uri": "https://localhost:8080/"
        },
        "outputId": "83522bde-e25e-41a6-f3b1-6a02906a8297"
      },
      "execution_count": 41,
      "outputs": [
        {
          "output_type": "stream",
          "name": "stdout",
          "text": [
            "Looking in indexes: https://pypi.org/simple, https://us-python.pkg.dev/colab-wheels/public/simple/\n",
            "Requirement already satisfied: face_recognition in /usr/local/lib/python3.7/dist-packages (1.3.0)\n",
            "Requirement already satisfied: numpy in /usr/local/lib/python3.7/dist-packages (from face_recognition) (1.21.6)\n",
            "Requirement already satisfied: Pillow in /usr/local/lib/python3.7/dist-packages (from face_recognition) (7.1.2)\n",
            "Requirement already satisfied: dlib>=19.7 in /usr/local/lib/python3.7/dist-packages (from face_recognition) (19.24.0)\n",
            "Requirement already satisfied: Click>=6.0 in /usr/local/lib/python3.7/dist-packages (from face_recognition) (7.1.2)\n",
            "Requirement already satisfied: face-recognition-models>=0.3.0 in /usr/local/lib/python3.7/dist-packages (from face_recognition) (0.3.0)\n",
            "Looking in indexes: https://pypi.org/simple, https://us-python.pkg.dev/colab-wheels/public/simple/\n",
            "Requirement already satisfied: gdown in /usr/local/lib/python3.7/dist-packages (4.5.3)\n",
            "Requirement already satisfied: tqdm in /usr/local/lib/python3.7/dist-packages (from gdown) (4.64.1)\n",
            "Requirement already satisfied: filelock in /usr/local/lib/python3.7/dist-packages (from gdown) (3.8.0)\n",
            "Requirement already satisfied: beautifulsoup4 in /usr/local/lib/python3.7/dist-packages (from gdown) (4.6.3)\n",
            "Requirement already satisfied: six in /usr/local/lib/python3.7/dist-packages (from gdown) (1.15.0)\n",
            "Requirement already satisfied: requests[socks] in /usr/local/lib/python3.7/dist-packages (from gdown) (2.23.0)\n",
            "Requirement already satisfied: urllib3!=1.25.0,!=1.25.1,<1.26,>=1.21.1 in /usr/local/lib/python3.7/dist-packages (from requests[socks]->gdown) (1.24.3)\n",
            "Requirement already satisfied: certifi>=2017.4.17 in /usr/local/lib/python3.7/dist-packages (from requests[socks]->gdown) (2022.9.24)\n",
            "Requirement already satisfied: idna<3,>=2.5 in /usr/local/lib/python3.7/dist-packages (from requests[socks]->gdown) (2.10)\n",
            "Requirement already satisfied: chardet<4,>=3.0.2 in /usr/local/lib/python3.7/dist-packages (from requests[socks]->gdown) (3.0.4)\n",
            "Requirement already satisfied: PySocks!=1.5.7,>=1.5.6 in /usr/local/lib/python3.7/dist-packages (from requests[socks]->gdown) (1.7.1)\n"
          ]
        }
      ]
    },
    {
      "cell_type": "code",
      "source": [
        "import numpy as np\n",
        "import gspread\n",
        "import pandas as pd\n",
        "from google.colab import auth\n",
        "from google.colab import drive\n",
        "from google.auth import default\n",
        "import pickle\n",
        "import os\n",
        "import gdown\n",
        "\n",
        "auth.authenticate_user()\n",
        "creds, _ = default()\n",
        "gc = gspread.authorize(creds)\n",
        "worksheet_name='Database Of Face Photos (Responses)'\n",
        "worksheet = gc.open(worksheet_name).sheet1\n",
        "rows = worksheet.get_all_values()\n",
        "df=pd.DataFrame.from_records(rows,columns=rows[0],nrows=1)\n",
        "df1=df.drop(0)\n",
        "df1.reset_index\n",
        "df1.set_index(np.arange(0,len(rows)-1),inplace=True)\n",
        "drive.mount('/content/drive')"
      ],
      "metadata": {
        "id": "fTdEfZwXa022",
        "colab": {
          "base_uri": "https://localhost:8080/"
        },
        "outputId": "b34faa1c-5cec-422d-b958-d0b8905c938a"
      },
      "execution_count": 42,
      "outputs": [
        {
          "output_type": "stream",
          "name": "stdout",
          "text": [
            "Drive already mounted at /content/drive; to attempt to forcibly remount, call drive.mount(\"/content/drive\", force_remount=True).\n"
          ]
        }
      ]
    },
    {
      "cell_type": "code",
      "source": [
        "import face_recognition\n",
        "from PIL import Image\n",
        "# Load the jpg files into numpy arrays\n",
        "def encoding(df,face_encoding):\n",
        "  known_image=[0 for i in range(len(face_encoding)+df.shape[0])]\n",
        "  for i in range(len(face_encoding),len(face_encoding)+df.shape[0]):\n",
        "    print(df['NAME'][i]+\".jpg\")\n",
        "    known_image[i]=face_recognition.load_image_file(df['NAME'][i]+\".jpg\")\n",
        "\n",
        "# Get the face encodings for each face in each image file\n",
        "# Since there could be more than one face in each image, it returns a list of encodings.\n",
        "# But since I know each image only has one face, I only care about the first encoding in each image, so I grab index 0.\n",
        "  for i in range(len(face_encoding),len(face_encoding)+df.shape[0]):\n",
        "    try:\n",
        "      print(\"Extracting face encoding for photo:\",i)\n",
        "      face_encoding.append(face_recognition.face_encodings(known_image[i],model='cnn')[0])\n",
        "  #unknown_face_encoding = face_recognition.face_encodings(unknown_image,model='cnn')\n",
        "    except IndexError:\n",
        "      im1=Image.open(df['NAME'][i]+\".jpg\")\n",
        "      im2=im1.copy().rotate(270)\n",
        "      im2.save('check.jpg')\n",
        "      error_image=face_recognition.load_image_file(\"check.jpg\")\n",
        "      try:\n",
        "        face_encoding.append(face_recognition.face_encodings(error_image,model='cnn')[0])\n",
        "      except:\n",
        "        im1=Image.open('check.jpg')\n",
        "        im2=im1.copy().rotate(180)\n",
        "        im2.save('check1.jpg')\n",
        "        error_image1=face_recognition.load_image_file(\"check1.jpg\")\n",
        "        face_encoding.append(face_recognition.face_encodings(error_image1,model='cnn')[0])\n",
        "  store_data(face_encoding)\n"
      ],
      "metadata": {
        "id": "vvGlx_Q8pj8A"
      },
      "execution_count": 43,
      "outputs": []
    },
    {
      "cell_type": "code",
      "source": [
        "def download_photos(df,l1):\n",
        " for i in range(len(l1),len(l1)+df.shape[0]):\n",
        "  print(\"Downloading photo:\",i)\n",
        "  a=df['Your Photo'][i]\n",
        "  file_id=a[a.find('=')+1:]\n",
        "  url=\"https://drive.google.com/uc?id={}\".format(file_id)\n",
        "  gdown.download(url, df['NAME'][i]+\".jpg\", quiet=True)\n",
        " encoding(df,l1)"
      ],
      "metadata": {
        "id": "X22zgijRDgbb"
      },
      "execution_count": 44,
      "outputs": []
    },
    {
      "cell_type": "code",
      "source": [
        "def store_data(face_encoding):\n",
        "  %cd drive/MyDrive\n",
        "  with open(worksheet_name+'.pkl','wb') as p:\n",
        "    pickle.dump(face_encoding,p)\n",
        "  %cd /content"
      ],
      "metadata": {
        "id": "7mxmizuRXqXM"
      },
      "execution_count": 45,
      "outputs": []
    },
    {
      "cell_type": "code",
      "source": [
        "if(os.path.isfile('drive/MyDrive/'+worksheet_name+'.pkl')==False):\n",
        "  download_photos(df1,[])\n",
        "\n",
        "%cd drive/MyDrive\n",
        "with open(worksheet_name+'.pkl','rb') as p:\n",
        "    face_encoding=pickle.load(p)\n",
        "%cd /content\n",
        "\n",
        "if(len(face_encoding)<df1.shape[0]):\n",
        "  download_photos(df1.iloc[len(face_encoding):],face_encoding)"
      ],
      "metadata": {
        "id": "TfHnYW4HCml7",
        "colab": {
          "base_uri": "https://localhost:8080/"
        },
        "outputId": "71bfd191-cead-4767-a5f9-1a0443624790"
      },
      "execution_count": 46,
      "outputs": [
        {
          "output_type": "stream",
          "name": "stdout",
          "text": [
            "/content/drive/MyDrive\n",
            "/content\n"
          ]
        }
      ]
    },
    {
      "cell_type": "code",
      "source": [
        "ui=face_recognition.load_image_file('drive/MyDrive/group.jpg')\n",
        "unknown_face_encoding=face_recognition.face_encodings(ui,model='cnn')"
      ],
      "metadata": {
        "id": "cPpab1tG97iM"
      },
      "execution_count": 47,
      "outputs": []
    },
    {
      "cell_type": "code",
      "source": [
        "d={}\n",
        "l1=[0 for i in range(len(face_encoding))]\n",
        "for i in range(len(unknown_face_encoding)):\n",
        "  result=face_recognition.face_distance(face_encoding, unknown_face_encoding[i])\n",
        "  val=min(result)\n",
        "  if(val<0.6):\n",
        "    place=list(result).index(val)\n",
        "    if(l1[place]!=1):\n",
        "          d[place]=[val,i]\n",
        "          l1[place]=1\n",
        "    else:\n",
        "      if(val<d[place][0]):\n",
        "        fem=face_encoding.copy()\n",
        "        fem.pop(place)\n",
        "        im=d[place][1]\n",
        "        resultm=face_recognition.face_distance(fem, unknown_face_encoding[im])\n",
        "        valm=min(resultm)\n",
        "        if(valm<0.6):\n",
        "          placem=list(resultm).index(valm)\n",
        "          if(l1[placem]!=1):\n",
        "            d[place]=[valm,im]\n",
        "            l1[place]=1\n",
        "\n",
        "for i in range(len(l1)):\n",
        "  if(l1[i]==1):\n",
        "    print(df1['NAME'][i], \" is Present\")\n",
        "  else:\n",
        "    print(df1['NAME'][i], \" is Absent\")"
      ],
      "metadata": {
        "id": "YH5fdb8OnY7f",
        "colab": {
          "base_uri": "https://localhost:8080/"
        },
        "outputId": "1da7bb7f-9787-47db-93af-6469105e5b4b"
      },
      "execution_count": 48,
      "outputs": [
        {
          "output_type": "stream",
          "name": "stdout",
          "text": [
            "ARNAV A RAJESH   is Present\n",
            "Vinay B Sahani   is Absent\n",
            "MADHUMITA   is Present\n",
            "Swastik Puri  is Present\n",
            "Tejas Hegde   is Present\n",
            "Sanskar R Gondkar  is Present\n",
            "ARKODEEP KOLEY  is Present\n",
            "Chakradhar  is Present\n",
            "ANKESH MOHAN NAIK   is Absent\n",
            "Kushal R   is Present\n",
            "Ninaad P S  is Absent\n",
            "GANESH SHEKHAR NAIK  is Present\n",
            "SUBHAJJI SUHAS   is Present\n",
            "Shiya Singh  is Absent\n",
            "SKANDA S KUMAR   is Present\n",
            "Bharath M B  is Present\n",
            "Abhinav S  is Absent\n",
            "Manas Kulshrestha  is Absent\n",
            "SHAWN DANIEL RODRIGUES  is Absent\n",
            "R Jayanth Jadhav  is Present\n",
            "Supreeth KG  is Present\n"
          ]
        }
      ]
    }
  ]
}
{
  "nbformat": 4,
  "nbformat_minor": 0,
  "metadata": {
    "colab": {
      "provenance": [],
      "include_colab_link": true
    },
    "kernelspec": {
      "name": "python3",
      "display_name": "Python 3"
    },
    "language_info": {
      "name": "python"
    },
    "gpuClass": "standard",
    "accelerator": "GPU"
  },
  "cells": [
    {
      "cell_type": "markdown",
      "metadata": {
        "id": "view-in-github",
        "colab_type": "text"
      },
      "source": [
        "<a href=\"https://colab.research.google.com/github/TXH2020/MainRepo/blob/main/Academics/Image%20Processing/Attendance_Project.ipynb\" target=\"_parent\"><img src=\"https://colab.research.google.com/assets/colab-badge.svg\" alt=\"Open In Colab\"/></a>"
      ]
    },
    {
      "cell_type": "markdown",
      "source": [
        "#Very Important!!\n",
        "##**1. Please set the runtime to GPU. To do this goto Runtime-->Change Runtime Type-->GPU. Also execute the last cell of this notebook without fail to preserve GPU for future sessions.**\n",
        "##**2. At the beginning of the program, two requests will be presented to you to  access your drive for accessing the concerned spreadsheet(assuming it is in your google drive) and mounting the google drive respectively. Please approve them for the successful completion of the program.**\n",
        "\n",
        "\\\n",
        "\n",
        "\n",
        "##Note: When you run the notebook for the first time, it may take a lot of time to execute. This is because the program retrieves images and extracts face encoding. However, the face encodings are then stored in drive so that the extraction process doesnt repeat and future sessions run quickly."
      ],
      "metadata": {
        "id": "A4cededGsN1Z"
      }
    },
    {
      "cell_type": "code",
      "source": [
        "!pip install --upgrade -q gspread\n",
        "!pip install face_recognition\n",
        "!pip install --upgrade --no-cache-dir gdown"
      ],
      "metadata": {
        "id": "4--7SyQd9tiy",
        "colab": {
          "base_uri": "https://localhost:8080/"
        },
        "outputId": "ea4812c3-1595-433a-8930-d7af68e7e9bd"
      },
      "execution_count": null,
      "outputs": [
        {
          "output_type": "stream",
          "name": "stdout",
          "text": [
            "\u001b[?25l\r\u001b[K     |████████                        | 10 kB 29.7 MB/s eta 0:00:01\r\u001b[K     |████████████████▏               | 20 kB 36.2 MB/s eta 0:00:01\r\u001b[K     |████████████████████████▎       | 30 kB 38.5 MB/s eta 0:00:01\r\u001b[K     |████████████████████████████████| 40 kB 639 kB/s \n",
            "\u001b[?25hLooking in indexes: https://pypi.org/simple, https://us-python.pkg.dev/colab-wheels/public/simple/\n",
            "Collecting face_recognition\n",
            "  Downloading face_recognition-1.3.0-py2.py3-none-any.whl (15 kB)\n",
            "Requirement already satisfied: dlib>=19.7 in /usr/local/lib/python3.7/dist-packages (from face_recognition) (19.24.0)\n",
            "Requirement already satisfied: numpy in /usr/local/lib/python3.7/dist-packages (from face_recognition) (1.21.6)\n",
            "Collecting face-recognition-models>=0.3.0\n",
            "  Downloading face_recognition_models-0.3.0.tar.gz (100.1 MB)\n",
            "\u001b[K     |████████████████████████████████| 100.1 MB 26 kB/s \n",
            "\u001b[?25hRequirement already satisfied: Click>=6.0 in /usr/local/lib/python3.7/dist-packages (from face_recognition) (7.1.2)\n",
            "Requirement already satisfied: Pillow in /usr/local/lib/python3.7/dist-packages (from face_recognition) (7.1.2)\n",
            "Building wheels for collected packages: face-recognition-models\n",
            "  Building wheel for face-recognition-models (setup.py) ... \u001b[?25l\u001b[?25hdone\n",
            "  Created wheel for face-recognition-models: filename=face_recognition_models-0.3.0-py2.py3-none-any.whl size=100566185 sha256=9fd6cadf320bf52d8a5bf47c5f5e90b8e7cd0c84eb35aa8ee4e98717143baf57\n",
            "  Stored in directory: /root/.cache/pip/wheels/d6/81/3c/884bcd5e1c120ff548d57c2ecc9ebf3281c9a6f7c0e7e7947a\n",
            "Successfully built face-recognition-models\n",
            "Installing collected packages: face-recognition-models, face-recognition\n",
            "Successfully installed face-recognition-1.3.0 face-recognition-models-0.3.0\n",
            "Looking in indexes: https://pypi.org/simple, https://us-python.pkg.dev/colab-wheels/public/simple/\n",
            "Requirement already satisfied: gdown in /usr/local/lib/python3.7/dist-packages (4.4.0)\n",
            "Collecting gdown\n",
            "  Downloading gdown-4.5.4-py3-none-any.whl (14 kB)\n",
            "Requirement already satisfied: filelock in /usr/local/lib/python3.7/dist-packages (from gdown) (3.8.0)\n",
            "Requirement already satisfied: beautifulsoup4 in /usr/local/lib/python3.7/dist-packages (from gdown) (4.6.3)\n",
            "Requirement already satisfied: tqdm in /usr/local/lib/python3.7/dist-packages (from gdown) (4.64.1)\n",
            "Requirement already satisfied: requests[socks] in /usr/local/lib/python3.7/dist-packages (from gdown) (2.23.0)\n",
            "Requirement already satisfied: six in /usr/local/lib/python3.7/dist-packages (from gdown) (1.15.0)\n",
            "Requirement already satisfied: idna<3,>=2.5 in /usr/local/lib/python3.7/dist-packages (from requests[socks]->gdown) (2.10)\n",
            "Requirement already satisfied: certifi>=2017.4.17 in /usr/local/lib/python3.7/dist-packages (from requests[socks]->gdown) (2022.9.24)\n",
            "Requirement already satisfied: urllib3!=1.25.0,!=1.25.1,<1.26,>=1.21.1 in /usr/local/lib/python3.7/dist-packages (from requests[socks]->gdown) (1.24.3)\n",
            "Requirement already satisfied: chardet<4,>=3.0.2 in /usr/local/lib/python3.7/dist-packages (from requests[socks]->gdown) (3.0.4)\n",
            "Requirement already satisfied: PySocks!=1.5.7,>=1.5.6 in /usr/local/lib/python3.7/dist-packages (from requests[socks]->gdown) (1.7.1)\n",
            "Installing collected packages: gdown\n",
            "  Attempting uninstall: gdown\n",
            "    Found existing installation: gdown 4.4.0\n",
            "    Uninstalling gdown-4.4.0:\n",
            "      Successfully uninstalled gdown-4.4.0\n",
            "Successfully installed gdown-4.5.4\n"
          ]
        }
      ]
    },
    {
      "cell_type": "code",
      "source": [
        "import numpy as np\n",
        "import gspread\n",
        "import pandas as pd\n",
        "from google.colab import auth\n",
        "from google.colab import drive\n",
        "from google.auth import default\n",
        "import pickle\n",
        "import os\n",
        "import gdown\n",
        "\n",
        "auth.authenticate_user()\n",
        "creds, _ = default()\n",
        "gc = gspread.authorize(creds)\n",
        "worksheet_name='Database Of Face Photos (Responses)'\n",
        "worksheet = gc.open(worksheet_name).sheet1\n",
        "rows = worksheet.get_all_values()\n",
        "df=pd.DataFrame.from_records(rows,columns=rows[0],nrows=1)\n",
        "df1=df.drop(0)\n",
        "df1.reset_index\n",
        "df1.set_index(np.arange(0,len(rows)-1),inplace=True)\n",
        "drive.mount('/content/drive')"
      ],
      "metadata": {
        "id": "fTdEfZwXa022",
        "colab": {
          "base_uri": "https://localhost:8080/"
        },
        "outputId": "b676705d-0ed1-4e7b-99ad-16a8b8f1062e"
      },
      "execution_count": null,
      "outputs": [
        {
          "output_type": "stream",
          "name": "stdout",
          "text": [
            "Mounted at /content/drive\n"
          ]
        }
      ]
    },
    {
      "cell_type": "code",
      "source": [
        "import face_recognition\n",
        "from PIL import Image\n",
        "# Load the jpg files into numpy arrays\n",
        "def encoding(df,face_encoding):\n",
        "  known_image=[0 for i in range(len(face_encoding)+df.shape[0])]\n",
        "  for i in range(len(face_encoding),len(face_encoding)+df.shape[0]):\n",
        "    print(df['NAME'][i]+\".jpg\")\n",
        "    known_image[i]=face_recognition.load_image_file(df['NAME'][i]+\".jpg\")\n",
        "\n",
        "# Get the face encodings for each face in each image file\n",
        "# Since there could be more than one face in each image, it returns a list of encodings.\n",
        "# But since I know each image only has one face, I only care about the first encoding in each image, so I grab index 0.\n",
        "  for i in range(len(face_encoding),len(face_encoding)+df.shape[0]):\n",
        "    try:\n",
        "      print(\"Extracting face encoding for photo:\",i)\n",
        "      face_encoding.append(face_recognition.face_encodings(known_image[i],model='cnn')[0])\n",
        "  #unknown_face_encoding = face_recognition.face_encodings(unknown_image,model='cnn')\n",
        "    except IndexError:\n",
        "      im1=Image.open(df['NAME'][i]+\".jpg\")\n",
        "      im2=im1.copy().rotate(270)\n",
        "      im2.save('check.jpg')\n",
        "      error_image=face_recognition.load_image_file(\"check.jpg\")\n",
        "      try:\n",
        "        face_encoding.append(face_recognition.face_encodings(error_image,model='cnn')[0])\n",
        "      except:\n",
        "        im1=Image.open('check.jpg')\n",
        "        im2=im1.copy().rotate(180)\n",
        "        im2.save('check1.jpg')\n",
        "        error_image1=face_recognition.load_image_file(\"check1.jpg\")\n",
        "        face_encoding.append(face_recognition.face_encodings(error_image1,model='cnn')[0])\n",
        "  store_data(face_encoding)"
      ],
      "metadata": {
        "id": "vvGlx_Q8pj8A"
      },
      "execution_count": null,
      "outputs": []
    },
    {
      "cell_type": "code",
      "source": [
        "def download_photos(df,l1):\n",
        " for i in range(len(l1),len(l1)+df.shape[0]):\n",
        "  print(\"Downloading photo:\",i)\n",
        "  a=df['Your Photo'][i]\n",
        "  file_id=a[a.find('=')+1:]\n",
        "  url=\"https://drive.google.com/uc?id={}\".format(file_id)\n",
        "  gdown.download(url, df['NAME'][i]+\".jpg\", quiet=True)\n",
        " encoding(df,l1)"
      ],
      "metadata": {
        "id": "X22zgijRDgbb"
      },
      "execution_count": null,
      "outputs": []
    },
    {
      "cell_type": "code",
      "source": [
        "def store_data(face_encoding):\n",
        "  %cd drive/MyDrive\n",
        "  with open(worksheet_name+'.pkl','wb') as p:\n",
        "    pickle.dump(face_encoding,p)\n",
        "  %cd /content"
      ],
      "metadata": {
        "id": "7mxmizuRXqXM"
      },
      "execution_count": null,
      "outputs": []
    },
    {
      "cell_type": "code",
      "source": [
        "if(os.path.isfile('drive/MyDrive/'+worksheet_name+'.pkl')==False):\n",
        "       download_photos(df1,[])\n",
        "\n",
        "%cd drive/MyDrive\n",
        "with open(worksheet_name+'.pkl','rb') as p:\n",
        "    face_encoding=pickle.load(p)\n",
        "%cd /content\n",
        "\n",
        "#This code is optional. It was designed to deal with new responses.In case you need it, uncomment the code.\n",
        "\"\"\"if(len(face_encoding)<df1.shape[0]):\n",
        "    download_photos(df1.iloc[len(face_encoding):],face_encoding)\"\"\""
      ],
      "metadata": {
        "id": "TfHnYW4HCml7",
        "colab": {
          "base_uri": "https://localhost:8080/"
        },
        "outputId": "b230cd75-9598-4e1f-e3a2-ce9951f5bcbc"
      },
      "execution_count": null,
      "outputs": [
        {
          "output_type": "stream",
          "name": "stdout",
          "text": [
            "/content/drive/MyDrive\n",
            "/content\n"
          ]
        }
      ]
    },
    {
      "cell_type": "code",
      "source": [
        "ui=face_recognition.load_image_file('drive/MyDrive/group.jpg')\n",
        "unknown_face_encoding=face_recognition.face_encodings(ui,model='cnn')"
      ],
      "metadata": {
        "id": "cPpab1tG97iM"
      },
      "execution_count": null,
      "outputs": []
    },
    {
      "cell_type": "code",
      "source": [
        "placea=[]\n",
        "d={}\n",
        "l1=[0 for i in range(len(face_encoding))]\n",
        "def find_index(fe,i):\n",
        "  if(len(fe)==0):\n",
        "    return [i]\n",
        "  result=face_recognition.face_distance(fe,unknown_face_encoding[i])\n",
        "  val=min(result)\n",
        "  if(val<0.48):\n",
        "    place=list(result).index(val)\n",
        "    return (place,val)\n",
        "  return [i]\n",
        "\n",
        "def mark(p,fe):\n",
        "  if(type(p)==list):\n",
        "    print(\"Not able to recognize unknown face \",p[0])\n",
        "    placea.append(-1)\n",
        "    return\n",
        "  elif(l1[p[0]]!=1):\n",
        "    l1[p[0]]=1\n",
        "    d[p[0]]=[p[1],i]\n",
        "    placea.append(p[0])\n",
        "    return\n",
        "  else:\n",
        "    fem=fe.copy()\n",
        "    if(d[p[0]][0]>p[1]):\n",
        "      prev=d[p[0]][1]\n",
        "      d[p[0]]=[p[1],i]\n",
        "    else:\n",
        "      prev=i\n",
        "    fem.pop(p[0])\n",
        "    o=find_index(fem,prev)\n",
        "    mark(o,fem)\n",
        "\n",
        "for i in range(len(unknown_face_encoding)):\n",
        "  p=find_index(face_encoding,i)\n",
        "  mark(p,face_encoding)\n",
        "\n",
        "for i in range(len(l1)):\n",
        "  if(l1[i]==1):\n",
        "    print(df1['NAME'][i], \" is Present\")\n",
        "  else:\n",
        "    print(df1['NAME'][i], \" is Absent\")"
      ],
      "metadata": {
        "colab": {
          "base_uri": "https://localhost:8080/"
        },
        "id": "uImQdH2L1-MZ",
        "outputId": "7e76b61a-e3ed-4e80-c547-c1cbb4a42925"
      },
      "execution_count": null,
      "outputs": [
        {
          "output_type": "stream",
          "name": "stdout",
          "text": [
            "Not able to recognize unknown face  1\n",
            "Not able to recognize unknown face  9\n",
            "Not able to recognize unknown face  11\n",
            "Not able to recognize unknown face  14\n",
            "Not able to recognize unknown face  15\n",
            "Not able to recognize unknown face  16\n",
            "ARNAV A RAJESH   is Present\n",
            "Vinay B Sahani   is Absent\n",
            "MADHUMITA   is Present\n",
            "Swastik Puri  is Present\n",
            "Tejas Hegde   is Present\n",
            "Sanskar R Gondkar  is Absent\n",
            "ARKODEEP KOLEY  is Present\n",
            "Chakradhar  is Absent\n",
            "ANKESH MOHAN NAIK   is Absent\n",
            "Kushal R   is Absent\n",
            "Ninaad P S  is Absent\n",
            "GANESH SHEKHAR NAIK  is Present\n",
            "SUBHAJJI SUHAS   is Absent\n",
            "Shiya Singh  is Absent\n",
            "SKANDA S KUMAR   is Present\n",
            "Bharath M B  is Absent\n",
            "Abhinav S  is Absent\n",
            "Manas Kulshrestha  is Absent\n",
            "SHAWN DANIEL RODRIGUES  is Absent\n",
            "R Jayanth Jadhav  is Absent\n",
            "Supreeth KG  is Present\n",
            "Pratham Jain   is Absent\n",
            "BHARGAVA M  is Absent\n",
            "Snehal Vats  is Absent\n",
            "Rohan Sriharsha  is Absent\n",
            "Aman bhatnagar  is Absent\n",
            "Amaan Adil   is Present\n",
            "Aditya Anand   is Absent\n",
            "Haarish Anandan  is Absent\n",
            "Pratham M  is Present\n",
            "dhanashekar  is Absent\n",
            "Naina Y  is Absent\n",
            "Raghvendra Goundi   is Absent\n",
            "Shivam Sharma   is Absent\n",
            "Vigya awasthi  is Absent\n",
            "Karthik Gowda K A  is Absent\n",
            "Rishi Priyadarshi  is Absent\n",
            "Hammad Feroz   is Present\n"
          ]
        }
      ]
    },
    {
      "cell_type": "markdown",
      "source": [
        "###Below cell is optional. It shows how the attendance is actually taken and is useful to cross check the attendance. Uncomment the cell to run it."
      ],
      "metadata": {
        "id": "T5DGrtvAr5um"
      }
    },
    {
      "cell_type": "code",
      "source": [
        "\"\"\"import matplotlib.pyplot as plt\n",
        "face_locations = face_recognition.face_locations(ui)\n",
        "\n",
        "print(\"found {} face(s) in class photograph.\".format(len(face_locations)))\n",
        "c=0\n",
        "for face_location in face_locations:\n",
        "\n",
        "    # Print the location of each face in this image\n",
        "    top, right, bottom, left = face_location\n",
        "\n",
        "    # You can access the actual face itself like this:\n",
        "    face_image = ui[top:bottom, left:right]\n",
        "    pil_image = Image.fromarray(face_image)\n",
        "    if(placea[c]!=-1):\n",
        "      plt.title(df1['NAME'][placea[c]])\n",
        "    else:\n",
        "      plt.title(\"Unrecognized\")\n",
        "    plt.imshow(pil_image)\n",
        "    plt.axis('off')\n",
        "    c+=1\n",
        "    plt.show()\"\"\""
      ],
      "metadata": {
        "id": "dC-xVN_Ob-PT"
      },
      "execution_count": null,
      "outputs": []
    },
    {
      "cell_type": "markdown",
      "source": [
        "##**Please execute this cell to terminate session and preserve GPU.**"
      ],
      "metadata": {
        "id": "fWWTej3yvy_F"
      }
    },
    {
      "cell_type": "code",
      "source": [
        "from google.colab import runtime\n",
        "runtime.unassign()"
      ],
      "metadata": {
        "id": "VwmnY44Bu3U-"
      },
      "execution_count": null,
      "outputs": []
    }
  ]
}
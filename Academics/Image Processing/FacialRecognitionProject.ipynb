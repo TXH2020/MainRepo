{
  "nbformat": 4,
  "nbformat_minor": 0,
  "metadata": {
    "colab": {
      "provenance": [],
      "authorship_tag": "ABX9TyNR418tt3m2iu+fJYrBkcVo",
      "include_colab_link": true
    },
    "kernelspec": {
      "name": "python3",
      "display_name": "Python 3"
    },
    "language_info": {
      "name": "python"
    },
    "gpuClass": "standard",
    "accelerator": "GPU"
  },
  "cells": [
    {
      "cell_type": "markdown",
      "metadata": {
        "id": "view-in-github",
        "colab_type": "text"
      },
      "source": [
        "<a href=\"https://colab.research.google.com/github/TXH2020/MainRepo/blob/main/Academics/Image%20Processing/FacialRecognitionProject.ipynb\" target=\"_parent\"><img src=\"https://colab.research.google.com/assets/colab-badge.svg\" alt=\"Open In Colab\"/></a>"
      ]
    },
    {
      "cell_type": "markdown",
      "source": [
        "###Let's take the attendance of a few world leaders(Xi Jingping,Obama and Imran Khan) using a group photo of the G-20 through Face Recognition."
      ],
      "metadata": {
        "id": "FkhrGV3wkSz5"
      }
    },
    {
      "cell_type": "code",
      "source": [
        "!pip install face_recognition"
      ],
      "metadata": {
        "id": "xtvdr5FH1vcb"
      },
      "execution_count": null,
      "outputs": []
    },
    {
      "cell_type": "code",
      "source": [
        "import urllib.request as ureq\n",
        "ureq.urlretrieve('https://raw.githubusercontent.com/TXH2020/MainRepo/main/Academics/Image%20Processing/images/Xi.jpg','Xi.jpg')\n",
        "ureq.urlretrieve('https://raw.githubusercontent.com/TXH2020/MainRepo/main/Academics/Image%20Processing/images/imran.jpg','imran.jpg')\n",
        "ureq.urlretrieve('https://raw.githubusercontent.com/TXH2020/MainRepo/main/Academics/Image%20Processing/images/obamat.jpg','obamat.jpg')\n",
        "ureq.urlretrieve('https://raw.githubusercontent.com/TXH2020/MainRepo/main/Academics/Image%20Processing/images/groupt.jpg','groupt.jpg')"
      ],
      "metadata": {
        "id": "13AMDrjvixQO"
      },
      "execution_count": null,
      "outputs": []
    },
    {
      "cell_type": "code",
      "source": [
        "import face_recognition\n",
        "\n",
        "# Load the jpg files into numpy arrays\n",
        "known_image1=face_recognition.load_image_file(\"obamat.jpg\")\n",
        "known_image2=face_recognition.load_image_file(\"Xi.jpg\")\n",
        "known_image3=face_recognition.load_image_file(\"imran.jpg\")\n",
        "unknown_image = face_recognition.load_image_file(\"groupt.jpg\")\n",
        "\n",
        "# Get the face encodings for each face in each image file\n",
        "# Since there could be more than one face in each image, it returns a list of encodings.\n",
        "# But since I know each image only has one face, I only care about the first encoding in each image, so I grab index 0.\n",
        "try:\n",
        "    face_encoding1 = face_recognition.face_encodings(known_image1,model='cnn')[0]\n",
        "    face_encoding2 = face_recognition.face_encodings(known_image2,model='cnn')[0]\n",
        "    face_encoding3 = face_recognition.face_encodings(known_image3,model='cnn')[0]\n",
        "    unknown_face_encoding = face_recognition.face_encodings(unknown_image,model='cnn')\n",
        "except IndexError:\n",
        "    print(\"I wasn't able to locate any faces in at least one of the images. Check the image files. Aborting...\")\n",
        "    quit()\n",
        "\n",
        "known_faces = [\n",
        "    face_encoding1,\n",
        "    face_encoding2,\n",
        "    face_encoding3\n",
        "]\n",
        "known_names = [\n",
        "    'Obama',\n",
        "    'Xi',\n",
        "    'Imran'\n",
        "]\n",
        "\n",
        "\n",
        "l=[0 for i in range(len(known_faces))]\n",
        "for i in range(len(unknown_face_encoding)):\n",
        "  result=face_recognition.compare_faces(known_faces, unknown_face_encoding[i],tolerance=0.4)\n",
        "  if(True in result):\n",
        "    l[result.index(True)]=1\n",
        "for i in range(len(l)):\n",
        "  if(l[i]==1):\n",
        "    print(known_names[i], \" is Present\")\n",
        "  else:\n",
        "    print(known_names[i], \" is Absent\")"
      ],
      "metadata": {
        "colab": {
          "base_uri": "https://localhost:8080/"
        },
        "id": "Md4JF94j837D",
        "outputId": "04ad9308-7f0c-415f-dd29-c182678f2660"
      },
      "execution_count": 3,
      "outputs": [
        {
          "output_type": "stream",
          "name": "stdout",
          "text": [
            "Obama  is Present\n",
            "Xi  is Present\n",
            "Imran  is Absent\n"
          ]
        }
      ]
    }
  ]
}
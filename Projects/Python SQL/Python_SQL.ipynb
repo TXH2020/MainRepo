{
  "nbformat": 4,
  "nbformat_minor": 0,
  "metadata": {
    "colab": {
      "provenance": [],
      "collapsed_sections": [],
      "authorship_tag": "ABX9TyOBX8GF3YKNKOuv5bQvU0Bx",
      "include_colab_link": true
    },
    "kernelspec": {
      "name": "python3",
      "display_name": "Python 3"
    },
    "language_info": {
      "name": "python"
    }
  },
  "cells": [
    {
      "cell_type": "markdown",
      "metadata": {
        "id": "view-in-github",
        "colab_type": "text"
      },
      "source": [
        "<a href=\"https://colab.research.google.com/github/TXH2020/MainRepo/blob/main/Projects/Python%20SQL/Python_SQL.ipynb\" target=\"_parent\"><img src=\"https://colab.research.google.com/assets/colab-badge.svg\" alt=\"Open In Colab\"/></a>"
      ]
    },
    {
      "cell_type": "markdown",
      "source": [
        "##Python with MYSQL:"
      ],
      "metadata": {
        "id": "BhGNZ1vWM2Sg"
      }
    },
    {
      "cell_type": "code",
      "execution_count": null,
      "metadata": {
        "id": "dmpN3pG9-7XG"
      },
      "outputs": [],
      "source": [
        "!apt-get update\n",
        "!apt install mysql-server"
      ]
    },
    {
      "cell_type": "code",
      "source": [
        "!sudo service mysql start"
      ],
      "metadata": {
        "id": "j9VGbQXc_hil"
      },
      "execution_count": null,
      "outputs": []
    },
    {
      "cell_type": "code",
      "source": [
        "!pip install mysql-connector-python"
      ],
      "metadata": {
        "id": "v581hq05BWA9"
      },
      "execution_count": null,
      "outputs": []
    },
    {
      "cell_type": "code",
      "source": [
        "#The things that I did to configure the mysql server\n",
        "#Executed the following command: !mysql -u root\n",
        "#After login typed: use mysql;\n",
        "#Then executed the below command:\n",
        "#ALTER USER 'root'@'localhost' IDENTIFIED WITH mysql_native_password BY 'jtp12345';\n",
        "#Then typed exit"
      ],
      "metadata": {
        "id": "tmYNtVURCK0G"
      },
      "execution_count": null,
      "outputs": []
    },
    {
      "cell_type": "code",
      "source": [
        "!mysql -u root"
      ],
      "metadata": {
        "id": "coqwdCWH9aND"
      },
      "execution_count": null,
      "outputs": []
    },
    {
      "cell_type": "code",
      "source": [
        "#Python MySQL\n",
        "import requests\n",
        "response=requests.get(\"https://raw.githubusercontent.com/TXH2020/MainRepo/main/Projects/Python%20SQL/example.sql\")\n",
        "with open(\"mysql.sql\",'wb') as file:\n",
        "    file.write(response.content)\n",
        "\n",
        "import mysql.connector as my\n",
        "try:\n",
        " cnx=my.connect(user=\"root\",host=\"localhost\",password=\"jtp12345\")\n",
        "except my.Error as e:\n",
        " print(e)\n",
        "else:\n",
        "    file=open('mysql.sql','r',encoding='latin-1')\n",
        "    s=file.read()\n",
        "    file.close()\n",
        "    l=s.split(';')\n",
        "    cr=cnx.cursor()\n",
        "    for i in l:\n",
        "        try:\n",
        "            cr.execute(i,multi=True)\n",
        "        except my.Error as e:\n",
        "            print(e.msg)\n",
        "    cnx.commit()\n",
        "    cnx.close()\n",
        "\n",
        "try:\n",
        "     cnx = my.connect(user=\"root\",host=\"localhost\",password=\"jtp12345\")\n",
        "except my.Error as e:\n",
        " print(e)\n",
        "else:\n",
        " cr=cnx.cursor()\n",
        " print(\"******************\")\n",
        " cr.execute(\"use python_mysql\")\n",
        " cr.execute(\"Select *from books\")    #Manipulate database\n",
        " k=0\n",
        " for i in cr:\n",
        "     k=k+1\n",
        "     print(i)\n",
        " print(\"No. of records=\", k)\n",
        " print(\"******************\")\n",
        "\n",
        " cr.execute(\"show columns from books\")\n",
        " for i in cr:\n",
        "     print(i[0])                         #Showing column names\n",
        " print(\"******************\")\n",
        "\n",
        " add_book = (\"INSERT INTO books\"\n",
        "                 \"(id, title, isbn)\"\n",
        "                 \"VALUES (%s, %s, %s)\")\n",
        " book = (86,'Hello World',\"1234567898784\")\n",
        " cr.execute(add_book,book)            #Inserting record\n",
        " cr.execute(\"select count(id) from books\")\n",
        " print(\"Number of records after inserting is=\",cr.fetchall())\n",
        " print(\"*******************\")\n",
        " cr.execute(\"delete from books where id=86\")\n",
        " cr.execute(\"select count(id) from books\")\n",
        " print(\"Number of records after deleting row with id=86 is=\", cr.fetchall())\n",
        " cnx.close()\n",
        "#Like this we can use any Mysql command in Python using mysql connector."
      ],
      "metadata": {
        "id": "IdyvgB-JBMxF"
      },
      "execution_count": null,
      "outputs": []
    },
    {
      "cell_type": "code",
      "source": [
        "!sudo service mysql stop"
      ],
      "metadata": {
        "id": "qv0NovPOBEBV",
        "colab": {
          "base_uri": "https://localhost:8080/"
        },
        "outputId": "8a710879-8a49-48b2-9baa-8a37b6216459"
      },
      "execution_count": null,
      "outputs": [
        {
          "output_type": "stream",
          "name": "stdout",
          "text": [
            " * Stopping MySQL database server mysqld\n",
            "   ...done.\n"
          ]
        }
      ]
    },
    {
      "cell_type": "markdown",
      "source": [
        "##Python with NoSQL(MongoDB)"
      ],
      "metadata": {
        "id": "ZlBKqlB_NDVf"
      }
    },
    {
      "cell_type": "code",
      "source": [
        "!sudo apt-get install mongodb"
      ],
      "metadata": {
        "id": "ljW1ic_mQHa3"
      },
      "execution_count": null,
      "outputs": []
    },
    {
      "cell_type": "code",
      "source": [
        "!sudo apt-get update"
      ],
      "metadata": {
        "id": "ex8C7ni4QWyf"
      },
      "execution_count": null,
      "outputs": []
    },
    {
      "cell_type": "code",
      "source": [
        "!sudo service mongodb start"
      ],
      "metadata": {
        "id": "8fNWfid6QjSh"
      },
      "execution_count": null,
      "outputs": []
    },
    {
      "cell_type": "code",
      "source": [
        "#Python with mongodb nosql\n",
        "import pandas as pd\n",
        "import pymongo as pm\n",
        "import numpy as np\n",
        "df = pd.read_csv (r'https://raw.githubusercontent.com/TXH2020/MainRepo/main/Projects/Python%20SQL/listings.csv')\n",
        "client = pm.MongoClient('mongodb://localhost:27017/')\n",
        "mydb=client['somedatabase']\n",
        "if 'somecollection' in mydb.list_collection_names():\n",
        "    mydb['somecollection'].drop()\n",
        "mycol=mydb['somecollection']\n",
        "for i in range(df.shape[0]):\n",
        "    r=dict(df.iloc[i])\n",
        "    try:\n",
        "        mycol.insert_one(r)\n",
        "    except:\n",
        "        # Python 2.7.10 on Windows and Pymongo are not forgiving\n",
        "        # If you have foreign data types you have to convert them\n",
        "        n = {}\n",
        "        for k, v in r.items():\n",
        "            if isinstance(v, np.int64):\n",
        "                v = int(v)\n",
        "            elif isinstance(v,np.float64):\n",
        "                v=float(v)\n",
        "            n[k]=v\n",
        "        mycol.insert_one(n)\n",
        "print(\"No of documents=\",mycol.count_documents({}))\n",
        "print(\"Document with id=2818\")\n",
        "print('---------------------------')\n",
        "doc=mycol.find({'id':2818})\n",
        "for i in doc:\n",
        "    for j in i.items():\n",
        "        print(j)\n",
        "client.close()"
      ],
      "metadata": {
        "id": "ue0Zy-rWRJrZ"
      },
      "execution_count": null,
      "outputs": []
    },
    {
      "cell_type": "code",
      "source": [
        "!sudo service mongodb stop"
      ],
      "metadata": {
        "id": "9pYLQDe-RMry"
      },
      "execution_count": null,
      "outputs": []
    },
    {
      "cell_type": "markdown",
      "source": [
        "##Apache Cassandra:"
      ],
      "metadata": {
        "id": "4TW5I_4lG_Tq"
      }
    },
    {
      "cell_type": "code",
      "source": [
        "!wget https://dlcdn.apache.org/cassandra/4.0.6/apache-cassandra-4.0.6-bin.tar.gz"
      ],
      "metadata": {
        "id": "H4JdsbuPAjv9"
      },
      "execution_count": null,
      "outputs": []
    },
    {
      "cell_type": "code",
      "source": [
        "!tar xzvf apache-cassandra-4.0.6-bin.tar.gz"
      ],
      "metadata": {
        "id": "9RjqZkfdAo-a"
      },
      "execution_count": null,
      "outputs": []
    },
    {
      "cell_type": "code",
      "source": [
        "!apache-cassandra-4.0.6/bin/cassandra -R"
      ],
      "metadata": {
        "id": "645CYF_yBx4a"
      },
      "execution_count": null,
      "outputs": []
    },
    {
      "cell_type": "code",
      "source": [
        "!pip3 install cassandra-driver"
      ],
      "metadata": {
        "id": "b17QZtoBJHS2"
      },
      "execution_count": null,
      "outputs": []
    },
    {
      "cell_type": "code",
      "source": [
        "import pandas as pd\n",
        "df=pd.read_csv(\"https://raw.githubusercontent.com/TXH2020/MainRepo/main/Projects/Python%20SQL/data.csv\",encoding=\"latin1\",header=None)\n",
        "df.columns=['id','title','isbn']\n",
        "df['isbn']=df['isbn'].apply(lambda x:str(x))\n",
        "df['title']=df['title'].apply(lambda x:x.replace(\"'\",' '))"
      ],
      "metadata": {
        "id": "X4NGZwohOj9b"
      },
      "execution_count": null,
      "outputs": []
    },
    {
      "cell_type": "code",
      "source": [
        "from cassandra.cluster import Cluster\n",
        "clstr=Cluster()\n",
        "session=clstr.connect()\n",
        "session.execute(\"\"\"create keyspace mykeyspace with replication={\n",
        "   'class': 'SimpleStrategy', 'replication_factor' : 1\n",
        "};\"\"\")\n"
      ],
      "metadata": {
        "id": "LX4LzSI1I8W2"
      },
      "execution_count": null,
      "outputs": []
    },
    {
      "cell_type": "code",
      "source": [
        "session=clstr.connect('mykeyspace')\n",
        "qry= \"\"\"\n",
        "create table data (\n",
        "   id int,\n",
        "   name text,\n",
        "   isbn text,\n",
        "   primary key(id))\"\"\"\n",
        "session.execute(qry)"
      ],
      "metadata": {
        "id": "kpnvhyp_QMib"
      },
      "execution_count": null,
      "outputs": []
    },
    {
      "cell_type": "code",
      "source": [
        "q=\"\"\"insert into data (id,name,isbn) values \"\"\"\n",
        "for i in range(df.shape[0]):\n",
        "  try: \n",
        "    session.execute(q+str(tuple(df.iloc[i])))\n",
        "  except:\n",
        "    pass"
      ],
      "metadata": {
        "id": "TQ2Urz9SR--0"
      },
      "execution_count": null,
      "outputs": []
    },
    {
      "cell_type": "code",
      "source": [
        "q1=\"select count(*) from data\"\n",
        "row=session.execute(q1)\n",
        "print(\"count = \",str(row.current_rows)[11:13])"
      ],
      "metadata": {
        "id": "CvOk1i6dWAX1"
      },
      "execution_count": null,
      "outputs": []
    },
    {
      "cell_type": "code",
      "source": [
        "q2=\"select * from data;\"\n",
        "rows=session.execute(q2)\n",
        "l=[]\n",
        "for row in rows:\n",
        "  l.append(list(row))"
      ],
      "metadata": {
        "id": "-73Ed0OCYYeM"
      },
      "execution_count": null,
      "outputs": []
    },
    {
      "cell_type": "code",
      "source": [
        "l.sort(key=lambda x:x[0])"
      ],
      "metadata": {
        "id": "8QaYsS_glxPG"
      },
      "execution_count": null,
      "outputs": []
    },
    {
      "cell_type": "code",
      "source": [
        "print(\"Result of select command\")\n",
        "for i in l:\n",
        "  print(i[0],i[1],i[2])"
      ],
      "metadata": {
        "id": "655WueFrl96o"
      },
      "execution_count": null,
      "outputs": []
    },
    {
      "cell_type": "code",
      "source": [
        "#Kill the cassandra server\n",
        "import psutil\n",
        "# Iterate over all running process\n",
        "for proc in psutil.process_iter():\n",
        "    try:\n",
        "        # Get process name & pid from process object.\n",
        "        processName = proc.name()\n",
        "        if(processName=='java'):\n",
        "          proc.kill()\n",
        "          break\n",
        "    except (psutil.NoSuchProcess, psutil.AccessDenied, psutil.ZombieProcess):\n",
        "        pass"
      ],
      "metadata": {
        "id": "qcnPjmIdGJAh"
      },
      "execution_count": null,
      "outputs": []
    },
    {
      "cell_type": "markdown",
      "source": [
        "##Python with Cloud SQL(Azure SQL DB)"
      ],
      "metadata": {
        "id": "UroJVW06RfMX"
      }
    },
    {
      "cell_type": "code",
      "source": [
        "!pip install pyodbc"
      ],
      "metadata": {
        "id": "ZaSSLM6eSTLg"
      },
      "execution_count": null,
      "outputs": []
    },
    {
      "cell_type": "code",
      "source": [
        "#Python with Azure Cloud SQL. However one must create an SQL server in Azure which isn't free.\n",
        "#Make sure that the database is created with sample data(AdventureWorksLT)\n",
        "\n",
        "import pyodbc\n",
        "server = 'tezserver.database.windows.net' #Enter your respective server name\n",
        "database = 'somedatabase'                 #Enter your respective database name\n",
        "username = 'Moto12'                       #Enter your respective usernname and password for SQL server\n",
        "password = 'Hello123*'\n",
        "driver= '{SQL Server}'\n",
        "\n",
        "with pyodbc.connect('DRIVER='+driver+';SERVER=tcp:'+server+';PORT=1433;DATABASE='+database+';UID='+username+';PWD='+ password) as conn:\n",
        "    with conn.cursor() as cursor:\n",
        "        cursor.execute(\"select * from [SalesLT].[Product]\")\n",
        "        row = cursor.fetchone()\n",
        "        while row:\n",
        "            print (str(row[0]) + \" \" + str(row[1]))\n",
        "            row = cursor.fetchone()"
      ],
      "metadata": {
        "id": "kOwpItEQSPdg"
      },
      "execution_count": null,
      "outputs": []
    }
  ]
}
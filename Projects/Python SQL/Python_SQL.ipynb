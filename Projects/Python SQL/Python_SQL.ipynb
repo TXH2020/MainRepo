{
  "nbformat": 4,
  "nbformat_minor": 0,
  "metadata": {
    "colab": {
      "provenance": [],
      "authorship_tag": "ABX9TyMtJN+aer182B4iU4m9WRqi",
      "include_colab_link": true
    },
    "kernelspec": {
      "name": "python3",
      "display_name": "Python 3"
    },
    "language_info": {
      "name": "python"
    }
  },
  "cells": [
    {
      "cell_type": "markdown",
      "metadata": {
        "id": "view-in-github",
        "colab_type": "text"
      },
      "source": [
        "<a href=\"https://colab.research.google.com/github/TXH2020/MainRepo/blob/main/Projects/Python%20SQL/Python_SQL.ipynb\" target=\"_parent\"><img src=\"https://colab.research.google.com/assets/colab-badge.svg\" alt=\"Open In Colab\"/></a>"
      ]
    },
    {
      "cell_type": "markdown",
      "source": [
        "##Python with MYSQL:"
      ],
      "metadata": {
        "id": "BhGNZ1vWM2Sg"
      }
    },
    {
      "cell_type": "code",
      "execution_count": null,
      "metadata": {
        "id": "dmpN3pG9-7XG",
        "colab": {
          "base_uri": "https://localhost:8080/"
        },
        "outputId": "44f4a0da-ec64-4806-93c0-7555770db222"
      },
      "outputs": [
        {
          "output_type": "stream",
          "name": "stdout",
          "text": [
            "\r0% [Working]\r            \rHit:1 http://archive.ubuntu.com/ubuntu focal InRelease\n",
            "\r0% [Waiting for headers] [Connecting to security.ubuntu.com] [Connected to clou\r                                                                               \rGet:2 http://archive.ubuntu.com/ubuntu focal-updates InRelease [114 kB]\n",
            "\r0% [2 InRelease 15.6 kB/114 kB 14%] [Connecting to security.ubuntu.com (185.125\r                                                                               \rGet:3 https://cloud.r-project.org/bin/linux/ubuntu focal-cran40/ InRelease [3,622 B]\n",
            "Get:4 https://developer.download.nvidia.com/compute/cuda/repos/ubuntu2004/x86_64  InRelease [1,581 B]\n",
            "Get:5 http://archive.ubuntu.com/ubuntu focal-backports InRelease [108 kB]\n",
            "Hit:6 http://ppa.launchpad.net/c2d4u.team/c2d4u4.0+/ubuntu focal InRelease\n",
            "Get:7 http://security.ubuntu.com/ubuntu focal-security InRelease [114 kB]\n",
            "Hit:8 http://ppa.launchpad.net/cran/libgit2/ubuntu focal InRelease\n",
            "Get:9 https://developer.download.nvidia.com/compute/cuda/repos/ubuntu2004/x86_64  Packages [1,083 kB]\n",
            "Hit:10 http://ppa.launchpad.net/deadsnakes/ppa/ubuntu focal InRelease\n",
            "Get:11 http://archive.ubuntu.com/ubuntu focal-updates/universe amd64 Packages [1,371 kB]\n",
            "Hit:12 http://ppa.launchpad.net/graphics-drivers/ppa/ubuntu focal InRelease\n",
            "Get:13 http://archive.ubuntu.com/ubuntu focal-updates/restricted amd64 Packages [2,677 kB]\n",
            "Get:14 http://archive.ubuntu.com/ubuntu focal-updates/multiverse amd64 Packages [32.0 kB]\n",
            "Get:15 http://archive.ubuntu.com/ubuntu focal-updates/main amd64 Packages [3,346 kB]\n",
            "Hit:16 http://ppa.launchpad.net/ubuntugis/ppa/ubuntu focal InRelease\n",
            "Get:17 http://security.ubuntu.com/ubuntu focal-security/universe amd64 Packages [1,072 kB]\n",
            "Get:18 http://security.ubuntu.com/ubuntu focal-security/restricted amd64 Packages [2,536 kB]\n",
            "Get:19 http://security.ubuntu.com/ubuntu focal-security/multiverse amd64 Packages [29.3 kB]\n",
            "Get:20 http://security.ubuntu.com/ubuntu focal-security/main amd64 Packages [2,866 kB]\n",
            "Fetched 15.4 MB in 3s (6,040 kB/s)\n",
            "Reading package lists... Done\n",
            "Reading package lists... Done\n",
            "Building dependency tree       \n",
            "Reading state information... Done\n",
            "The following additional packages will be installed:\n",
            "  libcgi-fast-perl libcgi-pm-perl libencode-locale-perl libfcgi-perl\n",
            "  libhtml-parser-perl libhtml-tagset-perl libhtml-template-perl\n",
            "  libhttp-date-perl libhttp-message-perl libio-html-perl\n",
            "  liblwp-mediatypes-perl libmecab2 liburi-perl mecab-ipadic mecab-ipadic-utf8\n",
            "  mecab-utils mysql-client-8.0 mysql-client-core-8.0 mysql-server-8.0\n",
            "  mysql-server-core-8.0\n",
            "Suggested packages:\n",
            "  libdata-dump-perl libipc-sharedcache-perl libwww-perl mailx tinyca\n",
            "The following NEW packages will be installed:\n",
            "  libcgi-fast-perl libcgi-pm-perl libencode-locale-perl libfcgi-perl\n",
            "  libhtml-parser-perl libhtml-tagset-perl libhtml-template-perl\n",
            "  libhttp-date-perl libhttp-message-perl libio-html-perl\n",
            "  liblwp-mediatypes-perl libmecab2 liburi-perl mecab-ipadic mecab-ipadic-utf8\n",
            "  mecab-utils mysql-client-8.0 mysql-client-core-8.0 mysql-server\n",
            "  mysql-server-8.0 mysql-server-core-8.0\n",
            "0 upgraded, 21 newly installed, 0 to remove and 15 not upgraded.\n",
            "Need to get 36.7 MB of archives.\n",
            "After this operation, 319 MB of additional disk space will be used.\n",
            "Get:1 http://archive.ubuntu.com/ubuntu focal-updates/main amd64 mysql-client-core-8.0 amd64 8.0.33-0ubuntu0.20.04.2 [5,173 kB]\n",
            "Get:2 http://archive.ubuntu.com/ubuntu focal-updates/main amd64 mysql-client-8.0 amd64 8.0.33-0ubuntu0.20.04.2 [22.0 kB]\n",
            "Get:3 http://archive.ubuntu.com/ubuntu focal/main amd64 libmecab2 amd64 0.996-10build1 [233 kB]\n",
            "Get:4 http://archive.ubuntu.com/ubuntu focal-updates/main amd64 mysql-server-core-8.0 amd64 8.0.33-0ubuntu0.20.04.2 [22.6 MB]\n",
            "Get:5 http://archive.ubuntu.com/ubuntu focal-updates/main amd64 mysql-server-8.0 amd64 8.0.33-0ubuntu0.20.04.2 [1,321 kB]\n",
            "Get:6 http://archive.ubuntu.com/ubuntu focal/main amd64 libhtml-tagset-perl all 3.20-4 [12.5 kB]\n",
            "Get:7 http://archive.ubuntu.com/ubuntu focal/main amd64 liburi-perl all 1.76-2 [77.5 kB]\n",
            "Get:8 http://archive.ubuntu.com/ubuntu focal/main amd64 libhtml-parser-perl amd64 3.72-5 [86.3 kB]\n",
            "Get:9 http://archive.ubuntu.com/ubuntu focal/main amd64 libcgi-pm-perl all 4.46-1 [186 kB]\n",
            "Get:10 http://archive.ubuntu.com/ubuntu focal/main amd64 libfcgi-perl amd64 0.79-1 [33.1 kB]\n",
            "Get:11 http://archive.ubuntu.com/ubuntu focal/main amd64 libcgi-fast-perl all 1:2.15-1 [10.5 kB]\n",
            "Get:12 http://archive.ubuntu.com/ubuntu focal/main amd64 libencode-locale-perl all 1.05-1 [12.3 kB]\n",
            "Get:13 http://archive.ubuntu.com/ubuntu focal/main amd64 libhtml-template-perl all 2.97-1 [59.0 kB]\n",
            "Get:14 http://archive.ubuntu.com/ubuntu focal/main amd64 libhttp-date-perl all 6.05-1 [9,920 B]\n",
            "Get:15 http://archive.ubuntu.com/ubuntu focal/main amd64 libio-html-perl all 1.001-1 [14.9 kB]\n",
            "Get:16 http://archive.ubuntu.com/ubuntu focal/main amd64 liblwp-mediatypes-perl all 6.04-1 [19.5 kB]\n",
            "Get:17 http://archive.ubuntu.com/ubuntu focal/main amd64 libhttp-message-perl all 6.22-1 [76.1 kB]\n",
            "Get:18 http://archive.ubuntu.com/ubuntu focal/main amd64 mecab-utils amd64 0.996-10build1 [4,912 B]\n",
            "Get:19 http://archive.ubuntu.com/ubuntu focal/main amd64 mecab-ipadic all 2.7.0-20070801+main-2.1 [6,714 kB]\n",
            "Get:20 http://archive.ubuntu.com/ubuntu focal/main amd64 mecab-ipadic-utf8 all 2.7.0-20070801+main-2.1 [4,380 B]\n",
            "Get:21 http://archive.ubuntu.com/ubuntu focal-updates/main amd64 mysql-server all 8.0.33-0ubuntu0.20.04.2 [9,480 B]\n",
            "Fetched 36.7 MB in 2s (23.8 MB/s)\n",
            "Preconfiguring packages ...\n",
            "Selecting previously unselected package mysql-client-core-8.0.\n",
            "(Reading database ... 123105 files and directories currently installed.)\n",
            "Preparing to unpack .../00-mysql-client-core-8.0_8.0.33-0ubuntu0.20.04.2_amd64.deb ...\n",
            "Unpacking mysql-client-core-8.0 (8.0.33-0ubuntu0.20.04.2) ...\n",
            "Selecting previously unselected package mysql-client-8.0.\n",
            "Preparing to unpack .../01-mysql-client-8.0_8.0.33-0ubuntu0.20.04.2_amd64.deb ...\n",
            "Unpacking mysql-client-8.0 (8.0.33-0ubuntu0.20.04.2) ...\n",
            "Selecting previously unselected package libmecab2:amd64.\n",
            "Preparing to unpack .../02-libmecab2_0.996-10build1_amd64.deb ...\n",
            "Unpacking libmecab2:amd64 (0.996-10build1) ...\n",
            "Selecting previously unselected package mysql-server-core-8.0.\n",
            "Preparing to unpack .../03-mysql-server-core-8.0_8.0.33-0ubuntu0.20.04.2_amd64.deb ...\n",
            "Unpacking mysql-server-core-8.0 (8.0.33-0ubuntu0.20.04.2) ...\n",
            "Selecting previously unselected package mysql-server-8.0.\n",
            "Preparing to unpack .../04-mysql-server-8.0_8.0.33-0ubuntu0.20.04.2_amd64.deb ...\n",
            "Unpacking mysql-server-8.0 (8.0.33-0ubuntu0.20.04.2) ...\n",
            "Selecting previously unselected package libhtml-tagset-perl.\n",
            "Preparing to unpack .../05-libhtml-tagset-perl_3.20-4_all.deb ...\n",
            "Unpacking libhtml-tagset-perl (3.20-4) ...\n",
            "Selecting previously unselected package liburi-perl.\n",
            "Preparing to unpack .../06-liburi-perl_1.76-2_all.deb ...\n",
            "Unpacking liburi-perl (1.76-2) ...\n",
            "Selecting previously unselected package libhtml-parser-perl.\n",
            "Preparing to unpack .../07-libhtml-parser-perl_3.72-5_amd64.deb ...\n",
            "Unpacking libhtml-parser-perl (3.72-5) ...\n",
            "Selecting previously unselected package libcgi-pm-perl.\n",
            "Preparing to unpack .../08-libcgi-pm-perl_4.46-1_all.deb ...\n",
            "Unpacking libcgi-pm-perl (4.46-1) ...\n",
            "Selecting previously unselected package libfcgi-perl.\n",
            "Preparing to unpack .../09-libfcgi-perl_0.79-1_amd64.deb ...\n",
            "Unpacking libfcgi-perl (0.79-1) ...\n",
            "Selecting previously unselected package libcgi-fast-perl.\n",
            "Preparing to unpack .../10-libcgi-fast-perl_1%3a2.15-1_all.deb ...\n",
            "Unpacking libcgi-fast-perl (1:2.15-1) ...\n",
            "Selecting previously unselected package libencode-locale-perl.\n",
            "Preparing to unpack .../11-libencode-locale-perl_1.05-1_all.deb ...\n",
            "Unpacking libencode-locale-perl (1.05-1) ...\n",
            "Selecting previously unselected package libhtml-template-perl.\n",
            "Preparing to unpack .../12-libhtml-template-perl_2.97-1_all.deb ...\n",
            "Unpacking libhtml-template-perl (2.97-1) ...\n",
            "Selecting previously unselected package libhttp-date-perl.\n",
            "Preparing to unpack .../13-libhttp-date-perl_6.05-1_all.deb ...\n",
            "Unpacking libhttp-date-perl (6.05-1) ...\n",
            "Selecting previously unselected package libio-html-perl.\n",
            "Preparing to unpack .../14-libio-html-perl_1.001-1_all.deb ...\n",
            "Unpacking libio-html-perl (1.001-1) ...\n",
            "Selecting previously unselected package liblwp-mediatypes-perl.\n",
            "Preparing to unpack .../15-liblwp-mediatypes-perl_6.04-1_all.deb ...\n",
            "Unpacking liblwp-mediatypes-perl (6.04-1) ...\n",
            "Selecting previously unselected package libhttp-message-perl.\n",
            "Preparing to unpack .../16-libhttp-message-perl_6.22-1_all.deb ...\n",
            "Unpacking libhttp-message-perl (6.22-1) ...\n",
            "Selecting previously unselected package mecab-utils.\n",
            "Preparing to unpack .../17-mecab-utils_0.996-10build1_amd64.deb ...\n",
            "Unpacking mecab-utils (0.996-10build1) ...\n",
            "Selecting previously unselected package mecab-ipadic.\n",
            "Preparing to unpack .../18-mecab-ipadic_2.7.0-20070801+main-2.1_all.deb ...\n",
            "Unpacking mecab-ipadic (2.7.0-20070801+main-2.1) ...\n",
            "Selecting previously unselected package mecab-ipadic-utf8.\n",
            "Preparing to unpack .../19-mecab-ipadic-utf8_2.7.0-20070801+main-2.1_all.deb ...\n",
            "Unpacking mecab-ipadic-utf8 (2.7.0-20070801+main-2.1) ...\n",
            "Selecting previously unselected package mysql-server.\n",
            "Preparing to unpack .../20-mysql-server_8.0.33-0ubuntu0.20.04.2_all.deb ...\n",
            "Unpacking mysql-server (8.0.33-0ubuntu0.20.04.2) ...\n",
            "Setting up libhttp-date-perl (6.05-1) ...\n",
            "Setting up libmecab2:amd64 (0.996-10build1) ...\n",
            "Setting up mysql-client-core-8.0 (8.0.33-0ubuntu0.20.04.2) ...\n",
            "Setting up libhtml-tagset-perl (3.20-4) ...\n",
            "Setting up liblwp-mediatypes-perl (6.04-1) ...\n",
            "Setting up libencode-locale-perl (1.05-1) ...\n",
            "Setting up mecab-utils (0.996-10build1) ...\n",
            "Setting up libio-html-perl (1.001-1) ...\n",
            "Setting up mysql-server-core-8.0 (8.0.33-0ubuntu0.20.04.2) ...\n",
            "Setting up mysql-client-8.0 (8.0.33-0ubuntu0.20.04.2) ...\n",
            "Setting up libfcgi-perl (0.79-1) ...\n",
            "Setting up liburi-perl (1.76-2) ...\n",
            "Setting up libhttp-message-perl (6.22-1) ...\n",
            "Setting up mysql-server-8.0 (8.0.33-0ubuntu0.20.04.2) ...\n",
            "invoke-rc.d: could not determine current runlevel\n",
            "invoke-rc.d: policy-rc.d denied execution of stop.\n",
            "update-alternatives: using /etc/mysql/mysql.cnf to provide /etc/mysql/my.cnf (my.cnf) in auto mode\n",
            "Renaming removed key_buffer and myisam-recover options (if present)\n",
            "mysqld will log errors to /var/log/mysql/error.log\n",
            "mysqld is running as pid 3977\n",
            "Created symlink /etc/systemd/system/multi-user.target.wants/mysql.service → /lib/systemd/system/mysql.service.\n",
            "invoke-rc.d: could not determine current runlevel\n",
            "invoke-rc.d: policy-rc.d denied execution of start.\n",
            "Setting up mecab-ipadic (2.7.0-20070801+main-2.1) ...\n",
            "Compiling IPA dictionary for Mecab.  This takes long time...\n",
            "reading /usr/share/mecab/dic/ipadic/unk.def ... 40\n",
            "emitting double-array: 100% |###########################################| \n",
            "/usr/share/mecab/dic/ipadic/model.def is not found. skipped.\n",
            "reading /usr/share/mecab/dic/ipadic/Interjection.csv ... 252\n",
            "reading /usr/share/mecab/dic/ipadic/Prefix.csv ... 221\n",
            "reading /usr/share/mecab/dic/ipadic/Noun.proper.csv ... 27328\n",
            "reading /usr/share/mecab/dic/ipadic/Noun.nai.csv ... 42\n",
            "reading /usr/share/mecab/dic/ipadic/Postp.csv ... 146\n",
            "reading /usr/share/mecab/dic/ipadic/Noun.number.csv ... 42\n",
            "reading /usr/share/mecab/dic/ipadic/Auxil.csv ... 199\n",
            "reading /usr/share/mecab/dic/ipadic/Noun.name.csv ... 34202\n",
            "reading /usr/share/mecab/dic/ipadic/Adnominal.csv ... 135\n",
            "reading /usr/share/mecab/dic/ipadic/Noun.demonst.csv ... 120\n",
            "reading /usr/share/mecab/dic/ipadic/Noun.others.csv ... 151\n",
            "reading /usr/share/mecab/dic/ipadic/Suffix.csv ... 1393\n",
            "reading /usr/share/mecab/dic/ipadic/Noun.csv ... 60477\n",
            "reading /usr/share/mecab/dic/ipadic/Symbol.csv ... 208\n",
            "reading /usr/share/mecab/dic/ipadic/Filler.csv ... 19\n",
            "reading /usr/share/mecab/dic/ipadic/Adj.csv ... 27210\n",
            "reading /usr/share/mecab/dic/ipadic/Conjunction.csv ... 171\n",
            "reading /usr/share/mecab/dic/ipadic/Noun.verbal.csv ... 12146\n",
            "reading /usr/share/mecab/dic/ipadic/Noun.org.csv ... 16668\n",
            "reading /usr/share/mecab/dic/ipadic/Noun.place.csv ... 72999\n",
            "reading /usr/share/mecab/dic/ipadic/Noun.adverbal.csv ... 795\n",
            "reading /usr/share/mecab/dic/ipadic/Noun.adjv.csv ... 3328\n",
            "reading /usr/share/mecab/dic/ipadic/Postp-col.csv ... 91\n",
            "reading /usr/share/mecab/dic/ipadic/Adverb.csv ... 3032\n",
            "reading /usr/share/mecab/dic/ipadic/Others.csv ... 2\n",
            "reading /usr/share/mecab/dic/ipadic/Verb.csv ... 130750\n",
            "emitting double-array: 100% |###########################################| \n",
            "reading /usr/share/mecab/dic/ipadic/matrix.def ... 1316x1316\n",
            "emitting matrix      : 100% |###########################################| \n",
            "\n",
            "done!\n",
            "update-alternatives: using /var/lib/mecab/dic/ipadic to provide /var/lib/mecab/dic/debian (mecab-dictionary) in auto mode\n",
            "Setting up mecab-ipadic-utf8 (2.7.0-20070801+main-2.1) ...\n",
            "Compiling IPA dictionary for Mecab.  This takes long time...\n",
            "reading /usr/share/mecab/dic/ipadic/unk.def ... 40\n",
            "emitting double-array: 100% |###########################################| \n",
            "/usr/share/mecab/dic/ipadic/model.def is not found. skipped.\n",
            "reading /usr/share/mecab/dic/ipadic/Interjection.csv ... 252\n",
            "reading /usr/share/mecab/dic/ipadic/Prefix.csv ... 221\n",
            "reading /usr/share/mecab/dic/ipadic/Noun.proper.csv ... 27328\n",
            "reading /usr/share/mecab/dic/ipadic/Noun.nai.csv ... 42\n",
            "reading /usr/share/mecab/dic/ipadic/Postp.csv ... 146\n",
            "reading /usr/share/mecab/dic/ipadic/Noun.number.csv ... 42\n",
            "reading /usr/share/mecab/dic/ipadic/Auxil.csv ... 199\n",
            "reading /usr/share/mecab/dic/ipadic/Noun.name.csv ... 34202\n",
            "reading /usr/share/mecab/dic/ipadic/Adnominal.csv ... 135\n",
            "reading /usr/share/mecab/dic/ipadic/Noun.demonst.csv ... 120\n",
            "reading /usr/share/mecab/dic/ipadic/Noun.others.csv ... 151\n",
            "reading /usr/share/mecab/dic/ipadic/Suffix.csv ... 1393\n",
            "reading /usr/share/mecab/dic/ipadic/Noun.csv ... 60477\n",
            "reading /usr/share/mecab/dic/ipadic/Symbol.csv ... 208\n",
            "reading /usr/share/mecab/dic/ipadic/Filler.csv ... 19\n",
            "reading /usr/share/mecab/dic/ipadic/Adj.csv ... 27210\n",
            "reading /usr/share/mecab/dic/ipadic/Conjunction.csv ... 171\n",
            "reading /usr/share/mecab/dic/ipadic/Noun.verbal.csv ... 12146\n",
            "reading /usr/share/mecab/dic/ipadic/Noun.org.csv ... 16668\n",
            "reading /usr/share/mecab/dic/ipadic/Noun.place.csv ... 72999\n",
            "reading /usr/share/mecab/dic/ipadic/Noun.adverbal.csv ... 795\n",
            "reading /usr/share/mecab/dic/ipadic/Noun.adjv.csv ... 3328\n",
            "reading /usr/share/mecab/dic/ipadic/Postp-col.csv ... 91\n",
            "reading /usr/share/mecab/dic/ipadic/Adverb.csv ... 3032\n",
            "reading /usr/share/mecab/dic/ipadic/Others.csv ... 2\n",
            "reading /usr/share/mecab/dic/ipadic/Verb.csv ... 130750\n",
            "emitting double-array: 100% |###########################################| \n",
            "reading /usr/share/mecab/dic/ipadic/matrix.def ... 1316x1316\n",
            "emitting matrix      : 100% |###########################################| \n",
            "\n",
            "done!\n",
            "update-alternatives: using /var/lib/mecab/dic/ipadic-utf8 to provide /var/lib/mecab/dic/debian (mecab-dictionary) in auto mode\n",
            "Setting up libhtml-parser-perl (3.72-5) ...\n",
            "Setting up mysql-server (8.0.33-0ubuntu0.20.04.2) ...\n",
            "Setting up libcgi-pm-perl (4.46-1) ...\n",
            "Setting up libhtml-template-perl (2.97-1) ...\n",
            "Setting up libcgi-fast-perl (1:2.15-1) ...\n",
            "Processing triggers for systemd (245.4-4ubuntu3.22) ...\n",
            "Processing triggers for man-db (2.9.1-1) ...\n",
            "Processing triggers for libc-bin (2.31-0ubuntu9.9) ...\n"
          ]
        }
      ],
      "source": [
        "!apt-get update\n",
        "!apt install mysql-server"
      ]
    },
    {
      "cell_type": "code",
      "source": [
        "!sudo service mysql start"
      ],
      "metadata": {
        "id": "j9VGbQXc_hil",
        "colab": {
          "base_uri": "https://localhost:8080/"
        },
        "outputId": "89fb8cfd-e920-44a2-cea4-7768827bc3b8"
      },
      "execution_count": null,
      "outputs": [
        {
          "output_type": "stream",
          "name": "stdout",
          "text": [
            " * Starting MySQL database server mysqld\n",
            "su: warning: cannot change directory to /nonexistent: No such file or directory\n",
            "   ...done.\n"
          ]
        }
      ]
    },
    {
      "cell_type": "code",
      "source": [
        "!pip install mysql-connector-python"
      ],
      "metadata": {
        "id": "v581hq05BWA9",
        "colab": {
          "base_uri": "https://localhost:8080/"
        },
        "outputId": "c95512fe-fb89-4f67-cd3a-e2bacc0dfff9"
      },
      "execution_count": null,
      "outputs": [
        {
          "output_type": "stream",
          "name": "stdout",
          "text": [
            "Collecting mysql-connector-python\n",
            "  Downloading mysql_connector_python-8.0.33-cp310-cp310-manylinux1_x86_64.whl (27.4 MB)\n",
            "\u001b[2K     \u001b[90m━━━━━━━━━━━━━━━━━━━━━━━━━━━━━━━━━━━━━━━━\u001b[0m \u001b[32m27.4/27.4 MB\u001b[0m \u001b[31m32.6 MB/s\u001b[0m eta \u001b[36m0:00:00\u001b[0m\n",
            "\u001b[?25hRequirement already satisfied: protobuf<=3.20.3,>=3.11.0 in /usr/local/lib/python3.10/dist-packages (from mysql-connector-python) (3.20.3)\n",
            "Installing collected packages: mysql-connector-python\n",
            "Successfully installed mysql-connector-python-8.0.33\n"
          ]
        }
      ]
    },
    {
      "cell_type": "markdown",
      "source": [
        "###To configure the mysql server\n",
        "###Run the below cell\n",
        "###After login, type: use mysql;\n",
        "###Then execute the below command:\n",
        "###ALTER USER 'root'@'localhost' IDENTIFIED WITH mysql_native_password BY 'jtp12345';\n",
        "###Then type exit"
      ],
      "metadata": {
        "id": "FVDv_eBkHwbm"
      }
    },
    {
      "cell_type": "code",
      "source": [
        "!mysql -u root"
      ],
      "metadata": {
        "id": "coqwdCWH9aND",
        "colab": {
          "base_uri": "https://localhost:8080/"
        },
        "outputId": "d6d39359-2e16-4143-c291-debaac11267f"
      },
      "execution_count": null,
      "outputs": [
        {
          "output_type": "stream",
          "name": "stdout",
          "text": [
            "Welcome to the MySQL monitor.  Commands end with ; or \\g.\n",
            "Your MySQL connection id is 10\n",
            "Server version: 8.0.33-0ubuntu0.20.04.2 (Ubuntu)\n",
            "\n",
            "Copyright (c) 2000, 2023, Oracle and/or its affiliates.\n",
            "\n",
            "Oracle is a registered trademark of Oracle Corporation and/or its\n",
            "affiliates. Other names may be trademarks of their respective\n",
            "owners.\n",
            "\n",
            "Type 'help;' or '\\h' for help. Type '\\c' to clear the current input statement.\n",
            "\n",
            "mysql> ALTER USER 'root'@'localhost' IDENTIFIED WITH mysql_native_password BY 'j \btp12345';\n",
            "Query OK, 0 rows affected (0.01 sec)\n",
            "\n",
            "mysql> exit\n",
            "Bye\n"
          ]
        }
      ]
    },
    {
      "cell_type": "code",
      "source": [
        "#Python MySQL\n",
        "import requests\n",
        "response=requests.get(\"https://raw.githubusercontent.com/TXH2020/MainRepo/main/Projects/Python%20SQL/example.sql\")\n",
        "with open(\"mysql.sql\",'wb') as file:\n",
        "    file.write(response.content)\n",
        "\n",
        "import mysql.connector as my\n",
        "try:\n",
        " cnx=my.connect(user=\"root\",host=\"localhost\",password=\"jtp12345\")\n",
        "except my.Error as e:\n",
        " print(e)\n",
        "else:\n",
        "    file=open('mysql.sql','r',encoding='latin-1')\n",
        "    s=file.read()\n",
        "    file.close()\n",
        "    l=s.split(';')\n",
        "    cr=cnx.cursor()\n",
        "    for i in l:\n",
        "        try:\n",
        "            cr.execute(i,multi=True)\n",
        "        except my.Error as e:\n",
        "            print(e.msg)\n",
        "    cnx.commit()\n",
        "    cnx.close()\n",
        "\n",
        "try:\n",
        "     cnx = my.connect(user=\"root\",host=\"localhost\",password=\"jtp12345\")\n",
        "except my.Error as e:\n",
        " print(e)\n",
        "else:\n",
        " cr=cnx.cursor()\n",
        " print(\"******************\")\n",
        " cr.execute(\"use python_mysql\")\n",
        " cr.execute(\"Select *from books\")    #Manipulate database\n",
        " k=0\n",
        " for i in cr:\n",
        "     k=k+1\n",
        "     print(i)\n",
        " print(\"No. of records=\", k)\n",
        " print(\"******************\")\n",
        "\n",
        " cr.execute(\"show columns from books\")\n",
        " for i in cr:\n",
        "     print(i[0])                         #Showing column names\n",
        " print(\"******************\")\n",
        "\n",
        " add_book = (\"INSERT INTO books\"\n",
        "                 \"(id, title, isbn)\"\n",
        "                 \"VALUES (%s, %s, %s)\")\n",
        " book = (86,'Hello World',\"1234567898784\")\n",
        " cr.execute(add_book,book)            #Inserting record\n",
        " cr.execute(\"select count(id) from books\")\n",
        " print(\"Number of records after inserting is=\",cr.fetchall())\n",
        " print(\"*******************\")\n",
        " cr.execute(\"delete from books where id=86\")\n",
        " cr.execute(\"select count(id) from books\")\n",
        " print(\"Number of records after deleting row with id=86 is=\", cr.fetchall())\n",
        " cnx.close()\n",
        "#Like this we can use any Mysql command in Python using mysql connector."
      ],
      "metadata": {
        "id": "IdyvgB-JBMxF",
        "colab": {
          "base_uri": "https://localhost:8080/"
        },
        "outputId": "25c81440-0a3d-43a7-911b-558cd64678ab"
      },
      "execution_count": null,
      "outputs": [
        {
          "output_type": "stream",
          "name": "stdout",
          "text": [
            "******************\n",
            "(1, 'Bel and the Dragon ', '123828863494')\n",
            "(2, 'Daughters of Men ', '1234404543724')\n",
            "(3, 'The Giant on the Hill ', '1236400967773')\n",
            "(4, 'Marsh Lights ', '1233673027750')\n",
            "(5, 'Mr. Wodehouse and the Wild Girl ', '1232423190947')\n",
            "(6, 'The Fairy Castle ', '1237654836443')\n",
            "(7, 'The Girl Who Walked a Long Way ', '1230211946720')\n",
            "(8, 'The Runaway ', '1238155430735')\n",
            "(9, 'The Shrubbery ', '1237366725549')\n",
            "(10, 'Tom Underground a play ', '1239633328787')\n",
            "(11, 'Anemones of the British Coast ', '1233540471995')\n",
            "(12, 'Ask to Embla poem-cycle ', '1237417184084')\n",
            "(13, 'Cassandra verse drama ', '1235260611012')\n",
            "(14, 'Chidiock Tichbourne ', '1230468662299')\n",
            "(15, 'The City of Is ', '1233136349197')\n",
            "(16, 'Cromwell verse drama ', '1239653041219')\n",
            "(17, 'Debatable Land Between This World and the Next ', '1235927658929')\n",
            "(18, 'The Fairy Melusina epic poem ', '1232341278470')\n",
            "(19, 'The Garden of Proserpina ', '1234685512892')\n",
            "(20, 'Gods Men and Heroes ', '1233369260356')\n",
            "(21, 'The Great Collector ', '1237871538785')\n",
            "(22, 'The Grecian Way of Love ', '1234003421055')\n",
            "(23, 'The Incarcerated Sorceress ', '1233804025236')\n",
            "(24, 'Last Tales ', '1231588537286')\n",
            "(25, 'Last Things ', '1239338429682')\n",
            "(26, 'Mummy Possest poem ', '1239409501196')\n",
            "(27, 'No Place Like home ', '1239416066484')\n",
            "(28, 'Pranks of Priapus ', '1231359225882')\n",
            "(29, 'Ragnarök ', '1230741986307')\n",
            "(30, 'The Shadowy Portal ', '1232294350642')\n",
            "(31, 'Jan Swammerdam poem ', '1238329678939')\n",
            "(32, \"St. Bartholomew's Eve verse drama \", '1230082140880')\n",
            "(33, 'Tales for innocents ', '1234392912372')\n",
            "(34, 'Tales Told in November ', '1234549242464')\n",
            "(35, 'Bel and the Dragon ', '1239374496485')\n",
            "(36, 'Daughters of Men ', '1235349316660')\n",
            "(37, 'The Giant on the Hill ', '1235644620578')\n",
            "(38, 'Marsh Lights ', '1235736344898')\n",
            "(39, 'Mr. Wodehouse and the Wild Girl ', '1232744187226')\n",
            "(40, 'The Fairy Castle ', '1233729213076')\n",
            "(41, 'The Girl Who Walked a Long Way ', '1237641884608')\n",
            "(42, 'The Runaway ', '1233964452155')\n",
            "(43, 'The Shrubbery ', '1231273626499')\n",
            "(44, 'Tom Underground a play ', '1238441018900')\n",
            "(45, 'In A Future Chalet School Girl: Mystery at Heron Lake ', '1231377433718')\n",
            "(46, 'In Althea Joins the Chalet School: The Secret of Castle Dancing ', '1232395135758')\n",
            "(47, 'In Carola Storms the Chalet School: The Rose Patrol in the Alps ', '1234185299775')\n",
            "(48, 'In The Chalet School Goes To It: Gipsy Jocelyn ', '1234645928899')\n",
            "(49, 'In Gay from China at the Chalet School: Indian Holiday and Nancy Meets a Nazi ', '1230275004688')\n",
            "(50, 'In Jo Returns to the Chalet School: Cecily Holds the Fort and Malvina Wins Through ', '1230839327111')\n",
            "(51, 'In Joey Goes to Oberland: Audrey Wins the Trick and Dora of the Lower Fifth ', '1237588408519')\n",
            "(52, 'In The Chalet School and the Island: The Sea Parrot ', '1236495378720')\n",
            "(53, 'In The Chalet School in Exile: Tessa in Tyrol ', '1236588981768')\n",
            "(54, 'In The Mystery at the Chalet School: The Leader of the Lost Cause ', '1231308608691')\n",
            "(55, \"In The New Mistress at the Chalet School: King's Soldier Maid and Swords Crossed \", '1230312140169')\n",
            "(56, 'In A Problem for the Chalet School: A Royalist Soldier-Maid and Werner of the Alps ', '1230967619568')\n",
            "(57, 'In Three Go to the Chalet School: Lavender Laughs in Kashmir ', '1230127072745')\n",
            "(58, 'In Tom Tackles the Chalet School: The Fugitive of the Salt Cave and The Secret House ', '1234238103911')\n",
            "(59, 'In Two Sams at the Chalet School: Swords for the King! ', '1230886230089')\n",
            "(60, 'In Maids of La Rochelle: Guernsey Folk Tales ', '1233675376783')\n",
            "(61, 'Bacon Death ', '1236766330719')\n",
            "(62, 'Breakfast First ', '1236432913317')\n",
            "(63, 'The Culinary Dostoevski ', '1234582103529')\n",
            "(64, 'The Egg Laid Twice ', '1236148226462')\n",
            "(65, 'He Kissed All Night ', '1237321964604')\n",
            "(66, 'A History of Nebraska ', '1239609581078')\n",
            "(67, 'Hombre ', '1235105625585')\n",
            "(68, \"It's the Queen of Darkness Pal \", '1237435357811')\n",
            "(69, 'Jack The Story of a Cat ', '1233766820792')\n",
            "(70, 'Leather Clothes and the History of Man ', '1236346938182')\n",
            "(71, 'Love Always Beautiful ', '1233800248087')\n",
            "(72, 'Moose ', '1232083986943')\n",
            "(73, 'My Dog ', '1236297974136')\n",
            "(74, 'My Trike ', '1237550454699')\n",
            "(75, 'The Need for Legalized Abortion ', '1238912644528')\n",
            "(76, 'The Other Side of My Hand ', '1239707352212')\n",
            "(77, 'Pancake Pretty ', '1234761413168')\n",
            "(78, \"Printer's Ink \", '1230702325223')\n",
            "(79, 'The Quick Forest ', '1236002513635')\n",
            "(80, 'Sam Sam Sam ', '1239666823646')\n",
            "(81, 'The Stereo and God ', '1231316672178')\n",
            "(82, 'UFO vs. CBS ', '1239778693754')\n",
            "(83, 'Vietnam Victory ', '1237098200581')\n",
            "No. of records= 83\n",
            "******************\n",
            "id\n",
            "title\n",
            "isbn\n",
            "******************\n",
            "Number of records after inserting is= [(84,)]\n",
            "*******************\n",
            "Number of records after deleting row with id=86 is= [(83,)]\n"
          ]
        }
      ]
    },
    {
      "cell_type": "code",
      "source": [
        "!sudo service mysql stop"
      ],
      "metadata": {
        "id": "qv0NovPOBEBV",
        "colab": {
          "base_uri": "https://localhost:8080/"
        },
        "outputId": "f32d64d4-6cee-415c-db76-818c76ec25e4"
      },
      "execution_count": null,
      "outputs": [
        {
          "output_type": "stream",
          "name": "stdout",
          "text": [
            " * Stopping MySQL database server mysqld\n",
            "   ...done.\n"
          ]
        }
      ]
    },
    {
      "cell_type": "markdown",
      "source": [
        "##Python with NoSQL(MongoDB)"
      ],
      "metadata": {
        "id": "ZlBKqlB_NDVf"
      }
    },
    {
      "cell_type": "code",
      "source": [
        "!sudo apt-get install mongodb"
      ],
      "metadata": {
        "id": "ljW1ic_mQHa3",
        "colab": {
          "base_uri": "https://localhost:8080/"
        },
        "outputId": "1d735ea2-26a6-4946-8668-f043bd6f8132"
      },
      "execution_count": null,
      "outputs": [
        {
          "output_type": "stream",
          "name": "stdout",
          "text": [
            "Reading package lists... Done\n",
            "Building dependency tree       \n",
            "Reading state information... Done\n",
            "The following additional packages will be installed:\n",
            "  libpcap0.8 libyaml-cpp0.6 mongo-tools mongodb-clients mongodb-server\n",
            "  mongodb-server-core\n",
            "The following NEW packages will be installed:\n",
            "  libpcap0.8 libyaml-cpp0.6 mongo-tools mongodb mongodb-clients mongodb-server\n",
            "  mongodb-server-core\n",
            "0 upgraded, 7 newly installed, 0 to remove and 15 not upgraded.\n",
            "Need to get 55.8 MB of archives.\n",
            "After this operation, 226 MB of additional disk space will be used.\n",
            "Get:1 http://archive.ubuntu.com/ubuntu focal/main amd64 libpcap0.8 amd64 1.9.1-3 [128 kB]\n",
            "Get:2 http://archive.ubuntu.com/ubuntu focal/main amd64 libyaml-cpp0.6 amd64 0.6.2-4ubuntu1 [124 kB]\n",
            "Get:3 http://archive.ubuntu.com/ubuntu focal/universe amd64 mongo-tools amd64 3.6.3-0ubuntu1 [12.3 MB]\n",
            "Get:4 http://archive.ubuntu.com/ubuntu focal-updates/universe amd64 mongodb-clients amd64 1:3.6.9+really3.6.8+90~g8e540c0b6d-0ubuntu5.3 [21.6 MB]\n",
            "Get:5 http://archive.ubuntu.com/ubuntu focal-updates/universe amd64 mongodb-server-core amd64 1:3.6.9+really3.6.8+90~g8e540c0b6d-0ubuntu5.3 [21.6 MB]\n",
            "Get:6 http://archive.ubuntu.com/ubuntu focal-updates/universe amd64 mongodb-server all 1:3.6.9+really3.6.8+90~g8e540c0b6d-0ubuntu5.3 [12.5 kB]\n",
            "Get:7 http://archive.ubuntu.com/ubuntu focal-updates/universe amd64 mongodb amd64 1:3.6.9+really3.6.8+90~g8e540c0b6d-0ubuntu5.3 [9,640 B]\n",
            "Fetched 55.8 MB in 3s (20.3 MB/s)\n",
            "debconf: unable to initialize frontend: Dialog\n",
            "debconf: (No usable dialog-like program is installed, so the dialog based frontend cannot be used. at /usr/share/perl5/Debconf/FrontEnd/Dialog.pm line 76, <> line 7.)\n",
            "debconf: falling back to frontend: Readline\n",
            "debconf: unable to initialize frontend: Readline\n",
            "debconf: (This frontend requires a controlling tty.)\n",
            "debconf: falling back to frontend: Teletype\n",
            "dpkg-preconfigure: unable to re-open stdin: \n",
            "Selecting previously unselected package libpcap0.8:amd64.\n",
            "(Reading database ... 123612 files and directories currently installed.)\n",
            "Preparing to unpack .../0-libpcap0.8_1.9.1-3_amd64.deb ...\n",
            "Unpacking libpcap0.8:amd64 (1.9.1-3) ...\n",
            "Selecting previously unselected package libyaml-cpp0.6:amd64.\n",
            "Preparing to unpack .../1-libyaml-cpp0.6_0.6.2-4ubuntu1_amd64.deb ...\n",
            "Unpacking libyaml-cpp0.6:amd64 (0.6.2-4ubuntu1) ...\n",
            "Selecting previously unselected package mongo-tools.\n",
            "Preparing to unpack .../2-mongo-tools_3.6.3-0ubuntu1_amd64.deb ...\n",
            "Unpacking mongo-tools (3.6.3-0ubuntu1) ...\n",
            "Selecting previously unselected package mongodb-clients.\n",
            "Preparing to unpack .../3-mongodb-clients_1%3a3.6.9+really3.6.8+90~g8e540c0b6d-0ubuntu5.3_amd64.deb ...\n",
            "Unpacking mongodb-clients (1:3.6.9+really3.6.8+90~g8e540c0b6d-0ubuntu5.3) ...\n",
            "Selecting previously unselected package mongodb-server-core.\n",
            "Preparing to unpack .../4-mongodb-server-core_1%3a3.6.9+really3.6.8+90~g8e540c0b6d-0ubuntu5.3_amd64.deb ...\n",
            "Unpacking mongodb-server-core (1:3.6.9+really3.6.8+90~g8e540c0b6d-0ubuntu5.3) ...\n",
            "Selecting previously unselected package mongodb-server.\n",
            "Preparing to unpack .../5-mongodb-server_1%3a3.6.9+really3.6.8+90~g8e540c0b6d-0ubuntu5.3_all.deb ...\n",
            "Unpacking mongodb-server (1:3.6.9+really3.6.8+90~g8e540c0b6d-0ubuntu5.3) ...\n",
            "Selecting previously unselected package mongodb.\n",
            "Preparing to unpack .../6-mongodb_1%3a3.6.9+really3.6.8+90~g8e540c0b6d-0ubuntu5.3_amd64.deb ...\n",
            "Unpacking mongodb (1:3.6.9+really3.6.8+90~g8e540c0b6d-0ubuntu5.3) ...\n",
            "Setting up libpcap0.8:amd64 (1.9.1-3) ...\n",
            "Setting up libyaml-cpp0.6:amd64 (0.6.2-4ubuntu1) ...\n",
            "Setting up mongodb-clients (1:3.6.9+really3.6.8+90~g8e540c0b6d-0ubuntu5.3) ...\n",
            "Setting up mongo-tools (3.6.3-0ubuntu1) ...\n",
            "Setting up mongodb-server-core (1:3.6.9+really3.6.8+90~g8e540c0b6d-0ubuntu5.3) ...\n",
            "Setting up mongodb-server (1:3.6.9+really3.6.8+90~g8e540c0b6d-0ubuntu5.3) ...\n",
            "invoke-rc.d: could not determine current runlevel\n",
            "invoke-rc.d: policy-rc.d denied execution of start.\n",
            "Created symlink /etc/systemd/system/multi-user.target.wants/mongodb.service → /lib/systemd/system/mongodb.service.\n",
            "Setting up mongodb (1:3.6.9+really3.6.8+90~g8e540c0b6d-0ubuntu5.3) ...\n",
            "Processing triggers for man-db (2.9.1-1) ...\n",
            "Processing triggers for libc-bin (2.31-0ubuntu9.9) ...\n",
            "Processing triggers for systemd (245.4-4ubuntu3.22) ...\n"
          ]
        }
      ]
    },
    {
      "cell_type": "code",
      "source": [
        "!sudo service mongodb start"
      ],
      "metadata": {
        "id": "8fNWfid6QjSh",
        "colab": {
          "base_uri": "https://localhost:8080/"
        },
        "outputId": "1edbf6af-60b0-4ca2-a098-6ec58ef439f5"
      },
      "execution_count": null,
      "outputs": [
        {
          "output_type": "stream",
          "name": "stdout",
          "text": [
            " * Starting database mongodb\n",
            "   ...done.\n"
          ]
        }
      ]
    },
    {
      "cell_type": "code",
      "source": [
        "!pip install pymongo"
      ],
      "metadata": {
        "id": "5qv_-rGrw1T5",
        "outputId": "91eb9072-fd43-4bb6-f97d-19274a20a000",
        "colab": {
          "base_uri": "https://localhost:8080/"
        }
      },
      "execution_count": null,
      "outputs": [
        {
          "output_type": "stream",
          "name": "stdout",
          "text": [
            "Collecting pymongo\n",
            "  Downloading pymongo-4.4.1-cp310-cp310-manylinux_2_17_x86_64.manylinux2014_x86_64.whl (603 kB)\n",
            "\u001b[?25l     \u001b[90m━━━━━━━━━━━━━━━━━━━━━━━━━━━━━━━━━━━━━━━━\u001b[0m \u001b[32m0.0/603.6 kB\u001b[0m \u001b[31m?\u001b[0m eta \u001b[36m-:--:--\u001b[0m\r\u001b[2K     \u001b[91m━━━━━━━━━━━━━━━\u001b[0m\u001b[90m╺\u001b[0m\u001b[90m━━━━━━━━━━━━━━━━━━━━━━━\u001b[0m \u001b[32m235.5/603.6 kB\u001b[0m \u001b[31m7.0 MB/s\u001b[0m eta \u001b[36m0:00:01\u001b[0m\r\u001b[2K     \u001b[90m━━━━━━━━━━━━━━━━━━━━━━━━━━━━━━━━━━━━━━━\u001b[0m \u001b[32m603.6/603.6 kB\u001b[0m \u001b[31m9.2 MB/s\u001b[0m eta \u001b[36m0:00:00\u001b[0m\n",
            "\u001b[?25hCollecting dnspython<3.0.0,>=1.16.0 (from pymongo)\n",
            "  Downloading dnspython-2.3.0-py3-none-any.whl (283 kB)\n",
            "\u001b[2K     \u001b[90m━━━━━━━━━━━━━━━━━━━━━━━━━━━━━━━━━━━━━━\u001b[0m \u001b[32m283.7/283.7 kB\u001b[0m \u001b[31m22.7 MB/s\u001b[0m eta \u001b[36m0:00:00\u001b[0m\n",
            "\u001b[?25hInstalling collected packages: dnspython, pymongo\n",
            "Successfully installed dnspython-2.3.0 pymongo-4.4.1\n"
          ]
        }
      ]
    },
    {
      "cell_type": "code",
      "source": [
        "#Python with mongodb nosql\n",
        "import pandas as pd\n",
        "import pymongo as pm\n",
        "import numpy as np\n",
        "df = pd.read_csv (r'https://raw.githubusercontent.com/TXH2020/MainRepo/main/Projects/Python%20SQL/listings.csv')\n",
        "client = pm.MongoClient('mongodb://localhost:27017/')\n",
        "mydb=client['somedatabase']\n",
        "if 'somecollection' in mydb.list_collection_names():\n",
        "    mydb['somecollection'].drop()\n",
        "mycol=mydb['somecollection']\n",
        "for i in range(df.shape[0]):\n",
        "    r=dict(df.iloc[i])\n",
        "    try:\n",
        "        mycol.insert_one(r)\n",
        "    except:\n",
        "        # Python 2.7.10 on Windows and Pymongo are not forgiving\n",
        "        # If you have foreign data types you have to convert them\n",
        "        n = {}\n",
        "        for k, v in r.items():\n",
        "            if isinstance(v, np.int64):\n",
        "                v = int(v)\n",
        "            elif isinstance(v,np.float64):\n",
        "                v=float(v)\n",
        "            n[k]=v\n",
        "        mycol.insert_one(n)\n",
        "print(\"No of documents=\",mycol.count_documents({}))\n",
        "print(\"Document with id=2818\")\n",
        "print('---------------------------')\n",
        "doc=mycol.find({'id':2818})\n",
        "for i in doc:\n",
        "    for j in i.items():\n",
        "        print(j)\n",
        "client.close()"
      ],
      "metadata": {
        "id": "ue0Zy-rWRJrZ",
        "colab": {
          "base_uri": "https://localhost:8080/"
        },
        "outputId": "d06dde0c-5538-49a3-bbcc-1806b7d1446c"
      },
      "execution_count": null,
      "outputs": [
        {
          "output_type": "stream",
          "name": "stdout",
          "text": [
            "No of documents= 6893\n",
            "Document with id=2818\n",
            "---------------------------\n",
            "('_id', ObjectId('64b0116bf12a7231743ded8c'))\n",
            "('id', 2818)\n",
            "('listing_url', 'https://www.airbnb.com/rooms/2818')\n",
            "('scrape_id', 20220907151523)\n",
            "('last_scraped', '2022-09-07')\n",
            "('source', 'city scrape')\n",
            "('name', 'Quiet Garden View Room & Super Fast WiFi')\n",
            "('description', 'Quiet Garden View Room & Super Fast WiFi<br /><br /><b>The space</b><br />I\\'m renting a bedroom (room overlooking the garden) in my apartment in Amsterdam, <br /><br />The room is located to the east of the city centre in a quiet, typical Amsterdam neighbourhood the \"Indische Buurt\". Amsterdam’s historic centre is less than 15 minutes away by bike or tram.<br /><br /><br />The features of the room are:<br /><br />- Twin beds (80 x 200 cm, down quilts and pillows) <br />- 2 pure cotton towels for each guest <br />- reading lamps<br />- bedside table<br />- wardrobe<br />- table with chairs<br />- tea and coffee making facilities<br />- mini bar<br />- alarm clock<br />- Hi-Fi system with cd player, connection for mp3 player / phone<br />- map of Amsterdam and public transport<br />- Wi-Fi Internet connection <br /><br />Extra services:<br /><br />- Bike rental<br /><br /><b>License number</b><br />0363 5F3A 5684 6750 D14D')\n",
            "('neighborhood_overview', 'Indische Buurt (\"Indies Neighborhood\") is a neighbourhood in the eastern portion of the city of Amsterdam, in the Dutch province of Noord-Holland. The name dates from the early 20th century and is derived from the fact that the neighbourhood\\'s streets are named after islands and other geographical concepts in the former Dutch colony of the Dutch East Indies. The first street was named in 1902. In 2003, there were around 23,357 inhabitants. The neighbourhood is bounded on the west by the railroad Amsterdam - Hilversum (with the Muiderpoort Station), on the east side by Flevopark, on the north side by Zeeburgerdijk and on the south side by the Ringvaart Watergraafsmeer. Indische Buurt is the oldest part of the Zeeburg district and is very ethnically diverse, and a high percentage of the population is of immigrant origin (for Zeeburg this is already high at 55%, but higher in the Indische Buurt) and there are an estimated 100 languages spoken.')\n",
            "('picture_url', 'https://a0.muscache.com/pictures/10272854/8dcca016_original.jpg')\n",
            "('host_id', 3159)\n",
            "('host_url', 'https://www.airbnb.com/users/show/3159')\n",
            "('host_name', 'Daniel')\n",
            "('host_since', '2008-09-24')\n",
            "('host_location', 'Amsterdam, Netherlands')\n",
            "('host_about', 'Upon arriving in Amsterdam, one can imagine asking oneself: Where is the fun nightlife? What are the local hot spots? \\r\\n\\r\\nHow can I experience the real life in this city? I  offer you the opportunity to act, eat and sleep like-a-local!  \\r\\n\\r\\nI provide the traveler with the opportunity to connect with the local life in Amsterdam.')\n",
            "('host_response_time', 'within an hour')\n",
            "('host_response_rate', '100%')\n",
            "('host_acceptance_rate', '100%')\n",
            "('host_is_superhost', 't')\n",
            "('host_thumbnail_url', 'https://a0.muscache.com/im/users/3159/profile_pic/1259095323/original.jpg?aki_policy=profile_small')\n",
            "('host_picture_url', 'https://a0.muscache.com/im/users/3159/profile_pic/1259095323/original.jpg?aki_policy=profile_x_medium')\n",
            "('host_neighbourhood', 'Indische Buurt')\n",
            "('host_listings_count', 1)\n",
            "('host_total_listings_count', 1)\n",
            "('host_verifications', \"['email', 'phone']\")\n",
            "('host_has_profile_pic', 't')\n",
            "('host_identity_verified', 't')\n",
            "('neighbourhood', 'Amsterdam, North Holland, Netherlands')\n",
            "('neighbourhood_cleansed', 'Oostelijk Havengebied - Indische Buurt')\n",
            "('neighbourhood_group_cleansed', nan)\n",
            "('latitude', 52.36435)\n",
            "('longitude', 4.94358)\n",
            "('property_type', 'Private room in rental unit')\n",
            "('room_type', 'Private room')\n",
            "('accommodates', 2)\n",
            "('bathrooms', nan)\n",
            "('bathrooms_text', '1.5 shared baths')\n",
            "('bedrooms', 1.0)\n",
            "('beds', 2.0)\n",
            "('amenities', '[\"Fire extinguisher\", \"Private entrance\", \"Laundromat nearby\", \"Dedicated workspace\", \"Cleaning products\", \"Mosquito net\", \"Essentials\", \"Host greets you\", \"Clothing storage: wardrobe\", \"Mini fridge\", \"PH neutral and dermatologically tested shampoo\", \"Hot water kettle\", \"Outdoor furniture\", \"Paid washer \\\\u2013 In unit\", \"Drying rack for clothing\", \"Long term stays allowed\", \"Ethernet connection\", \"Central heating\", \"First aid kit\", \"Paid parking on premises\", \"Security cameras on property\", \"Sony + Wireless Bluetooth Speaker(phone) Bluetooth sound system\", \"Smoke alarm\", \"Shared fenced garden or backyard\", \"Room-darkening shades\", \"Single level home\", \"Lock on bedroom door\", \"Hair dryer\", \"Shower gel\", \"Hangers\", \"Refrigerator\", \"Extra pillows and blankets\", \"Bed linens\", \"Iron\", \"Hot water\", \"Portable fans\", \"Carbon monoxide alarm\", \"Paid parking off premises\", \"Fast wifi \\\\u2013 52 Mbps\", \"PH neutral and dermatologically tested body soap\"]')\n",
            "('price', '$49.00')\n",
            "('minimum_nights', 3)\n",
            "('maximum_nights', 28)\n",
            "('minimum_minimum_nights', 3.0)\n",
            "('maximum_minimum_nights', 3.0)\n",
            "('minimum_maximum_nights', 1125.0)\n",
            "('maximum_maximum_nights', 1125.0)\n",
            "('minimum_nights_avg_ntm', 3.0)\n",
            "('maximum_nights_avg_ntm', 1125.0)\n",
            "('calendar_updated', nan)\n",
            "('has_availability', 't')\n",
            "('availability_30', 1)\n",
            "('availability_60', 9)\n",
            "('availability_90', 14)\n",
            "('availability_365', 14)\n",
            "('calendar_last_scraped', '2022-09-07')\n",
            "('number_of_reviews', 305)\n",
            "('number_of_reviews_ltm', 25)\n",
            "('number_of_reviews_l30d', 1)\n",
            "('first_review', '2009-03-30')\n",
            "('last_review', '2022-08-30')\n",
            "('review_scores_rating', 4.89)\n",
            "('review_scores_accuracy', 4.94)\n",
            "('review_scores_cleanliness', 5.0)\n",
            "('review_scores_checkin', 4.97)\n",
            "('review_scores_communication', 4.98)\n",
            "('review_scores_location', 4.69)\n",
            "('review_scores_value', 4.82)\n",
            "('license', '0363 5F3A 5684 6750 D14D')\n",
            "('instant_bookable', 't')\n",
            "('calculated_host_listings_count', 1)\n",
            "('calculated_host_listings_count_entire_homes', 0)\n",
            "('calculated_host_listings_count_private_rooms', 1)\n",
            "('calculated_host_listings_count_shared_rooms', 0)\n",
            "('reviews_per_month', 1.86)\n"
          ]
        }
      ]
    },
    {
      "cell_type": "code",
      "source": [
        "!sudo service mongodb stop"
      ],
      "metadata": {
        "id": "9pYLQDe-RMry",
        "colab": {
          "base_uri": "https://localhost:8080/"
        },
        "outputId": "8b7f2e87-aa68-4bbd-ffc1-559381e38614"
      },
      "execution_count": null,
      "outputs": [
        {
          "output_type": "stream",
          "name": "stdout",
          "text": [
            " * Stopping database mongodb\n",
            "   ...done.\n"
          ]
        }
      ]
    },
    {
      "cell_type": "markdown",
      "source": [
        "##Apache Cassandra:"
      ],
      "metadata": {
        "id": "4TW5I_4lG_Tq"
      }
    },
    {
      "cell_type": "code",
      "source": [
        "!wget https://dlcdn.apache.org/cassandra/4.0.10/apache-cassandra-4.0.10-bin.tar.gz"
      ],
      "metadata": {
        "id": "H4JdsbuPAjv9",
        "colab": {
          "base_uri": "https://localhost:8080/"
        },
        "outputId": "ee132c27-6482-4bc6-b5da-59d5147a28b8"
      },
      "execution_count": null,
      "outputs": [
        {
          "output_type": "stream",
          "name": "stdout",
          "text": [
            "--2023-07-13 15:01:30--  https://dlcdn.apache.org/cassandra/4.0.10/apache-cassandra-4.0.10-bin.tar.gz\n",
            "Resolving dlcdn.apache.org (dlcdn.apache.org)... 151.101.2.132, 2a04:4e42::644\n",
            "Connecting to dlcdn.apache.org (dlcdn.apache.org)|151.101.2.132|:443... connected.\n",
            "HTTP request sent, awaiting response... 200 OK\n",
            "Length: 48905667 (47M) [application/x-gzip]\n",
            "Saving to: ‘apache-cassandra-4.0.10-bin.tar.gz’\n",
            "\n",
            "apache-cassandra-4. 100%[===================>]  46.64M   170MB/s    in 0.3s    \n",
            "\n",
            "2023-07-13 15:01:30 (170 MB/s) - ‘apache-cassandra-4.0.10-bin.tar.gz’ saved [48905667/48905667]\n",
            "\n"
          ]
        }
      ]
    },
    {
      "cell_type": "code",
      "source": [
        "!tar xzvf apache-cassandra-4.0.10-bin.tar.gz"
      ],
      "metadata": {
        "id": "9RjqZkfdAo-a",
        "colab": {
          "base_uri": "https://localhost:8080/"
        },
        "outputId": "7e42da8d-7f02-445e-c902-a74f34acb0d9"
      },
      "execution_count": null,
      "outputs": [
        {
          "output_type": "stream",
          "name": "stdout",
          "text": [
            "apache-cassandra-4.0.10/bin/\n",
            "apache-cassandra-4.0.10/conf/\n",
            "apache-cassandra-4.0.10/conf/triggers/\n",
            "apache-cassandra-4.0.10/doc/\n",
            "apache-cassandra-4.0.10/doc/cql3/\n",
            "apache-cassandra-4.0.10/lib/\n",
            "apache-cassandra-4.0.10/lib/sigar-bin/\n",
            "apache-cassandra-4.0.10/pylib/\n",
            "apache-cassandra-4.0.10/pylib/cqlshlib/\n",
            "apache-cassandra-4.0.10/pylib/cqlshlib/test/\n",
            "apache-cassandra-4.0.10/pylib/cqlshlib/test/config/\n",
            "apache-cassandra-4.0.10/tools/\n",
            "apache-cassandra-4.0.10/tools/bin/\n",
            "apache-cassandra-4.0.10/tools/lib/\n",
            "apache-cassandra-4.0.10/CASSANDRA-14092.txt\n",
            "apache-cassandra-4.0.10/CHANGES.txt\n",
            "apache-cassandra-4.0.10/LICENSE.txt\n",
            "apache-cassandra-4.0.10/NEWS.txt\n",
            "apache-cassandra-4.0.10/NOTICE.txt\n",
            "apache-cassandra-4.0.10/conf/README.txt\n",
            "apache-cassandra-4.0.10/conf/cassandra-env.sh\n",
            "apache-cassandra-4.0.10/conf/cassandra-jaas.config\n",
            "apache-cassandra-4.0.10/conf/cassandra-rackdc.properties\n",
            "apache-cassandra-4.0.10/conf/cassandra-topology.properties\n",
            "apache-cassandra-4.0.10/conf/cassandra.yaml\n",
            "apache-cassandra-4.0.10/conf/commitlog_archiving.properties\n",
            "apache-cassandra-4.0.10/conf/cqlshrc.sample\n",
            "apache-cassandra-4.0.10/conf/hotspot_compiler\n",
            "apache-cassandra-4.0.10/conf/jvm-clients.options\n",
            "apache-cassandra-4.0.10/conf/jvm-server.options\n",
            "apache-cassandra-4.0.10/conf/jvm11-clients.options\n",
            "apache-cassandra-4.0.10/conf/jvm11-server.options\n",
            "apache-cassandra-4.0.10/conf/jvm8-clients.options\n",
            "apache-cassandra-4.0.10/conf/jvm8-server.options\n",
            "apache-cassandra-4.0.10/conf/logback-tools.xml\n",
            "apache-cassandra-4.0.10/conf/logback.xml\n",
            "apache-cassandra-4.0.10/conf/metrics-reporter-config-sample.yaml\n",
            "apache-cassandra-4.0.10/conf/triggers/README.txt\n",
            "apache-cassandra-4.0.10/doc/SASI.md\n",
            "apache-cassandra-4.0.10/doc/cql3/CQL.css\n",
            "apache-cassandra-4.0.10/doc/cql3/CQL.html\n",
            "apache-cassandra-4.0.10/lib/HdrHistogram-2.1.9.jar\n",
            "apache-cassandra-4.0.10/lib/ST4-4.0.8.jar\n",
            "apache-cassandra-4.0.10/lib/airline-0.8.jar\n",
            "apache-cassandra-4.0.10/lib/antlr-runtime-3.5.2.jar\n",
            "apache-cassandra-4.0.10/lib/apache-cassandra-4.0.10.jar\n",
            "apache-cassandra-4.0.10/lib/asm-7.1.jar\n",
            "apache-cassandra-4.0.10/lib/caffeine-2.5.6.jar\n",
            "apache-cassandra-4.0.10/lib/cassandra-driver-core-3.11.0-shaded.jar\n",
            "apache-cassandra-4.0.10/lib/cassandra-driver-internal-only-3.25.0.zip\n",
            "apache-cassandra-4.0.10/lib/chronicle-bytes-2.20.111.jar\n",
            "apache-cassandra-4.0.10/lib/chronicle-core-2.20.126.jar\n",
            "apache-cassandra-4.0.10/lib/chronicle-queue-5.20.123.jar\n",
            "apache-cassandra-4.0.10/lib/chronicle-threads-2.20.111.jar\n",
            "apache-cassandra-4.0.10/lib/chronicle-wire-2.20.117.jar\n",
            "apache-cassandra-4.0.10/lib/commons-cli-1.1.jar\n",
            "apache-cassandra-4.0.10/lib/commons-codec-1.9.jar\n",
            "apache-cassandra-4.0.10/lib/commons-lang3-3.11.jar\n",
            "apache-cassandra-4.0.10/lib/commons-math3-3.2.jar\n",
            "apache-cassandra-4.0.10/lib/concurrent-trees-2.4.0.jar\n",
            "apache-cassandra-4.0.10/lib/ecj-4.6.1.jar\n",
            "apache-cassandra-4.0.10/lib/futures-2.1.6-py2.py3-none-any.zip\n",
            "apache-cassandra-4.0.10/lib/geomet-0.1.0.zip\n",
            "apache-cassandra-4.0.10/lib/guava-27.0-jre.jar\n",
            "apache-cassandra-4.0.10/lib/high-scale-lib-1.0.6.jar\n",
            "apache-cassandra-4.0.10/lib/hppc-0.8.1.jar\n",
            "apache-cassandra-4.0.10/lib/j2objc-annotations-1.3.jar\n",
            "apache-cassandra-4.0.10/lib/jackson-annotations-2.13.2.jar\n",
            "apache-cassandra-4.0.10/lib/jackson-core-2.13.2.jar\n",
            "apache-cassandra-4.0.10/lib/jackson-databind-2.13.2.2.jar\n",
            "apache-cassandra-4.0.10/lib/jamm-0.3.2.jar\n",
            "apache-cassandra-4.0.10/lib/java-cup-runtime-11b-20160615.jar\n",
            "apache-cassandra-4.0.10/lib/javax.inject-1.jar\n",
            "apache-cassandra-4.0.10/lib/jbcrypt-0.4.jar\n",
            "apache-cassandra-4.0.10/lib/jcl-over-slf4j-1.7.25.jar\n",
            "apache-cassandra-4.0.10/lib/jcommander-1.30.jar\n",
            "apache-cassandra-4.0.10/lib/jctools-core-3.1.0.jar\n",
            "apache-cassandra-4.0.10/lib/jflex-1.8.2.jar\n",
            "apache-cassandra-4.0.10/lib/jna-5.6.0.jar\n",
            "apache-cassandra-4.0.10/lib/json-simple-1.1.jar\n",
            "apache-cassandra-4.0.10/lib/jvm-attach-api-1.5.jar\n",
            "apache-cassandra-4.0.10/lib/log4j-over-slf4j-1.7.25.jar\n",
            "apache-cassandra-4.0.10/lib/logback-classic-1.2.9.jar\n",
            "apache-cassandra-4.0.10/lib/logback-core-1.2.9.jar\n",
            "apache-cassandra-4.0.10/lib/lz4-java-1.8.0.jar\n",
            "apache-cassandra-4.0.10/lib/metrics-core-3.1.5.jar\n",
            "apache-cassandra-4.0.10/lib/metrics-jvm-3.1.5.jar\n",
            "apache-cassandra-4.0.10/lib/metrics-logback-3.1.5.jar\n",
            "apache-cassandra-4.0.10/lib/mxdump-0.14.jar\n",
            "apache-cassandra-4.0.10/lib/netty-all-4.1.58.Final.jar\n",
            "apache-cassandra-4.0.10/lib/netty-tcnative-boringssl-static-2.0.36.Final.jar\n",
            "apache-cassandra-4.0.10/lib/ohc-core-0.5.1.jar\n",
            "apache-cassandra-4.0.10/lib/ohc-core-j8-0.5.1.jar\n",
            "apache-cassandra-4.0.10/lib/psjava-0.1.19.jar\n",
            "apache-cassandra-4.0.10/lib/reporter-config-base-3.0.3.jar\n",
            "apache-cassandra-4.0.10/lib/reporter-config3-3.0.3.jar\n",
            "apache-cassandra-4.0.10/lib/sigar-1.6.4.jar\n",
            "apache-cassandra-4.0.10/lib/sigar-bin/libsigar-amd64-freebsd-6.so\n",
            "apache-cassandra-4.0.10/lib/sigar-bin/libsigar-amd64-linux.so\n",
            "apache-cassandra-4.0.10/lib/sigar-bin/libsigar-amd64-solaris.so\n",
            "apache-cassandra-4.0.10/lib/sigar-bin/libsigar-ia64-hpux-11.sl\n",
            "apache-cassandra-4.0.10/lib/sigar-bin/libsigar-ia64-linux.so\n",
            "apache-cassandra-4.0.10/lib/sigar-bin/libsigar-pa-hpux-11.sl\n",
            "apache-cassandra-4.0.10/lib/sigar-bin/libsigar-ppc-aix-5.so\n",
            "apache-cassandra-4.0.10/lib/sigar-bin/libsigar-ppc-linux.so\n",
            "apache-cassandra-4.0.10/lib/sigar-bin/libsigar-ppc64-aix-5.so\n",
            "apache-cassandra-4.0.10/lib/sigar-bin/libsigar-ppc64-linux.so\n",
            "apache-cassandra-4.0.10/lib/sigar-bin/libsigar-ppc64le-linux.so\n",
            "apache-cassandra-4.0.10/lib/sigar-bin/libsigar-s390x-linux.so\n",
            "apache-cassandra-4.0.10/lib/sigar-bin/libsigar-sparc-solaris.so\n",
            "apache-cassandra-4.0.10/lib/sigar-bin/libsigar-sparc64-solaris.so\n",
            "apache-cassandra-4.0.10/lib/sigar-bin/libsigar-universal-macosx.dylib\n",
            "apache-cassandra-4.0.10/lib/sigar-bin/libsigar-universal64-macosx.dylib\n",
            "apache-cassandra-4.0.10/lib/sigar-bin/libsigar-x86-freebsd-5.so\n",
            "apache-cassandra-4.0.10/lib/sigar-bin/libsigar-x86-freebsd-6.so\n",
            "apache-cassandra-4.0.10/lib/sigar-bin/libsigar-x86-linux.so\n",
            "apache-cassandra-4.0.10/lib/sigar-bin/libsigar-x86-solaris.so\n",
            "apache-cassandra-4.0.10/lib/sigar-bin/sigar-amd64-winnt.dll\n",
            "apache-cassandra-4.0.10/lib/sigar-bin/sigar-x86-winnt.dll\n",
            "apache-cassandra-4.0.10/lib/sigar-bin/sigar-x86-winnt.lib\n",
            "apache-cassandra-4.0.10/lib/six-1.12.0-py2.py3-none-any.zip\n",
            "apache-cassandra-4.0.10/lib/sjk-cli-0.14.jar\n",
            "apache-cassandra-4.0.10/lib/sjk-core-0.14.jar\n",
            "apache-cassandra-4.0.10/lib/sjk-json-0.14.jar\n",
            "apache-cassandra-4.0.10/lib/sjk-stacktrace-0.14.jar\n",
            "apache-cassandra-4.0.10/lib/slf4j-api-1.7.25.jar\n",
            "apache-cassandra-4.0.10/lib/snakeyaml-1.26.jar\n",
            "apache-cassandra-4.0.10/lib/snappy-java-1.1.2.6.jar\n",
            "apache-cassandra-4.0.10/lib/snowball-stemmer-1.3.0.581.1.jar\n",
            "apache-cassandra-4.0.10/lib/stream-2.5.2.jar\n",
            "apache-cassandra-4.0.10/lib/zstd-jni-1.5.5-1.jar\n",
            "apache-cassandra-4.0.10/pylib/Dockerfile.ubuntu.py2\n",
            "apache-cassandra-4.0.10/pylib/Dockerfile.ubuntu.py3\n",
            "apache-cassandra-4.0.10/pylib/Dockerfile.ubuntu.py37\n",
            "apache-cassandra-4.0.10/pylib/Dockerfile.ubuntu.py38\n",
            "apache-cassandra-4.0.10/pylib/README.asc\n",
            "apache-cassandra-4.0.10/pylib/cassandra-cqlsh-tests.sh\n",
            "apache-cassandra-4.0.10/pylib/cqlshlib/__init__.py\n",
            "apache-cassandra-4.0.10/pylib/cqlshlib/copyutil.py\n",
            "apache-cassandra-4.0.10/pylib/cqlshlib/cql3handling.py\n",
            "apache-cassandra-4.0.10/pylib/cqlshlib/cqlhandling.py\n",
            "apache-cassandra-4.0.10/pylib/cqlshlib/cqlshhandling.py\n",
            "apache-cassandra-4.0.10/pylib/cqlshlib/displaying.py\n",
            "apache-cassandra-4.0.10/pylib/cqlshlib/formatting.py\n",
            "apache-cassandra-4.0.10/pylib/cqlshlib/helptopics.py\n",
            "apache-cassandra-4.0.10/pylib/cqlshlib/pylexotron.py\n",
            "apache-cassandra-4.0.10/pylib/cqlshlib/saferscanner.py\n",
            "apache-cassandra-4.0.10/pylib/cqlshlib/setup.cfg\n",
            "apache-cassandra-4.0.10/pylib/cqlshlib/sslhandling.py\n",
            "apache-cassandra-4.0.10/pylib/cqlshlib/test/__init__.py\n",
            "apache-cassandra-4.0.10/pylib/cqlshlib/test/ansi_colors.py\n",
            "apache-cassandra-4.0.10/pylib/cqlshlib/test/basecase.py\n",
            "apache-cassandra-4.0.10/pylib/cqlshlib/test/cassconnect.py\n",
            "apache-cassandra-4.0.10/pylib/cqlshlib/test/config/sslhandling.config\n",
            "apache-cassandra-4.0.10/pylib/cqlshlib/test/config/sslhandling_invalid.config\n",
            "apache-cassandra-4.0.10/pylib/cqlshlib/test/run_cqlsh.py\n",
            "apache-cassandra-4.0.10/pylib/cqlshlib/test/test_constants.py\n",
            "apache-cassandra-4.0.10/pylib/cqlshlib/test/test_copyutil.py\n",
            "apache-cassandra-4.0.10/pylib/cqlshlib/test/test_cql_parsing.py\n",
            "apache-cassandra-4.0.10/pylib/cqlshlib/test/test_cqlsh_completion.py\n",
            "apache-cassandra-4.0.10/pylib/cqlshlib/test/test_cqlsh_output.py\n",
            "apache-cassandra-4.0.10/pylib/cqlshlib/test/test_keyspace_init.cql\n",
            "apache-cassandra-4.0.10/pylib/cqlshlib/test/test_sslhandling.py\n",
            "apache-cassandra-4.0.10/pylib/cqlshlib/test/test_unicode.py\n",
            "apache-cassandra-4.0.10/pylib/cqlshlib/test/winpty.py\n",
            "apache-cassandra-4.0.10/pylib/cqlshlib/tracing.py\n",
            "apache-cassandra-4.0.10/pylib/cqlshlib/util.py\n",
            "apache-cassandra-4.0.10/pylib/cqlshlib/wcwidth.py\n",
            "apache-cassandra-4.0.10/pylib/pytest.ini\n",
            "apache-cassandra-4.0.10/pylib/requirements.txt\n",
            "apache-cassandra-4.0.10/pylib/setup.py\n",
            "apache-cassandra-4.0.10/tools/cqlstress-counter-example.yaml\n",
            "apache-cassandra-4.0.10/tools/cqlstress-example.yaml\n",
            "apache-cassandra-4.0.10/tools/cqlstress-insanity-example.yaml\n",
            "apache-cassandra-4.0.10/tools/cqlstress-lwt-example.yaml\n",
            "apache-cassandra-4.0.10/tools/lib/fqltool.jar\n",
            "apache-cassandra-4.0.10/tools/lib/stress.jar\n",
            "apache-cassandra-4.0.10/bin/cassandra.in.sh\n",
            "apache-cassandra-4.0.10/tools/bin/cassandra.in.sh\n",
            "apache-cassandra-4.0.10/bin/cassandra\n",
            "apache-cassandra-4.0.10/bin/cqlsh\n",
            "apache-cassandra-4.0.10/bin/cqlsh.py\n",
            "apache-cassandra-4.0.10/bin/debug-cql\n",
            "apache-cassandra-4.0.10/bin/nodetool\n",
            "apache-cassandra-4.0.10/bin/sstableloader\n",
            "apache-cassandra-4.0.10/bin/sstablescrub\n",
            "apache-cassandra-4.0.10/bin/sstableupgrade\n",
            "apache-cassandra-4.0.10/bin/sstableutil\n",
            "apache-cassandra-4.0.10/bin/sstableverify\n",
            "apache-cassandra-4.0.10/bin/stop-server\n",
            "apache-cassandra-4.0.10/tools/bin/auditlogviewer\n",
            "apache-cassandra-4.0.10/tools/bin/cassandra-stress\n",
            "apache-cassandra-4.0.10/tools/bin/cassandra-stressd\n",
            "apache-cassandra-4.0.10/tools/bin/compaction-stress\n",
            "apache-cassandra-4.0.10/tools/bin/fqltool\n",
            "apache-cassandra-4.0.10/tools/bin/generatetokens\n",
            "apache-cassandra-4.0.10/tools/bin/jmxtool\n",
            "apache-cassandra-4.0.10/tools/bin/sstabledump\n",
            "apache-cassandra-4.0.10/tools/bin/sstableexpiredblockers\n",
            "apache-cassandra-4.0.10/tools/bin/sstablelevelreset\n",
            "apache-cassandra-4.0.10/tools/bin/sstablemetadata\n",
            "apache-cassandra-4.0.10/tools/bin/sstableofflinerelevel\n",
            "apache-cassandra-4.0.10/tools/bin/sstablerepairedset\n",
            "apache-cassandra-4.0.10/tools/bin/sstablesplit\n"
          ]
        }
      ]
    },
    {
      "cell_type": "code",
      "source": [
        "!apache-cassandra-4.0.10/bin/cassandra -R"
      ],
      "metadata": {
        "id": "645CYF_yBx4a",
        "colab": {
          "base_uri": "https://localhost:8080/"
        },
        "outputId": "3e37a8e2-b965-4bc1-dabd-47434439b298"
      },
      "execution_count": null,
      "outputs": [
        {
          "output_type": "stream",
          "name": "stdout",
          "text": [
            "OpenJDK 64-Bit Server VM warning: Option UseConcMarkSweepGC was deprecated in version 9.0 and will likely be removed in a future release.\n",
            "CompileCommand: dontinline org/apache/cassandra/db/Columns$Serializer.deserializeLargeSubset(Lorg/apache/cassandra/io/util/DataInputPlus;Lorg/apache/cassandra/db/Columns;I)Lorg/apache/cassandra/db/Columns;\n",
            "CompileCommand: dontinline org/apache/cassandra/db/Columns$Serializer.serializeLargeSubset(Ljava/util/Collection;ILorg/apache/cassandra/db/Columns;ILorg/apache/cassandra/io/util/DataOutputPlus;)V\n",
            "CompileCommand: dontinline org/apache/cassandra/db/Columns$Serializer.serializeLargeSubsetSize(Ljava/util/Collection;ILorg/apache/cassandra/db/Columns;I)I\n",
            "CompileCommand: dontinline org/apache/cassandra/db/commitlog/AbstractCommitLogSegmentManager.advanceAllocatingFrom(Lorg/apache/cassandra/db/commitlog/CommitLogSegment;)V\n",
            "CompileCommand: dontinline org/apache/cassandra/db/transform/BaseIterator.tryGetMoreContents()Z\n",
            "CompileCommand: dontinline org/apache/cassandra/db/transform/StoppingTransformation.stop()V\n",
            "CompileCommand: dontinline org/apache/cassandra/db/transform/StoppingTransformation.stopInPartition()V\n",
            "CompileCommand: dontinline org/apache/cassandra/io/util/BufferedDataOutputStreamPlus.doFlush(I)V\n",
            "CompileCommand: dontinline org/apache/cassandra/io/util/BufferedDataOutputStreamPlus.writeSlow(JI)V\n",
            "CompileCommand: dontinline org/apache/cassandra/io/util/RebufferingInputStream.readPrimitiveSlowly(I)J\n",
            "CompileCommand: exclude org/apache/cassandra/utils/JVMStabilityInspector.forceHeapSpaceOomMaybe(Ljava/lang/OutOfMemoryError;)V\n",
            "CompileCommand: inline org/apache/cassandra/db/rows/UnfilteredSerializer.serializeRowBody(Lorg/apache/cassandra/db/rows/Row;ILorg/apache/cassandra/db/rows/SerializationHelper;Lorg/apache/cassandra/io/util/DataOutputPlus;)V\n",
            "CompileCommand: inline org/apache/cassandra/io/util/Memory.checkBounds(JJ)V\n",
            "CompileCommand: inline org/apache/cassandra/io/util/SafeMemory.checkBounds(JJ)V\n",
            "CompileCommand: inline org/apache/cassandra/net/FrameDecoderWith8bHeader.decode(Ljava/util/Collection;Lorg/apache/cassandra/net/ShareableBytes;I)V\n",
            "CompileCommand: inline org/apache/cassandra/service/reads/repair/RowIteratorMergeListener.applyToPartition(ILjava/util/function/Consumer;)V\n",
            "CompileCommand: inline org/apache/cassandra/utils/AsymmetricOrdering.selectBoundary(Lorg/apache/cassandra/utils/AsymmetricOrdering/Op;II)I\n",
            "CompileCommand: inline org/apache/cassandra/utils/AsymmetricOrdering.strictnessOfLessThan(Lorg/apache/cassandra/utils/AsymmetricOrdering/Op;)I\n",
            "CompileCommand: inline org/apache/cassandra/utils/BloomFilter.indexes(Lorg/apache/cassandra/utils/IFilter/FilterKey;)[J\n",
            "CompileCommand: inline org/apache/cassandra/utils/BloomFilter.setIndexes(JJIJ[J)V\n",
            "CompileCommand: inline org/apache/cassandra/utils/ByteBufferUtil.compare(Ljava/nio/ByteBuffer;[B)I\n",
            "CompileCommand: inline org/apache/cassandra/utils/ByteBufferUtil.compare([BLjava/nio/ByteBuffer;)I\n",
            "CompileCommand: inline org/apache/cassandra/utils/ByteBufferUtil.compareUnsigned(Ljava/nio/ByteBuffer;Ljava/nio/ByteBuffer;)I\n",
            "CompileCommand: inline org/apache/cassandra/utils/FastByteOperations$UnsafeOperations.compareTo(Ljava/lang/Object;JILjava/lang/Object;JI)I\n",
            "CompileCommand: inline org/apache/cassandra/utils/FastByteOperations$UnsafeOperations.compareTo(Ljava/lang/Object;JILjava/nio/ByteBuffer;)I\n",
            "CompileCommand: inline org/apache/cassandra/utils/FastByteOperations$UnsafeOperations.compareTo(Ljava/nio/ByteBuffer;Ljava/nio/ByteBuffer;)I\n",
            "CompileCommand: inline org/apache/cassandra/utils/memory/BufferPool$LocalPool.tryGetInternal(IZ)Ljava/nio/ByteBuffer;\n",
            "CompileCommand: inline org/apache/cassandra/utils/vint/VIntCoding.encodeUnsignedVInt(JI)[B\n",
            "CompileCommand: inline org/apache/cassandra/utils/vint/VIntCoding.encodeUnsignedVInt(JI[B)V\n",
            "CompileCommand: inline org/apache/cassandra/utils/vint/VIntCoding.writeUnsignedVInt(JLjava/io/DataOutput;)V\n",
            "CompileCommand: inline org/apache/cassandra/utils/vint/VIntCoding.writeUnsignedVInt(JLjava/nio/ByteBuffer;)V\n",
            "CompileCommand: inline org/apache/cassandra/utils/vint/VIntCoding.writeVInt(JLjava/io/DataOutput;)V\n",
            "INFO  [main] 2023-07-13 15:02:07,329 YamlConfigurationLoader.java:97 - Configuration location: file:/content/apache-cassandra-4.0.10/conf/cassandra.yaml\n",
            "INFO  [main] 2023-07-13 15:02:08,642 Config.java:708 - Node configuration:[allocate_tokens_for_keyspace=null; allocate_tokens_for_local_replication_factor=3; allow_extra_insecure_udfs=false; allow_insecure_udfs=false; audit_logging_options=AuditLogOptions{enabled=false, logger='BinAuditLogger', included_keyspaces='', excluded_keyspaces='system,system_schema,system_virtual_schema', included_categories='', excluded_categories='', included_users='', excluded_users='', audit_logs_dir='apache-cassandra-4.0.10/bin/../logs/audit/', archive_command='', roll_cycle='HOURLY', block=true, max_queue_weight=268435456, max_log_size=17179869184}; authenticator=AllowAllAuthenticator; authorizer=AllowAllAuthorizer; auto_bootstrap=true; auto_optimise_full_repair_streams=false; auto_optimise_inc_repair_streams=false; auto_optimise_preview_repair_streams=false; auto_snapshot=true; autocompaction_on_startup_enabled=true; automatic_sstable_upgrade=false; back_pressure_enabled=false; back_pressure_strategy=null; batch_size_fail_threshold_in_kb=50; batch_size_warn_threshold_in_kb=5; batchlog_replay_throttle_in_kb=1024; block_for_peers_in_remote_dcs=false; block_for_peers_timeout_in_secs=10; broadcast_address=null; broadcast_rpc_address=null; buffer_pool_use_heap_if_exhausted=false; cache_load_timeout_seconds=30; cas_contention_timeout_in_ms=1000; cdc_enabled=false; cdc_free_space_check_interval_ms=250; cdc_raw_directory=null; cdc_total_space_in_mb=0; check_for_duplicate_rows_during_compaction=true; check_for_duplicate_rows_during_reads=true; client_encryption_options=<REDACTED>; cluster_name=Test Cluster; column_index_cache_size_in_kb=2; column_index_size_in_kb=64; commit_failure_policy=stop; commitlog_compression=null; commitlog_directory=null; commitlog_max_compression_buffers_in_pool=3; commitlog_periodic_queue_size=-1; commitlog_segment_size_in_mb=32; commitlog_sync=periodic; commitlog_sync_batch_window_in_ms=NaN; commitlog_sync_group_window_in_ms=NaN; commitlog_sync_period_in_ms=10000; commitlog_total_space_in_mb=null; compaction_large_partition_warning_threshold_mb=100; compaction_throughput_mb_per_sec=64; concurrent_compactors=null; concurrent_counter_writes=32; concurrent_materialized_view_builders=1; concurrent_materialized_view_writes=32; concurrent_reads=32; concurrent_replicates=null; concurrent_validations=0; concurrent_writes=32; consecutive_message_errors_threshold=1; corrupted_tombstone_strategy=disabled; counter_cache_keys_to_save=2147483647; counter_cache_save_period=7200; counter_cache_size_in_mb=null; counter_write_request_timeout_in_ms=5000; credentials_cache_max_entries=1000; credentials_update_interval_in_ms=-1; credentials_validity_in_ms=2000; cross_node_timeout=true; data_file_directories=[Ljava.lang.String;@7b64240d; diagnostic_events_enabled=false; disk_access_mode=auto; disk_failure_policy=stop; disk_optimization_estimate_percentile=0.95; disk_optimization_page_cross_chance=0.1; disk_optimization_strategy=ssd; dynamic_snitch=true; dynamic_snitch_badness_threshold=1.0; dynamic_snitch_reset_interval_in_ms=600000; dynamic_snitch_update_interval_in_ms=100; enable_drop_compact_storage=false; enable_materialized_views=false; enable_sasi_indexes=false; enable_scripted_user_defined_functions=false; enable_transient_replication=false; enable_user_defined_functions=false; enable_user_defined_functions_threads=true; endpoint_snitch=SimpleSnitch; file_cache_enabled=false; file_cache_round_up=null; file_cache_size_in_mb=null; flush_compression=fast; force_new_prepared_statement_behaviour=false; full_query_logging_options=FullQueryLoggerOptions{log_dir='', archive_command='', roll_cycle='HOURLY', block=true, max_queue_weight=268435456, max_log_size=17179869184}; gc_log_threshold_in_ms=200; gc_warn_threshold_in_ms=1000; hinted_handoff_disabled_datacenters=[]; hinted_handoff_enabled=true; hinted_handoff_throttle_in_kb=1024; hints_compression=null; hints_directory=null; hints_flush_period_in_ms=10000; ideal_consistency_level=null; incremental_backups=false; index_summary_capacity_in_mb=null; index_summary_resize_interval_in_minutes=60; initial_range_tombstone_list_allocation_size=1; initial_token=null; inter_dc_stream_throughput_outbound_megabits_per_sec=200; inter_dc_tcp_nodelay=false; internode_application_receive_queue_capacity_in_bytes=4194304; internode_application_receive_queue_reserve_endpoint_capacity_in_bytes=134217728; internode_application_receive_queue_reserve_global_capacity_in_bytes=536870912; internode_application_send_queue_capacity_in_bytes=4194304; internode_application_send_queue_reserve_endpoint_capacity_in_bytes=134217728; internode_application_send_queue_reserve_global_capacity_in_bytes=536870912; internode_authenticator=null; internode_compression=dc; internode_max_message_size_in_bytes=null; internode_socket_receive_buffer_size_in_bytes=0; internode_socket_send_buffer_size_in_bytes=0; internode_streaming_tcp_user_timeout_in_ms=300000; internode_tcp_connect_timeout_in_ms=2000; internode_tcp_user_timeout_in_ms=30000; key_cache_keys_to_save=2147483647; key_cache_migrate_during_compaction=true; key_cache_save_period=14400; key_cache_size_in_mb=null; keyspace_count_warn_threshold=40; listen_address=localhost; listen_interface=null; listen_interface_prefer_ipv6=false; listen_on_broadcast_address=false; local_system_data_file_directory=null; max_concurrent_automatic_sstable_upgrades=1; max_hint_window_in_ms=10800000; max_hints_delivery_threads=2; max_hints_file_size_in_mb=128; max_mutation_size_in_kb=null; max_streaming_retries=3; max_value_size_in_mb=256; memtable_allocation_type=heap_buffers; memtable_cleanup_threshold=null; memtable_flush_writers=0; memtable_heap_space_in_mb=null; memtable_offheap_space_in_mb=null; min_free_space_per_drive_in_mb=50; native_transport_allow_older_protocols=true; native_transport_flush_in_batches_legacy=false; native_transport_idle_timeout_in_ms=0; native_transport_max_concurrent_connections=-1; native_transport_max_concurrent_connections_per_ip=-1; native_transport_max_concurrent_requests_in_bytes=-1; native_transport_max_concurrent_requests_in_bytes_per_ip=-1; native_transport_max_frame_size_in_mb=256; native_transport_max_negotiable_protocol_version=null; native_transport_max_threads=128; native_transport_port=9042; native_transport_port_ssl=null; native_transport_receive_queue_capacity_in_bytes=1048576; network_authorizer=AllowAllNetworkAuthorizer; networking_cache_size_in_mb=null; num_tokens=16; otc_backlog_expiration_interval_ms=200; otc_coalescing_enough_coalesced_messages=8; otc_coalescing_strategy=DISABLED; otc_coalescing_window_us=200; partitioner=org.apache.cassandra.dht.Murmur3Partitioner; periodic_commitlog_sync_lag_block_in_ms=null; permissions_cache_max_entries=1000; permissions_update_interval_in_ms=-1; permissions_validity_in_ms=2000; phi_convict_threshold=8.0; prepared_statements_cache_size_mb=null; range_request_timeout_in_ms=10000; range_tombstone_list_growth_factor=1.5; read_request_timeout_in_ms=5000; reject_repair_compaction_threshold=2147483647; repair_command_pool_full_strategy=queue; repair_command_pool_size=0; repair_request_timeout_in_ms=60000; repair_session_max_tree_depth=null; repair_session_space_in_mb=null; repaired_data_tracking_for_partition_reads_enabled=false; repaired_data_tracking_for_range_reads_enabled=false; report_unconfirmed_repaired_data_mismatches=false; request_timeout_in_ms=10000; role_manager=CassandraRoleManager; roles_cache_max_entries=1000; roles_update_interval_in_ms=-1; roles_validity_in_ms=2000; row_cache_class_name=org.apache.cassandra.cache.OHCProvider; row_cache_keys_to_save=2147483647; row_cache_save_period=0; row_cache_size_in_mb=0; rpc_address=localhost; rpc_interface=null; rpc_interface_prefer_ipv6=false; rpc_keepalive=true; saved_caches_directory=null; seed_provider=org.apache.cassandra.locator.SimpleSeedProvider{seeds=127.0.0.1:7000}; server_encryption_options=<REDACTED>; slow_query_log_timeout_in_ms=500; snapshot_before_compaction=false; snapshot_links_per_second=0; snapshot_on_duplicate_row_detection=false; snapshot_on_repaired_data_mismatch=false; ssl_storage_port=7001; sstable_preemptive_open_interval_in_mb=50; start_native_transport=true; storage_port=7000; stream_entire_sstables=true; stream_throughput_outbound_megabits_per_sec=200; streaming_connections_per_host=1; streaming_keep_alive_period_in_secs=300; table_count_warn_threshold=150; tombstone_failure_threshold=100000; tombstone_warn_threshold=1000; tracetype_query_ttl=86400; tracetype_repair_ttl=604800; transparent_data_encryption_options=org.apache.cassandra.config.TransparentDataEncryptionOptions@62fad19; trickle_fsync=false; trickle_fsync_interval_in_kb=10240; truncate_request_timeout_in_ms=60000; unlogged_batch_across_partitions_warn_threshold=10; use_offheap_merkle_trees=true; user_defined_function_fail_timeout=1500; user_defined_function_warn_timeout=500; user_function_timeout_policy=die; validation_preview_purge_head_start_in_sec=3600; windows_timer_interval=1; write_request_timeout_in_ms=2000]\n",
            "INFO  [main] 2023-07-13 15:02:08,652 DatabaseDescriptor.java:416 - DiskAccessMode 'auto' determined to be mmap, indexAccessMode is mmap\n",
            "INFO  [main] 2023-07-13 15:02:08,653 DatabaseDescriptor.java:477 - Global memtable on-heap threshold is enabled at 806MB\n",
            "INFO  [main] 2023-07-13 15:02:08,654 DatabaseDescriptor.java:481 - Global memtable off-heap threshold is enabled at 806MB\n",
            "INFO  [main] 2023-07-13 15:02:09,047 JMXServerUtils.java:271 - Configured JMX server at: service:jmx:rmi://127.0.0.1/jndi/rmi://127.0.0.1:7199/jmxrmi\n",
            "INFO  [main] 2023-07-13 15:02:09,079 CassandraDaemon.java:625 - Hostname: d317a0326785:7000:7001\n",
            "INFO  [main] 2023-07-13 15:02:09,084 CassandraDaemon.java:632 - JVM vendor/version: OpenJDK 64-Bit Server VM/11.0.19\n",
            "INFO  [main] 2023-07-13 15:02:09,089 CassandraDaemon.java:633 - Heap size: 3.150GiB/3.150GiB\n",
            "INFO  [main] 2023-07-13 15:02:09,099 CassandraDaemon.java:638 - CodeHeap 'non-nmethods' Non-heap memory: init = 2555904(2496K) used = 1293568(1263K) committed = 2555904(2496K) max = 5828608(5692K)\n",
            "INFO  [main] 2023-07-13 15:02:09,128 CassandraDaemon.java:638 - Metaspace Non-heap memory: init = 0(0K) used = 21844456(21332K) committed = 22675456(22144K) max = -1(-1K)\n",
            "INFO  [main] 2023-07-13 15:02:09,131 CassandraDaemon.java:638 - CodeHeap 'profiled nmethods' Non-heap memory: init = 2555904(2496K) used = 3966080(3873K) committed = 3997696(3904K) max = 122912768(120032K)\n",
            "INFO  [main] 2023-07-13 15:02:09,133 CassandraDaemon.java:638 - Compressed Class Space Non-heap memory: init = 0(0K) used = 2483648(2425K) committed = 2752512(2688K) max = 1073741824(1048576K)\n",
            "INFO  [main] 2023-07-13 15:02:09,138 CassandraDaemon.java:638 - Par Eden Space Heap memory: init = 167772160(163840K) used = 94572688(92356K) committed = 167772160(163840K) max = 167772160(163840K)\n",
            "INFO  [main] 2023-07-13 15:02:09,140 CassandraDaemon.java:638 - Par Survivor Space Heap memory: init = 20971520(20480K) used = 0(0K) committed = 20971520(20480K) max = 20971520(20480K)\n",
            "INFO  [main] 2023-07-13 15:02:09,142 CassandraDaemon.java:638 - CodeHeap 'non-profiled nmethods' Non-heap memory: init = 2555904(2496K) used = 714112(697K) committed = 2555904(2496K) max = 122916864(120036K)\n",
            "INFO  [main] 2023-07-13 15:02:09,143 CassandraDaemon.java:638 - CMS Old Gen Heap memory: init = 3193962496(3119104K) used = 0(0K) committed = 3193962496(3119104K) max = 3193962496(3119104K)\n",
            "INFO  [main] 2023-07-13 15:02:09,143 CassandraDaemon.java:640 - Classpath: apache-cassandra-4.0.10/bin/../conf:apache-cassandra-4.0.10/bin/../lib/HdrHistogram-2.1.9.jar:apache-cassandra-4.0.10/bin/../lib/ST4-4.0.8.jar:apache-cassandra-4.0.10/bin/../lib/airline-0.8.jar:apache-cassandra-4.0.10/bin/../lib/antlr-runtime-3.5.2.jar:apache-cassandra-4.0.10/bin/../lib/apache-cassandra-4.0.10.jar:apache-cassandra-4.0.10/bin/../lib/asm-7.1.jar:apache-cassandra-4.0.10/bin/../lib/caffeine-2.5.6.jar:apache-cassandra-4.0.10/bin/../lib/cassandra-driver-core-3.11.0-shaded.jar:apache-cassandra-4.0.10/bin/../lib/chronicle-bytes-2.20.111.jar:apache-cassandra-4.0.10/bin/../lib/chronicle-core-2.20.126.jar:apache-cassandra-4.0.10/bin/../lib/chronicle-queue-5.20.123.jar:apache-cassandra-4.0.10/bin/../lib/chronicle-threads-2.20.111.jar:apache-cassandra-4.0.10/bin/../lib/chronicle-wire-2.20.117.jar:apache-cassandra-4.0.10/bin/../lib/commons-cli-1.1.jar:apache-cassandra-4.0.10/bin/../lib/commons-codec-1.9.jar:apache-cassandra-4.0.10/bin/../lib/commons-lang3-3.11.jar:apache-cassandra-4.0.10/bin/../lib/commons-math3-3.2.jar:apache-cassandra-4.0.10/bin/../lib/concurrent-trees-2.4.0.jar:apache-cassandra-4.0.10/bin/../lib/ecj-4.6.1.jar:apache-cassandra-4.0.10/bin/../lib/guava-27.0-jre.jar:apache-cassandra-4.0.10/bin/../lib/high-scale-lib-1.0.6.jar:apache-cassandra-4.0.10/bin/../lib/hppc-0.8.1.jar:apache-cassandra-4.0.10/bin/../lib/j2objc-annotations-1.3.jar:apache-cassandra-4.0.10/bin/../lib/jackson-annotations-2.13.2.jar:apache-cassandra-4.0.10/bin/../lib/jackson-core-2.13.2.jar:apache-cassandra-4.0.10/bin/../lib/jackson-databind-2.13.2.2.jar:apache-cassandra-4.0.10/bin/../lib/jamm-0.3.2.jar:apache-cassandra-4.0.10/bin/../lib/java-cup-runtime-11b-20160615.jar:apache-cassandra-4.0.10/bin/../lib/javax.inject-1.jar:apache-cassandra-4.0.10/bin/../lib/jbcrypt-0.4.jar:apache-cassandra-4.0.10/bin/../lib/jcl-over-slf4j-1.7.25.jar:apache-cassandra-4.0.10/bin/../lib/jcommander-1.30.jar:apache-cassandra-4.0.10/bin/../lib/jctools-core-3.1.0.jar:apache-cassandra-4.0.10/bin/../lib/jflex-1.8.2.jar:apache-cassandra-4.0.10/bin/../lib/jna-5.6.0.jar:apache-cassandra-4.0.10/bin/../lib/json-simple-1.1.jar:apache-cassandra-4.0.10/bin/../lib/jvm-attach-api-1.5.jar:apache-cassandra-4.0.10/bin/../lib/log4j-over-slf4j-1.7.25.jar:apache-cassandra-4.0.10/bin/../lib/logback-classic-1.2.9.jar:apache-cassandra-4.0.10/bin/../lib/logback-core-1.2.9.jar:apache-cassandra-4.0.10/bin/../lib/lz4-java-1.8.0.jar:apache-cassandra-4.0.10/bin/../lib/metrics-core-3.1.5.jar:apache-cassandra-4.0.10/bin/../lib/metrics-jvm-3.1.5.jar:apache-cassandra-4.0.10/bin/../lib/metrics-logback-3.1.5.jar:apache-cassandra-4.0.10/bin/../lib/mxdump-0.14.jar:apache-cassandra-4.0.10/bin/../lib/netty-all-4.1.58.Final.jar:apache-cassandra-4.0.10/bin/../lib/netty-tcnative-boringssl-static-2.0.36.Final.jar:apache-cassandra-4.0.10/bin/../lib/ohc-core-0.5.1.jar:apache-cassandra-4.0.10/bin/../lib/ohc-core-j8-0.5.1.jar:apache-cassandra-4.0.10/bin/../lib/psjava-0.1.19.jar:apache-cassandra-4.0.10/bin/../lib/reporter-config-base-3.0.3.jar:apache-cassandra-4.0.10/bin/../lib/reporter-config3-3.0.3.jar:apache-cassandra-4.0.10/bin/../lib/sigar-1.6.4.jar:apache-cassandra-4.0.10/bin/../lib/sjk-cli-0.14.jar:apache-cassandra-4.0.10/bin/../lib/sjk-core-0.14.jar:apache-cassandra-4.0.10/bin/../lib/sjk-json-0.14.jar:apache-cassandra-4.0.10/bin/../lib/sjk-stacktrace-0.14.jar:apache-cassandra-4.0.10/bin/../lib/slf4j-api-1.7.25.jar:apache-cassandra-4.0.10/bin/../lib/snakeyaml-1.26.jar:apache-cassandra-4.0.10/bin/../lib/snappy-java-1.1.2.6.jar:apache-cassandra-4.0.10/bin/../lib/snowball-stemmer-1.3.0.581.1.jar:apache-cassandra-4.0.10/bin/../lib/stream-2.5.2.jar:apache-cassandra-4.0.10/bin/../lib/zstd-jni-1.5.5-1.jar:apache-cassandra-4.0.10/bin/../lib/jsr223/*/*.jar:\n",
            "INFO  [main] 2023-07-13 15:02:09,144 CassandraDaemon.java:642 - JVM Arguments: [-ea, -da:net.openhft..., -XX:+UseThreadPriorities, -XX:+HeapDumpOnOutOfMemoryError, -Xss256k, -XX:+AlwaysPreTouch, -XX:-UseBiasedLocking, -XX:+UseTLAB, -XX:+ResizeTLAB, -XX:+UseNUMA, -XX:+PerfDisableSharedMem, -Djava.net.preferIPv4Stack=true, -XX:+UseConcMarkSweepGC, -XX:+CMSParallelRemarkEnabled, -XX:SurvivorRatio=8, -XX:MaxTenuringThreshold=1, -XX:CMSInitiatingOccupancyFraction=75, -XX:+UseCMSInitiatingOccupancyOnly, -XX:CMSWaitDuration=10000, -XX:+CMSParallelInitialMarkEnabled, -XX:+CMSEdenChunksRecordAlways, -XX:+CMSClassUnloadingEnabled, -Djdk.attach.allowAttachSelf=true, --add-exports=java.base/jdk.internal.misc=ALL-UNNAMED, --add-exports=java.base/jdk.internal.ref=ALL-UNNAMED, --add-exports=java.base/sun.nio.ch=ALL-UNNAMED, --add-exports=java.management.rmi/com.sun.jmx.remote.internal.rmi=ALL-UNNAMED, --add-exports=java.rmi/sun.rmi.registry=ALL-UNNAMED, --add-exports=java.rmi/sun.rmi.server=ALL-UNNAMED, --add-exports=java.sql/java.sql=ALL-UNNAMED, --add-opens=java.base/java.lang.module=ALL-UNNAMED, --add-opens=java.base/jdk.internal.loader=ALL-UNNAMED, --add-opens=java.base/jdk.internal.ref=ALL-UNNAMED, --add-opens=java.base/jdk.internal.reflect=ALL-UNNAMED, --add-opens=java.base/jdk.internal.math=ALL-UNNAMED, --add-opens=java.base/jdk.internal.module=ALL-UNNAMED, --add-opens=java.base/jdk.internal.util.jar=ALL-UNNAMED, --add-opens=jdk.management/com.sun.management.internal=ALL-UNNAMED, -Dio.netty.tryReflectionSetAccessible=true, -Xlog:gc=info,heap*=trace,age*=debug,safepoint=info,promotion*=trace:file=apache-cassandra-4.0.10/bin/../logs/gc.log:time,uptime,pid,tid,level:filecount=10,filesize=10485760, -Xms3245M, -Xmx3245M, -Xmn200M, -XX:+UseCondCardMark, -XX:CompileCommandFile=apache-cassandra-4.0.10/bin/../conf/hotspot_compiler, -javaagent:apache-cassandra-4.0.10/bin/../lib/jamm-0.3.2.jar, -Dcassandra.jmx.local.port=7199, -Dcom.sun.management.jmxremote.authenticate=false, -Dcom.sun.management.jmxremote.password.file=/etc/cassandra/jmxremote.password, -Djava.library.path=apache-cassandra-4.0.10/bin/../lib/sigar-bin, -XX:OnOutOfMemoryError=kill -9 %p, -Dlogback.configurationFile=logback.xml, -Dcassandra.logdir=apache-cassandra-4.0.10/bin/../logs, -Dcassandra.storagedir=apache-cassandra-4.0.10/bin/../data]\n",
            "WARN  [main] 2023-07-13 15:02:09,253 NativeLibrary.java:201 - Unable to lock JVM memory (ENOMEM). This can result in part of the JVM being swapped out, especially with mmapped I/O enabled. Increase RLIMIT_MEMLOCK.\n",
            "INFO  [main] 2023-07-13 15:02:09,350 MonotonicClock.java:202 - Scheduling approximate time conversion task with an interval of 10000 milliseconds\n",
            "INFO  [main] 2023-07-13 15:02:09,361 MonotonicClock.java:338 - Scheduling approximate time-check task with a precision of 2 milliseconds\n",
            "WARN  [main] 2023-07-13 15:02:09,367 StartupChecks.java:143 - jemalloc shared library could not be preloaded to speed up memory allocations\n",
            "WARN  [main] 2023-07-13 15:02:09,368 StartupChecks.java:187 - JMX is not enabled to receive remote connections. Please see cassandra-env.sh for more info.\n",
            "INFO  [main] 2023-07-13 15:02:09,373 SigarLibrary.java:44 - Initializing SIGAR library\n",
            "INFO  [main] 2023-07-13 15:02:09,396 SigarLibrary.java:180 - Checked OS settings and found them configured for optimal performance.\n",
            "WARN  [main] 2023-07-13 15:02:09,399 StartupChecks.java:329 - Maximum number of memory map areas per process (vm.max_map_count) 65530 is too low, recommended value: 1048575, you can change it with sysctl.\n",
            "INFO  [main] 2023-07-13 15:02:10,143 Keyspace.java:386 - Creating replication strategy system params KeyspaceParams{durable_writes=true, replication=ReplicationParams{class=org.apache.cassandra.locator.LocalStrategy}}\n",
            "INFO  [main] 2023-07-13 15:02:10,186 ColumnFamilyStore.java:385 - Initializing system.IndexInfo\n",
            "INFO  [main] 2023-07-13 15:02:12,836 ColumnFamilyStore.java:385 - Initializing system.batches\n",
            "INFO  [main] 2023-07-13 15:02:12,852 ColumnFamilyStore.java:385 - Initializing system.paxos\n",
            "INFO  [main] 2023-07-13 15:02:12,871 ColumnFamilyStore.java:385 - Initializing system.local\n",
            "INFO  [main] 2023-07-13 15:02:12,885 ColumnFamilyStore.java:385 - Initializing system.peers_v2\n",
            "INFO  [main] 2023-07-13 15:02:12,898 ColumnFamilyStore.java:385 - Initializing system.peers\n",
            "INFO  [main] 2023-07-13 15:02:12,910 ColumnFamilyStore.java:385 - Initializing system.peer_events_v2\n",
            "INFO  [main] 2023-07-13 15:02:12,930 ColumnFamilyStore.java:385 - Initializing system.peer_events\n",
            "INFO  [main] 2023-07-13 15:02:12,946 ColumnFamilyStore.java:385 - Initializing system.compaction_history\n",
            "INFO  [main] 2023-07-13 15:02:12,964 ColumnFamilyStore.java:385 - Initializing system.sstable_activity\n",
            "INFO  [main] 2023-07-13 15:02:12,976 ColumnFamilyStore.java:385 - Initializing system.size_estimates\n",
            "INFO  [main] 2023-07-13 15:02:12,988 ColumnFamilyStore.java:385 - Initializing system.table_estimates\n",
            "INFO  [main] 2023-07-13 15:02:12,999 ColumnFamilyStore.java:385 - Initializing system.available_ranges_v2\n",
            "INFO  [main] 2023-07-13 15:02:13,014 ColumnFamilyStore.java:385 - Initializing system.available_ranges\n",
            "INFO  [main] 2023-07-13 15:02:13,030 ColumnFamilyStore.java:385 - Initializing system.transferred_ranges_v2\n",
            "INFO  [main] 2023-07-13 15:02:13,048 ColumnFamilyStore.java:385 - Initializing system.transferred_ranges\n",
            "INFO  [main] 2023-07-13 15:02:13,069 ColumnFamilyStore.java:385 - Initializing system.view_builds_in_progress\n",
            "INFO  [main] 2023-07-13 15:02:13,077 ColumnFamilyStore.java:385 - Initializing system.built_views\n",
            "INFO  [main] 2023-07-13 15:02:13,086 ColumnFamilyStore.java:385 - Initializing system.prepared_statements\n",
            "INFO  [main] 2023-07-13 15:02:13,095 ColumnFamilyStore.java:385 - Initializing system.repairs\n",
            "INFO  [main] 2023-07-13 15:02:13,280 QueryProcessor.java:115 - Initialized prepared statement caches with 12 MB\n",
            "INFO  [main] 2023-07-13 15:02:13,447 Keyspace.java:386 - Creating replication strategy system_schema params KeyspaceParams{durable_writes=true, replication=ReplicationParams{class=org.apache.cassandra.locator.LocalStrategy}}\n",
            "INFO  [main] 2023-07-13 15:02:13,453 ColumnFamilyStore.java:385 - Initializing system_schema.keyspaces\n",
            "INFO  [main] 2023-07-13 15:02:13,469 ColumnFamilyStore.java:385 - Initializing system_schema.tables\n",
            "INFO  [main] 2023-07-13 15:02:13,476 ColumnFamilyStore.java:385 - Initializing system_schema.columns\n",
            "INFO  [main] 2023-07-13 15:02:13,484 ColumnFamilyStore.java:385 - Initializing system_schema.triggers\n",
            "INFO  [main] 2023-07-13 15:02:13,496 ColumnFamilyStore.java:385 - Initializing system_schema.dropped_columns\n",
            "INFO  [main] 2023-07-13 15:02:13,503 ColumnFamilyStore.java:385 - Initializing system_schema.views\n",
            "INFO  [main] 2023-07-13 15:02:13,510 ColumnFamilyStore.java:385 - Initializing system_schema.types\n",
            "INFO  [main] 2023-07-13 15:02:13,518 ColumnFamilyStore.java:385 - Initializing system_schema.functions\n",
            "INFO  [main] 2023-07-13 15:02:13,525 ColumnFamilyStore.java:385 - Initializing system_schema.aggregates\n",
            "INFO  [main] 2023-07-13 15:02:13,533 ColumnFamilyStore.java:385 - Initializing system_schema.indexes\n",
            "WARN  [main] 2023-07-13 15:02:13,635 SystemKeyspace.java:1189 - No host ID found, created 7244ebb6-811f-43d8-8c1b-347d2abd0aa2 (Note: This should happen exactly once per node).\n",
            "INFO  [main] 2023-07-13 15:02:13,641 ColumnFamilyStore.java:881 - Enqueuing flush of local: 1.746KiB (0%) on-heap, 0.000KiB (0%) off-heap\n",
            "INFO  [PerDiskMemtableFlushWriter_0:1] 2023-07-13 15:02:13,784 Memtable.java:499 - Writing Memtable-local@1677147828(0.367KiB serialized bytes, 2 ops, 0%/0% of on/off-heap limit), flushed range = (null, null]\n",
            "INFO  [PerDiskMemtableFlushWriter_0:1] 2023-07-13 15:02:13,790 Memtable.java:528 - Completed flushing /content/apache-cassandra-4.0.10/data/data/system/local-7ad54392bcdd35a684174e047860b377/nb-1-big-Data.db (0.183KiB) for commitlog position CommitLogPosition(segmentId=1689260529336, position=458)\n",
            "INFO  [MemtableFlushWriter:1] 2023-07-13 15:02:13,914 LogTransaction.java:242 - Unfinished transaction log, deleting /content/apache-cassandra-4.0.10/data/data/system/local-7ad54392bcdd35a684174e047860b377/nb_txn_flush_3feb6c50-218e-11ee-8fcd-916263b94ccf.log \n",
            "INFO  [MemtableFlushWriter:1] 2023-07-13 15:02:13,924 CacheService.java:103 - Initializing key cache with capacity of 100 MBs.\n",
            "INFO  [MemtableFlushWriter:1] 2023-07-13 15:02:13,936 CacheService.java:125 - Initializing row cache with capacity of 0 MBs\n",
            "INFO  [MemtableFlushWriter:1] 2023-07-13 15:02:13,938 CacheService.java:154 - Initializing counter cache with capacity of 50 MBs\n",
            "INFO  [MemtableFlushWriter:1] 2023-07-13 15:02:13,939 CacheService.java:165 - Scheduling counter cache save to every 7200 seconds (going to save all keys).\n",
            "INFO  [main] 2023-07-13 15:02:13,976 SystemKeyspaceMigrator40.java:76 - system.peers_v2 table was empty, migrating legacy system.peers, if this fails you should fix the issue and then truncate system.peers_v2 to have it try again.\n",
            "INFO  [main] 2023-07-13 15:02:13,988 SystemKeyspaceMigrator40.java:100 - Migrating rows from legacy system.peers to system.peers_v2\n",
            "INFO  [main] 2023-07-13 15:02:13,995 SystemKeyspaceMigrator40.java:119 - Migrated 0 rows from legacy system.peers to system.peers_v2\n",
            "INFO  [main] 2023-07-13 15:02:13,996 SystemKeyspaceMigrator40.java:129 - system.peer_events_v2 table was empty, migrating legacy system.peer_events to system.peer_events_v2\n",
            "INFO  [main] 2023-07-13 15:02:13,997 SystemKeyspaceMigrator40.java:152 - Migrated 0 rows from legacy system.peer_events to system.peer_events_v2\n",
            "INFO  [main] 2023-07-13 15:02:13,997 SystemKeyspaceMigrator40.java:162 - system.transferred_ranges_v2 table was empty, migrating legacy system.transferred_ranges to system.transferred_ranges_v2\n",
            "INFO  [main] 2023-07-13 15:02:14,000 SystemKeyspaceMigrator40.java:190 - Migrated 0 rows from legacy system.transferred_ranges to system.transferred_ranges_v2\n",
            "INFO  [main] 2023-07-13 15:02:14,000 SystemKeyspaceMigrator40.java:200 - system.available_ranges_v2 table was empty, migrating legacy system.available_ranges to system.available_ranges_v2\n",
            "INFO  [main] 2023-07-13 15:02:14,001 SystemKeyspaceMigrator40.java:226 - Migrated 0 rows from legacy system.available_ranges to system.available_ranges_v2\n",
            "INFO  [main] 2023-07-13 15:02:14,002 StorageService.java:926 - Populating token metadata from system tables\n",
            "INFO  [main] 2023-07-13 15:02:14,025 BufferPools.java:49 - Global buffer pool limit is 512.000MiB for chunk-cache and 128.000MiB for networking\n",
            "INFO  [main] 2023-07-13 15:02:14,119 StorageService.java:920 - Token metadata: \n",
            "INFO  [pool-3-thread-1] 2023-07-13 15:02:14,204 AutoSavingCache.java:177 - Completed loading (13 ms; 1 keys) KeyCache cache\n",
            "INFO  [main] 2023-07-13 15:02:14,229 CommitLog.java:196 - No commitlog files found; skipping replay\n",
            "INFO  [main] 2023-07-13 15:02:14,230 StorageService.java:926 - Populating token metadata from system tables\n",
            "INFO  [main] 2023-07-13 15:02:14,270 StorageService.java:920 - Token metadata: \n",
            "INFO  [main] 2023-07-13 15:02:14,491 ColumnFamilyStore.java:2255 - Truncating system.size_estimates\n",
            "INFO  [main] 2023-07-13 15:02:14,497 ColumnFamilyStore.java:2292 - Truncating system.size_estimates with truncatedAt=1689260534495\n",
            "INFO  [main] 2023-07-13 15:02:14,513 ColumnFamilyStore.java:881 - Enqueuing flush of local: 0.708KiB (0%) on-heap, 0.000KiB (0%) off-heap\n",
            "INFO  [PerDiskMemtableFlushWriter_0:2] 2023-07-13 15:02:14,544 Memtable.java:499 - Writing Memtable-local@1007543119(0.122KiB serialized bytes, 2 ops, 0%/0% of on/off-heap limit), flushed range = (null, null]\n",
            "INFO  [PerDiskMemtableFlushWriter_0:2] 2023-07-13 15:02:14,545 Memtable.java:528 - Completed flushing /content/apache-cassandra-4.0.10/data/data/system/local-7ad54392bcdd35a684174e047860b377/nb-2-big-Data.db (0.082KiB) for commitlog position CommitLogPosition(segmentId=1689260529336, position=31275)\n",
            "INFO  [MemtableFlushWriter:1] 2023-07-13 15:02:14,600 LogTransaction.java:242 - Unfinished transaction log, deleting /content/apache-cassandra-4.0.10/data/data/system/local-7ad54392bcdd35a684174e047860b377/nb_txn_flush_406ecd20-218e-11ee-8fcd-916263b94ccf.log \n",
            "INFO  [main] 2023-07-13 15:02:14,612 ColumnFamilyStore.java:2319 - Truncate of system.size_estimates is complete\n",
            "INFO  [main] 2023-07-13 15:02:14,613 ColumnFamilyStore.java:2255 - Truncating system.table_estimates\n",
            "INFO  [main] 2023-07-13 15:02:14,614 ColumnFamilyStore.java:2292 - Truncating system.table_estimates with truncatedAt=1689260534614\n",
            "INFO  [main] 2023-07-13 15:02:14,617 ColumnFamilyStore.java:881 - Enqueuing flush of local: 0.575KiB (0%) on-heap, 0.000KiB (0%) off-heap\n",
            "INFO  [PerDiskMemtableFlushWriter_0:1] 2023-07-13 15:02:14,642 Memtable.java:499 - Writing Memtable-local@898422959(0.091KiB serialized bytes, 1 ops, 0%/0% of on/off-heap limit), flushed range = (null, null]\n",
            "INFO  [PerDiskMemtableFlushWriter_0:1] 2023-07-13 15:02:14,643 Memtable.java:528 - Completed flushing /content/apache-cassandra-4.0.10/data/data/system/local-7ad54392bcdd35a684174e047860b377/nb-3-big-Data.db (0.063KiB) for commitlog position CommitLogPosition(segmentId=1689260529336, position=31386)\n",
            "INFO  [MemtableFlushWriter:1] 2023-07-13 15:02:14,707 LogTransaction.java:242 - Unfinished transaction log, deleting /content/apache-cassandra-4.0.10/data/data/system/local-7ad54392bcdd35a684174e047860b377/nb_txn_flush_407eaba0-218e-11ee-8fcd-916263b94ccf.log \n",
            "INFO  [main] 2023-07-13 15:02:14,714 ColumnFamilyStore.java:2319 - Truncate of system.table_estimates is complete\n",
            "INFO  [main] 2023-07-13 15:02:14,719 QueryProcessor.java:167 - Preloaded 0 prepared statements\n",
            "INFO  [main] 2023-07-13 15:02:14,720 StorageService.java:824 - Cassandra version: 4.0.10\n",
            "INFO  [main] 2023-07-13 15:02:14,721 StorageService.java:825 - CQL version: 3.4.5\n",
            "INFO  [main] 2023-07-13 15:02:14,722 StorageService.java:826 - Native protocol supported versions: 3/v3, 4/v4, 5/v5, 6/v6-beta (default: 5/v5)\n",
            "INFO  [main] 2023-07-13 15:02:14,753 IndexSummaryManager.java:83 - Initializing index summary manager with a memory pool size of 161 MB and a resize interval of 60 minutes\n",
            "INFO  [main] 2023-07-13 15:02:14,755 StorageService.java:843 - Loading persisted ring state\n",
            "INFO  [main] 2023-07-13 15:02:14,755 StorageService.java:926 - Populating token metadata from system tables\n",
            "INFO  [main] 2023-07-13 15:02:14,937 InboundConnectionInitiator.java:127 - Listening on address: (localhost/127.0.0.1:7000), nic: lo, encryption: unencrypted\n",
            "INFO  [main] 2023-07-13 15:02:15,043 StorageService.java:741 - Unable to gossip with any peers but continuing anyway since node is in its own seed list\n",
            "INFO  [main] 2023-07-13 15:02:15,089 StorageService.java:1048 - Starting up server gossip\n",
            "INFO  [main] 2023-07-13 15:02:15,168 ColumnFamilyStore.java:881 - Enqueuing flush of local: 0.458KiB (0%) on-heap, 0.000KiB (0%) off-heap\n",
            "INFO  [PerDiskMemtableFlushWriter_0:2] 2023-07-13 15:02:15,193 Memtable.java:499 - Writing Memtable-local@852101822(0.048KiB serialized bytes, 1 ops, 0%/0% of on/off-heap limit), flushed range = (null, null]\n",
            "INFO  [PerDiskMemtableFlushWriter_0:2] 2023-07-13 15:02:15,194 Memtable.java:528 - Completed flushing /content/apache-cassandra-4.0.10/data/data/system/local-7ad54392bcdd35a684174e047860b377/nb-4-big-Data.db (0.028KiB) for commitlog position CommitLogPosition(segmentId=1689260529336, position=31475)\n",
            "INFO  [MemtableFlushWriter:2] 2023-07-13 15:02:15,246 LogTransaction.java:242 - Unfinished transaction log, deleting /content/apache-cassandra-4.0.10/data/data/system/local-7ad54392bcdd35a684174e047860b377/nb_txn_flush_40d33440-218e-11ee-8fcd-916263b94ccf.log \n",
            "INFO  [main] 2023-07-13 15:02:15,325 StorageService.java:1138 - This node will not auto bootstrap because it is configured to be a seed node.\n",
            "INFO  [main] 2023-07-13 15:02:45,337 NetworkTopologyStrategy.java:89 - Configured datacenter replicas are datacenter1:rf(3)\n",
            "INFO  [main] 2023-07-13 15:02:45,342 TokenAllocatorFactory.java:44 - Using ReplicationAwareTokenAllocator.\n",
            "INFO  [main] 2023-07-13 15:02:45,398 TokenAllocation.java:106 - Selected tokens [8163065648205368864, 924729083223900165, -3885620876017999269, 5272021266821294026, -6482789624231156642, -1010944674959473851, 3436497929466516216, -8072794176745055280, 7083692840757767206, -2106986575194412140, -4863766328534113344, 2364997313126483403, -9040158419823590779, 80352435732738408, 4454349334208943231, 6347777148046873565]\n",
            "INFO  [MigrationStage:1] 2023-07-13 15:02:45,486 ColumnFamilyStore.java:881 - Enqueuing flush of columns: 200.121KiB (0%) on-heap, 0.000KiB (0%) off-heap\n",
            "INFO  [PerDiskMemtableFlushWriter_0:1] 2023-07-13 15:02:45,509 Memtable.java:499 - Writing Memtable-columns@424055266(41.994KiB serialized bytes, 277 ops, 0%/0% of on/off-heap limit), flushed range = (null, null]\n",
            "INFO  [PerDiskMemtableFlushWriter_0:1] 2023-07-13 15:02:45,532 Memtable.java:528 - Completed flushing /content/apache-cassandra-4.0.10/data/data/system_schema/columns-24101c25a2ae3af787c1b40ee1aca33f/nb-1-big-Data.db (20.847KiB) for commitlog position CommitLogPosition(segmentId=1689260529336, position=42093)\n",
            "INFO  [MemtableFlushWriter:1] 2023-07-13 15:02:45,592 LogTransaction.java:242 - Unfinished transaction log, deleting /content/apache-cassandra-4.0.10/data/data/system_schema/columns-24101c25a2ae3af787c1b40ee1aca33f/nb_txn_flush_52e50f00-218e-11ee-8fcd-916263b94ccf.log \n",
            "INFO  [MigrationStage:1] 2023-07-13 15:02:45,600 ColumnFamilyStore.java:881 - Enqueuing flush of dropped_columns: 1.079KiB (0%) on-heap, 0.000KiB (0%) off-heap\n",
            "INFO  [PerDiskMemtableFlushWriter_0:2] 2023-07-13 15:02:45,624 Memtable.java:499 - Writing Memtable-dropped_columns@922060863(0.120KiB serialized bytes, 3 ops, 0%/0% of on/off-heap limit), flushed range = (null, null]\n",
            "INFO  [PerDiskMemtableFlushWriter_0:2] 2023-07-13 15:02:45,625 Memtable.java:528 - Completed flushing /content/apache-cassandra-4.0.10/data/data/system_schema/dropped_columns-5e7583b5f3f43af19a39b7e1d6f5f11f/nb-1-big-Data.db (0.097KiB) for commitlog position CommitLogPosition(segmentId=1689260529336, position=42101)\n",
            "INFO  [MemtableFlushWriter:2] 2023-07-13 15:02:45,685 LogTransaction.java:242 - Unfinished transaction log, deleting /content/apache-cassandra-4.0.10/data/data/system_schema/dropped_columns-5e7583b5f3f43af19a39b7e1d6f5f11f/nb_txn_flush_52f64d10-218e-11ee-8fcd-916263b94ccf.log \n",
            "INFO  [MigrationStage:1] 2023-07-13 15:02:45,692 ColumnFamilyStore.java:881 - Enqueuing flush of triggers: 0.511KiB (0%) on-heap, 0.000KiB (0%) off-heap\n",
            "INFO  [PerDiskMemtableFlushWriter_0:1] 2023-07-13 15:02:45,714 Memtable.java:499 - Writing Memtable-triggers@2094021580(0.016KiB serialized bytes, 2 ops, 0%/0% of on/off-heap limit), flushed range = (null, null]\n",
            "INFO  [PerDiskMemtableFlushWriter_0:1] 2023-07-13 15:02:45,715 Memtable.java:528 - Completed flushing /content/apache-cassandra-4.0.10/data/data/system_schema/triggers-4df70b666b05325195a132b54005fd48/nb-1-big-Data.db (0.048KiB) for commitlog position CommitLogPosition(segmentId=1689260529336, position=42101)\n",
            "INFO  [MemtableFlushWriter:1] 2023-07-13 15:02:45,775 LogTransaction.java:242 - Unfinished transaction log, deleting /content/apache-cassandra-4.0.10/data/data/system_schema/triggers-4df70b666b05325195a132b54005fd48/nb_txn_flush_53047de0-218e-11ee-8fcd-916263b94ccf.log \n",
            "INFO  [MigrationStage:1] 2023-07-13 15:02:45,784 ColumnFamilyStore.java:881 - Enqueuing flush of types: 0.511KiB (0%) on-heap, 0.000KiB (0%) off-heap\n",
            "INFO  [PerDiskMemtableFlushWriter_0:2] 2023-07-13 15:02:45,809 Memtable.java:499 - Writing Memtable-types@1945567365(0.016KiB serialized bytes, 2 ops, 0%/0% of on/off-heap limit), flushed range = (null, null]\n",
            "INFO  [PerDiskMemtableFlushWriter_0:2] 2023-07-13 15:02:45,810 Memtable.java:528 - Completed flushing /content/apache-cassandra-4.0.10/data/data/system_schema/types-5a8b1ca866023f77a0459273d308917a/nb-1-big-Data.db (0.048KiB) for commitlog position CommitLogPosition(segmentId=1689260529336, position=42101)\n",
            "INFO  [MemtableFlushWriter:2] 2023-07-13 15:02:45,868 LogTransaction.java:242 - Unfinished transaction log, deleting /content/apache-cassandra-4.0.10/data/data/system_schema/types-5a8b1ca866023f77a0459273d308917a/nb_txn_flush_53126090-218e-11ee-8fcd-916263b94ccf.log \n",
            "INFO  [MigrationStage:1] 2023-07-13 15:02:45,876 ColumnFamilyStore.java:881 - Enqueuing flush of functions: 0.511KiB (0%) on-heap, 0.000KiB (0%) off-heap\n",
            "INFO  [PerDiskMemtableFlushWriter_0:1] 2023-07-13 15:02:45,897 Memtable.java:499 - Writing Memtable-functions@1675176916(0.016KiB serialized bytes, 2 ops, 0%/0% of on/off-heap limit), flushed range = (null, null]\n",
            "INFO  [PerDiskMemtableFlushWriter_0:1] 2023-07-13 15:02:45,898 Memtable.java:528 - Completed flushing /content/apache-cassandra-4.0.10/data/data/system_schema/functions-96489b7980be3e14a70166a0b9159450/nb-1-big-Data.db (0.048KiB) for commitlog position CommitLogPosition(segmentId=1689260529336, position=42101)\n",
            "INFO  [MemtableFlushWriter:1] 2023-07-13 15:02:45,953 LogTransaction.java:242 - Unfinished transaction log, deleting /content/apache-cassandra-4.0.10/data/data/system_schema/functions-96489b7980be3e14a70166a0b9159450/nb_txn_flush_53206a50-218e-11ee-8fcd-916263b94ccf.log \n",
            "INFO  [MigrationStage:1] 2023-07-13 15:02:45,960 ColumnFamilyStore.java:881 - Enqueuing flush of aggregates: 0.511KiB (0%) on-heap, 0.000KiB (0%) off-heap\n",
            "INFO  [PerDiskMemtableFlushWriter_0:2] 2023-07-13 15:02:45,981 Memtable.java:499 - Writing Memtable-aggregates@540246575(0.016KiB serialized bytes, 2 ops, 0%/0% of on/off-heap limit), flushed range = (null, null]\n",
            "INFO  [PerDiskMemtableFlushWriter_0:2] 2023-07-13 15:02:45,982 Memtable.java:528 - Completed flushing /content/apache-cassandra-4.0.10/data/data/system_schema/aggregates-924c55872e3a345bb10c12f37c1ba895/nb-1-big-Data.db (0.048KiB) for commitlog position CommitLogPosition(segmentId=1689260529336, position=42101)\n",
            "INFO  [MemtableFlushWriter:2] 2023-07-13 15:02:46,036 LogTransaction.java:242 - Unfinished transaction log, deleting /content/apache-cassandra-4.0.10/data/data/system_schema/aggregates-924c55872e3a345bb10c12f37c1ba895/nb_txn_flush_532d3b90-218e-11ee-8fcd-916263b94ccf.log \n",
            "INFO  [MigrationStage:1] 2023-07-13 15:02:46,044 ColumnFamilyStore.java:881 - Enqueuing flush of indexes: 0.511KiB (0%) on-heap, 0.000KiB (0%) off-heap\n",
            "INFO  [PerDiskMemtableFlushWriter_0:1] 2023-07-13 15:02:46,066 Memtable.java:499 - Writing Memtable-indexes@809750176(0.016KiB serialized bytes, 2 ops, 0%/0% of on/off-heap limit), flushed range = (null, null]\n",
            "INFO  [PerDiskMemtableFlushWriter_0:1] 2023-07-13 15:02:46,067 Memtable.java:528 - Completed flushing /content/apache-cassandra-4.0.10/data/data/system_schema/indexes-0feb57ac311f382fba6d9024d305702f/nb-1-big-Data.db (0.048KiB) for commitlog position CommitLogPosition(segmentId=1689260529336, position=42101)\n",
            "INFO  [MemtableFlushWriter:1] 2023-07-13 15:02:46,120 LogTransaction.java:242 - Unfinished transaction log, deleting /content/apache-cassandra-4.0.10/data/data/system_schema/indexes-0feb57ac311f382fba6d9024d305702f/nb_txn_flush_533a33e0-218e-11ee-8fcd-916263b94ccf.log \n",
            "INFO  [MigrationStage:1] 2023-07-13 15:02:46,127 ColumnFamilyStore.java:881 - Enqueuing flush of tables: 92.656KiB (0%) on-heap, 0.000KiB (0%) off-heap\n",
            "INFO  [PerDiskMemtableFlushWriter_0:2] 2023-07-13 15:02:46,155 Memtable.java:499 - Writing Memtable-tables@1120858989(28.858KiB serialized bytes, 42 ops, 0%/0% of on/off-heap limit), flushed range = (null, null]\n",
            "INFO  [PerDiskMemtableFlushWriter_0:2] 2023-07-13 15:02:46,160 Memtable.java:528 - Completed flushing /content/apache-cassandra-4.0.10/data/data/system_schema/tables-afddfb9dbc1e30688056eed6c302ba09/nb-1-big-Data.db (17.879KiB) for commitlog position CommitLogPosition(segmentId=1689260529336, position=42101)\n",
            "INFO  [MemtableFlushWriter:2] 2023-07-13 15:02:46,216 LogTransaction.java:242 - Unfinished transaction log, deleting /content/apache-cassandra-4.0.10/data/data/system_schema/tables-afddfb9dbc1e30688056eed6c302ba09/nb_txn_flush_53472c30-218e-11ee-8fcd-916263b94ccf.log \n",
            "INFO  [MigrationStage:1] 2023-07-13 15:02:46,221 ColumnFamilyStore.java:881 - Enqueuing flush of views: 0.511KiB (0%) on-heap, 0.000KiB (0%) off-heap\n",
            "INFO  [PerDiskMemtableFlushWriter_0:1] 2023-07-13 15:02:46,247 Memtable.java:499 - Writing Memtable-views@489132235(0.016KiB serialized bytes, 2 ops, 0%/0% of on/off-heap limit), flushed range = (null, null]\n",
            "INFO  [PerDiskMemtableFlushWriter_0:1] 2023-07-13 15:02:46,248 Memtable.java:528 - Completed flushing /content/apache-cassandra-4.0.10/data/data/system_schema/views-9786ac1cdd583201a7cdad556410c985/nb-1-big-Data.db (0.048KiB) for commitlog position CommitLogPosition(segmentId=1689260529336, position=42101)\n",
            "INFO  [MemtableFlushWriter:1] 2023-07-13 15:02:46,305 LogTransaction.java:242 - Unfinished transaction log, deleting /content/apache-cassandra-4.0.10/data/data/system_schema/views-9786ac1cdd583201a7cdad556410c985/nb_txn_flush_53550ee0-218e-11ee-8fcd-916263b94ccf.log \n",
            "INFO  [MigrationStage:1] 2023-07-13 15:02:46,312 ColumnFamilyStore.java:881 - Enqueuing flush of keyspaces: 3.243KiB (0%) on-heap, 0.000KiB (0%) off-heap\n",
            "INFO  [PerDiskMemtableFlushWriter_0:2] 2023-07-13 15:02:46,337 Memtable.java:499 - Writing Memtable-keyspaces@1491087227(0.673KiB serialized bytes, 7 ops, 0%/0% of on/off-heap limit), flushed range = (null, null]\n",
            "INFO  [PerDiskMemtableFlushWriter_0:2] 2023-07-13 15:02:46,339 Memtable.java:528 - Completed flushing /content/apache-cassandra-4.0.10/data/data/system_schema/keyspaces-abac5682dea631c5b535b3d6cffd0fb6/nb-1-big-Data.db (0.556KiB) for commitlog position CommitLogPosition(segmentId=1689260529336, position=42101)\n",
            "INFO  [MemtableFlushWriter:2] 2023-07-13 15:02:46,393 LogTransaction.java:242 - Unfinished transaction log, deleting /content/apache-cassandra-4.0.10/data/data/system_schema/keyspaces-abac5682dea631c5b535b3d6cffd0fb6/nb_txn_flush_5362f190-218e-11ee-8fcd-916263b94ccf.log \n",
            "INFO  [MigrationStage:1] 2023-07-13 15:02:46,502 Keyspace.java:386 - Creating replication strategy system_auth params KeyspaceParams{durable_writes=true, replication=ReplicationParams{class=org.apache.cassandra.locator.SimpleStrategy, replication_factor=1}}\n",
            "INFO  [MigrationStage:1] 2023-07-13 15:02:46,505 ColumnFamilyStore.java:385 - Initializing system_auth.network_permissions\n",
            "INFO  [MigrationStage:1] 2023-07-13 15:02:46,513 ColumnFamilyStore.java:385 - Initializing system_auth.resource_role_permissons_index\n",
            "INFO  [MigrationStage:1] 2023-07-13 15:02:46,521 ColumnFamilyStore.java:385 - Initializing system_auth.role_members\n",
            "INFO  [MigrationStage:1] 2023-07-13 15:02:46,527 ColumnFamilyStore.java:385 - Initializing system_auth.role_permissions\n",
            "INFO  [MigrationStage:1] 2023-07-13 15:02:46,534 ColumnFamilyStore.java:385 - Initializing system_auth.roles\n",
            "INFO  [MigrationStage:1] 2023-07-13 15:02:46,548 Keyspace.java:386 - Creating replication strategy system_distributed params KeyspaceParams{durable_writes=true, replication=ReplicationParams{class=org.apache.cassandra.locator.SimpleStrategy, replication_factor=3}}\n",
            "INFO  [MigrationStage:1] 2023-07-13 15:02:46,551 ColumnFamilyStore.java:385 - Initializing system_distributed.parent_repair_history\n",
            "INFO  [MigrationStage:1] 2023-07-13 15:02:46,560 ColumnFamilyStore.java:385 - Initializing system_distributed.repair_history\n",
            "INFO  [MigrationStage:1] 2023-07-13 15:02:46,568 ColumnFamilyStore.java:385 - Initializing system_distributed.view_build_status\n",
            "INFO  [MigrationStage:1] 2023-07-13 15:02:46,577 Keyspace.java:386 - Creating replication strategy system_traces params KeyspaceParams{durable_writes=true, replication=ReplicationParams{class=org.apache.cassandra.locator.SimpleStrategy, replication_factor=2}}\n",
            "INFO  [MigrationStage:1] 2023-07-13 15:02:46,580 ColumnFamilyStore.java:385 - Initializing system_traces.events\n",
            "INFO  [MigrationStage:1] 2023-07-13 15:02:46,587 ColumnFamilyStore.java:385 - Initializing system_traces.sessions\n",
            "INFO  [main] 2023-07-13 15:02:46,634 StorageService.java:1741 - JOINING: Finish joining ring\n",
            "INFO  [main] 2023-07-13 15:02:46,639 ColumnFamilyStore.java:881 - Enqueuing flush of local: 0.588KiB (0%) on-heap, 0.000KiB (0%) off-heap\n",
            "INFO  [PerDiskMemtableFlushWriter_0:1] 2023-07-13 15:02:46,670 Memtable.java:499 - Writing Memtable-local@1624557304(0.084KiB serialized bytes, 3 ops, 0%/0% of on/off-heap limit), flushed range = (null, null]\n",
            "INFO  [PerDiskMemtableFlushWriter_0:1] 2023-07-13 15:02:46,671 Memtable.java:528 - Completed flushing /content/apache-cassandra-4.0.10/data/data/system/local-7ad54392bcdd35a684174e047860b377/nb-5-big-Data.db (0.058KiB) for commitlog position CommitLogPosition(segmentId=1689260529336, position=42257)\n",
            "INFO  [MemtableFlushWriter:1] 2023-07-13 15:02:46,723 LogTransaction.java:242 - Unfinished transaction log, deleting /content/apache-cassandra-4.0.10/data/data/system/local-7ad54392bcdd35a684174e047860b377/nb_txn_flush_5394d700-218e-11ee-8fcd-916263b94ccf.log \n",
            "INFO  [main] 2023-07-13 15:02:46,738 ColumnFamilyStore.java:881 - Enqueuing flush of local: 3.403KiB (0%) on-heap, 0.000KiB (0%) off-heap\n",
            "INFO  [PerDiskMemtableFlushWriter_0:2] 2023-07-13 15:02:46,762 Memtable.java:499 - Writing Memtable-local@332988362(0.591KiB serialized bytes, 1 ops, 0%/0% of on/off-heap limit), flushed range = (null, null]\n",
            "INFO  [PerDiskMemtableFlushWriter_0:2] 2023-07-13 15:02:46,763 Memtable.java:528 - Completed flushing /content/apache-cassandra-4.0.10/data/data/system/local-7ad54392bcdd35a684174e047860b377/nb-6-big-Data.db (0.359KiB) for commitlog position CommitLogPosition(segmentId=1689260529336, position=42668)\n",
            "INFO  [MemtableFlushWriter:2] 2023-07-13 15:02:46,815 LogTransaction.java:242 - Unfinished transaction log, deleting /content/apache-cassandra-4.0.10/data/data/system/local-7ad54392bcdd35a684174e047860b377/nb_txn_flush_53a3f230-218e-11ee-8fcd-916263b94ccf.log \n",
            "INFO  [main] 2023-07-13 15:02:46,832 StorageService.java:2922 - Node localhost/127.0.0.1:7000 state jump to NORMAL\n"
          ]
        }
      ]
    },
    {
      "cell_type": "code",
      "source": [
        "!pip3 install cassandra-driver"
      ],
      "metadata": {
        "id": "b17QZtoBJHS2",
        "colab": {
          "base_uri": "https://localhost:8080/"
        },
        "outputId": "5f6115d7-8398-4c6d-e99e-9c4eb8b3194d"
      },
      "execution_count": null,
      "outputs": [
        {
          "output_type": "stream",
          "name": "stdout",
          "text": [
            "Collecting cassandra-driver\n",
            "  Downloading cassandra_driver-3.28.0-cp310-cp310-manylinux_2_17_x86_64.manylinux2014_x86_64.whl (19.1 MB)\n",
            "\u001b[2K     \u001b[90m━━━━━━━━━━━━━━━━━━━━━━━━━━━━━━━━━━━━━━━━\u001b[0m \u001b[32m19.1/19.1 MB\u001b[0m \u001b[31m37.3 MB/s\u001b[0m eta \u001b[36m0:00:00\u001b[0m\n",
            "\u001b[?25hRequirement already satisfied: six>=1.9 in /usr/local/lib/python3.10/dist-packages (from cassandra-driver) (1.16.0)\n",
            "Collecting geomet<0.3,>=0.1 (from cassandra-driver)\n",
            "  Downloading geomet-0.2.1.post1-py3-none-any.whl (18 kB)\n",
            "Requirement already satisfied: click in /usr/local/lib/python3.10/dist-packages (from geomet<0.3,>=0.1->cassandra-driver) (8.1.4)\n",
            "Installing collected packages: geomet, cassandra-driver\n",
            "Successfully installed cassandra-driver-3.28.0 geomet-0.2.1.post1\n"
          ]
        }
      ]
    },
    {
      "cell_type": "code",
      "source": [
        "import pandas as pd\n",
        "df=pd.read_csv(\"https://raw.githubusercontent.com/TXH2020/MainRepo/main/Projects/Python%20SQL/data.csv\",encoding=\"latin1\",header=None)\n",
        "df.columns=['id','title','isbn']\n",
        "df['isbn']=df['isbn'].apply(lambda x:str(x))\n",
        "df['title']=df['title'].apply(lambda x:x.replace(\"'\",' '))"
      ],
      "metadata": {
        "id": "X4NGZwohOj9b"
      },
      "execution_count": null,
      "outputs": []
    },
    {
      "cell_type": "code",
      "source": [
        "from cassandra.cluster import Cluster\n",
        "clstr=Cluster()\n",
        "session=clstr.connect()\n",
        "session.execute(\"\"\"create keyspace mykeyspace with replication={\n",
        "   'class': 'SimpleStrategy', 'replication_factor' : 1\n",
        "};\"\"\")\n"
      ],
      "metadata": {
        "id": "LX4LzSI1I8W2",
        "colab": {
          "base_uri": "https://localhost:8080/"
        },
        "outputId": "557626a3-f93c-46d0-e21d-cce413aeee2e"
      },
      "execution_count": null,
      "outputs": [
        {
          "output_type": "stream",
          "name": "stderr",
          "text": [
            "WARNING:cassandra.cluster:Downgrading core protocol version from 66 to 65 for 127.0.0.1:9042. To avoid this, it is best practice to explicitly set Cluster(protocol_version) to the version supported by your cluster. http://datastax.github.io/python-driver/api/cassandra/cluster.html#cassandra.cluster.Cluster.protocol_version\n",
            "WARNING:cassandra.cluster:Downgrading core protocol version from 65 to 5 for 127.0.0.1:9042. To avoid this, it is best practice to explicitly set Cluster(protocol_version) to the version supported by your cluster. http://datastax.github.io/python-driver/api/cassandra/cluster.html#cassandra.cluster.Cluster.protocol_version\n"
          ]
        },
        {
          "output_type": "execute_result",
          "data": {
            "text/plain": [
              "<cassandra.cluster.ResultSet at 0x7c9c98581030>"
            ]
          },
          "metadata": {},
          "execution_count": 19
        }
      ]
    },
    {
      "cell_type": "code",
      "source": [
        "session=clstr.connect('mykeyspace')\n",
        "qry= \"\"\"\n",
        "create table data (\n",
        "   id int,\n",
        "   name text,\n",
        "   isbn text,\n",
        "   primary key(id))\"\"\"\n",
        "session.execute(qry)"
      ],
      "metadata": {
        "id": "kpnvhyp_QMib",
        "colab": {
          "base_uri": "https://localhost:8080/"
        },
        "outputId": "9d6da09f-4051-4d40-c274-71d67c225548"
      },
      "execution_count": null,
      "outputs": [
        {
          "output_type": "execute_result",
          "data": {
            "text/plain": [
              "<cassandra.cluster.ResultSet at 0x7c9cc852e5f0>"
            ]
          },
          "metadata": {},
          "execution_count": 20
        }
      ]
    },
    {
      "cell_type": "code",
      "source": [
        "q=\"\"\"insert into data (id,name,isbn) values \"\"\"\n",
        "for i in range(df.shape[0]):\n",
        "  try:\n",
        "    session.execute(q+str(tuple(df.iloc[i])))\n",
        "  except:\n",
        "    pass"
      ],
      "metadata": {
        "id": "TQ2Urz9SR--0"
      },
      "execution_count": null,
      "outputs": []
    },
    {
      "cell_type": "code",
      "source": [
        "q1=\"select count(*) from data\"\n",
        "row=session.execute(q1)\n",
        "print(\"count = \",str(row.current_rows)[11:13])"
      ],
      "metadata": {
        "id": "CvOk1i6dWAX1",
        "colab": {
          "base_uri": "https://localhost:8080/"
        },
        "outputId": "eecb12b7-2a7c-49db-b5f7-b437be16a634"
      },
      "execution_count": null,
      "outputs": [
        {
          "output_type": "stream",
          "name": "stderr",
          "text": [
            "WARNING:cassandra.protocol:Server warning: Aggregation query used without partition key\n"
          ]
        },
        {
          "output_type": "stream",
          "name": "stdout",
          "text": [
            "count =  83\n"
          ]
        }
      ]
    },
    {
      "cell_type": "code",
      "source": [
        "q2=\"select * from data;\"\n",
        "rows=session.execute(q2)\n",
        "l=[]\n",
        "for row in rows:\n",
        "  l.append(list(row))"
      ],
      "metadata": {
        "id": "-73Ed0OCYYeM"
      },
      "execution_count": null,
      "outputs": []
    },
    {
      "cell_type": "code",
      "source": [
        "l.sort(key=lambda x:x[0])"
      ],
      "metadata": {
        "id": "8QaYsS_glxPG"
      },
      "execution_count": null,
      "outputs": []
    },
    {
      "cell_type": "code",
      "source": [
        "print(\"Result of select command\")\n",
        "for i in l:\n",
        "  print(i[0],i[1],i[2])"
      ],
      "metadata": {
        "id": "655WueFrl96o",
        "colab": {
          "base_uri": "https://localhost:8080/"
        },
        "outputId": "18236696-fcd5-4b39-f4ce-72670f7f5635"
      },
      "execution_count": null,
      "outputs": [
        {
          "output_type": "stream",
          "name": "stdout",
          "text": [
            "Result of select command\n",
            "1 123828863494 Bel and the Dragon \n",
            "2 1234404543724 Daughters of Men \n",
            "3 1236400967773 The Giant on the Hill \n",
            "4 1233673027750 Marsh Lights \n",
            "5 1232423190947 Mr. Wodehouse and the Wild Girl \n",
            "6 1237654836443 The Fairy Castle \n",
            "7 1230211946720 The Girl Who Walked a Long Way \n",
            "8 1238155430735 The Runaway \n",
            "9 1237366725549 The Shrubbery \n",
            "10 1239633328787 Tom Underground a play \n",
            "11 1233540471995 Anemones of the British Coast \n",
            "12 1237417184084 Ask to Embla poem-cycle \n",
            "13 1235260611012 Cassandra verse drama \n",
            "14 1230468662299 Chidiock Tichbourne \n",
            "15 1233136349197 The City of Is \n",
            "16 1239653041219 Cromwell verse drama \n",
            "17 1235927658929 Debatable Land Between This World and the Next \n",
            "18 1232341278470 The Fairy Melusina epic poem \n",
            "19 1234685512892 The Garden of Proserpina \n",
            "20 1233369260356 Gods Men and Heroes \n",
            "21 1237871538785 The Great Collector \n",
            "22 1234003421055 The Grecian Way of Love \n",
            "23 1233804025236 The Incarcerated Sorceress \n",
            "24 1231588537286 Last Tales \n",
            "25 1239338429682 Last Things \n",
            "26 1239409501196 Mummy Possest poem \n",
            "27 1239416066484 No Place Like home \n",
            "28 1231359225882 Pranks of Priapus \n",
            "29 1230741986307 Ragnarök \n",
            "30 1232294350642 The Shadowy Portal \n",
            "31 1238329678939 Jan Swammerdam poem \n",
            "32 1230082140880 St. Bartholomew s Eve verse drama \n",
            "33 1234392912372 Tales for innocents \n",
            "34 1234549242464 Tales Told in November \n",
            "35 1239374496485 Bel and the Dragon \n",
            "36 1235349316660 Daughters of Men \n",
            "37 1235644620578 The Giant on the Hill \n",
            "38 1235736344898 Marsh Lights \n",
            "39 1232744187226 Mr. Wodehouse and the Wild Girl \n",
            "40 1233729213076 The Fairy Castle \n",
            "41 1237641884608 The Girl Who Walked a Long Way \n",
            "42 1233964452155 The Runaway \n",
            "43 1231273626499 The Shrubbery \n",
            "44 1238441018900 Tom Underground a play \n",
            "45 1231377433718 In A Future Chalet School Girl: Mystery at Heron Lake \n",
            "46 1232395135758 In Althea Joins the Chalet School: The Secret of Castle Dancing \n",
            "47 1234185299775 In Carola Storms the Chalet School: The Rose Patrol in the Alps \n",
            "48 1234645928899 In The Chalet School Goes To It: Gipsy Jocelyn \n",
            "49 1230275004688 In Gay from China at the Chalet School: Indian Holiday and Nancy Meets a Nazi \n",
            "50 1230839327111 In Jo Returns to the Chalet School: Cecily Holds the Fort and Malvina Wins Through \n",
            "51 1237588408519 In Joey Goes to Oberland: Audrey Wins the Trick and Dora of the Lower Fifth \n",
            "52 1236495378720 In The Chalet School and the Island: The Sea Parrot \n",
            "53 1236588981768 In The Chalet School in Exile: Tessa in Tyrol \n",
            "54 1231308608691 In The Mystery at the Chalet School: The Leader of the Lost Cause \n",
            "55 1230312140169 In The New Mistress at the Chalet School: King s Soldier Maid and Swords Crossed \n",
            "56 1230967619568 In A Problem for the Chalet School: A Royalist Soldier-Maid and Werner of the Alps \n",
            "57 1230127072745 In Three Go to the Chalet School: Lavender Laughs in Kashmir \n",
            "58 1234238103911 In Tom Tackles the Chalet School: The Fugitive of the Salt Cave and The Secret House \n",
            "59 1230886230089 In Two Sams at the Chalet School: Swords for the King! \n",
            "60 1233675376783 In Maids of La Rochelle: Guernsey Folk Tales \n",
            "61 1236766330719 Bacon Death \n",
            "62 1236432913317 Breakfast First \n",
            "63 1234582103529 The Culinary Dostoevski \n",
            "64 1236148226462 The Egg Laid Twice \n",
            "65 1237321964604 He Kissed All Night \n",
            "66 1239609581078 A History of Nebraska \n",
            "67 1235105625585 Hombre \n",
            "68 1237435357811 It s the Queen of Darkness Pal \n",
            "69 1233766820792 Jack The Story of a Cat \n",
            "70 1236346938182 Leather Clothes and the History of Man \n",
            "71 1233800248087 Love Always Beautiful \n",
            "72 1232083986943 Moose \n",
            "73 1236297974136 My Dog \n",
            "74 1237550454699 My Trike \n",
            "75 1238912644528 The Need for Legalized Abortion \n",
            "76 1239707352212 The Other Side of My Hand \n",
            "77 1234761413168 Pancake Pretty \n",
            "78 1230702325223 Printer s Ink \n",
            "79 1236002513635 The Quick Forest \n",
            "80 1239666823646 Sam Sam Sam \n",
            "81 1231316672178 The Stereo and God \n",
            "82 1239778693754 UFO vs. CBS \n",
            "83 1237098200581 Vietnam Victory \n"
          ]
        }
      ]
    },
    {
      "cell_type": "code",
      "source": [
        "#Kill the cassandra server\n",
        "import psutil\n",
        "# Iterate over all running process\n",
        "for proc in psutil.process_iter():\n",
        "    try:\n",
        "        # Get process name & pid from process object.\n",
        "        processName = proc.name()\n",
        "        if(processName=='java'):\n",
        "          proc.kill()\n",
        "          break\n",
        "    except (psutil.NoSuchProcess, psutil.AccessDenied, psutil.ZombieProcess):\n",
        "        pass"
      ],
      "metadata": {
        "id": "qcnPjmIdGJAh"
      },
      "execution_count": null,
      "outputs": []
    },
    {
      "cell_type": "markdown",
      "source": [
        "##Python with Cloud SQL(Azure SQL DB)"
      ],
      "metadata": {
        "id": "UroJVW06RfMX"
      }
    },
    {
      "cell_type": "code",
      "source": [
        "!pip install pyodbc"
      ],
      "metadata": {
        "id": "ZaSSLM6eSTLg",
        "colab": {
          "base_uri": "https://localhost:8080/"
        },
        "outputId": "184b9c65-8816-4476-b47a-e5b5e7bfefe5"
      },
      "execution_count": null,
      "outputs": [
        {
          "output_type": "stream",
          "name": "stderr",
          "text": [
            "WARNING:cassandra.cluster:Host 127.0.0.1:9042 has been marked down\n"
          ]
        },
        {
          "output_type": "stream",
          "name": "stdout",
          "text": [
            "Looking in indexes: https://pypi.org/simple, https://us-python.pkg.dev/colab-wheels/public/simple/\n"
          ]
        },
        {
          "output_type": "stream",
          "name": "stderr",
          "text": [
            "WARNING:cassandra.pool:Error attempting to reconnect to 127.0.0.1:9042, scheduling retry in 1.86 seconds: [Errno 111] Tried connecting to [('127.0.0.1', 9042)]. Last error: Connection refused\n"
          ]
        },
        {
          "output_type": "stream",
          "name": "stdout",
          "text": [
            "Collecting pyodbc\n",
            "  Downloading pyodbc-4.0.34-cp37-cp37m-manylinux_2_24_x86_64.whl (472 kB)\n",
            "\u001b[?25l\r\u001b[K     |▊                               | 10 kB 15.3 MB/s eta 0:00:01\r\u001b[K     |█▍                              | 20 kB 4.8 MB/s eta 0:00:01\r\u001b[K     |██                              | 30 kB 6.8 MB/s eta 0:00:01\r\u001b[K     |██▊                             | 40 kB 3.6 MB/s eta 0:00:01\r\u001b[K     |███▌                            | 51 kB 3.5 MB/s eta 0:00:01\r\u001b[K     |████▏                           | 61 kB 4.1 MB/s eta 0:00:01\r\u001b[K     |████▉                           | 71 kB 4.6 MB/s eta 0:00:01\r\u001b[K     |█████▌                          | 81 kB 4.6 MB/s eta 0:00:01\r\u001b[K     |██████▎                         | 92 kB 5.1 MB/s eta 0:00:01\r\u001b[K     |███████                         | 102 kB 4.3 MB/s eta 0:00:01\r\u001b[K     |███████▋                        | 112 kB 4.3 MB/s eta 0:00:01\r\u001b[K     |████████▎                       | 122 kB 4.3 MB/s eta 0:00:01\r\u001b[K     |█████████                       | 133 kB 4.3 MB/s eta 0:00:01\r\u001b[K     |█████████▊                      | 143 kB 4.3 MB/s eta 0:00:01\r\u001b[K     |██████████▍                     | 153 kB 4.3 MB/s eta 0:00:01\r\u001b[K     |███████████                     | 163 kB 4.3 MB/s eta 0:00:01\r\u001b[K     |███████████▉                    | 174 kB 4.3 MB/s eta 0:00:01\r\u001b[K     |████████████▌                   | 184 kB 4.3 MB/s eta 0:00:01\r\u001b[K     |█████████████▏                  | 194 kB 4.3 MB/s eta 0:00:01\r\u001b[K     |█████████████▉                  | 204 kB 4.3 MB/s eta 0:00:01\r\u001b[K     |██████████████▋                 | 215 kB 4.3 MB/s eta 0:00:01\r\u001b[K     |███████████████▎                | 225 kB 4.3 MB/s eta 0:00:01\r\u001b[K     |████████████████                | 235 kB 4.3 MB/s eta 0:00:01\r\u001b[K     |████████████████▋               | 245 kB 4.3 MB/s eta 0:00:01\r\u001b[K     |█████████████████▍              | 256 kB 4.3 MB/s eta 0:00:01\r\u001b[K     |██████████████████              | 266 kB 4.3 MB/s eta 0:00:01\r\u001b[K     |██████████████████▊             | 276 kB 4.3 MB/s eta 0:00:01\r\u001b[K     |███████████████████▍            | 286 kB 4.3 MB/s eta 0:00:01\r\u001b[K     |████████████████████▏           | 296 kB 4.3 MB/s eta 0:00:01\r\u001b[K     |████████████████████▉           | 307 kB 4.3 MB/s eta 0:00:01\r\u001b[K     |█████████████████████▌          | 317 kB 4.3 MB/s eta 0:00:01\r\u001b[K     |██████████████████████▏         | 327 kB 4.3 MB/s eta 0:00:01\r\u001b[K     |███████████████████████         | 337 kB 4.3 MB/s eta 0:00:01\r\u001b[K     |███████████████████████▋        | 348 kB 4.3 MB/s eta 0:00:01\r\u001b[K     |████████████████████████▎       | 358 kB 4.3 MB/s eta 0:00:01\r\u001b[K     |█████████████████████████       | 368 kB 4.3 MB/s eta 0:00:01\r\u001b[K     |█████████████████████████▊      | 378 kB 4.3 MB/s eta 0:00:01\r\u001b[K     |██████████████████████████▍     | 389 kB 4.3 MB/s eta 0:00:01\r\u001b[K     |███████████████████████████     | 399 kB 4.3 MB/s eta 0:00:01\r\u001b[K     |███████████████████████████▊    | 409 kB 4.3 MB/s eta 0:00:01\r\u001b[K     |████████████████████████████▌   | 419 kB 4.3 MB/s eta 0:00:01\r\u001b[K     |█████████████████████████████▏  | 430 kB 4.3 MB/s eta 0:00:01\r\u001b[K     |█████████████████████████████▉  | 440 kB 4.3 MB/s eta 0:00:01\r\u001b[K     |██████████████████████████████▌ | 450 kB 4.3 MB/s eta 0:00:01\r\u001b[K     |███████████████████████████████▎| 460 kB 4.3 MB/s eta 0:00:01\r\u001b[K     |████████████████████████████████| 471 kB 4.3 MB/s eta 0:00:01\r\u001b[K     |████████████████████████████████| 472 kB 4.3 MB/s \n"
          ]
        },
        {
          "output_type": "stream",
          "name": "stderr",
          "text": [
            "WARNING:cassandra.pool:Error attempting to reconnect to 127.0.0.1:9042, scheduling retry in 3.4 seconds: [Errno 111] Tried connecting to [('127.0.0.1', 9042)]. Last error: Connection refused\n"
          ]
        },
        {
          "output_type": "stream",
          "name": "stdout",
          "text": [
            "\u001b[?25hInstalling collected packages: pyodbc\n",
            "Successfully installed pyodbc-4.0.34\n"
          ]
        }
      ]
    },
    {
      "cell_type": "code",
      "source": [
        "#Python with Azure Cloud SQL. However one must create an SQL server in Azure which isn't free.\n",
        "#Make sure that the database is created with sample data(AdventureWorksLT)\n",
        "\n",
        "import pyodbc\n",
        "server = 'tezserver.database.windows.net' #Enter your respective server name\n",
        "database = 'somedatabase'                 #Enter your respective database name\n",
        "username = 'Moto12'                       #Enter your respective usernname and password for SQL server\n",
        "password = 'Hello123*'\n",
        "driver= '{SQL Server}'\n",
        "\n",
        "try:\n",
        "  with pyodbc.connect('DRIVER='+driver+';SERVER=tcp:'+server+';PORT=1433;DATABASE='+database+';UID='+username+';PWD='+ password) as conn:\n",
        "    with conn.cursor() as cursor:\n",
        "        cursor.execute(\"select * from [SalesLT].[Product]\")\n",
        "        row = cursor.fetchone()\n",
        "        while row:\n",
        "            print (str(row[0]) + \" \" + str(row[1]))\n",
        "            row = cursor.fetchone()\n",
        "except:\n",
        "  print(\"Sorry the database does not exist\")"
      ],
      "metadata": {
        "id": "kOwpItEQSPdg",
        "colab": {
          "base_uri": "https://localhost:8080/"
        },
        "outputId": "a9029a58-1c96-4157-ec0c-8c08d40333d8"
      },
      "execution_count": null,
      "outputs": [
        {
          "output_type": "stream",
          "name": "stdout",
          "text": [
            "Sorry the database does not exist\n"
          ]
        }
      ]
    }
  ]
}
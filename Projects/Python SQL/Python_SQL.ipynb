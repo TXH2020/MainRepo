{
  "nbformat": 4,
  "nbformat_minor": 0,
  "metadata": {
    "colab": {
      "provenance": [],
      "collapsed_sections": [],
      "authorship_tag": "ABX9TyN2dggxS00QqOMRl0QZH6Ya",
      "include_colab_link": true
    },
    "kernelspec": {
      "name": "python3",
      "display_name": "Python 3"
    },
    "language_info": {
      "name": "python"
    }
  },
  "cells": [
    {
      "cell_type": "markdown",
      "metadata": {
        "id": "view-in-github",
        "colab_type": "text"
      },
      "source": [
        "<a href=\"https://colab.research.google.com/github/TXH2020/MainRepo/blob/main/Projects/Python%20SQL/Python_SQL.ipynb\" target=\"_parent\"><img src=\"https://colab.research.google.com/assets/colab-badge.svg\" alt=\"Open In Colab\"/></a>"
      ]
    },
    {
      "cell_type": "markdown",
      "source": [
        "##Python with MYSQL:"
      ],
      "metadata": {
        "id": "BhGNZ1vWM2Sg"
      }
    },
    {
      "cell_type": "code",
      "execution_count": 1,
      "metadata": {
        "id": "dmpN3pG9-7XG",
        "colab": {
          "base_uri": "https://localhost:8080/"
        },
        "outputId": "6bc90970-a15c-4651-f116-67c3ee0758fa"
      },
      "outputs": [
        {
          "output_type": "stream",
          "name": "stdout",
          "text": [
            "Get:1 https://cloud.r-project.org/bin/linux/ubuntu bionic-cran40/ InRelease [3,626 B]\n",
            "Ign:2 https://developer.download.nvidia.com/compute/machine-learning/repos/ubuntu1804/x86_64  InRelease\n",
            "Get:3 https://developer.download.nvidia.com/compute/cuda/repos/ubuntu1804/x86_64  InRelease [1,581 B]\n",
            "Hit:4 https://developer.download.nvidia.com/compute/machine-learning/repos/ubuntu1804/x86_64  Release\n",
            "Get:5 http://ppa.launchpad.net/c2d4u.team/c2d4u4.0+/ubuntu bionic InRelease [15.9 kB]\n",
            "Get:6 https://cloud.r-project.org/bin/linux/ubuntu bionic-cran40/ Packages [95.2 kB]\n",
            "Get:7 https://developer.download.nvidia.com/compute/cuda/repos/ubuntu1804/x86_64  Packages [983 kB]\n",
            "Hit:8 http://archive.ubuntu.com/ubuntu bionic InRelease\n",
            "Get:9 http://security.ubuntu.com/ubuntu bionic-security InRelease [88.7 kB]\n",
            "Get:10 http://archive.ubuntu.com/ubuntu bionic-updates InRelease [88.7 kB]\n",
            "Hit:12 http://ppa.launchpad.net/cran/libgit2/ubuntu bionic InRelease\n",
            "Get:13 http://archive.ubuntu.com/ubuntu bionic-backports InRelease [83.3 kB]\n",
            "Hit:14 http://ppa.launchpad.net/deadsnakes/ppa/ubuntu bionic InRelease\n",
            "Get:15 http://archive.ubuntu.com/ubuntu bionic-updates/restricted amd64 Packages [1,248 kB]\n",
            "Hit:16 http://ppa.launchpad.net/graphics-drivers/ppa/ubuntu bionic InRelease\n",
            "Get:17 http://security.ubuntu.com/ubuntu bionic-security/universe amd64 Packages [1,554 kB]\n",
            "Get:18 http://ppa.launchpad.net/c2d4u.team/c2d4u4.0+/ubuntu bionic/main Sources [2,165 kB]\n",
            "Get:19 http://archive.ubuntu.com/ubuntu bionic-updates/universe amd64 Packages [2,332 kB]\n",
            "Get:20 http://archive.ubuntu.com/ubuntu bionic-updates/main amd64 Packages [3,467 kB]\n",
            "Get:21 http://security.ubuntu.com/ubuntu bionic-security/restricted amd64 Packages [1,208 kB]\n",
            "Get:22 http://security.ubuntu.com/ubuntu bionic-security/main amd64 Packages [3,035 kB]\n",
            "Get:23 http://ppa.launchpad.net/c2d4u.team/c2d4u4.0+/ubuntu bionic/main amd64 Packages [1,109 kB]\n",
            "Fetched 17.5 MB in 6s (2,950 kB/s)\n",
            "Reading package lists... Done\n",
            "Reading package lists... Done\n",
            "Building dependency tree       \n",
            "Reading state information... Done\n",
            "The following package was automatically installed and is no longer required:\n",
            "  libnvidia-common-460\n",
            "Use 'apt autoremove' to remove it.\n",
            "The following additional packages will be installed:\n",
            "  libcgi-fast-perl libcgi-pm-perl libencode-locale-perl libevent-core-2.1-6\n",
            "  libfcgi-perl libhtml-parser-perl libhtml-tagset-perl libhtml-template-perl\n",
            "  libhttp-date-perl libhttp-message-perl libio-html-perl\n",
            "  liblwp-mediatypes-perl libtimedate-perl liburi-perl mysql-client-5.7\n",
            "  mysql-client-core-5.7 mysql-server-5.7 mysql-server-core-5.7\n",
            "Suggested packages:\n",
            "  libdata-dump-perl libipc-sharedcache-perl libwww-perl mailx tinyca\n",
            "The following NEW packages will be installed:\n",
            "  libcgi-fast-perl libcgi-pm-perl libencode-locale-perl libevent-core-2.1-6\n",
            "  libfcgi-perl libhtml-parser-perl libhtml-tagset-perl libhtml-template-perl\n",
            "  libhttp-date-perl libhttp-message-perl libio-html-perl\n",
            "  liblwp-mediatypes-perl libtimedate-perl liburi-perl mysql-client-5.7\n",
            "  mysql-client-core-5.7 mysql-server mysql-server-5.7 mysql-server-core-5.7\n",
            "0 upgraded, 19 newly installed, 0 to remove and 38 not upgraded.\n",
            "Need to get 20.0 MB of archives.\n",
            "After this operation, 157 MB of additional disk space will be used.\n",
            "Get:1 http://archive.ubuntu.com/ubuntu bionic-updates/main amd64 mysql-client-core-5.7 amd64 5.7.39-0ubuntu0.18.04.2 [6,746 kB]\n",
            "Get:2 http://archive.ubuntu.com/ubuntu bionic-updates/main amd64 mysql-client-5.7 amd64 5.7.39-0ubuntu0.18.04.2 [2,026 kB]\n",
            "Get:3 http://archive.ubuntu.com/ubuntu bionic-updates/main amd64 mysql-server-core-5.7 amd64 5.7.39-0ubuntu0.18.04.2 [7,531 kB]\n",
            "Get:4 http://archive.ubuntu.com/ubuntu bionic/main amd64 libevent-core-2.1-6 amd64 2.1.8-stable-4build1 [85.9 kB]\n",
            "Get:5 http://archive.ubuntu.com/ubuntu bionic-updates/main amd64 mysql-server-5.7 amd64 5.7.39-0ubuntu0.18.04.2 [3,001 kB]\n",
            "Get:6 http://archive.ubuntu.com/ubuntu bionic/main amd64 libhtml-tagset-perl all 3.20-3 [12.1 kB]\n",
            "Get:7 http://archive.ubuntu.com/ubuntu bionic/main amd64 liburi-perl all 1.73-1 [77.2 kB]\n",
            "Get:8 http://archive.ubuntu.com/ubuntu bionic/main amd64 libhtml-parser-perl amd64 3.72-3build1 [85.9 kB]\n",
            "Get:9 http://archive.ubuntu.com/ubuntu bionic/main amd64 libcgi-pm-perl all 4.38-1 [185 kB]\n",
            "Get:10 http://archive.ubuntu.com/ubuntu bionic/main amd64 libfcgi-perl amd64 0.78-2build1 [32.8 kB]\n",
            "Get:11 http://archive.ubuntu.com/ubuntu bionic/main amd64 libcgi-fast-perl all 1:2.13-1 [9,940 B]\n",
            "Get:12 http://archive.ubuntu.com/ubuntu bionic/main amd64 libencode-locale-perl all 1.05-1 [12.3 kB]\n",
            "Get:13 http://archive.ubuntu.com/ubuntu bionic/main amd64 libhtml-template-perl all 2.97-1 [59.0 kB]\n",
            "Get:14 http://archive.ubuntu.com/ubuntu bionic/main amd64 libtimedate-perl all 2.3000-2 [37.5 kB]\n",
            "Get:15 http://archive.ubuntu.com/ubuntu bionic/main amd64 libhttp-date-perl all 6.02-1 [10.4 kB]\n",
            "Get:16 http://archive.ubuntu.com/ubuntu bionic/main amd64 libio-html-perl all 1.001-1 [14.9 kB]\n",
            "Get:17 http://archive.ubuntu.com/ubuntu bionic/main amd64 liblwp-mediatypes-perl all 6.02-1 [21.7 kB]\n",
            "Get:18 http://archive.ubuntu.com/ubuntu bionic/main amd64 libhttp-message-perl all 6.14-1 [72.1 kB]\n",
            "Get:19 http://archive.ubuntu.com/ubuntu bionic-updates/main amd64 mysql-server all 5.7.39-0ubuntu0.18.04.2 [9,944 B]\n",
            "Fetched 20.0 MB in 3s (5,856 kB/s)\n",
            "Preconfiguring packages ...\n",
            "Selecting previously unselected package mysql-client-core-5.7.\n",
            "(Reading database ... 123941 files and directories currently installed.)\n",
            "Preparing to unpack .../00-mysql-client-core-5.7_5.7.39-0ubuntu0.18.04.2_amd64.deb ...\n",
            "Unpacking mysql-client-core-5.7 (5.7.39-0ubuntu0.18.04.2) ...\n",
            "Selecting previously unselected package mysql-client-5.7.\n",
            "Preparing to unpack .../01-mysql-client-5.7_5.7.39-0ubuntu0.18.04.2_amd64.deb ...\n",
            "Unpacking mysql-client-5.7 (5.7.39-0ubuntu0.18.04.2) ...\n",
            "Selecting previously unselected package mysql-server-core-5.7.\n",
            "Preparing to unpack .../02-mysql-server-core-5.7_5.7.39-0ubuntu0.18.04.2_amd64.deb ...\n",
            "Unpacking mysql-server-core-5.7 (5.7.39-0ubuntu0.18.04.2) ...\n",
            "Selecting previously unselected package libevent-core-2.1-6:amd64.\n",
            "Preparing to unpack .../03-libevent-core-2.1-6_2.1.8-stable-4build1_amd64.deb ...\n",
            "Unpacking libevent-core-2.1-6:amd64 (2.1.8-stable-4build1) ...\n",
            "Selecting previously unselected package mysql-server-5.7.\n",
            "Preparing to unpack .../04-mysql-server-5.7_5.7.39-0ubuntu0.18.04.2_amd64.deb ...\n",
            "Unpacking mysql-server-5.7 (5.7.39-0ubuntu0.18.04.2) ...\n",
            "Selecting previously unselected package libhtml-tagset-perl.\n",
            "Preparing to unpack .../05-libhtml-tagset-perl_3.20-3_all.deb ...\n",
            "Unpacking libhtml-tagset-perl (3.20-3) ...\n",
            "Selecting previously unselected package liburi-perl.\n",
            "Preparing to unpack .../06-liburi-perl_1.73-1_all.deb ...\n",
            "Unpacking liburi-perl (1.73-1) ...\n",
            "Selecting previously unselected package libhtml-parser-perl.\n",
            "Preparing to unpack .../07-libhtml-parser-perl_3.72-3build1_amd64.deb ...\n",
            "Unpacking libhtml-parser-perl (3.72-3build1) ...\n",
            "Selecting previously unselected package libcgi-pm-perl.\n",
            "Preparing to unpack .../08-libcgi-pm-perl_4.38-1_all.deb ...\n",
            "Unpacking libcgi-pm-perl (4.38-1) ...\n",
            "Selecting previously unselected package libfcgi-perl.\n",
            "Preparing to unpack .../09-libfcgi-perl_0.78-2build1_amd64.deb ...\n",
            "Unpacking libfcgi-perl (0.78-2build1) ...\n",
            "Selecting previously unselected package libcgi-fast-perl.\n",
            "Preparing to unpack .../10-libcgi-fast-perl_1%3a2.13-1_all.deb ...\n",
            "Unpacking libcgi-fast-perl (1:2.13-1) ...\n",
            "Selecting previously unselected package libencode-locale-perl.\n",
            "Preparing to unpack .../11-libencode-locale-perl_1.05-1_all.deb ...\n",
            "Unpacking libencode-locale-perl (1.05-1) ...\n",
            "Selecting previously unselected package libhtml-template-perl.\n",
            "Preparing to unpack .../12-libhtml-template-perl_2.97-1_all.deb ...\n",
            "Unpacking libhtml-template-perl (2.97-1) ...\n",
            "Selecting previously unselected package libtimedate-perl.\n",
            "Preparing to unpack .../13-libtimedate-perl_2.3000-2_all.deb ...\n",
            "Unpacking libtimedate-perl (2.3000-2) ...\n",
            "Selecting previously unselected package libhttp-date-perl.\n",
            "Preparing to unpack .../14-libhttp-date-perl_6.02-1_all.deb ...\n",
            "Unpacking libhttp-date-perl (6.02-1) ...\n",
            "Selecting previously unselected package libio-html-perl.\n",
            "Preparing to unpack .../15-libio-html-perl_1.001-1_all.deb ...\n",
            "Unpacking libio-html-perl (1.001-1) ...\n",
            "Selecting previously unselected package liblwp-mediatypes-perl.\n",
            "Preparing to unpack .../16-liblwp-mediatypes-perl_6.02-1_all.deb ...\n",
            "Unpacking liblwp-mediatypes-perl (6.02-1) ...\n",
            "Selecting previously unselected package libhttp-message-perl.\n",
            "Preparing to unpack .../17-libhttp-message-perl_6.14-1_all.deb ...\n",
            "Unpacking libhttp-message-perl (6.14-1) ...\n",
            "Selecting previously unselected package mysql-server.\n",
            "Preparing to unpack .../18-mysql-server_5.7.39-0ubuntu0.18.04.2_all.deb ...\n",
            "Unpacking mysql-server (5.7.39-0ubuntu0.18.04.2) ...\n",
            "Setting up libhtml-tagset-perl (3.20-3) ...\n",
            "Setting up libevent-core-2.1-6:amd64 (2.1.8-stable-4build1) ...\n",
            "Setting up libencode-locale-perl (1.05-1) ...\n",
            "Setting up mysql-server-core-5.7 (5.7.39-0ubuntu0.18.04.2) ...\n",
            "Setting up libtimedate-perl (2.3000-2) ...\n",
            "Setting up libio-html-perl (1.001-1) ...\n",
            "Setting up liblwp-mediatypes-perl (6.02-1) ...\n",
            "Setting up liburi-perl (1.73-1) ...\n",
            "Setting up libhtml-parser-perl (3.72-3build1) ...\n",
            "Setting up libcgi-pm-perl (4.38-1) ...\n",
            "Setting up mysql-client-core-5.7 (5.7.39-0ubuntu0.18.04.2) ...\n",
            "Setting up libfcgi-perl (0.78-2build1) ...\n",
            "Setting up libhttp-date-perl (6.02-1) ...\n",
            "Setting up libhtml-template-perl (2.97-1) ...\n",
            "Setting up libcgi-fast-perl (1:2.13-1) ...\n",
            "Setting up libhttp-message-perl (6.14-1) ...\n",
            "Setting up mysql-client-5.7 (5.7.39-0ubuntu0.18.04.2) ...\n",
            "Setting up mysql-server-5.7 (5.7.39-0ubuntu0.18.04.2) ...\n",
            "invoke-rc.d: could not determine current runlevel\n",
            "invoke-rc.d: policy-rc.d denied execution of stop.\n",
            "update-alternatives: using /etc/mysql/mysql.cnf to provide /etc/mysql/my.cnf (my.cnf) in auto mode\n",
            "Renaming removed key_buffer and myisam-recover options (if present)\n",
            "Created symlink /etc/systemd/system/multi-user.target.wants/mysql.service → /lib/systemd/system/mysql.service.\n",
            "invoke-rc.d: could not determine current runlevel\n",
            "invoke-rc.d: policy-rc.d denied execution of start.\n",
            "Setting up mysql-server (5.7.39-0ubuntu0.18.04.2) ...\n",
            "Processing triggers for systemd (237-3ubuntu10.56) ...\n",
            "Processing triggers for man-db (2.8.3-2ubuntu0.1) ...\n",
            "Processing triggers for libc-bin (2.27-3ubuntu1.6) ...\n"
          ]
        }
      ],
      "source": [
        "!apt-get update\n",
        "!apt install mysql-server"
      ]
    },
    {
      "cell_type": "code",
      "source": [
        "!sudo service mysql start"
      ],
      "metadata": {
        "id": "j9VGbQXc_hil",
        "colab": {
          "base_uri": "https://localhost:8080/"
        },
        "outputId": "75132868-d6f4-446e-d18a-ffbf475af158"
      },
      "execution_count": 2,
      "outputs": [
        {
          "output_type": "stream",
          "name": "stdout",
          "text": [
            " * Starting MySQL database server mysqld\n",
            "No directory, logging in with HOME=/\n",
            "   ...done.\n"
          ]
        }
      ]
    },
    {
      "cell_type": "code",
      "source": [
        "!pip install mysql-connector-python"
      ],
      "metadata": {
        "id": "v581hq05BWA9",
        "colab": {
          "base_uri": "https://localhost:8080/"
        },
        "outputId": "7bedf7b5-275e-4945-8097-578234edd895"
      },
      "execution_count": 3,
      "outputs": [
        {
          "output_type": "stream",
          "name": "stdout",
          "text": [
            "Looking in indexes: https://pypi.org/simple, https://us-python.pkg.dev/colab-wheels/public/simple/\n",
            "Collecting mysql-connector-python\n",
            "  Downloading mysql_connector_python-8.0.31-cp37-cp37m-manylinux1_x86_64.whl (23.5 MB)\n",
            "\u001b[K     |████████████████████████████████| 23.5 MB 1.3 MB/s \n",
            "\u001b[?25hRequirement already satisfied: protobuf<=3.20.1,>=3.11.0 in /usr/local/lib/python3.7/dist-packages (from mysql-connector-python) (3.17.3)\n",
            "Requirement already satisfied: six>=1.9 in /usr/local/lib/python3.7/dist-packages (from protobuf<=3.20.1,>=3.11.0->mysql-connector-python) (1.15.0)\n",
            "Installing collected packages: mysql-connector-python\n",
            "Successfully installed mysql-connector-python-8.0.31\n"
          ]
        }
      ]
    },
    {
      "cell_type": "markdown",
      "source": [
        "###To configure the mysql server\n",
        "###Run the below cell\n",
        "###After login, type: use mysql;\n",
        "###Then execute the below command:\n",
        "###ALTER USER 'root'@'localhost' IDENTIFIED WITH mysql_native_password BY 'jtp12345';\n",
        "###Then type exit"
      ],
      "metadata": {
        "id": "FVDv_eBkHwbm"
      }
    },
    {
      "cell_type": "code",
      "source": [
        "!mysql -u root"
      ],
      "metadata": {
        "id": "coqwdCWH9aND",
        "colab": {
          "base_uri": "https://localhost:8080/"
        },
        "outputId": "ba02c12a-8f4f-40e5-b191-fee7dbe6a974"
      },
      "execution_count": 4,
      "outputs": [
        {
          "output_type": "stream",
          "name": "stdout",
          "text": [
            "Welcome to the MySQL monitor.  Commands end with ; or \\g.\n",
            "Your MySQL connection id is 4\n",
            "Server version: 5.7.39-0ubuntu0.18.04.2 (Ubuntu)\n",
            "\n",
            "Copyright (c) 2000, 2022, Oracle and/or its affiliates.\n",
            "\n",
            "Oracle is a registered trademark of Oracle Corporation and/or its\n",
            "affiliates. Other names may be trademarks of their respective\n",
            "owners.\n",
            "\n",
            "Type 'help;' or '\\h' for help. Type '\\c' to clear the current input statement.\r\n",
            "\n",
            "mysql> use mysql\n",
            "Reading table information for completion of table and column names\n",
            "You can turn off this feature to get a quicker startup with -A\n",
            "\n",
            "Database changed\n",
            "mysql> ALTER USER 'root'@'localhost' IDENTIFIED WITH mysql_native_password BY 'j \btp12345';\n",
            "Query OK, 0 rows affected (0.00 sec)\n",
            "\n",
            "mysql> exit\n",
            "Bye\n"
          ]
        }
      ]
    },
    {
      "cell_type": "code",
      "source": [
        "#Python MySQL\n",
        "import requests\n",
        "response=requests.get(\"https://raw.githubusercontent.com/TXH2020/MainRepo/main/Projects/Python%20SQL/example.sql\")\n",
        "with open(\"mysql.sql\",'wb') as file:\n",
        "    file.write(response.content)\n",
        "\n",
        "import mysql.connector as my\n",
        "try:\n",
        " cnx=my.connect(user=\"root\",host=\"localhost\",password=\"jtp12345\")\n",
        "except my.Error as e:\n",
        " print(e)\n",
        "else:\n",
        "    file=open('mysql.sql','r',encoding='latin-1')\n",
        "    s=file.read()\n",
        "    file.close()\n",
        "    l=s.split(';')\n",
        "    cr=cnx.cursor()\n",
        "    for i in l:\n",
        "        try:\n",
        "            cr.execute(i,multi=True)\n",
        "        except my.Error as e:\n",
        "            print(e.msg)\n",
        "    cnx.commit()\n",
        "    cnx.close()\n",
        "\n",
        "try:\n",
        "     cnx = my.connect(user=\"root\",host=\"localhost\",password=\"jtp12345\")\n",
        "except my.Error as e:\n",
        " print(e)\n",
        "else:\n",
        " cr=cnx.cursor()\n",
        " print(\"******************\")\n",
        " cr.execute(\"use python_mysql\")\n",
        " cr.execute(\"Select *from books\")    #Manipulate database\n",
        " k=0\n",
        " for i in cr:\n",
        "     k=k+1\n",
        "     print(i)\n",
        " print(\"No. of records=\", k)\n",
        " print(\"******************\")\n",
        "\n",
        " cr.execute(\"show columns from books\")\n",
        " for i in cr:\n",
        "     print(i[0])                         #Showing column names\n",
        " print(\"******************\")\n",
        "\n",
        " add_book = (\"INSERT INTO books\"\n",
        "                 \"(id, title, isbn)\"\n",
        "                 \"VALUES (%s, %s, %s)\")\n",
        " book = (86,'Hello World',\"1234567898784\")\n",
        " cr.execute(add_book,book)            #Inserting record\n",
        " cr.execute(\"select count(id) from books\")\n",
        " print(\"Number of records after inserting is=\",cr.fetchall())\n",
        " print(\"*******************\")\n",
        " cr.execute(\"delete from books where id=86\")\n",
        " cr.execute(\"select count(id) from books\")\n",
        " print(\"Number of records after deleting row with id=86 is=\", cr.fetchall())\n",
        " cnx.close()\n",
        "#Like this we can use any Mysql command in Python using mysql connector."
      ],
      "metadata": {
        "id": "IdyvgB-JBMxF",
        "colab": {
          "base_uri": "https://localhost:8080/"
        },
        "outputId": "806f3251-d4b4-4c28-b839-7459b75365f1"
      },
      "execution_count": 5,
      "outputs": [
        {
          "output_type": "stream",
          "name": "stdout",
          "text": [
            "******************\n",
            "(1, 'Bel and the Dragon ', '123828863494')\n",
            "(2, 'Daughters of Men ', '1234404543724')\n",
            "(3, 'The Giant on the Hill ', '1236400967773')\n",
            "(4, 'Marsh Lights ', '1233673027750')\n",
            "(5, 'Mr. Wodehouse and the Wild Girl ', '1232423190947')\n",
            "(6, 'The Fairy Castle ', '1237654836443')\n",
            "(7, 'The Girl Who Walked a Long Way ', '1230211946720')\n",
            "(8, 'The Runaway ', '1238155430735')\n",
            "(9, 'The Shrubbery ', '1237366725549')\n",
            "(10, 'Tom Underground a play ', '1239633328787')\n",
            "(11, 'Anemones of the British Coast ', '1233540471995')\n",
            "(12, 'Ask to Embla poem-cycle ', '1237417184084')\n",
            "(13, 'Cassandra verse drama ', '1235260611012')\n",
            "(14, 'Chidiock Tichbourne ', '1230468662299')\n",
            "(15, 'The City of Is ', '1233136349197')\n",
            "(16, 'Cromwell verse drama ', '1239653041219')\n",
            "(17, 'Debatable Land Between This World and the Next ', '1235927658929')\n",
            "(18, 'The Fairy Melusina epic poem ', '1232341278470')\n",
            "(19, 'The Garden of Proserpina ', '1234685512892')\n",
            "(20, 'Gods Men and Heroes ', '1233369260356')\n",
            "(21, 'The Great Collector ', '1237871538785')\n",
            "(22, 'The Grecian Way of Love ', '1234003421055')\n",
            "(23, 'The Incarcerated Sorceress ', '1233804025236')\n",
            "(24, 'Last Tales ', '1231588537286')\n",
            "(25, 'Last Things ', '1239338429682')\n",
            "(26, 'Mummy Possest poem ', '1239409501196')\n",
            "(27, 'No Place Like home ', '1239416066484')\n",
            "(28, 'Pranks of Priapus ', '1231359225882')\n",
            "(29, 'Ragnarök ', '1230741986307')\n",
            "(30, 'The Shadowy Portal ', '1232294350642')\n",
            "(31, 'Jan Swammerdam poem ', '1238329678939')\n",
            "(32, \"St. Bartholomew's Eve verse drama \", '1230082140880')\n",
            "(33, 'Tales for innocents ', '1234392912372')\n",
            "(34, 'Tales Told in November ', '1234549242464')\n",
            "(35, 'Bel and the Dragon ', '1239374496485')\n",
            "(36, 'Daughters of Men ', '1235349316660')\n",
            "(37, 'The Giant on the Hill ', '1235644620578')\n",
            "(38, 'Marsh Lights ', '1235736344898')\n",
            "(39, 'Mr. Wodehouse and the Wild Girl ', '1232744187226')\n",
            "(40, 'The Fairy Castle ', '1233729213076')\n",
            "(41, 'The Girl Who Walked a Long Way ', '1237641884608')\n",
            "(42, 'The Runaway ', '1233964452155')\n",
            "(43, 'The Shrubbery ', '1231273626499')\n",
            "(44, 'Tom Underground a play ', '1238441018900')\n",
            "(45, 'In A Future Chalet School Girl: Mystery at Heron Lake ', '1231377433718')\n",
            "(46, 'In Althea Joins the Chalet School: The Secret of Castle Dancing ', '1232395135758')\n",
            "(47, 'In Carola Storms the Chalet School: The Rose Patrol in the Alps ', '1234185299775')\n",
            "(48, 'In The Chalet School Goes To It: Gipsy Jocelyn ', '1234645928899')\n",
            "(49, 'In Gay from China at the Chalet School: Indian Holiday and Nancy Meets a Nazi ', '1230275004688')\n",
            "(50, 'In Jo Returns to the Chalet School: Cecily Holds the Fort and Malvina Wins Through ', '1230839327111')\n",
            "(51, 'In Joey Goes to Oberland: Audrey Wins the Trick and Dora of the Lower Fifth ', '1237588408519')\n",
            "(52, 'In The Chalet School and the Island: The Sea Parrot ', '1236495378720')\n",
            "(53, 'In The Chalet School in Exile: Tessa in Tyrol ', '1236588981768')\n",
            "(54, 'In The Mystery at the Chalet School: The Leader of the Lost Cause ', '1231308608691')\n",
            "(55, \"In The New Mistress at the Chalet School: King's Soldier Maid and Swords Crossed \", '1230312140169')\n",
            "(56, 'In A Problem for the Chalet School: A Royalist Soldier-Maid and Werner of the Alps ', '1230967619568')\n",
            "(57, 'In Three Go to the Chalet School: Lavender Laughs in Kashmir ', '1230127072745')\n",
            "(58, 'In Tom Tackles the Chalet School: The Fugitive of the Salt Cave and The Secret House ', '1234238103911')\n",
            "(59, 'In Two Sams at the Chalet School: Swords for the King! ', '1230886230089')\n",
            "(60, 'In Maids of La Rochelle: Guernsey Folk Tales ', '1233675376783')\n",
            "(61, 'Bacon Death ', '1236766330719')\n",
            "(62, 'Breakfast First ', '1236432913317')\n",
            "(63, 'The Culinary Dostoevski ', '1234582103529')\n",
            "(64, 'The Egg Laid Twice ', '1236148226462')\n",
            "(65, 'He Kissed All Night ', '1237321964604')\n",
            "(66, 'A History of Nebraska ', '1239609581078')\n",
            "(67, 'Hombre ', '1235105625585')\n",
            "(68, \"It's the Queen of Darkness Pal \", '1237435357811')\n",
            "(69, 'Jack The Story of a Cat ', '1233766820792')\n",
            "(70, 'Leather Clothes and the History of Man ', '1236346938182')\n",
            "(71, 'Love Always Beautiful ', '1233800248087')\n",
            "(72, 'Moose ', '1232083986943')\n",
            "(73, 'My Dog ', '1236297974136')\n",
            "(74, 'My Trike ', '1237550454699')\n",
            "(75, 'The Need for Legalized Abortion ', '1238912644528')\n",
            "(76, 'The Other Side of My Hand ', '1239707352212')\n",
            "(77, 'Pancake Pretty ', '1234761413168')\n",
            "(78, \"Printer's Ink \", '1230702325223')\n",
            "(79, 'The Quick Forest ', '1236002513635')\n",
            "(80, 'Sam Sam Sam ', '1239666823646')\n",
            "(81, 'The Stereo and God ', '1231316672178')\n",
            "(82, 'UFO vs. CBS ', '1239778693754')\n",
            "(83, 'Vietnam Victory ', '1237098200581')\n",
            "No. of records= 83\n",
            "******************\n",
            "id\n",
            "title\n",
            "isbn\n",
            "******************\n",
            "Number of records after inserting is= [(84,)]\n",
            "*******************\n",
            "Number of records after deleting row with id=86 is= [(83,)]\n"
          ]
        }
      ]
    },
    {
      "cell_type": "code",
      "source": [
        "!sudo service mysql stop"
      ],
      "metadata": {
        "id": "qv0NovPOBEBV",
        "colab": {
          "base_uri": "https://localhost:8080/"
        },
        "outputId": "4bd75b1e-5f4d-476c-bfb4-8d09204f2440"
      },
      "execution_count": 6,
      "outputs": [
        {
          "output_type": "stream",
          "name": "stdout",
          "text": [
            " * Stopping MySQL database server mysqld\n",
            "   ...done.\n"
          ]
        }
      ]
    },
    {
      "cell_type": "markdown",
      "source": [
        "##Python with NoSQL(MongoDB)"
      ],
      "metadata": {
        "id": "ZlBKqlB_NDVf"
      }
    },
    {
      "cell_type": "code",
      "source": [
        "!sudo apt-get install mongodb"
      ],
      "metadata": {
        "id": "ljW1ic_mQHa3",
        "colab": {
          "base_uri": "https://localhost:8080/"
        },
        "outputId": "f7253d43-2954-4ea7-c502-c04bdd169f98"
      },
      "execution_count": 7,
      "outputs": [
        {
          "output_type": "stream",
          "name": "stdout",
          "text": [
            "Reading package lists... Done\n",
            "Building dependency tree       \n",
            "Reading state information... Done\n",
            "The following package was automatically installed and is no longer required:\n",
            "  libnvidia-common-460\n",
            "Use 'sudo apt autoremove' to remove it.\n",
            "The following additional packages will be installed:\n",
            "  libpcap0.8 libstemmer0d libyaml-cpp0.5v5 mongo-tools mongodb-clients\n",
            "  mongodb-server mongodb-server-core\n",
            "The following NEW packages will be installed:\n",
            "  libpcap0.8 libstemmer0d libyaml-cpp0.5v5 mongo-tools mongodb mongodb-clients\n",
            "  mongodb-server mongodb-server-core\n",
            "0 upgraded, 8 newly installed, 0 to remove and 38 not upgraded.\n",
            "Need to get 53.1 MB of archives.\n",
            "After this operation, 215 MB of additional disk space will be used.\n",
            "Get:1 http://archive.ubuntu.com/ubuntu bionic-updates/main amd64 libpcap0.8 amd64 1.8.1-6ubuntu1.18.04.2 [118 kB]\n",
            "Get:2 http://archive.ubuntu.com/ubuntu bionic/main amd64 libstemmer0d amd64 0+svn585-1build1 [62.5 kB]\n",
            "Get:3 http://archive.ubuntu.com/ubuntu bionic/universe amd64 libyaml-cpp0.5v5 amd64 0.5.2-4ubuntu1 [150 kB]\n",
            "Get:4 http://archive.ubuntu.com/ubuntu bionic/universe amd64 mongo-tools amd64 3.6.3-0ubuntu1 [12.3 MB]\n",
            "Get:5 http://archive.ubuntu.com/ubuntu bionic-updates/universe amd64 mongodb-clients amd64 1:3.6.3-0ubuntu1.4 [20.2 MB]\n",
            "Get:6 http://archive.ubuntu.com/ubuntu bionic-updates/universe amd64 mongodb-server-core amd64 1:3.6.3-0ubuntu1.4 [20.3 MB]\n",
            "Get:7 http://archive.ubuntu.com/ubuntu bionic-updates/universe amd64 mongodb-server all 1:3.6.3-0ubuntu1.4 [12.6 kB]\n",
            "Get:8 http://archive.ubuntu.com/ubuntu bionic-updates/universe amd64 mongodb amd64 1:3.6.3-0ubuntu1.4 [10.2 kB]\n",
            "Fetched 53.1 MB in 6s (8,184 kB/s)\n",
            "debconf: unable to initialize frontend: Dialog\n",
            "debconf: (No usable dialog-like program is installed, so the dialog based frontend cannot be used. at /usr/share/perl5/Debconf/FrontEnd/Dialog.pm line 76, <> line 8.)\n",
            "debconf: falling back to frontend: Readline\n",
            "debconf: unable to initialize frontend: Readline\n",
            "debconf: (This frontend requires a controlling tty.)\n",
            "debconf: falling back to frontend: Teletype\n",
            "dpkg-preconfigure: unable to re-open stdin: \n",
            "Selecting previously unselected package libpcap0.8:amd64.\n",
            "(Reading database ... 124448 files and directories currently installed.)\n",
            "Preparing to unpack .../0-libpcap0.8_1.8.1-6ubuntu1.18.04.2_amd64.deb ...\n",
            "Unpacking libpcap0.8:amd64 (1.8.1-6ubuntu1.18.04.2) ...\n",
            "Selecting previously unselected package libstemmer0d:amd64.\n",
            "Preparing to unpack .../1-libstemmer0d_0+svn585-1build1_amd64.deb ...\n",
            "Unpacking libstemmer0d:amd64 (0+svn585-1build1) ...\n",
            "Selecting previously unselected package libyaml-cpp0.5v5:amd64.\n",
            "Preparing to unpack .../2-libyaml-cpp0.5v5_0.5.2-4ubuntu1_amd64.deb ...\n",
            "Unpacking libyaml-cpp0.5v5:amd64 (0.5.2-4ubuntu1) ...\n",
            "Selecting previously unselected package mongo-tools.\n",
            "Preparing to unpack .../3-mongo-tools_3.6.3-0ubuntu1_amd64.deb ...\n",
            "Unpacking mongo-tools (3.6.3-0ubuntu1) ...\n",
            "Selecting previously unselected package mongodb-clients.\n",
            "Preparing to unpack .../4-mongodb-clients_1%3a3.6.3-0ubuntu1.4_amd64.deb ...\n",
            "Unpacking mongodb-clients (1:3.6.3-0ubuntu1.4) ...\n",
            "Selecting previously unselected package mongodb-server-core.\n",
            "Preparing to unpack .../5-mongodb-server-core_1%3a3.6.3-0ubuntu1.4_amd64.deb ...\n",
            "Unpacking mongodb-server-core (1:3.6.3-0ubuntu1.4) ...\n",
            "Selecting previously unselected package mongodb-server.\n",
            "Preparing to unpack .../6-mongodb-server_1%3a3.6.3-0ubuntu1.4_all.deb ...\n",
            "Unpacking mongodb-server (1:3.6.3-0ubuntu1.4) ...\n",
            "Selecting previously unselected package mongodb.\n",
            "Preparing to unpack .../7-mongodb_1%3a3.6.3-0ubuntu1.4_amd64.deb ...\n",
            "Unpacking mongodb (1:3.6.3-0ubuntu1.4) ...\n",
            "Setting up libstemmer0d:amd64 (0+svn585-1build1) ...\n",
            "Setting up libyaml-cpp0.5v5:amd64 (0.5.2-4ubuntu1) ...\n",
            "Setting up mongodb-server-core (1:3.6.3-0ubuntu1.4) ...\n",
            "Setting up libpcap0.8:amd64 (1.8.1-6ubuntu1.18.04.2) ...\n",
            "Setting up mongodb-clients (1:3.6.3-0ubuntu1.4) ...\n",
            "Setting up mongodb-server (1:3.6.3-0ubuntu1.4) ...\n",
            "invoke-rc.d: could not determine current runlevel\n",
            "invoke-rc.d: policy-rc.d denied execution of start.\n",
            "Created symlink /etc/systemd/system/multi-user.target.wants/mongodb.service → /lib/systemd/system/mongodb.service.\n",
            "Setting up mongo-tools (3.6.3-0ubuntu1) ...\n",
            "Setting up mongodb (1:3.6.3-0ubuntu1.4) ...\n",
            "Processing triggers for systemd (237-3ubuntu10.56) ...\n",
            "Processing triggers for man-db (2.8.3-2ubuntu0.1) ...\n",
            "Processing triggers for libc-bin (2.27-3ubuntu1.6) ...\n"
          ]
        }
      ]
    },
    {
      "cell_type": "code",
      "source": [
        "!sudo service mongodb start"
      ],
      "metadata": {
        "id": "8fNWfid6QjSh",
        "colab": {
          "base_uri": "https://localhost:8080/"
        },
        "outputId": "69f1fe5a-575d-4890-8764-5eccd6cdecb2"
      },
      "execution_count": 9,
      "outputs": [
        {
          "output_type": "stream",
          "name": "stdout",
          "text": [
            " * Starting database mongodb\n",
            "   ...done.\n"
          ]
        }
      ]
    },
    {
      "cell_type": "code",
      "source": [
        "#Python with mongodb nosql\n",
        "import pandas as pd\n",
        "import pymongo as pm\n",
        "import numpy as np\n",
        "df = pd.read_csv (r'https://raw.githubusercontent.com/TXH2020/MainRepo/main/Projects/Python%20SQL/listings.csv')\n",
        "client = pm.MongoClient('mongodb://localhost:27017/')\n",
        "mydb=client['somedatabase']\n",
        "if 'somecollection' in mydb.list_collection_names():\n",
        "    mydb['somecollection'].drop()\n",
        "mycol=mydb['somecollection']\n",
        "for i in range(df.shape[0]):\n",
        "    r=dict(df.iloc[i])\n",
        "    try:\n",
        "        mycol.insert_one(r)\n",
        "    except:\n",
        "        # Python 2.7.10 on Windows and Pymongo are not forgiving\n",
        "        # If you have foreign data types you have to convert them\n",
        "        n = {}\n",
        "        for k, v in r.items():\n",
        "            if isinstance(v, np.int64):\n",
        "                v = int(v)\n",
        "            elif isinstance(v,np.float64):\n",
        "                v=float(v)\n",
        "            n[k]=v\n",
        "        mycol.insert_one(n)\n",
        "print(\"No of documents=\",mycol.count_documents({}))\n",
        "print(\"Document with id=2818\")\n",
        "print('---------------------------')\n",
        "doc=mycol.find({'id':2818})\n",
        "for i in doc:\n",
        "    for j in i.items():\n",
        "        print(j)\n",
        "client.close()"
      ],
      "metadata": {
        "id": "ue0Zy-rWRJrZ",
        "colab": {
          "base_uri": "https://localhost:8080/"
        },
        "outputId": "f0501acf-3e46-4856-8fbd-bca3a9e81a38"
      },
      "execution_count": 10,
      "outputs": [
        {
          "output_type": "stream",
          "name": "stdout",
          "text": [
            "No of documents= 6893\n",
            "Document with id=2818\n",
            "---------------------------\n",
            "('_id', ObjectId('6350ee8fe5aae5148e40ee72'))\n",
            "('id', 2818)\n",
            "('listing_url', 'https://www.airbnb.com/rooms/2818')\n",
            "('scrape_id', 20220907151523)\n",
            "('last_scraped', '2022-09-07')\n",
            "('source', 'city scrape')\n",
            "('name', 'Quiet Garden View Room & Super Fast WiFi')\n",
            "('description', 'Quiet Garden View Room & Super Fast WiFi<br /><br /><b>The space</b><br />I\\'m renting a bedroom (room overlooking the garden) in my apartment in Amsterdam, <br /><br />The room is located to the east of the city centre in a quiet, typical Amsterdam neighbourhood the \"Indische Buurt\". Amsterdam’s historic centre is less than 15 minutes away by bike or tram.<br /><br /><br />The features of the room are:<br /><br />- Twin beds (80 x 200 cm, down quilts and pillows) <br />- 2 pure cotton towels for each guest <br />- reading lamps<br />- bedside table<br />- wardrobe<br />- table with chairs<br />- tea and coffee making facilities<br />- mini bar<br />- alarm clock<br />- Hi-Fi system with cd player, connection for mp3 player / phone<br />- map of Amsterdam and public transport<br />- Wi-Fi Internet connection <br /><br />Extra services:<br /><br />- Bike rental<br /><br /><b>License number</b><br />0363 5F3A 5684 6750 D14D')\n",
            "('neighborhood_overview', 'Indische Buurt (\"Indies Neighborhood\") is a neighbourhood in the eastern portion of the city of Amsterdam, in the Dutch province of Noord-Holland. The name dates from the early 20th century and is derived from the fact that the neighbourhood\\'s streets are named after islands and other geographical concepts in the former Dutch colony of the Dutch East Indies. The first street was named in 1902. In 2003, there were around 23,357 inhabitants. The neighbourhood is bounded on the west by the railroad Amsterdam - Hilversum (with the Muiderpoort Station), on the east side by Flevopark, on the north side by Zeeburgerdijk and on the south side by the Ringvaart Watergraafsmeer. Indische Buurt is the oldest part of the Zeeburg district and is very ethnically diverse, and a high percentage of the population is of immigrant origin (for Zeeburg this is already high at 55%, but higher in the Indische Buurt) and there are an estimated 100 languages spoken.')\n",
            "('picture_url', 'https://a0.muscache.com/pictures/10272854/8dcca016_original.jpg')\n",
            "('host_id', 3159)\n",
            "('host_url', 'https://www.airbnb.com/users/show/3159')\n",
            "('host_name', 'Daniel')\n",
            "('host_since', '2008-09-24')\n",
            "('host_location', 'Amsterdam, Netherlands')\n",
            "('host_about', 'Upon arriving in Amsterdam, one can imagine asking oneself: Where is the fun nightlife? What are the local hot spots? \\r\\n\\r\\nHow can I experience the real life in this city? I  offer you the opportunity to act, eat and sleep like-a-local!  \\r\\n\\r\\nI provide the traveler with the opportunity to connect with the local life in Amsterdam.')\n",
            "('host_response_time', 'within an hour')\n",
            "('host_response_rate', '100%')\n",
            "('host_acceptance_rate', '100%')\n",
            "('host_is_superhost', 't')\n",
            "('host_thumbnail_url', 'https://a0.muscache.com/im/users/3159/profile_pic/1259095323/original.jpg?aki_policy=profile_small')\n",
            "('host_picture_url', 'https://a0.muscache.com/im/users/3159/profile_pic/1259095323/original.jpg?aki_policy=profile_x_medium')\n",
            "('host_neighbourhood', 'Indische Buurt')\n",
            "('host_listings_count', 1)\n",
            "('host_total_listings_count', 1)\n",
            "('host_verifications', \"['email', 'phone']\")\n",
            "('host_has_profile_pic', 't')\n",
            "('host_identity_verified', 't')\n",
            "('neighbourhood', 'Amsterdam, North Holland, Netherlands')\n",
            "('neighbourhood_cleansed', 'Oostelijk Havengebied - Indische Buurt')\n",
            "('neighbourhood_group_cleansed', nan)\n",
            "('latitude', 52.36435)\n",
            "('longitude', 4.94358)\n",
            "('property_type', 'Private room in rental unit')\n",
            "('room_type', 'Private room')\n",
            "('accommodates', 2)\n",
            "('bathrooms', nan)\n",
            "('bathrooms_text', '1.5 shared baths')\n",
            "('bedrooms', 1.0)\n",
            "('beds', 2.0)\n",
            "('amenities', '[\"Fire extinguisher\", \"Private entrance\", \"Laundromat nearby\", \"Dedicated workspace\", \"Cleaning products\", \"Mosquito net\", \"Essentials\", \"Host greets you\", \"Clothing storage: wardrobe\", \"Mini fridge\", \"PH neutral and dermatologically tested shampoo\", \"Hot water kettle\", \"Outdoor furniture\", \"Paid washer \\\\u2013 In unit\", \"Drying rack for clothing\", \"Long term stays allowed\", \"Ethernet connection\", \"Central heating\", \"First aid kit\", \"Paid parking on premises\", \"Security cameras on property\", \"Sony + Wireless Bluetooth Speaker(phone) Bluetooth sound system\", \"Smoke alarm\", \"Shared fenced garden or backyard\", \"Room-darkening shades\", \"Single level home\", \"Lock on bedroom door\", \"Hair dryer\", \"Shower gel\", \"Hangers\", \"Refrigerator\", \"Extra pillows and blankets\", \"Bed linens\", \"Iron\", \"Hot water\", \"Portable fans\", \"Carbon monoxide alarm\", \"Paid parking off premises\", \"Fast wifi \\\\u2013 52 Mbps\", \"PH neutral and dermatologically tested body soap\"]')\n",
            "('price', '$49.00')\n",
            "('minimum_nights', 3)\n",
            "('maximum_nights', 28)\n",
            "('minimum_minimum_nights', 3.0)\n",
            "('maximum_minimum_nights', 3.0)\n",
            "('minimum_maximum_nights', 1125.0)\n",
            "('maximum_maximum_nights', 1125.0)\n",
            "('minimum_nights_avg_ntm', 3.0)\n",
            "('maximum_nights_avg_ntm', 1125.0)\n",
            "('calendar_updated', nan)\n",
            "('has_availability', 't')\n",
            "('availability_30', 1)\n",
            "('availability_60', 9)\n",
            "('availability_90', 14)\n",
            "('availability_365', 14)\n",
            "('calendar_last_scraped', '2022-09-07')\n",
            "('number_of_reviews', 305)\n",
            "('number_of_reviews_ltm', 25)\n",
            "('number_of_reviews_l30d', 1)\n",
            "('first_review', '2009-03-30')\n",
            "('last_review', '2022-08-30')\n",
            "('review_scores_rating', 4.89)\n",
            "('review_scores_accuracy', 4.94)\n",
            "('review_scores_cleanliness', 5.0)\n",
            "('review_scores_checkin', 4.97)\n",
            "('review_scores_communication', 4.98)\n",
            "('review_scores_location', 4.69)\n",
            "('review_scores_value', 4.82)\n",
            "('license', '0363 5F3A 5684 6750 D14D')\n",
            "('instant_bookable', 't')\n",
            "('calculated_host_listings_count', 1)\n",
            "('calculated_host_listings_count_entire_homes', 0)\n",
            "('calculated_host_listings_count_private_rooms', 1)\n",
            "('calculated_host_listings_count_shared_rooms', 0)\n",
            "('reviews_per_month', 1.86)\n"
          ]
        }
      ]
    },
    {
      "cell_type": "code",
      "source": [
        "!sudo service mongodb stop"
      ],
      "metadata": {
        "id": "9pYLQDe-RMry",
        "colab": {
          "base_uri": "https://localhost:8080/"
        },
        "outputId": "10d0dd1f-140a-4b53-a64e-5d5e5fe9f1f5"
      },
      "execution_count": 11,
      "outputs": [
        {
          "output_type": "stream",
          "name": "stdout",
          "text": [
            " * Stopping database mongodb\n",
            "   ...done.\n"
          ]
        }
      ]
    },
    {
      "cell_type": "markdown",
      "source": [
        "##Apache Cassandra:"
      ],
      "metadata": {
        "id": "4TW5I_4lG_Tq"
      }
    },
    {
      "cell_type": "code",
      "source": [
        "!wget https://dlcdn.apache.org/cassandra/4.0.6/apache-cassandra-4.0.6-bin.tar.gz"
      ],
      "metadata": {
        "id": "H4JdsbuPAjv9",
        "colab": {
          "base_uri": "https://localhost:8080/"
        },
        "outputId": "12751e28-1b16-49bf-b71c-6ad9878d9a29"
      },
      "execution_count": 12,
      "outputs": [
        {
          "output_type": "stream",
          "name": "stdout",
          "text": [
            "--2022-10-20 06:45:53--  https://dlcdn.apache.org/cassandra/4.0.6/apache-cassandra-4.0.6-bin.tar.gz\n",
            "Resolving dlcdn.apache.org (dlcdn.apache.org)... 151.101.2.132, 2a04:4e42::644\n",
            "Connecting to dlcdn.apache.org (dlcdn.apache.org)|151.101.2.132|:443... connected.\n",
            "HTTP request sent, awaiting response... 200 OK\n",
            "Length: 49655880 (47M) [application/x-gzip]\n",
            "Saving to: ‘apache-cassandra-4.0.6-bin.tar.gz’\n",
            "\n",
            "apache-cassandra-4. 100%[===================>]  47.36M   169MB/s    in 0.3s    \n",
            "\n",
            "2022-10-20 06:45:56 (169 MB/s) - ‘apache-cassandra-4.0.6-bin.tar.gz’ saved [49655880/49655880]\n",
            "\n"
          ]
        }
      ]
    },
    {
      "cell_type": "code",
      "source": [
        "!tar xzvf apache-cassandra-4.0.6-bin.tar.gz"
      ],
      "metadata": {
        "id": "9RjqZkfdAo-a",
        "colab": {
          "base_uri": "https://localhost:8080/"
        },
        "outputId": "65cbca55-26fa-42a0-c326-262ccec25d06"
      },
      "execution_count": 13,
      "outputs": [
        {
          "output_type": "stream",
          "name": "stdout",
          "text": [
            "apache-cassandra-4.0.6/bin/\n",
            "apache-cassandra-4.0.6/conf/\n",
            "apache-cassandra-4.0.6/conf/triggers/\n",
            "apache-cassandra-4.0.6/doc/\n",
            "apache-cassandra-4.0.6/doc/cql3/\n",
            "apache-cassandra-4.0.6/lib/\n",
            "apache-cassandra-4.0.6/lib/sigar-bin/\n",
            "apache-cassandra-4.0.6/pylib/\n",
            "apache-cassandra-4.0.6/pylib/cqlshlib/\n",
            "apache-cassandra-4.0.6/pylib/cqlshlib/test/\n",
            "apache-cassandra-4.0.6/pylib/cqlshlib/test/config/\n",
            "apache-cassandra-4.0.6/tools/\n",
            "apache-cassandra-4.0.6/tools/bin/\n",
            "apache-cassandra-4.0.6/tools/lib/\n",
            "apache-cassandra-4.0.6/CASSANDRA-14092.txt\n",
            "apache-cassandra-4.0.6/CHANGES.txt\n",
            "apache-cassandra-4.0.6/LICENSE.txt\n",
            "apache-cassandra-4.0.6/NEWS.txt\n",
            "apache-cassandra-4.0.6/NOTICE.txt\n",
            "apache-cassandra-4.0.6/conf/README.txt\n",
            "apache-cassandra-4.0.6/conf/cassandra-env.sh\n",
            "apache-cassandra-4.0.6/conf/cassandra-jaas.config\n",
            "apache-cassandra-4.0.6/conf/cassandra-rackdc.properties\n",
            "apache-cassandra-4.0.6/conf/cassandra-topology.properties\n",
            "apache-cassandra-4.0.6/conf/cassandra.yaml\n",
            "apache-cassandra-4.0.6/conf/commitlog_archiving.properties\n",
            "apache-cassandra-4.0.6/conf/cqlshrc.sample\n",
            "apache-cassandra-4.0.6/conf/hotspot_compiler\n",
            "apache-cassandra-4.0.6/conf/jvm-clients.options\n",
            "apache-cassandra-4.0.6/conf/jvm-server.options\n",
            "apache-cassandra-4.0.6/conf/jvm11-clients.options\n",
            "apache-cassandra-4.0.6/conf/jvm11-server.options\n",
            "apache-cassandra-4.0.6/conf/jvm8-clients.options\n",
            "apache-cassandra-4.0.6/conf/jvm8-server.options\n",
            "apache-cassandra-4.0.6/conf/logback-tools.xml\n",
            "apache-cassandra-4.0.6/conf/logback.xml\n",
            "apache-cassandra-4.0.6/conf/metrics-reporter-config-sample.yaml\n",
            "apache-cassandra-4.0.6/conf/triggers/README.txt\n",
            "apache-cassandra-4.0.6/doc/SASI.md\n",
            "apache-cassandra-4.0.6/doc/cql3/CQL.css\n",
            "apache-cassandra-4.0.6/doc/cql3/CQL.html\n",
            "apache-cassandra-4.0.6/lib/HdrHistogram-2.1.9.jar\n",
            "apache-cassandra-4.0.6/lib/ST4-4.0.8.jar\n",
            "apache-cassandra-4.0.6/lib/airline-0.8.jar\n",
            "apache-cassandra-4.0.6/lib/antlr-runtime-3.5.2.jar\n",
            "apache-cassandra-4.0.6/lib/apache-cassandra-4.0.6.jar\n",
            "apache-cassandra-4.0.6/lib/asm-7.1.jar\n",
            "apache-cassandra-4.0.6/lib/caffeine-2.5.6.jar\n",
            "apache-cassandra-4.0.6/lib/cassandra-driver-core-3.11.0-shaded.jar\n",
            "apache-cassandra-4.0.6/lib/cassandra-driver-internal-only-3.25.0.zip\n",
            "apache-cassandra-4.0.6/lib/chronicle-bytes-2.20.111.jar\n",
            "apache-cassandra-4.0.6/lib/chronicle-core-2.20.126.jar\n",
            "apache-cassandra-4.0.6/lib/chronicle-queue-5.20.123.jar\n",
            "apache-cassandra-4.0.6/lib/chronicle-threads-2.20.111.jar\n",
            "apache-cassandra-4.0.6/lib/chronicle-wire-2.20.117.jar\n",
            "apache-cassandra-4.0.6/lib/commons-cli-1.1.jar\n",
            "apache-cassandra-4.0.6/lib/commons-codec-1.9.jar\n",
            "apache-cassandra-4.0.6/lib/commons-lang3-3.11.jar\n",
            "apache-cassandra-4.0.6/lib/commons-math3-3.2.jar\n",
            "apache-cassandra-4.0.6/lib/concurrent-trees-2.4.0.jar\n",
            "apache-cassandra-4.0.6/lib/ecj-4.6.1.jar\n",
            "apache-cassandra-4.0.6/lib/futures-2.1.6-py2.py3-none-any.zip\n",
            "apache-cassandra-4.0.6/lib/geomet-0.1.0.zip\n",
            "apache-cassandra-4.0.6/lib/guava-27.0-jre.jar\n",
            "apache-cassandra-4.0.6/lib/high-scale-lib-1.0.6.jar\n",
            "apache-cassandra-4.0.6/lib/hppc-0.8.1.jar\n",
            "apache-cassandra-4.0.6/lib/j2objc-annotations-1.3.jar\n",
            "apache-cassandra-4.0.6/lib/jackson-annotations-2.13.2.jar\n",
            "apache-cassandra-4.0.6/lib/jackson-core-2.13.2.jar\n",
            "apache-cassandra-4.0.6/lib/jackson-databind-2.13.2.2.jar\n",
            "apache-cassandra-4.0.6/lib/jamm-0.3.2.jar\n",
            "apache-cassandra-4.0.6/lib/java-cup-runtime-11b-20160615.jar\n",
            "apache-cassandra-4.0.6/lib/javax.inject-1.jar\n",
            "apache-cassandra-4.0.6/lib/jbcrypt-0.4.jar\n",
            "apache-cassandra-4.0.6/lib/jcl-over-slf4j-1.7.25.jar\n",
            "apache-cassandra-4.0.6/lib/jcommander-1.30.jar\n",
            "apache-cassandra-4.0.6/lib/jctools-core-3.1.0.jar\n",
            "apache-cassandra-4.0.6/lib/jflex-1.8.2.jar\n",
            "apache-cassandra-4.0.6/lib/jna-5.6.0.jar\n",
            "apache-cassandra-4.0.6/lib/json-simple-1.1.jar\n",
            "apache-cassandra-4.0.6/lib/jvm-attach-api-1.5.jar\n",
            "apache-cassandra-4.0.6/lib/log4j-over-slf4j-1.7.25.jar\n",
            "apache-cassandra-4.0.6/lib/logback-classic-1.2.9.jar\n",
            "apache-cassandra-4.0.6/lib/logback-core-1.2.9.jar\n",
            "apache-cassandra-4.0.6/lib/lz4-java-1.8.0.jar\n",
            "apache-cassandra-4.0.6/lib/metrics-core-3.1.5.jar\n",
            "apache-cassandra-4.0.6/lib/metrics-jvm-3.1.5.jar\n",
            "apache-cassandra-4.0.6/lib/metrics-logback-3.1.5.jar\n",
            "apache-cassandra-4.0.6/lib/mxdump-0.14.jar\n",
            "apache-cassandra-4.0.6/lib/netty-all-4.1.58.Final.jar\n",
            "apache-cassandra-4.0.6/lib/netty-tcnative-boringssl-static-2.0.36.Final.jar\n",
            "apache-cassandra-4.0.6/lib/ohc-core-0.5.1.jar\n",
            "apache-cassandra-4.0.6/lib/ohc-core-j8-0.5.1.jar\n",
            "apache-cassandra-4.0.6/lib/psjava-0.1.19.jar\n",
            "apache-cassandra-4.0.6/lib/reporter-config-base-3.0.3.jar\n",
            "apache-cassandra-4.0.6/lib/reporter-config3-3.0.3.jar\n",
            "apache-cassandra-4.0.6/lib/sigar-1.6.4.jar\n",
            "apache-cassandra-4.0.6/lib/sigar-bin/libsigar-amd64-freebsd-6.so\n",
            "apache-cassandra-4.0.6/lib/sigar-bin/libsigar-amd64-linux.so\n",
            "apache-cassandra-4.0.6/lib/sigar-bin/libsigar-amd64-solaris.so\n",
            "apache-cassandra-4.0.6/lib/sigar-bin/libsigar-ia64-hpux-11.sl\n",
            "apache-cassandra-4.0.6/lib/sigar-bin/libsigar-ia64-linux.so\n",
            "apache-cassandra-4.0.6/lib/sigar-bin/libsigar-pa-hpux-11.sl\n",
            "apache-cassandra-4.0.6/lib/sigar-bin/libsigar-ppc-aix-5.so\n",
            "apache-cassandra-4.0.6/lib/sigar-bin/libsigar-ppc-linux.so\n",
            "apache-cassandra-4.0.6/lib/sigar-bin/libsigar-ppc64-aix-5.so\n",
            "apache-cassandra-4.0.6/lib/sigar-bin/libsigar-ppc64-linux.so\n",
            "apache-cassandra-4.0.6/lib/sigar-bin/libsigar-ppc64le-linux.so\n",
            "apache-cassandra-4.0.6/lib/sigar-bin/libsigar-s390x-linux.so\n",
            "apache-cassandra-4.0.6/lib/sigar-bin/libsigar-sparc-solaris.so\n",
            "apache-cassandra-4.0.6/lib/sigar-bin/libsigar-sparc64-solaris.so\n",
            "apache-cassandra-4.0.6/lib/sigar-bin/libsigar-universal-macosx.dylib\n",
            "apache-cassandra-4.0.6/lib/sigar-bin/libsigar-universal64-macosx.dylib\n",
            "apache-cassandra-4.0.6/lib/sigar-bin/libsigar-x86-freebsd-5.so\n",
            "apache-cassandra-4.0.6/lib/sigar-bin/libsigar-x86-freebsd-6.so\n",
            "apache-cassandra-4.0.6/lib/sigar-bin/libsigar-x86-linux.so\n",
            "apache-cassandra-4.0.6/lib/sigar-bin/libsigar-x86-solaris.so\n",
            "apache-cassandra-4.0.6/lib/sigar-bin/sigar-amd64-winnt.dll\n",
            "apache-cassandra-4.0.6/lib/sigar-bin/sigar-x86-winnt.dll\n",
            "apache-cassandra-4.0.6/lib/sigar-bin/sigar-x86-winnt.lib\n",
            "apache-cassandra-4.0.6/lib/six-1.12.0-py2.py3-none-any.zip\n",
            "apache-cassandra-4.0.6/lib/sjk-cli-0.14.jar\n",
            "apache-cassandra-4.0.6/lib/sjk-core-0.14.jar\n",
            "apache-cassandra-4.0.6/lib/sjk-json-0.14.jar\n",
            "apache-cassandra-4.0.6/lib/sjk-stacktrace-0.14.jar\n",
            "apache-cassandra-4.0.6/lib/slf4j-api-1.7.25.jar\n",
            "apache-cassandra-4.0.6/lib/snakeyaml-1.26.jar\n",
            "apache-cassandra-4.0.6/lib/snappy-java-1.1.2.6.jar\n",
            "apache-cassandra-4.0.6/lib/snowball-stemmer-1.3.0.581.1.jar\n",
            "apache-cassandra-4.0.6/lib/stream-2.5.2.jar\n",
            "apache-cassandra-4.0.6/lib/zstd-jni-1.5.0-4.jar\n",
            "apache-cassandra-4.0.6/pylib/Dockerfile.ubuntu.py2\n",
            "apache-cassandra-4.0.6/pylib/Dockerfile.ubuntu.py3\n",
            "apache-cassandra-4.0.6/pylib/Dockerfile.ubuntu.py37\n",
            "apache-cassandra-4.0.6/pylib/Dockerfile.ubuntu.py38\n",
            "apache-cassandra-4.0.6/pylib/README.asc\n",
            "apache-cassandra-4.0.6/pylib/cassandra-cqlsh-tests.sh\n",
            "apache-cassandra-4.0.6/pylib/cqlshlib/__init__.py\n",
            "apache-cassandra-4.0.6/pylib/cqlshlib/copyutil.py\n",
            "apache-cassandra-4.0.6/pylib/cqlshlib/cql3handling.py\n",
            "apache-cassandra-4.0.6/pylib/cqlshlib/cqlhandling.py\n",
            "apache-cassandra-4.0.6/pylib/cqlshlib/cqlshhandling.py\n",
            "apache-cassandra-4.0.6/pylib/cqlshlib/displaying.py\n",
            "apache-cassandra-4.0.6/pylib/cqlshlib/formatting.py\n",
            "apache-cassandra-4.0.6/pylib/cqlshlib/helptopics.py\n",
            "apache-cassandra-4.0.6/pylib/cqlshlib/pylexotron.py\n",
            "apache-cassandra-4.0.6/pylib/cqlshlib/saferscanner.py\n",
            "apache-cassandra-4.0.6/pylib/cqlshlib/setup.cfg\n",
            "apache-cassandra-4.0.6/pylib/cqlshlib/sslhandling.py\n",
            "apache-cassandra-4.0.6/pylib/cqlshlib/test/__init__.py\n",
            "apache-cassandra-4.0.6/pylib/cqlshlib/test/ansi_colors.py\n",
            "apache-cassandra-4.0.6/pylib/cqlshlib/test/basecase.py\n",
            "apache-cassandra-4.0.6/pylib/cqlshlib/test/cassconnect.py\n",
            "apache-cassandra-4.0.6/pylib/cqlshlib/test/config/sslhandling.config\n",
            "apache-cassandra-4.0.6/pylib/cqlshlib/test/config/sslhandling_invalid.config\n",
            "apache-cassandra-4.0.6/pylib/cqlshlib/test/run_cqlsh.py\n",
            "apache-cassandra-4.0.6/pylib/cqlshlib/test/test_constants.py\n",
            "apache-cassandra-4.0.6/pylib/cqlshlib/test/test_copyutil.py\n",
            "apache-cassandra-4.0.6/pylib/cqlshlib/test/test_cql_parsing.py\n",
            "apache-cassandra-4.0.6/pylib/cqlshlib/test/test_cqlsh_completion.py\n",
            "apache-cassandra-4.0.6/pylib/cqlshlib/test/test_cqlsh_output.py\n",
            "apache-cassandra-4.0.6/pylib/cqlshlib/test/test_keyspace_init.cql\n",
            "apache-cassandra-4.0.6/pylib/cqlshlib/test/test_sslhandling.py\n",
            "apache-cassandra-4.0.6/pylib/cqlshlib/test/test_unicode.py\n",
            "apache-cassandra-4.0.6/pylib/cqlshlib/test/winpty.py\n",
            "apache-cassandra-4.0.6/pylib/cqlshlib/tracing.py\n",
            "apache-cassandra-4.0.6/pylib/cqlshlib/util.py\n",
            "apache-cassandra-4.0.6/pylib/cqlshlib/wcwidth.py\n",
            "apache-cassandra-4.0.6/pylib/requirements.txt\n",
            "apache-cassandra-4.0.6/pylib/setup.py\n",
            "apache-cassandra-4.0.6/tools/cqlstress-counter-example.yaml\n",
            "apache-cassandra-4.0.6/tools/cqlstress-example.yaml\n",
            "apache-cassandra-4.0.6/tools/cqlstress-insanity-example.yaml\n",
            "apache-cassandra-4.0.6/tools/cqlstress-lwt-example.yaml\n",
            "apache-cassandra-4.0.6/tools/lib/fqltool.jar\n",
            "apache-cassandra-4.0.6/tools/lib/stress.jar\n",
            "apache-cassandra-4.0.6/bin/cassandra.in.sh\n",
            "apache-cassandra-4.0.6/tools/bin/cassandra.in.sh\n",
            "apache-cassandra-4.0.6/bin/cassandra\n",
            "apache-cassandra-4.0.6/bin/cqlsh\n",
            "apache-cassandra-4.0.6/bin/cqlsh.py\n",
            "apache-cassandra-4.0.6/bin/debug-cql\n",
            "apache-cassandra-4.0.6/bin/nodetool\n",
            "apache-cassandra-4.0.6/bin/sstableloader\n",
            "apache-cassandra-4.0.6/bin/sstablescrub\n",
            "apache-cassandra-4.0.6/bin/sstableupgrade\n",
            "apache-cassandra-4.0.6/bin/sstableutil\n",
            "apache-cassandra-4.0.6/bin/sstableverify\n",
            "apache-cassandra-4.0.6/bin/stop-server\n",
            "apache-cassandra-4.0.6/tools/bin/auditlogviewer\n",
            "apache-cassandra-4.0.6/tools/bin/cassandra-stress\n",
            "apache-cassandra-4.0.6/tools/bin/cassandra-stressd\n",
            "apache-cassandra-4.0.6/tools/bin/compaction-stress\n",
            "apache-cassandra-4.0.6/tools/bin/fqltool\n",
            "apache-cassandra-4.0.6/tools/bin/generatetokens\n",
            "apache-cassandra-4.0.6/tools/bin/jmxtool\n",
            "apache-cassandra-4.0.6/tools/bin/sstabledump\n",
            "apache-cassandra-4.0.6/tools/bin/sstableexpiredblockers\n",
            "apache-cassandra-4.0.6/tools/bin/sstablelevelreset\n",
            "apache-cassandra-4.0.6/tools/bin/sstablemetadata\n",
            "apache-cassandra-4.0.6/tools/bin/sstableofflinerelevel\n",
            "apache-cassandra-4.0.6/tools/bin/sstablerepairedset\n",
            "apache-cassandra-4.0.6/tools/bin/sstablesplit\n"
          ]
        }
      ]
    },
    {
      "cell_type": "code",
      "source": [
        "!apache-cassandra-4.0.6/bin/cassandra -R"
      ],
      "metadata": {
        "id": "645CYF_yBx4a",
        "colab": {
          "base_uri": "https://localhost:8080/"
        },
        "outputId": "06eb7053-54d9-4352-8859-f9cd81d762d4"
      },
      "execution_count": 14,
      "outputs": [
        {
          "output_type": "stream",
          "name": "stdout",
          "text": [
            "OpenJDK 64-Bit Server VM warning: Option UseConcMarkSweepGC was deprecated in version 9.0 and will likely be removed in a future release.\n",
            "CompileCommand: dontinline org/apache/cassandra/db/Columns$Serializer.deserializeLargeSubset(Lorg/apache/cassandra/io/util/DataInputPlus;Lorg/apache/cassandra/db/Columns;I)Lorg/apache/cassandra/db/Columns;\n",
            "CompileCommand: dontinline org/apache/cassandra/db/Columns$Serializer.serializeLargeSubset(Ljava/util/Collection;ILorg/apache/cassandra/db/Columns;ILorg/apache/cassandra/io/util/DataOutputPlus;)V\n",
            "CompileCommand: dontinline org/apache/cassandra/db/Columns$Serializer.serializeLargeSubsetSize(Ljava/util/Collection;ILorg/apache/cassandra/db/Columns;I)I\n",
            "CompileCommand: dontinline org/apache/cassandra/db/commitlog/AbstractCommitLogSegmentManager.advanceAllocatingFrom(Lorg/apache/cassandra/db/commitlog/CommitLogSegment;)V\n",
            "CompileCommand: dontinline org/apache/cassandra/db/transform/BaseIterator.tryGetMoreContents()Z\n",
            "CompileCommand: dontinline org/apache/cassandra/db/transform/StoppingTransformation.stop()V\n",
            "CompileCommand: dontinline org/apache/cassandra/db/transform/StoppingTransformation.stopInPartition()V\n",
            "CompileCommand: dontinline org/apache/cassandra/io/util/BufferedDataOutputStreamPlus.doFlush(I)V\n",
            "CompileCommand: dontinline org/apache/cassandra/io/util/BufferedDataOutputStreamPlus.writeSlow(JI)V\n",
            "CompileCommand: dontinline org/apache/cassandra/io/util/RebufferingInputStream.readPrimitiveSlowly(I)J\n",
            "CompileCommand: exclude org/apache/cassandra/utils/JVMStabilityInspector.forceHeapSpaceOomMaybe(Ljava/lang/OutOfMemoryError;)V\n",
            "CompileCommand: inline org/apache/cassandra/db/rows/UnfilteredSerializer.serializeRowBody(Lorg/apache/cassandra/db/rows/Row;ILorg/apache/cassandra/db/rows/SerializationHelper;Lorg/apache/cassandra/io/util/DataOutputPlus;)V\n",
            "CompileCommand: inline org/apache/cassandra/io/util/Memory.checkBounds(JJ)V\n",
            "CompileCommand: inline org/apache/cassandra/io/util/SafeMemory.checkBounds(JJ)V\n",
            "CompileCommand: inline org/apache/cassandra/net/FrameDecoderWith8bHeader.decode(Ljava/util/Collection;Lorg/apache/cassandra/net/ShareableBytes;I)V\n",
            "CompileCommand: inline org/apache/cassandra/service/reads/repair/RowIteratorMergeListener.applyToPartition(ILjava/util/function/Consumer;)V\n",
            "CompileCommand: inline org/apache/cassandra/utils/AsymmetricOrdering.selectBoundary(Lorg/apache/cassandra/utils/AsymmetricOrdering/Op;II)I\n",
            "CompileCommand: inline org/apache/cassandra/utils/AsymmetricOrdering.strictnessOfLessThan(Lorg/apache/cassandra/utils/AsymmetricOrdering/Op;)I\n",
            "CompileCommand: inline org/apache/cassandra/utils/BloomFilter.indexes(Lorg/apache/cassandra/utils/IFilter/FilterKey;)[J\n",
            "CompileCommand: inline org/apache/cassandra/utils/BloomFilter.setIndexes(JJIJ[J)V\n",
            "CompileCommand: inline org/apache/cassandra/utils/ByteBufferUtil.compare(Ljava/nio/ByteBuffer;[B)I\n",
            "CompileCommand: inline org/apache/cassandra/utils/ByteBufferUtil.compare([BLjava/nio/ByteBuffer;)I\n",
            "CompileCommand: inline org/apache/cassandra/utils/ByteBufferUtil.compareUnsigned(Ljava/nio/ByteBuffer;Ljava/nio/ByteBuffer;)I\n",
            "CompileCommand: inline org/apache/cassandra/utils/FastByteOperations$UnsafeOperations.compareTo(Ljava/lang/Object;JILjava/lang/Object;JI)I\n",
            "CompileCommand: inline org/apache/cassandra/utils/FastByteOperations$UnsafeOperations.compareTo(Ljava/lang/Object;JILjava/nio/ByteBuffer;)I\n",
            "CompileCommand: inline org/apache/cassandra/utils/FastByteOperations$UnsafeOperations.compareTo(Ljava/nio/ByteBuffer;Ljava/nio/ByteBuffer;)I\n",
            "CompileCommand: inline org/apache/cassandra/utils/memory/BufferPool$LocalPool.tryGetInternal(IZ)Ljava/nio/ByteBuffer;\n",
            "CompileCommand: inline org/apache/cassandra/utils/vint/VIntCoding.encodeUnsignedVInt(JI)[B\n",
            "CompileCommand: inline org/apache/cassandra/utils/vint/VIntCoding.encodeUnsignedVInt(JI[B)V\n",
            "CompileCommand: inline org/apache/cassandra/utils/vint/VIntCoding.writeUnsignedVInt(JLjava/io/DataOutput;)V\n",
            "CompileCommand: inline org/apache/cassandra/utils/vint/VIntCoding.writeUnsignedVInt(JLjava/nio/ByteBuffer;)V\n",
            "CompileCommand: inline org/apache/cassandra/utils/vint/VIntCoding.writeVInt(JLjava/io/DataOutput;)V\n",
            "INFO  [main] 2022-10-20 06:46:07,001 YamlConfigurationLoader.java:97 - Configuration location: file:/content/apache-cassandra-4.0.6/conf/cassandra.yaml\n",
            "INFO  [main] 2022-10-20 06:46:07,776 Config.java:706 - Node configuration:[allocate_tokens_for_keyspace=null; allocate_tokens_for_local_replication_factor=3; allow_extra_insecure_udfs=false; allow_insecure_udfs=false; audit_logging_options=AuditLogOptions{enabled=false, logger='BinAuditLogger', included_keyspaces='', excluded_keyspaces='system,system_schema,system_virtual_schema', included_categories='', excluded_categories='', included_users='', excluded_users='', audit_logs_dir='apache-cassandra-4.0.6/bin/../logs/audit/', archive_command='', roll_cycle='HOURLY', block=true, max_queue_weight=268435456, max_log_size=17179869184}; authenticator=AllowAllAuthenticator; authorizer=AllowAllAuthorizer; auto_bootstrap=true; auto_optimise_full_repair_streams=false; auto_optimise_inc_repair_streams=false; auto_optimise_preview_repair_streams=false; auto_snapshot=true; autocompaction_on_startup_enabled=true; automatic_sstable_upgrade=false; back_pressure_enabled=false; back_pressure_strategy=null; batch_size_fail_threshold_in_kb=50; batch_size_warn_threshold_in_kb=5; batchlog_replay_throttle_in_kb=1024; block_for_peers_in_remote_dcs=false; block_for_peers_timeout_in_secs=10; broadcast_address=null; broadcast_rpc_address=null; buffer_pool_use_heap_if_exhausted=false; cache_load_timeout_seconds=30; cas_contention_timeout_in_ms=1000; cdc_enabled=false; cdc_free_space_check_interval_ms=250; cdc_raw_directory=null; cdc_total_space_in_mb=0; check_for_duplicate_rows_during_compaction=true; check_for_duplicate_rows_during_reads=true; client_encryption_options=<REDACTED>; cluster_name=Test Cluster; column_index_cache_size_in_kb=2; column_index_size_in_kb=64; commit_failure_policy=stop; commitlog_compression=null; commitlog_directory=null; commitlog_max_compression_buffers_in_pool=3; commitlog_periodic_queue_size=-1; commitlog_segment_size_in_mb=32; commitlog_sync=periodic; commitlog_sync_batch_window_in_ms=NaN; commitlog_sync_group_window_in_ms=NaN; commitlog_sync_period_in_ms=10000; commitlog_total_space_in_mb=null; compaction_large_partition_warning_threshold_mb=100; compaction_throughput_mb_per_sec=64; concurrent_compactors=null; concurrent_counter_writes=32; concurrent_materialized_view_builders=1; concurrent_materialized_view_writes=32; concurrent_reads=32; concurrent_replicates=null; concurrent_validations=0; concurrent_writes=32; consecutive_message_errors_threshold=1; corrupted_tombstone_strategy=disabled; counter_cache_keys_to_save=2147483647; counter_cache_save_period=7200; counter_cache_size_in_mb=null; counter_write_request_timeout_in_ms=5000; credentials_cache_max_entries=1000; credentials_update_interval_in_ms=-1; credentials_validity_in_ms=2000; cross_node_timeout=true; data_file_directories=[Ljava.lang.String;@55e8ec2f; diagnostic_events_enabled=false; disk_access_mode=auto; disk_failure_policy=stop; disk_optimization_estimate_percentile=0.95; disk_optimization_page_cross_chance=0.1; disk_optimization_strategy=ssd; dynamic_snitch=true; dynamic_snitch_badness_threshold=1.0; dynamic_snitch_reset_interval_in_ms=600000; dynamic_snitch_update_interval_in_ms=100; enable_drop_compact_storage=false; enable_materialized_views=false; enable_sasi_indexes=false; enable_scripted_user_defined_functions=false; enable_transient_replication=false; enable_user_defined_functions=false; enable_user_defined_functions_threads=true; endpoint_snitch=SimpleSnitch; file_cache_enabled=false; file_cache_round_up=null; file_cache_size_in_mb=null; flush_compression=fast; force_new_prepared_statement_behaviour=false; full_query_logging_options=FullQueryLoggerOptions{log_dir='', archive_command='', roll_cycle='HOURLY', block=true, max_queue_weight=268435456, max_log_size=17179869184}; gc_log_threshold_in_ms=200; gc_warn_threshold_in_ms=1000; hinted_handoff_disabled_datacenters=[]; hinted_handoff_enabled=true; hinted_handoff_throttle_in_kb=1024; hints_compression=null; hints_directory=null; hints_flush_period_in_ms=10000; ideal_consistency_level=null; incremental_backups=false; index_summary_capacity_in_mb=null; index_summary_resize_interval_in_minutes=60; initial_range_tombstone_list_allocation_size=1; initial_token=null; inter_dc_stream_throughput_outbound_megabits_per_sec=200; inter_dc_tcp_nodelay=false; internode_application_receive_queue_capacity_in_bytes=4194304; internode_application_receive_queue_reserve_endpoint_capacity_in_bytes=134217728; internode_application_receive_queue_reserve_global_capacity_in_bytes=536870912; internode_application_send_queue_capacity_in_bytes=4194304; internode_application_send_queue_reserve_endpoint_capacity_in_bytes=134217728; internode_application_send_queue_reserve_global_capacity_in_bytes=536870912; internode_authenticator=null; internode_compression=dc; internode_max_message_size_in_bytes=null; internode_socket_receive_buffer_size_in_bytes=0; internode_socket_send_buffer_size_in_bytes=0; internode_streaming_tcp_user_timeout_in_ms=300000; internode_tcp_connect_timeout_in_ms=2000; internode_tcp_user_timeout_in_ms=30000; key_cache_keys_to_save=2147483647; key_cache_migrate_during_compaction=true; key_cache_save_period=14400; key_cache_size_in_mb=null; keyspace_count_warn_threshold=40; listen_address=localhost; listen_interface=null; listen_interface_prefer_ipv6=false; listen_on_broadcast_address=false; local_system_data_file_directory=null; max_concurrent_automatic_sstable_upgrades=1; max_hint_window_in_ms=10800000; max_hints_delivery_threads=2; max_hints_file_size_in_mb=128; max_mutation_size_in_kb=null; max_streaming_retries=3; max_value_size_in_mb=256; memtable_allocation_type=heap_buffers; memtable_cleanup_threshold=null; memtable_flush_writers=0; memtable_heap_space_in_mb=null; memtable_offheap_space_in_mb=null; min_free_space_per_drive_in_mb=50; native_transport_allow_older_protocols=true; native_transport_flush_in_batches_legacy=false; native_transport_idle_timeout_in_ms=0; native_transport_max_concurrent_connections=-1; native_transport_max_concurrent_connections_per_ip=-1; native_transport_max_concurrent_requests_in_bytes=-1; native_transport_max_concurrent_requests_in_bytes_per_ip=-1; native_transport_max_frame_size_in_mb=256; native_transport_max_negotiable_protocol_version=null; native_transport_max_threads=128; native_transport_port=9042; native_transport_port_ssl=null; native_transport_receive_queue_capacity_in_bytes=1048576; network_authorizer=AllowAllNetworkAuthorizer; networking_cache_size_in_mb=null; num_tokens=16; otc_backlog_expiration_interval_ms=200; otc_coalescing_enough_coalesced_messages=8; otc_coalescing_strategy=DISABLED; otc_coalescing_window_us=200; partitioner=org.apache.cassandra.dht.Murmur3Partitioner; periodic_commitlog_sync_lag_block_in_ms=null; permissions_cache_max_entries=1000; permissions_update_interval_in_ms=-1; permissions_validity_in_ms=2000; phi_convict_threshold=8.0; prepared_statements_cache_size_mb=null; range_request_timeout_in_ms=10000; range_tombstone_list_growth_factor=1.5; read_request_timeout_in_ms=5000; reject_repair_compaction_threshold=2147483647; repair_command_pool_full_strategy=queue; repair_command_pool_size=0; repair_session_max_tree_depth=null; repair_session_space_in_mb=null; repaired_data_tracking_for_partition_reads_enabled=false; repaired_data_tracking_for_range_reads_enabled=false; report_unconfirmed_repaired_data_mismatches=false; request_timeout_in_ms=10000; role_manager=CassandraRoleManager; roles_cache_max_entries=1000; roles_update_interval_in_ms=-1; roles_validity_in_ms=2000; row_cache_class_name=org.apache.cassandra.cache.OHCProvider; row_cache_keys_to_save=2147483647; row_cache_save_period=0; row_cache_size_in_mb=0; rpc_address=localhost; rpc_interface=null; rpc_interface_prefer_ipv6=false; rpc_keepalive=true; saved_caches_directory=null; seed_provider=org.apache.cassandra.locator.SimpleSeedProvider{seeds=127.0.0.1:7000}; server_encryption_options=<REDACTED>; slow_query_log_timeout_in_ms=500; snapshot_before_compaction=false; snapshot_links_per_second=0; snapshot_on_duplicate_row_detection=false; snapshot_on_repaired_data_mismatch=false; ssl_storage_port=7001; sstable_preemptive_open_interval_in_mb=50; start_native_transport=true; storage_port=7000; stream_entire_sstables=true; stream_throughput_outbound_megabits_per_sec=200; streaming_connections_per_host=1; streaming_keep_alive_period_in_secs=300; table_count_warn_threshold=150; tombstone_failure_threshold=100000; tombstone_warn_threshold=1000; tracetype_query_ttl=86400; tracetype_repair_ttl=604800; transparent_data_encryption_options=org.apache.cassandra.config.TransparentDataEncryptionOptions@4f2613d1; trickle_fsync=false; trickle_fsync_interval_in_kb=10240; truncate_request_timeout_in_ms=60000; unlogged_batch_across_partitions_warn_threshold=10; use_offheap_merkle_trees=true; user_defined_function_fail_timeout=1500; user_defined_function_warn_timeout=500; user_function_timeout_policy=die; validation_preview_purge_head_start_in_sec=3600; windows_timer_interval=1; write_request_timeout_in_ms=2000]\n",
            "INFO  [main] 2022-10-20 06:46:07,782 DatabaseDescriptor.java:416 - DiskAccessMode 'auto' determined to be mmap, indexAccessMode is mmap\n",
            "INFO  [main] 2022-10-20 06:46:07,782 DatabaseDescriptor.java:477 - Global memtable on-heap threshold is enabled at 806MB\n",
            "INFO  [main] 2022-10-20 06:46:07,783 DatabaseDescriptor.java:481 - Global memtable off-heap threshold is enabled at 806MB\n",
            "INFO  [main] 2022-10-20 06:46:08,001 JMXServerUtils.java:271 - Configured JMX server at: service:jmx:rmi://127.0.0.1/jndi/rmi://127.0.0.1:7199/jmxrmi\n",
            "INFO  [main] 2022-10-20 06:46:08,010 CassandraDaemon.java:625 - Hostname: 9fd2f7df1e92:7000:7001\n",
            "INFO  [main] 2022-10-20 06:46:08,016 CassandraDaemon.java:632 - JVM vendor/version: OpenJDK 64-Bit Server VM/11.0.16\n",
            "INFO  [main] 2022-10-20 06:46:08,028 CassandraDaemon.java:633 - Heap size: 3.150GiB/3.150GiB\n",
            "INFO  [main] 2022-10-20 06:46:08,032 CassandraDaemon.java:638 - CodeHeap 'non-nmethods' Non-heap memory: init = 2555904(2496K) used = 1293056(1262K) committed = 2555904(2496K) max = 5828608(5692K)\n",
            "INFO  [main] 2022-10-20 06:46:08,076 CassandraDaemon.java:638 - Metaspace Non-heap memory: init = 0(0K) used = 21890048(21377K) committed = 22675456(22144K) max = -1(-1K)\n",
            "INFO  [main] 2022-10-20 06:46:08,078 CassandraDaemon.java:638 - CodeHeap 'profiled nmethods' Non-heap memory: init = 2555904(2496K) used = 3784448(3695K) committed = 3801088(3712K) max = 122912768(120032K)\n",
            "INFO  [main] 2022-10-20 06:46:08,081 CassandraDaemon.java:638 - Compressed Class Space Non-heap memory: init = 0(0K) used = 2485128(2426K) committed = 2752512(2688K) max = 1073741824(1048576K)\n",
            "INFO  [main] 2022-10-20 06:46:08,088 CassandraDaemon.java:638 - Par Eden Space Heap memory: init = 167772160(163840K) used = 94358392(92146K) committed = 167772160(163840K) max = 167772160(163840K)\n",
            "INFO  [main] 2022-10-20 06:46:08,089 CassandraDaemon.java:638 - Par Survivor Space Heap memory: init = 20971520(20480K) used = 0(0K) committed = 20971520(20480K) max = 20971520(20480K)\n",
            "INFO  [main] 2022-10-20 06:46:08,091 CassandraDaemon.java:638 - CodeHeap 'non-profiled nmethods' Non-heap memory: init = 2555904(2496K) used = 702336(685K) committed = 2555904(2496K) max = 122916864(120036K)\n",
            "INFO  [main] 2022-10-20 06:46:08,092 CassandraDaemon.java:638 - CMS Old Gen Heap memory: init = 3193962496(3119104K) used = 0(0K) committed = 3193962496(3119104K) max = 3193962496(3119104K)\n",
            "INFO  [main] 2022-10-20 06:46:08,093 CassandraDaemon.java:640 - Classpath: apache-cassandra-4.0.6/bin/../conf:apache-cassandra-4.0.6/bin/../lib/HdrHistogram-2.1.9.jar:apache-cassandra-4.0.6/bin/../lib/ST4-4.0.8.jar:apache-cassandra-4.0.6/bin/../lib/airline-0.8.jar:apache-cassandra-4.0.6/bin/../lib/antlr-runtime-3.5.2.jar:apache-cassandra-4.0.6/bin/../lib/apache-cassandra-4.0.6.jar:apache-cassandra-4.0.6/bin/../lib/asm-7.1.jar:apache-cassandra-4.0.6/bin/../lib/caffeine-2.5.6.jar:apache-cassandra-4.0.6/bin/../lib/cassandra-driver-core-3.11.0-shaded.jar:apache-cassandra-4.0.6/bin/../lib/chronicle-bytes-2.20.111.jar:apache-cassandra-4.0.6/bin/../lib/chronicle-core-2.20.126.jar:apache-cassandra-4.0.6/bin/../lib/chronicle-queue-5.20.123.jar:apache-cassandra-4.0.6/bin/../lib/chronicle-threads-2.20.111.jar:apache-cassandra-4.0.6/bin/../lib/chronicle-wire-2.20.117.jar:apache-cassandra-4.0.6/bin/../lib/commons-cli-1.1.jar:apache-cassandra-4.0.6/bin/../lib/commons-codec-1.9.jar:apache-cassandra-4.0.6/bin/../lib/commons-lang3-3.11.jar:apache-cassandra-4.0.6/bin/../lib/commons-math3-3.2.jar:apache-cassandra-4.0.6/bin/../lib/concurrent-trees-2.4.0.jar:apache-cassandra-4.0.6/bin/../lib/ecj-4.6.1.jar:apache-cassandra-4.0.6/bin/../lib/guava-27.0-jre.jar:apache-cassandra-4.0.6/bin/../lib/high-scale-lib-1.0.6.jar:apache-cassandra-4.0.6/bin/../lib/hppc-0.8.1.jar:apache-cassandra-4.0.6/bin/../lib/j2objc-annotations-1.3.jar:apache-cassandra-4.0.6/bin/../lib/jackson-annotations-2.13.2.jar:apache-cassandra-4.0.6/bin/../lib/jackson-core-2.13.2.jar:apache-cassandra-4.0.6/bin/../lib/jackson-databind-2.13.2.2.jar:apache-cassandra-4.0.6/bin/../lib/jamm-0.3.2.jar:apache-cassandra-4.0.6/bin/../lib/java-cup-runtime-11b-20160615.jar:apache-cassandra-4.0.6/bin/../lib/javax.inject-1.jar:apache-cassandra-4.0.6/bin/../lib/jbcrypt-0.4.jar:apache-cassandra-4.0.6/bin/../lib/jcl-over-slf4j-1.7.25.jar:apache-cassandra-4.0.6/bin/../lib/jcommander-1.30.jar:apache-cassandra-4.0.6/bin/../lib/jctools-core-3.1.0.jar:apache-cassandra-4.0.6/bin/../lib/jflex-1.8.2.jar:apache-cassandra-4.0.6/bin/../lib/jna-5.6.0.jar:apache-cassandra-4.0.6/bin/../lib/json-simple-1.1.jar:apache-cassandra-4.0.6/bin/../lib/jvm-attach-api-1.5.jar:apache-cassandra-4.0.6/bin/../lib/log4j-over-slf4j-1.7.25.jar:apache-cassandra-4.0.6/bin/../lib/logback-classic-1.2.9.jar:apache-cassandra-4.0.6/bin/../lib/logback-core-1.2.9.jar:apache-cassandra-4.0.6/bin/../lib/lz4-java-1.8.0.jar:apache-cassandra-4.0.6/bin/../lib/metrics-core-3.1.5.jar:apache-cassandra-4.0.6/bin/../lib/metrics-jvm-3.1.5.jar:apache-cassandra-4.0.6/bin/../lib/metrics-logback-3.1.5.jar:apache-cassandra-4.0.6/bin/../lib/mxdump-0.14.jar:apache-cassandra-4.0.6/bin/../lib/netty-all-4.1.58.Final.jar:apache-cassandra-4.0.6/bin/../lib/netty-tcnative-boringssl-static-2.0.36.Final.jar:apache-cassandra-4.0.6/bin/../lib/ohc-core-0.5.1.jar:apache-cassandra-4.0.6/bin/../lib/ohc-core-j8-0.5.1.jar:apache-cassandra-4.0.6/bin/../lib/psjava-0.1.19.jar:apache-cassandra-4.0.6/bin/../lib/reporter-config-base-3.0.3.jar:apache-cassandra-4.0.6/bin/../lib/reporter-config3-3.0.3.jar:apache-cassandra-4.0.6/bin/../lib/sigar-1.6.4.jar:apache-cassandra-4.0.6/bin/../lib/sjk-cli-0.14.jar:apache-cassandra-4.0.6/bin/../lib/sjk-core-0.14.jar:apache-cassandra-4.0.6/bin/../lib/sjk-json-0.14.jar:apache-cassandra-4.0.6/bin/../lib/sjk-stacktrace-0.14.jar:apache-cassandra-4.0.6/bin/../lib/slf4j-api-1.7.25.jar:apache-cassandra-4.0.6/bin/../lib/snakeyaml-1.26.jar:apache-cassandra-4.0.6/bin/../lib/snappy-java-1.1.2.6.jar:apache-cassandra-4.0.6/bin/../lib/snowball-stemmer-1.3.0.581.1.jar:apache-cassandra-4.0.6/bin/../lib/stream-2.5.2.jar:apache-cassandra-4.0.6/bin/../lib/zstd-jni-1.5.0-4.jar:apache-cassandra-4.0.6/bin/../lib/jsr223/*/*.jar:\n",
            "INFO  [main] 2022-10-20 06:46:08,094 CassandraDaemon.java:642 - JVM Arguments: [-ea, -da:net.openhft..., -XX:+UseThreadPriorities, -XX:+HeapDumpOnOutOfMemoryError, -Xss256k, -XX:+AlwaysPreTouch, -XX:-UseBiasedLocking, -XX:+UseTLAB, -XX:+ResizeTLAB, -XX:+UseNUMA, -XX:+PerfDisableSharedMem, -Djava.net.preferIPv4Stack=true, -XX:+UseConcMarkSweepGC, -XX:+CMSParallelRemarkEnabled, -XX:SurvivorRatio=8, -XX:MaxTenuringThreshold=1, -XX:CMSInitiatingOccupancyFraction=75, -XX:+UseCMSInitiatingOccupancyOnly, -XX:CMSWaitDuration=10000, -XX:+CMSParallelInitialMarkEnabled, -XX:+CMSEdenChunksRecordAlways, -XX:+CMSClassUnloadingEnabled, -Djdk.attach.allowAttachSelf=true, --add-exports=java.base/jdk.internal.misc=ALL-UNNAMED, --add-exports=java.base/jdk.internal.ref=ALL-UNNAMED, --add-exports=java.base/sun.nio.ch=ALL-UNNAMED, --add-exports=java.management.rmi/com.sun.jmx.remote.internal.rmi=ALL-UNNAMED, --add-exports=java.rmi/sun.rmi.registry=ALL-UNNAMED, --add-exports=java.rmi/sun.rmi.server=ALL-UNNAMED, --add-exports=java.sql/java.sql=ALL-UNNAMED, --add-opens=java.base/java.lang.module=ALL-UNNAMED, --add-opens=java.base/jdk.internal.loader=ALL-UNNAMED, --add-opens=java.base/jdk.internal.ref=ALL-UNNAMED, --add-opens=java.base/jdk.internal.reflect=ALL-UNNAMED, --add-opens=java.base/jdk.internal.math=ALL-UNNAMED, --add-opens=java.base/jdk.internal.module=ALL-UNNAMED, --add-opens=java.base/jdk.internal.util.jar=ALL-UNNAMED, --add-opens=jdk.management/com.sun.management.internal=ALL-UNNAMED, -Dio.netty.tryReflectionSetAccessible=true, -Xlog:gc=info,heap*=trace,age*=debug,safepoint=info,promotion*=trace:file=apache-cassandra-4.0.6/bin/../logs/gc.log:time,uptime,pid,tid,level:filecount=10,filesize=10485760, -Xms3246M, -Xmx3246M, -Xmn200M, -XX:+UseCondCardMark, -XX:CompileCommandFile=apache-cassandra-4.0.6/bin/../conf/hotspot_compiler, -javaagent:apache-cassandra-4.0.6/bin/../lib/jamm-0.3.2.jar, -Dcassandra.jmx.local.port=7199, -Dcom.sun.management.jmxremote.authenticate=false, -Dcom.sun.management.jmxremote.password.file=/etc/cassandra/jmxremote.password, -Djava.library.path=apache-cassandra-4.0.6/bin/../lib/sigar-bin, -XX:OnOutOfMemoryError=kill -9 %p, -Dlogback.configurationFile=logback.xml, -Dcassandra.logdir=apache-cassandra-4.0.6/bin/../logs, -Dcassandra.storagedir=apache-cassandra-4.0.6/bin/../data]\n",
            "WARN  [main] 2022-10-20 06:46:08,221 NativeLibrary.java:201 - Unable to lock JVM memory (ENOMEM). This can result in part of the JVM being swapped out, especially with mmapped I/O enabled. Increase RLIMIT_MEMLOCK.\n",
            "INFO  [main] 2022-10-20 06:46:08,280 MonotonicClock.java:202 - Scheduling approximate time conversion task with an interval of 10000 milliseconds\n",
            "INFO  [main] 2022-10-20 06:46:08,283 MonotonicClock.java:338 - Scheduling approximate time-check task with a precision of 2 milliseconds\n",
            "WARN  [main] 2022-10-20 06:46:08,286 StartupChecks.java:143 - jemalloc shared library could not be preloaded to speed up memory allocations\n",
            "WARN  [main] 2022-10-20 06:46:08,287 StartupChecks.java:187 - JMX is not enabled to receive remote connections. Please see cassandra-env.sh for more info.\n",
            "INFO  [main] 2022-10-20 06:46:08,290 SigarLibrary.java:44 - Initializing SIGAR library\n",
            "INFO  [main] 2022-10-20 06:46:08,305 SigarLibrary.java:180 - Checked OS settings and found them configured for optimal performance.\n",
            "WARN  [main] 2022-10-20 06:46:08,307 StartupChecks.java:329 - Maximum number of memory map areas per process (vm.max_map_count) 65530 is too low, recommended value: 1048575, you can change it with sysctl.\n",
            "INFO  [main] 2022-10-20 06:46:08,936 Keyspace.java:386 - Creating replication strategy system params KeyspaceParams{durable_writes=true, replication=ReplicationParams{class=org.apache.cassandra.locator.LocalStrategy}}\n",
            "INFO  [main] 2022-10-20 06:46:08,999 ColumnFamilyStore.java:385 - Initializing system.IndexInfo\n",
            "INFO  [main] 2022-10-20 06:46:11,336 ColumnFamilyStore.java:385 - Initializing system.batches\n",
            "INFO  [main] 2022-10-20 06:46:11,363 ColumnFamilyStore.java:385 - Initializing system.paxos\n",
            "INFO  [main] 2022-10-20 06:46:11,381 ColumnFamilyStore.java:385 - Initializing system.local\n",
            "INFO  [main] 2022-10-20 06:46:11,400 ColumnFamilyStore.java:385 - Initializing system.peers_v2\n",
            "INFO  [main] 2022-10-20 06:46:11,417 ColumnFamilyStore.java:385 - Initializing system.peers\n",
            "INFO  [main] 2022-10-20 06:46:11,433 ColumnFamilyStore.java:385 - Initializing system.peer_events_v2\n",
            "INFO  [main] 2022-10-20 06:46:11,451 ColumnFamilyStore.java:385 - Initializing system.peer_events\n",
            "INFO  [main] 2022-10-20 06:46:11,461 ColumnFamilyStore.java:385 - Initializing system.compaction_history\n",
            "INFO  [main] 2022-10-20 06:46:11,471 ColumnFamilyStore.java:385 - Initializing system.sstable_activity\n",
            "INFO  [main] 2022-10-20 06:46:11,480 ColumnFamilyStore.java:385 - Initializing system.size_estimates\n",
            "INFO  [main] 2022-10-20 06:46:11,490 ColumnFamilyStore.java:385 - Initializing system.table_estimates\n",
            "INFO  [main] 2022-10-20 06:46:11,500 ColumnFamilyStore.java:385 - Initializing system.available_ranges_v2\n",
            "INFO  [main] 2022-10-20 06:46:11,509 ColumnFamilyStore.java:385 - Initializing system.available_ranges\n",
            "INFO  [main] 2022-10-20 06:46:11,518 ColumnFamilyStore.java:385 - Initializing system.transferred_ranges_v2\n",
            "INFO  [main] 2022-10-20 06:46:11,526 ColumnFamilyStore.java:385 - Initializing system.transferred_ranges\n",
            "INFO  [main] 2022-10-20 06:46:11,536 ColumnFamilyStore.java:385 - Initializing system.view_builds_in_progress\n",
            "INFO  [main] 2022-10-20 06:46:11,550 ColumnFamilyStore.java:385 - Initializing system.built_views\n",
            "INFO  [main] 2022-10-20 06:46:11,559 ColumnFamilyStore.java:385 - Initializing system.prepared_statements\n",
            "INFO  [main] 2022-10-20 06:46:11,567 ColumnFamilyStore.java:385 - Initializing system.repairs\n",
            "INFO  [main] 2022-10-20 06:46:11,771 QueryProcessor.java:115 - Initialized prepared statement caches with 12 MB\n",
            "INFO  [main] 2022-10-20 06:46:11,914 Keyspace.java:386 - Creating replication strategy system_schema params KeyspaceParams{durable_writes=true, replication=ReplicationParams{class=org.apache.cassandra.locator.LocalStrategy}}\n",
            "INFO  [main] 2022-10-20 06:46:11,921 ColumnFamilyStore.java:385 - Initializing system_schema.keyspaces\n",
            "INFO  [main] 2022-10-20 06:46:11,940 ColumnFamilyStore.java:385 - Initializing system_schema.tables\n",
            "INFO  [main] 2022-10-20 06:46:11,954 ColumnFamilyStore.java:385 - Initializing system_schema.columns\n",
            "INFO  [main] 2022-10-20 06:46:11,977 ColumnFamilyStore.java:385 - Initializing system_schema.triggers\n",
            "INFO  [main] 2022-10-20 06:46:11,993 ColumnFamilyStore.java:385 - Initializing system_schema.dropped_columns\n",
            "INFO  [main] 2022-10-20 06:46:12,005 ColumnFamilyStore.java:385 - Initializing system_schema.views\n",
            "INFO  [main] 2022-10-20 06:46:12,026 ColumnFamilyStore.java:385 - Initializing system_schema.types\n",
            "INFO  [main] 2022-10-20 06:46:12,040 ColumnFamilyStore.java:385 - Initializing system_schema.functions\n",
            "INFO  [main] 2022-10-20 06:46:12,051 ColumnFamilyStore.java:385 - Initializing system_schema.aggregates\n",
            "INFO  [main] 2022-10-20 06:46:12,060 ColumnFamilyStore.java:385 - Initializing system_schema.indexes\n",
            "INFO  [main] 2022-10-20 06:46:12,165 SystemKeyspaceMigrator40.java:76 - system.peers_v2 table was empty, migrating legacy system.peers, if this fails you should fix the issue and then truncate system.peers_v2 to have it try again.\n",
            "INFO  [main] 2022-10-20 06:46:12,178 SystemKeyspaceMigrator40.java:100 - Migrating rows from legacy system.peers to system.peers_v2\n",
            "INFO  [main] 2022-10-20 06:46:12,189 SystemKeyspaceMigrator40.java:119 - Migrated 0 rows from legacy system.peers to system.peers_v2\n",
            "INFO  [main] 2022-10-20 06:46:12,191 SystemKeyspaceMigrator40.java:129 - system.peer_events_v2 table was empty, migrating legacy system.peer_events to system.peer_events_v2\n",
            "INFO  [main] 2022-10-20 06:46:12,198 SystemKeyspaceMigrator40.java:152 - Migrated 0 rows from legacy system.peer_events to system.peer_events_v2\n",
            "INFO  [main] 2022-10-20 06:46:12,207 SystemKeyspaceMigrator40.java:162 - system.transferred_ranges_v2 table was empty, migrating legacy system.transferred_ranges to system.transferred_ranges_v2\n",
            "INFO  [main] 2022-10-20 06:46:12,210 SystemKeyspaceMigrator40.java:190 - Migrated 0 rows from legacy system.transferred_ranges to system.transferred_ranges_v2\n",
            "INFO  [main] 2022-10-20 06:46:12,213 SystemKeyspaceMigrator40.java:200 - system.available_ranges_v2 table was empty, migrating legacy system.available_ranges to system.available_ranges_v2\n",
            "INFO  [main] 2022-10-20 06:46:12,215 SystemKeyspaceMigrator40.java:226 - Migrated 0 rows from legacy system.available_ranges to system.available_ranges_v2\n",
            "INFO  [main] 2022-10-20 06:46:12,217 StorageService.java:838 - Populating token metadata from system tables\n",
            "INFO  [main] 2022-10-20 06:46:12,290 StorageService.java:832 - Token metadata: \n",
            "INFO  [main] 2022-10-20 06:46:12,368 CacheService.java:103 - Initializing key cache with capacity of 100 MBs.\n",
            "INFO  [main] 2022-10-20 06:46:12,383 CacheService.java:125 - Initializing row cache with capacity of 0 MBs\n",
            "INFO  [main] 2022-10-20 06:46:12,386 CacheService.java:154 - Initializing counter cache with capacity of 50 MBs\n",
            "INFO  [main] 2022-10-20 06:46:12,388 CacheService.java:165 - Scheduling counter cache save to every 7200 seconds (going to save all keys).\n",
            "INFO  [main] 2022-10-20 06:46:12,427 CommitLog.java:168 - No commitlog files found; skipping replay\n",
            "INFO  [main] 2022-10-20 06:46:12,427 StorageService.java:838 - Populating token metadata from system tables\n",
            "INFO  [main] 2022-10-20 06:46:12,454 StorageService.java:832 - Token metadata: \n",
            "INFO  [main] 2022-10-20 06:46:12,646 ColumnFamilyStore.java:2252 - Truncating system.size_estimates\n",
            "INFO  [main] 2022-10-20 06:46:12,691 ColumnFamilyStore.java:2289 - Truncating system.size_estimates with truncatedAt=1666248372659\n",
            "INFO  [main] 2022-10-20 06:46:12,740 ColumnFamilyStore.java:878 - Enqueuing flush of local: 1.968KiB (0%) on-heap, 0.000KiB (0%) off-heap\n",
            "INFO  [PerDiskMemtableFlushWriter_0:1] 2022-10-20 06:46:12,842 Memtable.java:471 - Writing Memtable-local@664968691(0.429KiB serialized bytes, 3 ops, 0%/0% of on/off-heap limit), flushed range = (null, null]\n",
            "INFO  [PerDiskMemtableFlushWriter_0:1] 2022-10-20 06:46:12,848 Memtable.java:500 - Completed flushing /content/apache-cassandra-4.0.6/data/data/system/local-7ad54392bcdd35a684174e047860b377/nb-1-big-Data.db (0.224KiB) for commitlog position CommitLogPosition(segmentId=1666248368270, position=31207)\n",
            "INFO  [MemtableFlushWriter:2] 2022-10-20 06:46:12,959 LogTransaction.java:240 - Unfinished transaction log, deleting /content/apache-cassandra-4.0.6/data/data/system/local-7ad54392bcdd35a684174e047860b377/nb_txn_flush_e3277170-5042-11ed-8d5c-919f4b46f3fc.log \n",
            "INFO  [main] 2022-10-20 06:46:12,984 ColumnFamilyStore.java:2316 - Truncate of system.size_estimates is complete\n",
            "INFO  [main] 2022-10-20 06:46:12,988 ColumnFamilyStore.java:2252 - Truncating system.table_estimates\n",
            "INFO  [main] 2022-10-20 06:46:12,990 ColumnFamilyStore.java:2289 - Truncating system.table_estimates with truncatedAt=1666248372989\n",
            "INFO  [main] 2022-10-20 06:46:12,993 ColumnFamilyStore.java:878 - Enqueuing flush of local: 0.575KiB (0%) on-heap, 0.000KiB (0%) off-heap\n",
            "INFO  [PerDiskMemtableFlushWriter_0:2] 2022-10-20 06:46:13,017 Memtable.java:471 - Writing Memtable-local@666174182(0.091KiB serialized bytes, 1 ops, 0%/0% of on/off-heap limit), flushed range = (null, null]\n",
            "INFO  [PerDiskMemtableFlushWriter_0:2] 2022-10-20 06:46:13,019 Memtable.java:500 - Completed flushing /content/apache-cassandra-4.0.6/data/data/system/local-7ad54392bcdd35a684174e047860b377/nb-2-big-Data.db (0.063KiB) for commitlog position CommitLogPosition(segmentId=1666248368270, position=31318)\n",
            "INFO  [MemtableFlushWriter:2] 2022-10-20 06:46:13,090 LogTransaction.java:240 - Unfinished transaction log, deleting /content/apache-cassandra-4.0.6/data/data/system/local-7ad54392bcdd35a684174e047860b377/nb_txn_flush_e34e5a60-5042-11ed-8d5c-919f4b46f3fc.log \n",
            "INFO  [main] 2022-10-20 06:46:13,096 ColumnFamilyStore.java:2316 - Truncate of system.table_estimates is complete\n",
            "INFO  [main] 2022-10-20 06:46:13,102 QueryProcessor.java:167 - Preloaded 0 prepared statements\n",
            "INFO  [main] 2022-10-20 06:46:13,102 StorageService.java:736 - Cassandra version: 4.0.6\n",
            "INFO  [main] 2022-10-20 06:46:13,103 StorageService.java:737 - CQL version: 3.4.5\n",
            "INFO  [main] 2022-10-20 06:46:13,103 StorageService.java:738 - Native protocol supported versions: 3/v3, 4/v4, 5/v5, 6/v6-beta (default: 5/v5)\n",
            "INFO  [main] 2022-10-20 06:46:13,137 IndexSummaryManager.java:83 - Initializing index summary manager with a memory pool size of 161 MB and a resize interval of 60 minutes\n",
            "INFO  [main] 2022-10-20 06:46:13,138 StorageService.java:755 - Loading persisted ring state\n",
            "INFO  [main] 2022-10-20 06:46:13,139 StorageService.java:838 - Populating token metadata from system tables\n",
            "INFO  [main] 2022-10-20 06:46:13,162 BufferPools.java:49 - Global buffer pool limit is 512.000MiB for chunk-cache and 128.000MiB for networking\n",
            "INFO  [main] 2022-10-20 06:46:13,359 InboundConnectionInitiator.java:127 - Listening on address: (localhost/127.0.0.1:7000), nic: lo, encryption: unencrypted\n",
            "WARN  [main] 2022-10-20 06:46:13,431 SystemKeyspace.java:1130 - No host ID found, created 3915e1c7-5cef-4dbb-8dc5-39a3a6cae5c7 (Note: This should happen exactly once per node).\n",
            "INFO  [main] 2022-10-20 06:46:13,461 StorageService.java:653 - Unable to gossip with any peers but continuing anyway since node is in its own seed list\n",
            "INFO  [main] 2022-10-20 06:46:13,487 StorageService.java:960 - Starting up server gossip\n",
            "INFO  [main] 2022-10-20 06:46:13,501 ColumnFamilyStore.java:878 - Enqueuing flush of local: 0.560KiB (0%) on-heap, 0.000KiB (0%) off-heap\n",
            "INFO  [PerDiskMemtableFlushWriter_0:1] 2022-10-20 06:46:13,523 Memtable.java:471 - Writing Memtable-local@220630471(0.079KiB serialized bytes, 2 ops, 0%/0% of on/off-heap limit), flushed range = (null, null]\n",
            "INFO  [PerDiskMemtableFlushWriter_0:1] 2022-10-20 06:46:13,524 Memtable.java:500 - Completed flushing /content/apache-cassandra-4.0.6/data/data/system/local-7ad54392bcdd35a684174e047860b377/nb-3-big-Data.db (0.048KiB) for commitlog position CommitLogPosition(segmentId=1666248368270, position=31482)\n",
            "INFO  [MemtableFlushWriter:1] 2022-10-20 06:46:13,575 LogTransaction.java:240 - Unfinished transaction log, deleting /content/apache-cassandra-4.0.6/data/data/system/local-7ad54392bcdd35a684174e047860b377/nb_txn_flush_e39b41e0-5042-11ed-8d5c-919f4b46f3fc.log \n",
            "INFO  [main] 2022-10-20 06:46:13,808 StorageService.java:1050 - This node will not auto bootstrap because it is configured to be a seed node.\n",
            "INFO  [main] 2022-10-20 06:46:43,828 NetworkTopologyStrategy.java:89 - Configured datacenter replicas are datacenter1:rf(3)\n",
            "INFO  [main] 2022-10-20 06:46:43,831 TokenAllocatorFactory.java:44 - Using ReplicationAwareTokenAllocator.\n",
            "INFO  [main] 2022-10-20 06:46:43,869 TokenAllocation.java:106 - Selected tokens [7443087860945875039, 204751295964406340, -4605598663277493094, 4552043479561800201, -7202767411490650467, -1730922462218967676, 2716520142207022391, -8792771964004549105, 6363715053498273381, -2826964362453905965, -5583744115793607169, 1645019525866989578, 8686607866626467011, -639625351526755416, 3734371546949449406, 5627799360787379740]\n",
            "INFO  [MigrationStage:1] 2022-10-20 06:46:43,955 ColumnFamilyStore.java:878 - Enqueuing flush of columns: 200.121KiB (0%) on-heap, 0.000KiB (0%) off-heap\n",
            "INFO  [PerDiskMemtableFlushWriter_0:2] 2022-10-20 06:46:43,974 Memtable.java:471 - Writing Memtable-columns@695400544(41.994KiB serialized bytes, 277 ops, 0%/0% of on/off-heap limit), flushed range = (null, null]\n",
            "INFO  [PerDiskMemtableFlushWriter_0:2] 2022-10-20 06:46:43,999 Memtable.java:500 - Completed flushing /content/apache-cassandra-4.0.6/data/data/system_schema/columns-24101c25a2ae3af787c1b40ee1aca33f/nb-1-big-Data.db (20.847KiB) for commitlog position CommitLogPosition(segmentId=1666248368270, position=42108)\n",
            "INFO  [MemtableFlushWriter:2] 2022-10-20 06:46:44,052 LogTransaction.java:240 - Unfinished transaction log, deleting /content/apache-cassandra-4.0.6/data/data/system_schema/columns-24101c25a2ae3af787c1b40ee1aca33f/nb_txn_flush_f5c22b40-5042-11ed-8d5c-919f4b46f3fc.log \n",
            "INFO  [MigrationStage:1] 2022-10-20 06:46:44,060 ColumnFamilyStore.java:878 - Enqueuing flush of dropped_columns: 1.079KiB (0%) on-heap, 0.000KiB (0%) off-heap\n",
            "INFO  [PerDiskMemtableFlushWriter_0:1] 2022-10-20 06:46:44,079 Memtable.java:471 - Writing Memtable-dropped_columns@1627555958(0.120KiB serialized bytes, 3 ops, 0%/0% of on/off-heap limit), flushed range = (null, null]\n",
            "INFO  [PerDiskMemtableFlushWriter_0:1] 2022-10-20 06:46:44,081 Memtable.java:500 - Completed flushing /content/apache-cassandra-4.0.6/data/data/system_schema/dropped_columns-5e7583b5f3f43af19a39b7e1d6f5f11f/nb-1-big-Data.db (0.097KiB) for commitlog position CommitLogPosition(segmentId=1666248368270, position=42116)\n",
            "INFO  [MemtableFlushWriter:1] 2022-10-20 06:46:44,138 LogTransaction.java:240 - Unfinished transaction log, deleting /content/apache-cassandra-4.0.6/data/data/system_schema/dropped_columns-5e7583b5f3f43af19a39b7e1d6f5f11f/nb_txn_flush_f5d230d0-5042-11ed-8d5c-919f4b46f3fc.log \n",
            "INFO  [MigrationStage:1] 2022-10-20 06:46:44,145 ColumnFamilyStore.java:878 - Enqueuing flush of triggers: 0.511KiB (0%) on-heap, 0.000KiB (0%) off-heap\n",
            "INFO  [PerDiskMemtableFlushWriter_0:2] 2022-10-20 06:46:44,164 Memtable.java:471 - Writing Memtable-triggers@760048022(0.016KiB serialized bytes, 2 ops, 0%/0% of on/off-heap limit), flushed range = (null, null]\n",
            "INFO  [PerDiskMemtableFlushWriter_0:2] 2022-10-20 06:46:44,165 Memtable.java:500 - Completed flushing /content/apache-cassandra-4.0.6/data/data/system_schema/triggers-4df70b666b05325195a132b54005fd48/nb-1-big-Data.db (0.048KiB) for commitlog position CommitLogPosition(segmentId=1666248368270, position=42116)\n",
            "INFO  [MemtableFlushWriter:2] 2022-10-20 06:46:44,218 LogTransaction.java:240 - Unfinished transaction log, deleting /content/apache-cassandra-4.0.6/data/data/system_schema/triggers-4df70b666b05325195a132b54005fd48/nb_txn_flush_f5df2920-5042-11ed-8d5c-919f4b46f3fc.log \n",
            "INFO  [MigrationStage:1] 2022-10-20 06:46:44,225 ColumnFamilyStore.java:878 - Enqueuing flush of types: 0.511KiB (0%) on-heap, 0.000KiB (0%) off-heap\n",
            "INFO  [PerDiskMemtableFlushWriter_0:1] 2022-10-20 06:46:44,246 Memtable.java:471 - Writing Memtable-types@638213517(0.016KiB serialized bytes, 2 ops, 0%/0% of on/off-heap limit), flushed range = (null, null]\n",
            "INFO  [PerDiskMemtableFlushWriter_0:1] 2022-10-20 06:46:44,247 Memtable.java:500 - Completed flushing /content/apache-cassandra-4.0.6/data/data/system_schema/types-5a8b1ca866023f77a0459273d308917a/nb-1-big-Data.db (0.048KiB) for commitlog position CommitLogPosition(segmentId=1666248368270, position=42116)\n",
            "INFO  [MemtableFlushWriter:1] 2022-10-20 06:46:44,302 LogTransaction.java:240 - Unfinished transaction log, deleting /content/apache-cassandra-4.0.6/data/data/system_schema/types-5a8b1ca866023f77a0459273d308917a/nb_txn_flush_f5ebac40-5042-11ed-8d5c-919f4b46f3fc.log \n",
            "INFO  [MigrationStage:1] 2022-10-20 06:46:44,309 ColumnFamilyStore.java:878 - Enqueuing flush of functions: 0.511KiB (0%) on-heap, 0.000KiB (0%) off-heap\n",
            "INFO  [PerDiskMemtableFlushWriter_0:2] 2022-10-20 06:46:44,328 Memtable.java:471 - Writing Memtable-functions@1750069851(0.016KiB serialized bytes, 2 ops, 0%/0% of on/off-heap limit), flushed range = (null, null]\n",
            "INFO  [PerDiskMemtableFlushWriter_0:2] 2022-10-20 06:46:44,329 Memtable.java:500 - Completed flushing /content/apache-cassandra-4.0.6/data/data/system_schema/functions-96489b7980be3e14a70166a0b9159450/nb-1-big-Data.db (0.048KiB) for commitlog position CommitLogPosition(segmentId=1666248368270, position=42116)\n",
            "INFO  [MemtableFlushWriter:2] 2022-10-20 06:46:44,378 LogTransaction.java:240 - Unfinished transaction log, deleting /content/apache-cassandra-4.0.6/data/data/system_schema/functions-96489b7980be3e14a70166a0b9159450/nb_txn_flush_f5f82f60-5042-11ed-8d5c-919f4b46f3fc.log \n",
            "INFO  [MigrationStage:1] 2022-10-20 06:46:44,384 ColumnFamilyStore.java:878 - Enqueuing flush of aggregates: 0.511KiB (0%) on-heap, 0.000KiB (0%) off-heap\n",
            "INFO  [PerDiskMemtableFlushWriter_0:1] 2022-10-20 06:46:44,403 Memtable.java:471 - Writing Memtable-aggregates@125273275(0.016KiB serialized bytes, 2 ops, 0%/0% of on/off-heap limit), flushed range = (null, null]\n",
            "INFO  [PerDiskMemtableFlushWriter_0:1] 2022-10-20 06:46:44,404 Memtable.java:500 - Completed flushing /content/apache-cassandra-4.0.6/data/data/system_schema/aggregates-924c55872e3a345bb10c12f37c1ba895/nb-1-big-Data.db (0.048KiB) for commitlog position CommitLogPosition(segmentId=1666248368270, position=42116)\n",
            "INFO  [MemtableFlushWriter:1] 2022-10-20 06:46:44,454 LogTransaction.java:240 - Unfinished transaction log, deleting /content/apache-cassandra-4.0.6/data/data/system_schema/aggregates-924c55872e3a345bb10c12f37c1ba895/nb_txn_flush_f603c820-5042-11ed-8d5c-919f4b46f3fc.log \n",
            "INFO  [MigrationStage:1] 2022-10-20 06:46:44,463 ColumnFamilyStore.java:878 - Enqueuing flush of indexes: 0.511KiB (0%) on-heap, 0.000KiB (0%) off-heap\n",
            "INFO  [PerDiskMemtableFlushWriter_0:2] 2022-10-20 06:46:44,484 Memtable.java:471 - Writing Memtable-indexes@1734508422(0.016KiB serialized bytes, 2 ops, 0%/0% of on/off-heap limit), flushed range = (null, null]\n",
            "INFO  [PerDiskMemtableFlushWriter_0:2] 2022-10-20 06:46:44,485 Memtable.java:500 - Completed flushing /content/apache-cassandra-4.0.6/data/data/system_schema/indexes-0feb57ac311f382fba6d9024d305702f/nb-1-big-Data.db (0.048KiB) for commitlog position CommitLogPosition(segmentId=1666248368270, position=42116)\n",
            "INFO  [MemtableFlushWriter:2] 2022-10-20 06:46:44,540 LogTransaction.java:240 - Unfinished transaction log, deleting /content/apache-cassandra-4.0.6/data/data/system_schema/indexes-0feb57ac311f382fba6d9024d305702f/nb_txn_flush_f60ffd20-5042-11ed-8d5c-919f4b46f3fc.log \n",
            "INFO  [MigrationStage:1] 2022-10-20 06:46:44,547 ColumnFamilyStore.java:878 - Enqueuing flush of tables: 92.656KiB (0%) on-heap, 0.000KiB (0%) off-heap\n",
            "INFO  [PerDiskMemtableFlushWriter_0:1] 2022-10-20 06:46:44,566 Memtable.java:471 - Writing Memtable-tables@1040607527(28.858KiB serialized bytes, 42 ops, 0%/0% of on/off-heap limit), flushed range = (null, null]\n",
            "INFO  [PerDiskMemtableFlushWriter_0:1] 2022-10-20 06:46:44,571 Memtable.java:500 - Completed flushing /content/apache-cassandra-4.0.6/data/data/system_schema/tables-afddfb9dbc1e30688056eed6c302ba09/nb-1-big-Data.db (17.879KiB) for commitlog position CommitLogPosition(segmentId=1666248368270, position=42116)\n",
            "INFO  [MemtableFlushWriter:1] 2022-10-20 06:46:44,624 LogTransaction.java:240 - Unfinished transaction log, deleting /content/apache-cassandra-4.0.6/data/data/system_schema/tables-afddfb9dbc1e30688056eed6c302ba09/nb_txn_flush_f61c8040-5042-11ed-8d5c-919f4b46f3fc.log \n",
            "INFO  [MigrationStage:1] 2022-10-20 06:46:44,630 ColumnFamilyStore.java:878 - Enqueuing flush of views: 0.511KiB (0%) on-heap, 0.000KiB (0%) off-heap\n",
            "INFO  [PerDiskMemtableFlushWriter_0:2] 2022-10-20 06:46:44,649 Memtable.java:471 - Writing Memtable-views@1508719346(0.016KiB serialized bytes, 2 ops, 0%/0% of on/off-heap limit), flushed range = (null, null]\n",
            "INFO  [PerDiskMemtableFlushWriter_0:2] 2022-10-20 06:46:44,651 Memtable.java:500 - Completed flushing /content/apache-cassandra-4.0.6/data/data/system_schema/views-9786ac1cdd583201a7cdad556410c985/nb-1-big-Data.db (0.048KiB) for commitlog position CommitLogPosition(segmentId=1666248368270, position=42116)\n",
            "INFO  [MemtableFlushWriter:2] 2022-10-20 06:46:44,697 LogTransaction.java:240 - Unfinished transaction log, deleting /content/apache-cassandra-4.0.6/data/data/system_schema/views-9786ac1cdd583201a7cdad556410c985/nb_txn_flush_f6295180-5042-11ed-8d5c-919f4b46f3fc.log \n",
            "INFO  [MigrationStage:1] 2022-10-20 06:46:44,703 ColumnFamilyStore.java:878 - Enqueuing flush of keyspaces: 3.243KiB (0%) on-heap, 0.000KiB (0%) off-heap\n",
            "INFO  [PerDiskMemtableFlushWriter_0:1] 2022-10-20 06:46:44,725 Memtable.java:471 - Writing Memtable-keyspaces@1261569961(0.673KiB serialized bytes, 7 ops, 0%/0% of on/off-heap limit), flushed range = (null, null]\n",
            "INFO  [PerDiskMemtableFlushWriter_0:1] 2022-10-20 06:46:44,726 Memtable.java:500 - Completed flushing /content/apache-cassandra-4.0.6/data/data/system_schema/keyspaces-abac5682dea631c5b535b3d6cffd0fb6/nb-1-big-Data.db (0.556KiB) for commitlog position CommitLogPosition(segmentId=1666248368270, position=42116)\n",
            "INFO  [MemtableFlushWriter:1] 2022-10-20 06:46:44,773 LogTransaction.java:240 - Unfinished transaction log, deleting /content/apache-cassandra-4.0.6/data/data/system_schema/keyspaces-abac5682dea631c5b535b3d6cffd0fb6/nb_txn_flush_f6349c20-5042-11ed-8d5c-919f4b46f3fc.log \n",
            "INFO  [MigrationStage:1] 2022-10-20 06:46:44,892 Keyspace.java:386 - Creating replication strategy system_auth params KeyspaceParams{durable_writes=true, replication=ReplicationParams{class=org.apache.cassandra.locator.SimpleStrategy, replication_factor=1}}\n",
            "INFO  [MigrationStage:1] 2022-10-20 06:46:44,895 ColumnFamilyStore.java:385 - Initializing system_auth.network_permissions\n",
            "INFO  [MigrationStage:1] 2022-10-20 06:46:44,903 ColumnFamilyStore.java:385 - Initializing system_auth.resource_role_permissons_index\n",
            "INFO  [MigrationStage:1] 2022-10-20 06:46:44,910 ColumnFamilyStore.java:385 - Initializing system_auth.role_members\n",
            "INFO  [MigrationStage:1] 2022-10-20 06:46:44,918 ColumnFamilyStore.java:385 - Initializing system_auth.role_permissions\n",
            "INFO  [MigrationStage:1] 2022-10-20 06:46:44,925 ColumnFamilyStore.java:385 - Initializing system_auth.roles\n",
            "INFO  [MigrationStage:1] 2022-10-20 06:46:44,938 Keyspace.java:386 - Creating replication strategy system_distributed params KeyspaceParams{durable_writes=true, replication=ReplicationParams{class=org.apache.cassandra.locator.SimpleStrategy, replication_factor=3}}\n",
            "INFO  [MigrationStage:1] 2022-10-20 06:46:44,942 ColumnFamilyStore.java:385 - Initializing system_distributed.parent_repair_history\n",
            "INFO  [MigrationStage:1] 2022-10-20 06:46:44,950 ColumnFamilyStore.java:385 - Initializing system_distributed.repair_history\n",
            "INFO  [MigrationStage:1] 2022-10-20 06:46:44,958 ColumnFamilyStore.java:385 - Initializing system_distributed.view_build_status\n",
            "INFO  [MigrationStage:1] 2022-10-20 06:46:44,964 Keyspace.java:386 - Creating replication strategy system_traces params KeyspaceParams{durable_writes=true, replication=ReplicationParams{class=org.apache.cassandra.locator.SimpleStrategy, replication_factor=2}}\n",
            "INFO  [MigrationStage:1] 2022-10-20 06:46:44,968 ColumnFamilyStore.java:385 - Initializing system_traces.events\n",
            "INFO  [MigrationStage:1] 2022-10-20 06:46:44,974 ColumnFamilyStore.java:385 - Initializing system_traces.sessions\n",
            "INFO  [main] 2022-10-20 06:46:45,011 StorageService.java:1634 - JOINING: Finish joining ring\n",
            "INFO  [main] 2022-10-20 06:46:45,016 ColumnFamilyStore.java:878 - Enqueuing flush of local: 0.580KiB (0%) on-heap, 0.000KiB (0%) off-heap\n",
            "INFO  [PerDiskMemtableFlushWriter_0:2] 2022-10-20 06:46:45,036 Memtable.java:471 - Writing Memtable-local@522905984(0.084KiB serialized bytes, 3 ops, 0%/0% of on/off-heap limit), flushed range = (null, null]\n",
            "INFO  [PerDiskMemtableFlushWriter_0:2] 2022-10-20 06:46:45,038 Memtable.java:500 - Completed flushing /content/apache-cassandra-4.0.6/data/data/system/local-7ad54392bcdd35a684174e047860b377/nb-4-big-Data.db (0.058KiB) for commitlog position CommitLogPosition(segmentId=1666248368270, position=42272)\n",
            "INFO  [MemtableFlushWriter:2] 2022-10-20 06:46:45,084 LogTransaction.java:240 - Unfinished transaction log, deleting /content/apache-cassandra-4.0.6/data/data/system/local-7ad54392bcdd35a684174e047860b377/nb_txn_flush_f6641090-5042-11ed-8d5c-919f4b46f3fc.log \n",
            "INFO  [main] 2022-10-20 06:46:45,100 ColumnFamilyStore.java:878 - Enqueuing flush of local: 3.426KiB (0%) on-heap, 0.000KiB (0%) off-heap\n",
            "INFO  [PerDiskMemtableFlushWriter_0:1] 2022-10-20 06:46:45,118 Memtable.java:471 - Writing Memtable-local@1059114359(0.592KiB serialized bytes, 1 ops, 0%/0% of on/off-heap limit), flushed range = (null, null]\n",
            "INFO  [PerDiskMemtableFlushWriter_0:1] 2022-10-20 06:46:45,119 Memtable.java:500 - Completed flushing /content/apache-cassandra-4.0.6/data/data/system/local-7ad54392bcdd35a684174e047860b377/nb-5-big-Data.db (0.360KiB) for commitlog position CommitLogPosition(segmentId=1666248368270, position=42684)\n",
            "INFO  [MemtableFlushWriter:1] 2022-10-20 06:46:45,162 LogTransaction.java:240 - Unfinished transaction log, deleting /content/apache-cassandra-4.0.6/data/data/system/local-7ad54392bcdd35a684174e047860b377/nb_txn_flush_f670e1d0-5042-11ed-8d5c-919f4b46f3fc.log \n",
            "INFO  [main] 2022-10-20 06:46:45,181 StorageService.java:2785 - Node localhost/127.0.0.1:7000 state jump to NORMAL\n"
          ]
        }
      ]
    },
    {
      "cell_type": "code",
      "source": [
        "!pip3 install cassandra-driver"
      ],
      "metadata": {
        "id": "b17QZtoBJHS2",
        "colab": {
          "base_uri": "https://localhost:8080/"
        },
        "outputId": "93600ae1-3550-4046-ba44-19235b89eca7"
      },
      "execution_count": 15,
      "outputs": [
        {
          "output_type": "stream",
          "name": "stdout",
          "text": [
            "Looking in indexes: https://pypi.org/simple, https://us-python.pkg.dev/colab-wheels/public/simple/\n",
            "Collecting cassandra-driver\n",
            "  Downloading cassandra_driver-3.25.0-cp37-cp37m-manylinux1_x86_64.whl (3.8 MB)\n",
            "\u001b[K     |████████████████████████████████| 3.8 MB 4.2 MB/s \n",
            "\u001b[?25hCollecting geomet<0.3,>=0.1\n",
            "  Downloading geomet-0.2.1.post1-py3-none-any.whl (18 kB)\n",
            "Requirement already satisfied: six>=1.9 in /usr/local/lib/python3.7/dist-packages (from cassandra-driver) (1.15.0)\n",
            "Requirement already satisfied: click in /usr/local/lib/python3.7/dist-packages (from geomet<0.3,>=0.1->cassandra-driver) (7.1.2)\n",
            "Installing collected packages: geomet, cassandra-driver\n",
            "Successfully installed cassandra-driver-3.25.0 geomet-0.2.1.post1\n"
          ]
        }
      ]
    },
    {
      "cell_type": "code",
      "source": [
        "import pandas as pd\n",
        "df=pd.read_csv(\"https://raw.githubusercontent.com/TXH2020/MainRepo/main/Projects/Python%20SQL/data.csv\",encoding=\"latin1\",header=None)\n",
        "df.columns=['id','title','isbn']\n",
        "df['isbn']=df['isbn'].apply(lambda x:str(x))\n",
        "df['title']=df['title'].apply(lambda x:x.replace(\"'\",' '))"
      ],
      "metadata": {
        "id": "X4NGZwohOj9b"
      },
      "execution_count": 16,
      "outputs": []
    },
    {
      "cell_type": "code",
      "source": [
        "from cassandra.cluster import Cluster\n",
        "clstr=Cluster()\n",
        "session=clstr.connect()\n",
        "session.execute(\"\"\"create keyspace mykeyspace with replication={\n",
        "   'class': 'SimpleStrategy', 'replication_factor' : 1\n",
        "};\"\"\")\n"
      ],
      "metadata": {
        "id": "LX4LzSI1I8W2",
        "colab": {
          "base_uri": "https://localhost:8080/"
        },
        "outputId": "46294c83-6790-48e9-b896-05bd79748309"
      },
      "execution_count": 17,
      "outputs": [
        {
          "output_type": "stream",
          "name": "stderr",
          "text": [
            "WARNING:cassandra.cluster:Downgrading core protocol version from 66 to 65 for 127.0.0.1:9042. To avoid this, it is best practice to explicitly set Cluster(protocol_version) to the version supported by your cluster. http://datastax.github.io/python-driver/api/cassandra/cluster.html#cassandra.cluster.Cluster.protocol_version\n",
            "WARNING:cassandra.cluster:Downgrading core protocol version from 65 to 5 for 127.0.0.1:9042. To avoid this, it is best practice to explicitly set Cluster(protocol_version) to the version supported by your cluster. http://datastax.github.io/python-driver/api/cassandra/cluster.html#cassandra.cluster.Cluster.protocol_version\n"
          ]
        },
        {
          "output_type": "execute_result",
          "data": {
            "text/plain": [
              "<cassandra.cluster.ResultSet at 0x7f132e8e8c10>"
            ]
          },
          "metadata": {},
          "execution_count": 17
        }
      ]
    },
    {
      "cell_type": "code",
      "source": [
        "session=clstr.connect('mykeyspace')\n",
        "qry= \"\"\"\n",
        "create table data (\n",
        "   id int,\n",
        "   name text,\n",
        "   isbn text,\n",
        "   primary key(id))\"\"\"\n",
        "session.execute(qry)"
      ],
      "metadata": {
        "id": "kpnvhyp_QMib",
        "colab": {
          "base_uri": "https://localhost:8080/"
        },
        "outputId": "7ac22fdc-1072-4389-f082-adb064c8267b"
      },
      "execution_count": 18,
      "outputs": [
        {
          "output_type": "execute_result",
          "data": {
            "text/plain": [
              "<cassandra.cluster.ResultSet at 0x7f132e8fe210>"
            ]
          },
          "metadata": {},
          "execution_count": 18
        }
      ]
    },
    {
      "cell_type": "code",
      "source": [
        "q=\"\"\"insert into data (id,name,isbn) values \"\"\"\n",
        "for i in range(df.shape[0]):\n",
        "  try: \n",
        "    session.execute(q+str(tuple(df.iloc[i])))\n",
        "  except:\n",
        "    pass"
      ],
      "metadata": {
        "id": "TQ2Urz9SR--0"
      },
      "execution_count": 19,
      "outputs": []
    },
    {
      "cell_type": "code",
      "source": [
        "q1=\"select count(*) from data\"\n",
        "row=session.execute(q1)\n",
        "print(\"count = \",str(row.current_rows)[11:13])"
      ],
      "metadata": {
        "id": "CvOk1i6dWAX1",
        "colab": {
          "base_uri": "https://localhost:8080/"
        },
        "outputId": "d3249d1c-92d6-4610-ee39-de70d3074a8b"
      },
      "execution_count": 20,
      "outputs": [
        {
          "output_type": "stream",
          "name": "stderr",
          "text": [
            "WARNING:cassandra.protocol:Server warning: Aggregation query used without partition key\n"
          ]
        },
        {
          "output_type": "stream",
          "name": "stdout",
          "text": [
            "count =  83\n"
          ]
        }
      ]
    },
    {
      "cell_type": "code",
      "source": [
        "q2=\"select * from data;\"\n",
        "rows=session.execute(q2)\n",
        "l=[]\n",
        "for row in rows:\n",
        "  l.append(list(row))"
      ],
      "metadata": {
        "id": "-73Ed0OCYYeM"
      },
      "execution_count": 21,
      "outputs": []
    },
    {
      "cell_type": "code",
      "source": [
        "l.sort(key=lambda x:x[0])"
      ],
      "metadata": {
        "id": "8QaYsS_glxPG"
      },
      "execution_count": 22,
      "outputs": []
    },
    {
      "cell_type": "code",
      "source": [
        "print(\"Result of select command\")\n",
        "for i in l:\n",
        "  print(i[0],i[1],i[2])"
      ],
      "metadata": {
        "id": "655WueFrl96o",
        "colab": {
          "base_uri": "https://localhost:8080/"
        },
        "outputId": "20b8fb2e-caac-47fa-ece0-ff99ccba62ed"
      },
      "execution_count": 23,
      "outputs": [
        {
          "output_type": "stream",
          "name": "stdout",
          "text": [
            "Result of select command\n",
            "1 123828863494 Bel and the Dragon \n",
            "2 1234404543724 Daughters of Men \n",
            "3 1236400967773 The Giant on the Hill \n",
            "4 1233673027750 Marsh Lights \n",
            "5 1232423190947 Mr. Wodehouse and the Wild Girl \n",
            "6 1237654836443 The Fairy Castle \n",
            "7 1230211946720 The Girl Who Walked a Long Way \n",
            "8 1238155430735 The Runaway \n",
            "9 1237366725549 The Shrubbery \n",
            "10 1239633328787 Tom Underground a play \n",
            "11 1233540471995 Anemones of the British Coast \n",
            "12 1237417184084 Ask to Embla poem-cycle \n",
            "13 1235260611012 Cassandra verse drama \n",
            "14 1230468662299 Chidiock Tichbourne \n",
            "15 1233136349197 The City of Is \n",
            "16 1239653041219 Cromwell verse drama \n",
            "17 1235927658929 Debatable Land Between This World and the Next \n",
            "18 1232341278470 The Fairy Melusina epic poem \n",
            "19 1234685512892 The Garden of Proserpina \n",
            "20 1233369260356 Gods Men and Heroes \n",
            "21 1237871538785 The Great Collector \n",
            "22 1234003421055 The Grecian Way of Love \n",
            "23 1233804025236 The Incarcerated Sorceress \n",
            "24 1231588537286 Last Tales \n",
            "25 1239338429682 Last Things \n",
            "26 1239409501196 Mummy Possest poem \n",
            "27 1239416066484 No Place Like home \n",
            "28 1231359225882 Pranks of Priapus \n",
            "29 1230741986307 Ragnarök \n",
            "30 1232294350642 The Shadowy Portal \n",
            "31 1238329678939 Jan Swammerdam poem \n",
            "32 1230082140880 St. Bartholomew s Eve verse drama \n",
            "33 1234392912372 Tales for innocents \n",
            "34 1234549242464 Tales Told in November \n",
            "35 1239374496485 Bel and the Dragon \n",
            "36 1235349316660 Daughters of Men \n",
            "37 1235644620578 The Giant on the Hill \n",
            "38 1235736344898 Marsh Lights \n",
            "39 1232744187226 Mr. Wodehouse and the Wild Girl \n",
            "40 1233729213076 The Fairy Castle \n",
            "41 1237641884608 The Girl Who Walked a Long Way \n",
            "42 1233964452155 The Runaway \n",
            "43 1231273626499 The Shrubbery \n",
            "44 1238441018900 Tom Underground a play \n",
            "45 1231377433718 In A Future Chalet School Girl: Mystery at Heron Lake \n",
            "46 1232395135758 In Althea Joins the Chalet School: The Secret of Castle Dancing \n",
            "47 1234185299775 In Carola Storms the Chalet School: The Rose Patrol in the Alps \n",
            "48 1234645928899 In The Chalet School Goes To It: Gipsy Jocelyn \n",
            "49 1230275004688 In Gay from China at the Chalet School: Indian Holiday and Nancy Meets a Nazi \n",
            "50 1230839327111 In Jo Returns to the Chalet School: Cecily Holds the Fort and Malvina Wins Through \n",
            "51 1237588408519 In Joey Goes to Oberland: Audrey Wins the Trick and Dora of the Lower Fifth \n",
            "52 1236495378720 In The Chalet School and the Island: The Sea Parrot \n",
            "53 1236588981768 In The Chalet School in Exile: Tessa in Tyrol \n",
            "54 1231308608691 In The Mystery at the Chalet School: The Leader of the Lost Cause \n",
            "55 1230312140169 In The New Mistress at the Chalet School: King s Soldier Maid and Swords Crossed \n",
            "56 1230967619568 In A Problem for the Chalet School: A Royalist Soldier-Maid and Werner of the Alps \n",
            "57 1230127072745 In Three Go to the Chalet School: Lavender Laughs in Kashmir \n",
            "58 1234238103911 In Tom Tackles the Chalet School: The Fugitive of the Salt Cave and The Secret House \n",
            "59 1230886230089 In Two Sams at the Chalet School: Swords for the King! \n",
            "60 1233675376783 In Maids of La Rochelle: Guernsey Folk Tales \n",
            "61 1236766330719 Bacon Death \n",
            "62 1236432913317 Breakfast First \n",
            "63 1234582103529 The Culinary Dostoevski \n",
            "64 1236148226462 The Egg Laid Twice \n",
            "65 1237321964604 He Kissed All Night \n",
            "66 1239609581078 A History of Nebraska \n",
            "67 1235105625585 Hombre \n",
            "68 1237435357811 It s the Queen of Darkness Pal \n",
            "69 1233766820792 Jack The Story of a Cat \n",
            "70 1236346938182 Leather Clothes and the History of Man \n",
            "71 1233800248087 Love Always Beautiful \n",
            "72 1232083986943 Moose \n",
            "73 1236297974136 My Dog \n",
            "74 1237550454699 My Trike \n",
            "75 1238912644528 The Need for Legalized Abortion \n",
            "76 1239707352212 The Other Side of My Hand \n",
            "77 1234761413168 Pancake Pretty \n",
            "78 1230702325223 Printer s Ink \n",
            "79 1236002513635 The Quick Forest \n",
            "80 1239666823646 Sam Sam Sam \n",
            "81 1231316672178 The Stereo and God \n",
            "82 1239778693754 UFO vs. CBS \n",
            "83 1237098200581 Vietnam Victory \n"
          ]
        }
      ]
    },
    {
      "cell_type": "code",
      "source": [
        "#Kill the cassandra server\n",
        "import psutil\n",
        "# Iterate over all running process\n",
        "for proc in psutil.process_iter():\n",
        "    try:\n",
        "        # Get process name & pid from process object.\n",
        "        processName = proc.name()\n",
        "        if(processName=='java'):\n",
        "          proc.kill()\n",
        "          break\n",
        "    except (psutil.NoSuchProcess, psutil.AccessDenied, psutil.ZombieProcess):\n",
        "        pass"
      ],
      "metadata": {
        "id": "qcnPjmIdGJAh"
      },
      "execution_count": 24,
      "outputs": []
    },
    {
      "cell_type": "markdown",
      "source": [
        "##Python with Cloud SQL(Azure SQL DB)"
      ],
      "metadata": {
        "id": "UroJVW06RfMX"
      }
    },
    {
      "cell_type": "code",
      "source": [
        "!pip install pyodbc"
      ],
      "metadata": {
        "id": "ZaSSLM6eSTLg",
        "colab": {
          "base_uri": "https://localhost:8080/"
        },
        "outputId": "184b9c65-8816-4476-b47a-e5b5e7bfefe5"
      },
      "execution_count": 25,
      "outputs": [
        {
          "output_type": "stream",
          "name": "stderr",
          "text": [
            "WARNING:cassandra.cluster:Host 127.0.0.1:9042 has been marked down\n"
          ]
        },
        {
          "output_type": "stream",
          "name": "stdout",
          "text": [
            "Looking in indexes: https://pypi.org/simple, https://us-python.pkg.dev/colab-wheels/public/simple/\n"
          ]
        },
        {
          "output_type": "stream",
          "name": "stderr",
          "text": [
            "WARNING:cassandra.pool:Error attempting to reconnect to 127.0.0.1:9042, scheduling retry in 1.86 seconds: [Errno 111] Tried connecting to [('127.0.0.1', 9042)]. Last error: Connection refused\n"
          ]
        },
        {
          "output_type": "stream",
          "name": "stdout",
          "text": [
            "Collecting pyodbc\n",
            "  Downloading pyodbc-4.0.34-cp37-cp37m-manylinux_2_24_x86_64.whl (472 kB)\n",
            "\u001b[?25l\r\u001b[K     |▊                               | 10 kB 15.3 MB/s eta 0:00:01\r\u001b[K     |█▍                              | 20 kB 4.8 MB/s eta 0:00:01\r\u001b[K     |██                              | 30 kB 6.8 MB/s eta 0:00:01\r\u001b[K     |██▊                             | 40 kB 3.6 MB/s eta 0:00:01\r\u001b[K     |███▌                            | 51 kB 3.5 MB/s eta 0:00:01\r\u001b[K     |████▏                           | 61 kB 4.1 MB/s eta 0:00:01\r\u001b[K     |████▉                           | 71 kB 4.6 MB/s eta 0:00:01\r\u001b[K     |█████▌                          | 81 kB 4.6 MB/s eta 0:00:01\r\u001b[K     |██████▎                         | 92 kB 5.1 MB/s eta 0:00:01\r\u001b[K     |███████                         | 102 kB 4.3 MB/s eta 0:00:01\r\u001b[K     |███████▋                        | 112 kB 4.3 MB/s eta 0:00:01\r\u001b[K     |████████▎                       | 122 kB 4.3 MB/s eta 0:00:01\r\u001b[K     |█████████                       | 133 kB 4.3 MB/s eta 0:00:01\r\u001b[K     |█████████▊                      | 143 kB 4.3 MB/s eta 0:00:01\r\u001b[K     |██████████▍                     | 153 kB 4.3 MB/s eta 0:00:01\r\u001b[K     |███████████                     | 163 kB 4.3 MB/s eta 0:00:01\r\u001b[K     |███████████▉                    | 174 kB 4.3 MB/s eta 0:00:01\r\u001b[K     |████████████▌                   | 184 kB 4.3 MB/s eta 0:00:01\r\u001b[K     |█████████████▏                  | 194 kB 4.3 MB/s eta 0:00:01\r\u001b[K     |█████████████▉                  | 204 kB 4.3 MB/s eta 0:00:01\r\u001b[K     |██████████████▋                 | 215 kB 4.3 MB/s eta 0:00:01\r\u001b[K     |███████████████▎                | 225 kB 4.3 MB/s eta 0:00:01\r\u001b[K     |████████████████                | 235 kB 4.3 MB/s eta 0:00:01\r\u001b[K     |████████████████▋               | 245 kB 4.3 MB/s eta 0:00:01\r\u001b[K     |█████████████████▍              | 256 kB 4.3 MB/s eta 0:00:01\r\u001b[K     |██████████████████              | 266 kB 4.3 MB/s eta 0:00:01\r\u001b[K     |██████████████████▊             | 276 kB 4.3 MB/s eta 0:00:01\r\u001b[K     |███████████████████▍            | 286 kB 4.3 MB/s eta 0:00:01\r\u001b[K     |████████████████████▏           | 296 kB 4.3 MB/s eta 0:00:01\r\u001b[K     |████████████████████▉           | 307 kB 4.3 MB/s eta 0:00:01\r\u001b[K     |█████████████████████▌          | 317 kB 4.3 MB/s eta 0:00:01\r\u001b[K     |██████████████████████▏         | 327 kB 4.3 MB/s eta 0:00:01\r\u001b[K     |███████████████████████         | 337 kB 4.3 MB/s eta 0:00:01\r\u001b[K     |███████████████████████▋        | 348 kB 4.3 MB/s eta 0:00:01\r\u001b[K     |████████████████████████▎       | 358 kB 4.3 MB/s eta 0:00:01\r\u001b[K     |█████████████████████████       | 368 kB 4.3 MB/s eta 0:00:01\r\u001b[K     |█████████████████████████▊      | 378 kB 4.3 MB/s eta 0:00:01\r\u001b[K     |██████████████████████████▍     | 389 kB 4.3 MB/s eta 0:00:01\r\u001b[K     |███████████████████████████     | 399 kB 4.3 MB/s eta 0:00:01\r\u001b[K     |███████████████████████████▊    | 409 kB 4.3 MB/s eta 0:00:01\r\u001b[K     |████████████████████████████▌   | 419 kB 4.3 MB/s eta 0:00:01\r\u001b[K     |█████████████████████████████▏  | 430 kB 4.3 MB/s eta 0:00:01\r\u001b[K     |█████████████████████████████▉  | 440 kB 4.3 MB/s eta 0:00:01\r\u001b[K     |██████████████████████████████▌ | 450 kB 4.3 MB/s eta 0:00:01\r\u001b[K     |███████████████████████████████▎| 460 kB 4.3 MB/s eta 0:00:01\r\u001b[K     |████████████████████████████████| 471 kB 4.3 MB/s eta 0:00:01\r\u001b[K     |████████████████████████████████| 472 kB 4.3 MB/s \n"
          ]
        },
        {
          "output_type": "stream",
          "name": "stderr",
          "text": [
            "WARNING:cassandra.pool:Error attempting to reconnect to 127.0.0.1:9042, scheduling retry in 3.4 seconds: [Errno 111] Tried connecting to [('127.0.0.1', 9042)]. Last error: Connection refused\n"
          ]
        },
        {
          "output_type": "stream",
          "name": "stdout",
          "text": [
            "\u001b[?25hInstalling collected packages: pyodbc\n",
            "Successfully installed pyodbc-4.0.34\n"
          ]
        }
      ]
    },
    {
      "cell_type": "code",
      "source": [
        "#Python with Azure Cloud SQL. However one must create an SQL server in Azure which isn't free.\n",
        "#Make sure that the database is created with sample data(AdventureWorksLT)\n",
        "\n",
        "import pyodbc\n",
        "server = 'tezserver.database.windows.net' #Enter your respective server name\n",
        "database = 'somedatabase'                 #Enter your respective database name\n",
        "username = 'Moto12'                       #Enter your respective usernname and password for SQL server\n",
        "password = 'Hello123*'\n",
        "driver= '{SQL Server}'\n",
        "\n",
        "try:\n",
        "  with pyodbc.connect('DRIVER='+driver+';SERVER=tcp:'+server+';PORT=1433;DATABASE='+database+';UID='+username+';PWD='+ password) as conn:\n",
        "    with conn.cursor() as cursor:\n",
        "        cursor.execute(\"select * from [SalesLT].[Product]\")\n",
        "        row = cursor.fetchone()\n",
        "        while row:\n",
        "            print (str(row[0]) + \" \" + str(row[1]))\n",
        "            row = cursor.fetchone()\n",
        "except:\n",
        "  print(\"Sorry the database does not exist\")"
      ],
      "metadata": {
        "id": "kOwpItEQSPdg",
        "colab": {
          "base_uri": "https://localhost:8080/"
        },
        "outputId": "a9029a58-1c96-4157-ec0c-8c08d40333d8"
      },
      "execution_count": 26,
      "outputs": [
        {
          "output_type": "stream",
          "name": "stdout",
          "text": [
            "Sorry the database does not exist\n"
          ]
        }
      ]
    }
  ]
}
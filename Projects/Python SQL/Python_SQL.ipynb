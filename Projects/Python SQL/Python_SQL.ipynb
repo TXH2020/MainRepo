{
  "nbformat": 4,
  "nbformat_minor": 0,
  "metadata": {
    "colab": {
      "provenance": [],
      "authorship_tag": "ABX9TyPNI8DNCEvFhxtnmnkqZf8k",
      "include_colab_link": true
    },
    "kernelspec": {
      "name": "python3",
      "display_name": "Python 3"
    },
    "language_info": {
      "name": "python"
    }
  },
  "cells": [
    {
      "cell_type": "markdown",
      "metadata": {
        "id": "view-in-github",
        "colab_type": "text"
      },
      "source": [
        "<a href=\"https://colab.research.google.com/github/TXH2020/MainRepo/blob/main/Projects/Python%20SQL/Python_SQL.ipynb\" target=\"_parent\"><img src=\"https://colab.research.google.com/assets/colab-badge.svg\" alt=\"Open In Colab\"/></a>"
      ]
    },
    {
      "cell_type": "markdown",
      "source": [
        "##Python with MYSQL:"
      ],
      "metadata": {
        "id": "BhGNZ1vWM2Sg"
      }
    },
    {
      "cell_type": "code",
      "execution_count": null,
      "metadata": {
        "id": "dmpN3pG9-7XG"
      },
      "outputs": [],
      "source": [
        "!apt-get update\n",
        "!apt install mysql-server"
      ]
    },
    {
      "cell_type": "code",
      "source": [
        "!sudo service mysql start"
      ],
      "metadata": {
        "id": "j9VGbQXc_hil"
      },
      "execution_count": null,
      "outputs": []
    },
    {
      "cell_type": "code",
      "source": [
        "!pip install mysql-connector-python"
      ],
      "metadata": {
        "id": "v581hq05BWA9"
      },
      "execution_count": null,
      "outputs": []
    },
    {
      "cell_type": "code",
      "source": [
        "#The things that I did to configure the mysql server\n",
        "#Executed the following command: !mysql -u root\n",
        "#After login typed: use mysql;\n",
        "#Then executed the below commands: Probably the second command is the only one required but anyways\n",
        "#UPDATE user SET authentication_string = PASSWORD('jtp12345') WHERE user = 'root' AND host = 'localhost'; \n",
        "#ALTER USER 'root'@'localhost' IDENTIFIED WITH mysql_native_password BY 'jtp12345';\n",
        "#Then typed exit\n",
        "#To check if I could login successfully tried \n",
        "#!mysql -u root -p\n",
        "#Entered password and logged in successfully. Then typed exit."
      ],
      "metadata": {
        "id": "tmYNtVURCK0G"
      },
      "execution_count": 4,
      "outputs": []
    },
    {
      "cell_type": "code",
      "source": [
        "#Python MySQL\n",
        "import requests\n",
        "response=requests.get(\"https://raw.githubusercontent.com/TXH2020/MainRepo/main/Projects/Python%20SQL/example.sql\")\n",
        "with open(\"mysql.sql\",'wb') as file:\n",
        "    file.write(response.content)\n",
        "\n",
        "import mysql.connector as my\n",
        "try:\n",
        " cnx=my.connect(user=\"root\",host=\"localhost\",password=\"jtp12345\")\n",
        "except my.Error as e:\n",
        " print(e)\n",
        "else:\n",
        "    file=open('mysql.sql','r',encoding='latin-1')\n",
        "    s=file.read()\n",
        "    file.close()\n",
        "    l=s.split(';')\n",
        "    cr=cnx.cursor()\n",
        "    for i in l:\n",
        "        try:\n",
        "            cr.execute(i,multi=True)\n",
        "        except my.Error as e:\n",
        "            print(e.msg)\n",
        "    cnx.commit()\n",
        "    cnx.close()\n",
        "\n",
        "try:\n",
        "     cnx = my.connect(user=\"root\",host=\"localhost\",password=\"jtp12345\")\n",
        "except my.Error as e:\n",
        " print(e)\n",
        "else:\n",
        " cr=cnx.cursor()\n",
        " print(\"******************\")\n",
        " cr.execute(\"use python_mysql\")\n",
        " cr.execute(\"Select *from books\")    #Manipulate database\n",
        " k=0\n",
        " for i in cr:\n",
        "     k=k+1\n",
        "     print(i)\n",
        " print(\"No. of records=\", k)\n",
        " print(\"******************\")\n",
        "\n",
        " cr.execute(\"show columns from books\")\n",
        " for i in cr:\n",
        "     print(i[0])                         #Showing column names\n",
        " print(\"******************\")\n",
        "\n",
        " add_book = (\"INSERT INTO books\"\n",
        "                 \"(id, title, isbn)\"\n",
        "                 \"VALUES (%s, %s, %s)\")\n",
        " book = (86,'Hello World',\"1234567898784\")\n",
        " cr.execute(add_book,book)            #Inserting record\n",
        " cr.execute(\"select count(id) from books\")\n",
        " print(\"Number of records after inserting is=\",cr.fetchall())\n",
        " print(\"*******************\")\n",
        " cr.execute(\"delete from books where id=86\")\n",
        " cr.execute(\"select count(id) from books\")\n",
        " print(\"Number of records after deleting row with id=86 is=\", cr.fetchall())\n",
        " cnx.close()\n",
        "#Like this we can use any Mysql command in Python using mysql connector."
      ],
      "metadata": {
        "id": "IdyvgB-JBMxF"
      },
      "execution_count": null,
      "outputs": []
    },
    {
      "cell_type": "code",
      "source": [
        "!sudo service mysql stop"
      ],
      "metadata": {
        "id": "qv0NovPOBEBV"
      },
      "execution_count": null,
      "outputs": []
    },
    {
      "cell_type": "markdown",
      "source": [
        "##Python with NoSQL(MongoDB)"
      ],
      "metadata": {
        "id": "ZlBKqlB_NDVf"
      }
    },
    {
      "cell_type": "code",
      "source": [
        "!sudo apt-get install mongodb"
      ],
      "metadata": {
        "id": "ljW1ic_mQHa3"
      },
      "execution_count": null,
      "outputs": []
    },
    {
      "cell_type": "code",
      "source": [
        "!sudo apt-get update"
      ],
      "metadata": {
        "id": "ex8C7ni4QWyf"
      },
      "execution_count": null,
      "outputs": []
    },
    {
      "cell_type": "code",
      "source": [
        "!sudo service mongodb start"
      ],
      "metadata": {
        "id": "8fNWfid6QjSh"
      },
      "execution_count": null,
      "outputs": []
    },
    {
      "cell_type": "code",
      "source": [
        "#Python with mongodb nosql\n",
        "import pandas as pd\n",
        "import pymongo as pm\n",
        "import numpy as np\n",
        "df = pd.read_csv (r'https://raw.githubusercontent.com/TXH2020/MainRepo/main/Projects/Python%20SQL/listings.csv')\n",
        "client = pm.MongoClient('mongodb://localhost:27017/')\n",
        "mydb=client['somedatabase']\n",
        "if 'somecollection' in mydb.list_collection_names():\n",
        "    mydb['somecollection'].drop()\n",
        "mycol=mydb['somecollection']\n",
        "for i in range(df.shape[0]):\n",
        "    r=dict(df.iloc[i])\n",
        "    try:\n",
        "        mycol.insert_one(r)\n",
        "    except:\n",
        "        # Python 2.7.10 on Windows and Pymongo are not forgiving\n",
        "        # If you have foreign data types you have to convert them\n",
        "        n = {}\n",
        "        for k, v in r.items():\n",
        "            if isinstance(v, np.int64):\n",
        "                v = int(v)\n",
        "            elif isinstance(v,np.float64):\n",
        "                v=float(v)\n",
        "            n[k]=v\n",
        "        mycol.insert_one(n)\n",
        "print(\"No of documents=\",mycol.count_documents({}))\n",
        "print(\"Document with id=2818\")\n",
        "print('---------------------------')\n",
        "doc=mycol.find({'id':2818})\n",
        "for i in doc:\n",
        "    for j in i.items():\n",
        "        print(j)\n",
        "client.close()"
      ],
      "metadata": {
        "id": "ue0Zy-rWRJrZ"
      },
      "execution_count": null,
      "outputs": []
    },
    {
      "cell_type": "code",
      "source": [
        "!sudo service mongodb stop"
      ],
      "metadata": {
        "id": "9pYLQDe-RMry"
      },
      "execution_count": null,
      "outputs": []
    },
    {
      "cell_type": "markdown",
      "source": [
        "##Python with Cloud SQL(Azure SQL DB)"
      ],
      "metadata": {
        "id": "UroJVW06RfMX"
      }
    },
    {
      "cell_type": "code",
      "source": [
        "!pip install pyodbc"
      ],
      "metadata": {
        "id": "ZaSSLM6eSTLg"
      },
      "execution_count": null,
      "outputs": []
    },
    {
      "cell_type": "code",
      "source": [
        "#Python with Azure Cloud SQL. However one must create an SQL server in Azure which isn't free.\n",
        "#Make sure that the database is created with sample data(AdventureWorksLT)\n",
        "\n",
        "import pyodbc\n",
        "server = 'tezserver.database.windows.net' #Enter your respective server name\n",
        "database = 'somedatabase'                 #Enter your respective database name\n",
        "username = 'Moto12'                       #Enter your respective usernname and password for SQL server\n",
        "password = 'Hello123*'\n",
        "driver= '{SQL Server}'\n",
        "\n",
        "with pyodbc.connect('DRIVER='+driver+';SERVER=tcp:'+server+';PORT=1433;DATABASE='+database+';UID='+username+';PWD='+ password) as conn:\n",
        "    with conn.cursor() as cursor:\n",
        "        cursor.execute(\"select * from [SalesLT].[Product]\")\n",
        "        row = cursor.fetchone()\n",
        "        while row:\n",
        "            print (str(row[0]) + \" \" + str(row[1]))\n",
        "            row = cursor.fetchone()"
      ],
      "metadata": {
        "id": "kOwpItEQSPdg"
      },
      "execution_count": null,
      "outputs": []
    }
  ]
}
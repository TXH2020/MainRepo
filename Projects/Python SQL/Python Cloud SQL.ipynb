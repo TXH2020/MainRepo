import pyodbc
server = 'tezserver.database.windows.net' #Enter your respective server name
database = 'somedatabase'                 #Enter your respective database name
username = 'Moto12'                       #Enter your respective usernname and password for SQL server
password = 'Hello123*'
driver= '{SQL Server}'

with pyodbc.connect('DRIVER='+driver+';SERVER=tcp:'+server+';PORT=1433;DATABASE='+database+';UID='+username+';PWD='+ password) as conn:
    with conn.cursor() as cursor:
        cursor.execute("select * from [SalesLT].[Product]")
        row = cursor.fetchone()
        while row:
            print (str(row[0]) + " " + str(row[1]))
            row = cursor.fetchone()


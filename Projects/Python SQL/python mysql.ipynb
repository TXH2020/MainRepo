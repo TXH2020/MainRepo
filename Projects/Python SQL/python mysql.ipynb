import requests
response=requests.get("https://raw.githubusercontent.com/TXH2020/MainRepo/main/Projects/Python%20SQL/example.sql")
with open("mysql.sql",'wb') as file:
    file.write(response.content)

import mysql.connector as my
try:
 cnx=my.connect(user="root",host="localhost",password="")
except my.Error as e:
 print(e)
else:
    file=open('mysql.sql','r')
    s=file.read()
    file.close()
    l=s.split(';')
    cr=cnx.cursor()
    for i in l:
        try:
            cr.execute(i,multi=True)
        except my.Error as e:
            print(e.msg)
    cnx.commit()
    cnx.close()

try:
     cnx = my.connect(user="root",host="localhost", password="")
except my.Error as e:
 print(e)
else:
 cr=cnx.cursor()
 print("******************")
 cr.execute("use python_mysql")
 cr.execute("Select *from books")    #Manipulate database
 k=0
 for i in cr:
     k=k+1
     print(i)
 print("No. of records=", k)
 print("******************")

 cr.execute("show columns from books")
 for i in cr:
     print(i[0])                         #Showing column names
 print("******************")

 add_book = ("INSERT INTO books"
                 "(id, title, isbn)"
                 "VALUES (%s, %s, %s)")
 book = (86,'Hello World',"1234567898784")
 cr.execute(add_book,book)            #Inserting record
 cr.execute("select count(id) from books")
 print("Number of records after inserting is=",cr.fetchall())
 print("*******************")
 cr.execute("delete from books where id=86")
 cr.execute("select count(id) from books")
 print("Number of records after deleting row with id=86 is=", cr.fetchall())
 cnx.close()
#Like this we can use any Mysql command in Python using mysql connector.
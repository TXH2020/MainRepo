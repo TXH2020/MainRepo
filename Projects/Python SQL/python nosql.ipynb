import pandas as pd
import pymongo as pm
import numpy as np
df = pd.read_csv (r'https://raw.githubusercontent.com/TXH2020/MainRepo/main/Projects/Python%20SQL/listings.csv')
client = pm.MongoClient('mongodb://localhost:27017/')
mydb=client['somedatabase']
if 'somecollection' in mydb.list_collection_names():
    mydb['somecollection'].drop()
mycol=mydb['somecollection']
for i in range(df.shape[0]):
    r=dict(df.iloc[i])
    try:
        mycol.insert_one(r)
    except:
        # Python 2.7.10 on Windows and Pymongo are not forgiving
        # If you have foreign data types you have to convert them
        n = {}
        for k, v in r.items():
            if isinstance(v, np.int64):
                v = int(v)
            elif isinstance(v,np.float64):
                v=float(v)
            n[k]=v
        mycol.insert_one(n)
print("No of documents=",mycol.count_documents({}))
print("Document with id=2818")
print('---------------------------')
doc=mycol.find({'id':2818})
for i in doc:
    for j in i.items():
        print(j)
client.close()
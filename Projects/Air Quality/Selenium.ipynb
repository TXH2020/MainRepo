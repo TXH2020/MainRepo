{
  "nbformat": 4,
  "nbformat_minor": 0,
  "metadata": {
    "colab": {
      "provenance": [],
      "authorship_tag": "ABX9TyMLIkBzHTXhkNdZMt+LNT/N",
      "include_colab_link": true
    },
    "kernelspec": {
      "name": "python3",
      "display_name": "Python 3"
    },
    "language_info": {
      "name": "python"
    }
  },
  "cells": [
    {
      "cell_type": "markdown",
      "metadata": {
        "id": "view-in-github",
        "colab_type": "text"
      },
      "source": [
        "<a href=\"https://colab.research.google.com/github/TXH2020/MainRepo/blob/main/Projects/Air%20Quality/Selenium.ipynb\" target=\"_parent\"><img src=\"https://colab.research.google.com/assets/colab-badge.svg\" alt=\"Open In Colab\"/></a>"
      ]
    },
    {
      "cell_type": "code",
      "source": [
        "!apt-get update\n",
        "!apt install chromium-chromedriver\n",
        "!cp /usr/lib/chromium-browser/chromedriver /usr/bin\n",
        "!pip install selenium"
      ],
      "metadata": {
        "id": "2BukxXH5zNQy"
      },
      "execution_count": null,
      "outputs": []
    },
    {
      "cell_type": "code",
      "source": [
        "from selenium import webdriver\n",
        "from selenium.webdriver.common.by import By\n",
        "from time import sleep\n",
        "options = webdriver.ChromeOptions()\n",
        "options.add_argument('--headless')\n",
        "options.add_argument('--no-sandbox')\n",
        "options.add_argument('--disable-dev-shm-usage')\n",
        "driver = webdriver.Chrome('chromedriver',options=options)\n",
        "driver.get('https://app.cpcbccr.com/ccr/#/caaqm-dashboard-all/caaqm-landing/data')\n",
        "sleep(50)\n",
        "driver.find_element(By.CLASS_NAME,'wc-date-container').click()\n",
        "sleep(5)\n",
        "driver.find_element(By.CLASS_NAME,'year-dropdown').click()\n",
        "sleep(5)\n",
        "driver.find_element(By.ID,'2021').click()\n",
        "sleep(5)\n",
        "driver.find_element(By.CLASS_NAME,'month-year').click()\n",
        "sleep(5)\n",
        "driver.find_element(By.ID,'OCT').click()\n",
        "sleep(5)\n",
        "driver.find_element(By.XPATH,'//*[@id=\"date\"]/angular2-date-picker/div/div[2]/table[2]/tbody/tr[2]/td[6]').click()\n",
        "sleep(5)\n",
        "driver.find_element(By.CLASS_NAME,'placeholder').click()\n",
        "sleep(5)\n",
        "driver.find_element(By.XPATH,'/html/body/app-root/app-caaqm-dashboard/div[1]/div/main/section/app-caaqm-view-data/div/div/div[1]/div[1]/div/ng-select/select-dropdown/div/div[2]/ul/li[13]').click()\n",
        "sleep(5)\n",
        "driver.find_element(By.CLASS_NAME,'placeholder').click()\n",
        "sleep(5)\n",
        "driver.find_element(By.XPATH,'/html/body/app-root/app-caaqm-dashboard/div[1]/div/main/section/app-caaqm-view-data/div/div/div[1]/div[2]/div/ng-select/select-dropdown/div/div[2]/ul/li[3]').click()\n",
        "sleep(5)\n",
        "driver.find_element(By.CLASS_NAME,'placeholder').click()\n",
        "sleep(5)\n",
        "driver.find_element(By.XPATH,'/html/body/app-root/app-caaqm-dashboard/div[1]/div/main/section/app-caaqm-view-data/div/div/div[2]/div[1]/div/ng-select/select-dropdown/div/div[2]/ul/li[2]').click()\n",
        "sleep(5)\n",
        "driver.find_element(By.CLASS_NAME,'c-btn').click()\n",
        "sleep(5)\n",
        "driver.find_element(By.XPATH,'/html/body/app-root/app-caaqm-dashboard/div[1]/div/main/section/app-caaqm-view-data/div/div/div[2]/div[2]/div/div/multi-select/angular2-multiselect/div/div[2]/div[2]/ul/li[1]').click()\n",
        "sleep(2)\n",
        "driver.find_element(By.XPATH,'/html/body/app-root/app-caaqm-dashboard/div[1]/div/main/section/app-caaqm-view-data/div/div/div[2]/div[2]/div/div/multi-select/angular2-multiselect/div/div[2]/div[2]/ul/li[2]').click()\n",
        "sleep(2)\n",
        "driver.find_element(By.XPATH,'/html/body/app-root/app-caaqm-dashboard/div[1]/div/main/section/app-caaqm-view-data/div/div/div[2]/div[2]/div/div/multi-select/angular2-multiselect/div/div[2]/div[2]/ul/li[4]').click()\n",
        "sleep(2)\n",
        "driver.find_element(By.XPATH,'/html/body/app-root/app-caaqm-dashboard/div[1]/div/main/section/app-caaqm-view-data/div/div/div[2]/div[2]/div/div/multi-select/angular2-multiselect/div/div[2]/div[2]/ul/li[7]').click()\n",
        "sleep(2)\n",
        "driver.find_element(By.XPATH,'/html/body/app-root/app-caaqm-dashboard/div[1]/div/main/section/app-caaqm-view-data/div/div/div[2]/div[2]/div/div/multi-select/angular2-multiselect/div/div[2]/div[2]/ul/li[8]').click()\n",
        "sleep(2)\n",
        "driver.find_element(By.XPATH,'/html/body/app-root/app-caaqm-dashboard/div[1]/div/main/section/app-caaqm-view-data/div/div/div[2]/div[2]/div/div/multi-select/angular2-multiselect/div/div[2]/div[2]/ul/li[9]').click()\n",
        "sleep(5)\n",
        "driver.find_element(By.CLASS_NAME,'btn.btn-primary').click()\n",
        "sleep(100)\n",
        "driver.find_element(By.CLASS_NAME,'btn.btn-success.tooltip-bottom').click()\n",
        "sleep(240)\n",
        "driver.close()\n"
      ],
      "metadata": {
        "id": "AuMPUC62zb7h"
      },
      "execution_count": 2,
      "outputs": []
    }
  ]
}
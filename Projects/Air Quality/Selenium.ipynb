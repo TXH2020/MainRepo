{
  "nbformat": 4,
  "nbformat_minor": 0,
  "metadata": {
    "colab": {
      "provenance": []
    },
    "kernelspec": {
      "name": "python3",
      "display_name": "Python 3"
    },
    "language_info": {
      "name": "python"
    }
  },
  "cells": [
    {
      "cell_type": "code",
      "source": [
        "!apt-get update\n",
        "!apt install chromium-chromedriver\n",
        "!cp /usr/lib/chromium-browser/chromedriver /usr/bin\n",
        "!pip install selenium\n",
        "!apt-get -qq -y install xvfb freeglut3-dev ffmpeg> /dev/null\n",
        "!pip install vtk pyvirtualdisplay"
      ],
      "metadata": {
        "id": "2BukxXH5zNQy"
      },
      "execution_count": null,
      "outputs": []
    },
    {
      "cell_type": "code",
      "source": [
        "from selenium import webdriver\n",
        "from pyvirtualdisplay import Display\n",
        "display = Display(visible=0, size=(1024, 480))\n",
        "options = webdriver.ChromeOptions()\n",
        "options.add_argument('--headless')\n",
        "options.add_argument('--no-sandbox')\n",
        "options.add_argument('--disable-dev-shm-usage')\n",
        "wd = webdriver.Chrome('chromedriver',options=options)\n",
        "display.start()\n",
        "wd.get(\"https://app.cpcbccr.com/ccr/#/caaqm-dashboard-all/caaqm-landing/data\")\n",
        "print(wd.page_source)\n",
        "wd.maximize_window()"
      ],
      "metadata": {
        "id": "AuMPUC62zb7h"
      },
      "execution_count": null,
      "outputs": []
    },
    {
      "cell_type": "code",
      "source": [
        "from selenium.webdriver.common.by import By\n",
        "state = wd.find_element(By.CLASS_NAME, \"container-fluid\")\n",
        "print(state)"
      ],
      "metadata": {
        "id": "rKu6YWqqzqvF"
      },
      "execution_count": null,
      "outputs": []
    },
    {
      "cell_type": "code",
      "source": [
        "wd.quit()\n",
        "display.stop()"
      ],
      "metadata": {
        "id": "nRQU0tSR0ZOL"
      },
      "execution_count": null,
      "outputs": []
    }
  ]
}
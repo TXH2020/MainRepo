{
  "nbformat": 4,
  "nbformat_minor": 0,
  "metadata": {
    "colab": {
      "provenance": [],
      "authorship_tag": "ABX9TyOFsb1WkCwDSkexGDFJ6RaL",
      "include_colab_link": true
    },
    "kernelspec": {
      "name": "python3",
      "display_name": "Python 3"
    },
    "language_info": {
      "name": "python"
    }
  },
  "cells": [
    {
      "cell_type": "markdown",
      "metadata": {
        "id": "view-in-github",
        "colab_type": "text"
      },
      "source": [
        "<a href=\"https://colab.research.google.com/github/TXH2020/MainRepo/blob/main/Projects/CloudAPIColab/CloudAPIColab.ipynb\" target=\"_parent\"><img src=\"https://colab.research.google.com/assets/colab-badge.svg\" alt=\"Open In Colab\"/></a>"
      ]
    },
    {
      "cell_type": "code",
      "execution_count": 1,
      "metadata": {
        "colab": {
          "base_uri": "https://localhost:8080/"
        },
        "id": "aaoCeP_SPqXg",
        "outputId": "389b7ad6-1d83-4d4b-9678-e1ef0b5e5167"
      },
      "outputs": [
        {
          "output_type": "stream",
          "name": "stdout",
          "text": [
            "{'formId': '1aSPD4oduAdN5IO51McqU8NrAFuwXlIu4WTFnMZGf_K4', 'info': {'title': 'Quickstart form', 'documentTitle': 'Untitled form'}, 'revisionId': '00000004', 'responderUri': 'https://docs.google.com/forms/d/e/1FAIpQLSdTMS4cPx_dd6l-aPzyYeVpWXhotG_FGiInvTZuKRgbVvJCUw/viewform', 'items': [{'itemId': '30a9a9bc', 'title': 'In what year did the United States land a mission on the moon?', 'questionItem': {'question': {'questionId': '7a35ba6c', 'required': True, 'choiceQuestion': {'type': 'RADIO', 'options': [{'value': '1965'}, {'value': '1967'}, {'value': '1969'}, {'value': '1971'}], 'shuffle': True}}}}]}\n"
          ]
        }
      ],
      "source": [
        "from __future__ import print_function\n",
        "from apiclient import discovery\n",
        "from httplib2 import Http\n",
        "from oauth2client import client, file, tools\n",
        "import pickle\n",
        "import urllib.request as ureq\n",
        "ureq.urlretrieve('https://raw.githubusercontent.com/TXH2020/MainRepo/main/Projects/CloudAPIColab/a.pkl','a.pkl')\n",
        "DISCOVERY_DOC = \"https://forms.googleapis.com/$discovery/rest?version=v1\"\n",
        "with open('a.pkl','rb') as f:  \n",
        "  creds = pickle.load(f)\n",
        "form_service = discovery.build('forms', 'v1', http=creds.authorize(\n",
        "    Http()), discoveryServiceUrl=DISCOVERY_DOC)\n",
        "\n",
        "# Request body for creating a form\n",
        "NEW_FORM = {\n",
        "    \"info\": {\n",
        "        \"title\": \"Quickstart form\",\n",
        "    }\n",
        "}\n",
        "\n",
        "# Request body to add a multiple-choice question\n",
        "NEW_QUESTION = {\n",
        "    \"requests\": [{\n",
        "        \"createItem\": {\n",
        "            \"item\": {\n",
        "                \"title\": \"In what year did the United States land a mission on the moon?\",\n",
        "                \"questionItem\": {\n",
        "                    \"question\": {\n",
        "                        \"required\": True,\n",
        "                        \"choiceQuestion\": {\n",
        "                            \"type\": \"RADIO\",\n",
        "                            \"options\": [\n",
        "                                {\"value\": \"1965\"},\n",
        "                                {\"value\": \"1967\"},\n",
        "                                {\"value\": \"1969\"},\n",
        "                                {\"value\": \"1971\"}\n",
        "                            ],\n",
        "                            \"shuffle\": True\n",
        "                        }\n",
        "                    }\n",
        "                },\n",
        "            },\n",
        "            \"location\": {\n",
        "                \"index\": 0\n",
        "            }\n",
        "        }\n",
        "    }]\n",
        "}\n",
        "\n",
        "# Creates the initial form\n",
        "result = form_service.forms().create(body=NEW_FORM).execute()\n",
        "\n",
        "# Adds the question to the form\n",
        "question_setting = form_service.forms().batchUpdate(formId=result[\"formId\"], body=NEW_QUESTION).execute()\n",
        "\n",
        "# Prints the result to show the question has been added\n",
        "get_result = form_service.forms().get(formId=result[\"formId\"]).execute()\n",
        "print(get_result)"
      ]
    }
  ]
}